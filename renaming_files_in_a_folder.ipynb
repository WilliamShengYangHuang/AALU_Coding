{
  "nbformat": 4,
  "nbformat_minor": 0,
  "metadata": {
    "colab": {
      "name": "renaming_files_in_a_folder.ipynb",
      "provenance": [],
      "collapsed_sections": [],
      "machine_shape": "hm",
      "include_colab_link": true
    },
    "kernelspec": {
      "name": "python3",
      "display_name": "Python 3"
    },
    "language_info": {
      "name": "python"
    },
    "accelerator": "GPU"
  },
  "cells": [
    {
      "cell_type": "markdown",
      "metadata": {
        "id": "view-in-github",
        "colab_type": "text"
      },
      "source": [
        "<a href=\"https://colab.research.google.com/github/WilliamShengYangHuang/AALU_Coding/blob/main/renaming_files_in_a_folder.ipynb\" target=\"_parent\"><img src=\"https://colab.research.google.com/assets/colab-badge.svg\" alt=\"Open In Colab\"/></a>"
      ]
    },
    {
      "cell_type": "code",
      "source": [
        "import os\n",
        "os.getcwd()\n",
        "from google.colab import drive"
      ],
      "metadata": {
        "id": "YN9lS1tArisi"
      },
      "execution_count": 1,
      "outputs": []
    },
    {
      "cell_type": "code",
      "source": [
        "drive.mount(\"/content/drive\")"
      ],
      "metadata": {
        "colab": {
          "base_uri": "https://localhost:8080/"
        },
        "id": "PIpt984n4xXB",
        "outputId": "04074cbc-9aa8-4ec2-99bc-053b454b38e9"
      },
      "execution_count": 2,
      "outputs": [
        {
          "output_type": "stream",
          "name": "stdout",
          "text": [
            "Mounted at /content/drive\n"
          ]
        }
      ]
    },
    {
      "cell_type": "markdown",
      "source": [
        "/content/drive/My Drive/phd_thesis_data/deep_city/paired_datasets/w-s/train/"
      ],
      "metadata": {
        "id": "rgriOIt8h_X-"
      }
    },
    {
      "cell_type": "code",
      "source": [
        "PATH = \"/content/drive/MyDrive/landscape/\" #@param{type:'string'}\n",
        "FORMAT = \".jpg\" #@param{type:'string'}\n",
        "\n",
        "for i, filename in enumerate(os.listdir(PATH)):\n",
        "    os.rename(PATH + filename, PATH + str(i) + FORMAT)"
      ],
      "metadata": {
        "id": "njDxG-jxrDRF"
      },
      "execution_count": 3,
      "outputs": []
    }
  ]
}