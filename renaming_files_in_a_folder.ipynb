{
  "nbformat": 4,
  "nbformat_minor": 0,
  "metadata": {
    "colab": {
      "provenance": [],
      "machine_shape": "hm",
      "include_colab_link": true
    },
    "kernelspec": {
      "name": "python3",
      "display_name": "Python 3"
    },
    "language_info": {
      "name": "python"
    },
    "accelerator": "GPU"
  },
  "cells": [
    {
      "cell_type": "markdown",
      "metadata": {
        "id": "view-in-github",
        "colab_type": "text"
      },
      "source": [
        "<a href=\"https://colab.research.google.com/github/WilliamShengYangHuang/AALU_Coding/blob/main/renaming_files_in_a_folder.ipynb\" target=\"_parent\"><img src=\"https://colab.research.google.com/assets/colab-badge.svg\" alt=\"Open In Colab\"/></a>"
      ]
    },
    {
      "cell_type": "markdown",
      "source": [
        "# **Renaming Files in a Folfer**"
      ],
      "metadata": {
        "id": "WAmnUJPeOXAb"
      }
    },
    {
      "cell_type": "code",
      "source": [
        "import os\n",
        "os.getcwd()\n",
        "import glob\n",
        "from google.colab import drive"
      ],
      "metadata": {
        "id": "YN9lS1tArisi"
      },
      "execution_count": 1,
      "outputs": []
    },
    {
      "cell_type": "code",
      "source": [
        "drive.mount(\"/content/drive\")"
      ],
      "metadata": {
        "colab": {
          "base_uri": "https://localhost:8080/"
        },
        "id": "PIpt984n4xXB",
        "outputId": "37349d79-fc88-4817-d5cf-43c0f47be285"
      },
      "execution_count": 2,
      "outputs": [
        {
          "output_type": "stream",
          "name": "stdout",
          "text": [
            "Mounted at /content/drive\n"
          ]
        }
      ]
    },
    {
      "cell_type": "markdown",
      "source": [
        "/content/drive/My Drive/phd_thesis_data/deep_city/paired_datasets/w-s/train/"
      ],
      "metadata": {
        "id": "rgriOIt8h_X-"
      }
    },
    {
      "cell_type": "markdown",
      "source": [
        "## Retrieve Contents of Subdirectories in a Folder"
      ],
      "metadata": {
        "id": "UAN_nFC0OALG"
      }
    },
    {
      "cell_type": "markdown",
      "source": [
        "#### Method 1"
      ],
      "metadata": {
        "id": "fRXrB9vcNhC_"
      }
    },
    {
      "cell_type": "code",
      "source": [
        "PATH = \"/content/drive/My Drive/candidates/test/\" #@param{type:'string'}\n",
        "FORMAT = \".png\" #@param{type:'string'}\n",
        "os.listdir(PATH)"
      ],
      "metadata": {
        "colab": {
          "base_uri": "https://localhost:8080/"
        },
        "id": "ws3hXvZ-SOTS",
        "outputId": "a6cb80bb-a934-403e-db84-ad0ff6b7a3ae"
      },
      "execution_count": 8,
      "outputs": [
        {
          "output_type": "execute_result",
          "data": {
            "text/plain": [
              "['Asset 1.png',\n",
              " 'Asset 2.png',\n",
              " 'Asset 3.png',\n",
              " 'Asset 4.png',\n",
              " 'Asset 5.png',\n",
              " 'Asset 6.png',\n",
              " 'Asset 7.png',\n",
              " 'Asset 8.png',\n",
              " 'Asset 9.png',\n",
              " 'Asset 10.png',\n",
              " 'Asset 11.png',\n",
              " 'Asset 12.png']"
            ]
          },
          "metadata": {},
          "execution_count": 8
        }
      ]
    },
    {
      "cell_type": "markdown",
      "source": [
        "## Rename Files"
      ],
      "metadata": {
        "id": "3_ExURoBN6E-"
      }
    },
    {
      "cell_type": "code",
      "source": [
        "for i, filename in enumerate(os.listdir(PATH)):\n",
        "    os.rename(PATH + filename, PATH + str(i) + FORMAT)\n",
        "    #os.rename(PATH + filename, PATH + 'gen_' + str(i) + FORMAT)\n",
        "    #os.rename(PATH + filename, PATH + str(i+10000) + FORMAT)\n",
        "    print(i)"
      ],
      "metadata": {
        "id": "njDxG-jxrDRF",
        "colab": {
          "base_uri": "https://localhost:8080/"
        },
        "outputId": "d2e2d662-6b04-4d34-f8e6-e2ac0c70b247"
      },
      "execution_count": 9,
      "outputs": [
        {
          "output_type": "stream",
          "name": "stdout",
          "text": [
            "0\n",
            "1\n",
            "2\n",
            "3\n",
            "4\n",
            "5\n",
            "6\n",
            "7\n",
            "8\n",
            "9\n",
            "10\n",
            "11\n"
          ]
        }
      ]
    },
    {
      "cell_type": "code",
      "source": [
        "os.listdir(PATH)"
      ],
      "metadata": {
        "id": "yWXSp6o9-DPl",
        "colab": {
          "base_uri": "https://localhost:8080/"
        },
        "outputId": "932267c8-09a8-40e4-817d-fc60de211802"
      },
      "execution_count": 10,
      "outputs": [
        {
          "output_type": "execute_result",
          "data": {
            "text/plain": [
              "['0.png',\n",
              " '1.png',\n",
              " '2.png',\n",
              " '3.png',\n",
              " '4.png',\n",
              " '5.png',\n",
              " '6.png',\n",
              " '7.png',\n",
              " '8.png',\n",
              " '9.png',\n",
              " '10.png',\n",
              " '11.png']"
            ]
          },
          "metadata": {},
          "execution_count": 10
        }
      ]
    },
    {
      "cell_type": "markdown",
      "source": [
        "#### Method 2 (Directories Sorted)"
      ],
      "metadata": {
        "id": "EdmNka7XNc_b"
      }
    },
    {
      "cell_type": "code",
      "source": [
        "# Construct the search pattern\n",
        "search_pattern = os.path.join(PATH, FORMAT)\n",
        "\n",
        "# Use glob to get the file names matching the pattern and then sort them\n",
        "file_list = sorted(glob.glob(search_pattern))\n",
        "\n",
        "# Display the sorted list of .png files\n",
        "print(file_list)"
      ],
      "metadata": {
        "id": "DSbLyv3dNL2z"
      },
      "execution_count": null,
      "outputs": []
    },
    {
      "cell_type": "code",
      "source": [
        "for i, filename in enumerate(os.listdir(PATH)):\n",
        "    os.rename(PATH + filename, PATH + str(i) + FORMAT)\n",
        "    print(i)"
      ],
      "metadata": {
        "id": "HtI0K7yXO9B_"
      },
      "execution_count": null,
      "outputs": []
    },
    {
      "cell_type": "code",
      "source": [
        "os.listdir(PATH)"
      ],
      "metadata": {
        "id": "xyiJRzHPO_cV"
      },
      "execution_count": null,
      "outputs": []
    }
  ]
}