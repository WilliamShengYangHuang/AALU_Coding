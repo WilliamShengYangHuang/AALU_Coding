{
  "nbformat": 4,
  "nbformat_minor": 0,
  "metadata": {
    "colab": {
      "provenance": [],
      "gpuType": "T4",
      "include_colab_link": true
    },
    "kernelspec": {
      "name": "python3",
      "display_name": "Python 3"
    },
    "language_info": {
      "name": "python"
    },
    "accelerator": "GPU"
  },
  "cells": [
    {
      "cell_type": "markdown",
      "metadata": {
        "id": "view-in-github",
        "colab_type": "text"
      },
      "source": [
        "<a href=\"https://colab.research.google.com/github/WilliamShengYangHuang/AALU_Coding/blob/main/Copy_of_minecraft_py_test.ipynb\" target=\"_parent\"><img src=\"https://colab.research.google.com/assets/colab-badge.svg\" alt=\"Open In Colab\"/></a>"
      ]
    },
    {
      "cell_type": "code",
      "source": [
        "!pip install anvil-parser\n",
        "!pip install nbtlib"
      ],
      "metadata": {
        "colab": {
          "base_uri": "https://localhost:8080/"
        },
        "id": "7RF2VlTlyTFb",
        "outputId": "9ba9751d-f59d-4c3f-a985-c16f21bb3f32"
      },
      "execution_count": null,
      "outputs": [
        {
          "output_type": "stream",
          "name": "stdout",
          "text": [
            "Looking in indexes: https://pypi.org/simple, https://us-python.pkg.dev/colab-wheels/public/simple/\n",
            "Collecting anvil-parser\n",
            "  Downloading anvil_parser-0.9.0-py3-none-any.whl (28 kB)\n",
            "Collecting nbt (from anvil-parser)\n",
            "  Downloading NBT-1.5.1-py2.py3-none-any.whl (25 kB)\n",
            "Requirement already satisfied: frozendict in /usr/local/lib/python3.10/dist-packages (from anvil-parser) (2.3.7)\n",
            "Installing collected packages: nbt, anvil-parser\n",
            "Successfully installed anvil-parser-0.9.0 nbt-1.5.1\n"
          ]
        }
      ]
    },
    {
      "cell_type": "code",
      "source": [
        "import anvil\n",
        "import nbtlib\n",
        "from google.colab import drive"
      ],
      "metadata": {
        "id": "47TeY0N7xihs"
      },
      "execution_count": null,
      "outputs": []
    },
    {
      "cell_type": "code",
      "source": [
        "drive.mount(\"/content/drive/\")"
      ],
      "metadata": {
        "colab": {
          "base_uri": "https://localhost:8080/"
        },
        "id": "MDXHikRTxj0t",
        "outputId": "0092b12e-6167-41da-bc68-0e2bf0f0e507"
      },
      "execution_count": null,
      "outputs": [
        {
          "output_type": "stream",
          "name": "stdout",
          "text": [
            "Mounted at /content/drive/\n"
          ]
        }
      ]
    },
    {
      "cell_type": "code",
      "source": [
        "filename = 'r.2.-4.mca'\n",
        "mca_file = nbtlib.load(filename)\n",
        "chunk = mca_file.root.level[2][4]"
      ],
      "metadata": {
        "colab": {
          "base_uri": "https://localhost:8080/",
          "height": 137
        },
        "id": "FDFo6J6IN47X",
        "outputId": "c7fae8f4-cc5c-4826-a2f4-3e365eaff8a8"
      },
      "execution_count": null,
      "outputs": [
        {
          "output_type": "error",
          "ename": "SyntaxError",
          "evalue": "ignored",
          "traceback": [
            "\u001b[0;36m  File \u001b[0;32m\"<ipython-input-6-f0a185b4691f>\"\u001b[0;36m, line \u001b[0;32m1\u001b[0m\n\u001b[0;31m    pip install nbtlib\u001b[0m\n\u001b[0m        ^\u001b[0m\n\u001b[0;31mSyntaxError\u001b[0m\u001b[0;31m:\u001b[0m invalid syntax\n"
          ]
        }
      ]
    },
    {
      "cell_type": "code",
      "source": [
        "dir = \"/content/drive/My Drive/r.2.-4.mca\""
      ],
      "metadata": {
        "id": "r9jcU6caxqxn"
      },
      "execution_count": null,
      "outputs": []
    },
    {
      "cell_type": "code",
      "execution_count": null,
      "metadata": {
        "colab": {
          "base_uri": "https://localhost:8080/",
          "height": 353
        },
        "id": "BGaPPKXxxNe4",
        "outputId": "849f8c2b-aaff-4e3c-d68c-75e0e21760ae"
      },
      "outputs": [
        {
          "output_type": "error",
          "ename": "ChunkNotFound",
          "evalue": "ignored",
          "traceback": [
            "\u001b[0;31m---------------------------------------------------------------------------\u001b[0m",
            "\u001b[0;31mChunkNotFound\u001b[0m                             Traceback (most recent call last)",
            "\u001b[0;32m<ipython-input-5-f21c65c2a802>\u001b[0m in \u001b[0;36m<cell line: 4>\u001b[0;34m()\u001b[0m\n\u001b[1;32m      2\u001b[0m \u001b[0;34m\u001b[0m\u001b[0m\n\u001b[1;32m      3\u001b[0m \u001b[0;31m# You can also provide the region file name instead of the object\u001b[0m\u001b[0;34m\u001b[0m\u001b[0;34m\u001b[0m\u001b[0m\n\u001b[0;32m----> 4\u001b[0;31m \u001b[0mchunk\u001b[0m \u001b[0;34m=\u001b[0m \u001b[0manvil\u001b[0m\u001b[0;34m.\u001b[0m\u001b[0mChunk\u001b[0m\u001b[0;34m.\u001b[0m\u001b[0mfrom_region\u001b[0m\u001b[0;34m(\u001b[0m\u001b[0mregion\u001b[0m\u001b[0;34m,\u001b[0m \u001b[0;36m0\u001b[0m\u001b[0;34m,\u001b[0m \u001b[0;36m0\u001b[0m\u001b[0;34m)\u001b[0m\u001b[0;34m\u001b[0m\u001b[0;34m\u001b[0m\u001b[0m\n\u001b[0m\u001b[1;32m      5\u001b[0m \u001b[0;34m\u001b[0m\u001b[0m\n\u001b[1;32m      6\u001b[0m \u001b[0;31m# If `section` is not provided, will get it from the y coords\u001b[0m\u001b[0;34m\u001b[0m\u001b[0;34m\u001b[0m\u001b[0m\n",
            "\u001b[0;32m/usr/local/lib/python3.10/dist-packages/anvil/chunk.py\u001b[0m in \u001b[0;36mfrom_region\u001b[0;34m(cls, region, chunk_x, chunk_z)\u001b[0m\n\u001b[1;32m    379\u001b[0m         \u001b[0mnbt_data\u001b[0m \u001b[0;34m=\u001b[0m \u001b[0mregion\u001b[0m\u001b[0;34m.\u001b[0m\u001b[0mchunk_data\u001b[0m\u001b[0;34m(\u001b[0m\u001b[0mchunk_x\u001b[0m\u001b[0;34m,\u001b[0m \u001b[0mchunk_z\u001b[0m\u001b[0;34m)\u001b[0m\u001b[0;34m\u001b[0m\u001b[0;34m\u001b[0m\u001b[0m\n\u001b[1;32m    380\u001b[0m         \u001b[0;32mif\u001b[0m \u001b[0mnbt_data\u001b[0m \u001b[0;32mis\u001b[0m \u001b[0;32mNone\u001b[0m\u001b[0;34m:\u001b[0m\u001b[0;34m\u001b[0m\u001b[0;34m\u001b[0m\u001b[0m\n\u001b[0;32m--> 381\u001b[0;31m             \u001b[0;32mraise\u001b[0m \u001b[0mChunkNotFound\u001b[0m\u001b[0;34m(\u001b[0m\u001b[0;34mf'Could not find chunk ({chunk_x}, {chunk_z})'\u001b[0m\u001b[0;34m)\u001b[0m\u001b[0;34m\u001b[0m\u001b[0;34m\u001b[0m\u001b[0m\n\u001b[0m\u001b[1;32m    382\u001b[0m         \u001b[0;32mreturn\u001b[0m \u001b[0mcls\u001b[0m\u001b[0;34m(\u001b[0m\u001b[0mnbt_data\u001b[0m\u001b[0;34m)\u001b[0m\u001b[0;34m\u001b[0m\u001b[0;34m\u001b[0m\u001b[0m\n",
            "\u001b[0;31mChunkNotFound\u001b[0m: Could not find chunk (0, 0)"
          ]
        }
      ],
      "source": [
        "region = anvil.Region.from_file(dir)\n",
        "\n",
        "# You can also provide the region file name instead of the object\n",
        "chunk = anvil.Chunk.from_region(region, 0, 0)\n",
        "\n",
        "# If `section` is not provided, will get it from the y coords\n",
        "# and assume it's global\n",
        "block = chunk.get_block(0, 0, 0)\n",
        "\n",
        "print(block) # <Block(minecraft:air)>\n",
        "print(block.id) # air\n",
        "print(block.properties) # {}"
      ]
    }
  ]
}