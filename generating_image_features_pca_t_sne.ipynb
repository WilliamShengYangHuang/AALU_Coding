{
  "nbformat": 4,
  "nbformat_minor": 0,
  "metadata": {
    "colab": {
      "provenance": [],
      "machine_shape": "hm",
      "collapsed_sections": [
        "G1HemlZ0_n7Q"
      ],
      "toc_visible": true,
      "gpuClass": "premium",
      "authorship_tag": "ABX9TyPwmUxwJlH3Jy7K9IJ2EC/l",
      "include_colab_link": true
    },
    "kernelspec": {
      "name": "python3",
      "display_name": "Python 3"
    },
    "language_info": {
      "name": "python"
    },
    "accelerator": "GPU",
    "gpuClass": "premium"
  },
  "cells": [
    {
      "cell_type": "markdown",
      "metadata": {
        "id": "view-in-github",
        "colab_type": "text"
      },
      "source": [
        "<a href=\"https://colab.research.google.com/github/WilliamShengYangHuang/AALU_Coding/blob/main/generating_image_features_pca_t_sne.ipynb\" target=\"_parent\"><img src=\"https://colab.research.google.com/assets/colab-badge.svg\" alt=\"Open In Colab\"/></a>"
      ]
    },
    {
      "cell_type": "code",
      "source": [
        "#@title\n",
        "\"\"\"import json\n",
        "from keras.utils.data_utils import get_file\n",
        "from keras import backend as K\n",
        "\n",
        "CLASS_INDEX = None\n",
        "CLASS_INDEX_PATH = 'https://s3.amazonaws.com/deep-learning-models/image-models/imagenet_class_index.json'\n",
        "\n",
        "\n",
        "def preprocess_input(x, dim_ordering='default'):\n",
        "    if dim_ordering == 'default':\n",
        "        dim_ordering = K.set_image_data_format('channels_first')\n",
        "    assert dim_ordering in {'tf', 'th'}\n",
        "\n",
        "    if dim_ordering == 'th':\n",
        "        x[:, 0, :, :] -= 103.939\n",
        "        x[:, 1, :, :] -= 116.779\n",
        "        x[:, 2, :, :] -= 123.68\n",
        "        # 'RGB'->'BGR'\n",
        "        x = x[:, ::-1, :, :]\n",
        "    else:\n",
        "        x[:, :, :, 0] -= 103.939\n",
        "        x[:, :, :, 1] -= 116.779\n",
        "        x[:, :, :, 2] -= 123.68\n",
        "        # 'RGB'->'BGR'\n",
        "        x = x[:, :, :, ::-1]\n",
        "    return x\n",
        "\n",
        "\n",
        "def decode_predictions(preds, top=5):\n",
        "    global CLASS_INDEX\n",
        "    if len(preds.shape) != 2 or preds.shape[1] != 1000:\n",
        "        raise ValueError('`decode_predictions` expects '\n",
        "                         'a batch of predictions '\n",
        "                         '(i.e. a 2D array of shape (samples, 1000)). '\n",
        "                         'Found array with shape: ' + str(preds.shape))\n",
        "    if CLASS_INDEX is None:\n",
        "        fpath = get_file('imagenet_class_index.json',\n",
        "                         CLASS_INDEX_PATH,\n",
        "                         cache_subdir='models')\n",
        "        CLASS_INDEX = json.load(open(fpath))\n",
        "    results = []\n",
        "    for pred in preds:\n",
        "        top_indices = pred.argsort()[-top:][::-1]\n",
        "        result = [tuple(CLASS_INDEX[str(i)]) + (pred[i],) for i in top_indices]\n",
        "        results.append(result)\n",
        "    return results\"\"\""
      ],
      "metadata": {
        "colab": {
          "base_uri": "https://localhost:8080/",
          "height": 105
        },
        "id": "uC4LCkD94OrW",
        "outputId": "75f00576-320d-45fd-cfb8-ccbbf6e32098",
        "cellView": "form"
      },
      "execution_count": null,
      "outputs": [
        {
          "output_type": "execute_result",
          "data": {
            "text/plain": [
              "\"import json\\nfrom keras.utils.data_utils import get_file\\nfrom keras import backend as K\\n\\nCLASS_INDEX = None\\nCLASS_INDEX_PATH = 'https://s3.amazonaws.com/deep-learning-models/image-models/imagenet_class_index.json'\\n\\n\\ndef preprocess_input(x, dim_ordering='default'):\\n    if dim_ordering == 'default':\\n        dim_ordering = K.set_image_data_format('channels_first')\\n    assert dim_ordering in {'tf', 'th'}\\n\\n    if dim_ordering == 'th':\\n        x[:, 0, :, :] -= 103.939\\n        x[:, 1, :, :] -= 116.779\\n        x[:, 2, :, :] -= 123.68\\n        # 'RGB'->'BGR'\\n        x = x[:, ::-1, :, :]\\n    else:\\n        x[:, :, :, 0] -= 103.939\\n        x[:, :, :, 1] -= 116.779\\n        x[:, :, :, 2] -= 123.68\\n        # 'RGB'->'BGR'\\n        x = x[:, :, :, ::-1]\\n    return x\\n\\n\\ndef decode_predictions(preds, top=5):\\n    global CLASS_INDEX\\n    if len(preds.shape) != 2 or preds.shape[1] != 1000:\\n        raise ValueError('`decode_predictions` expects '\\n                         'a batch of predictions '\\n                         '(i.e. a 2D array of shape (samples, 1000)). '\\n                         'Found array with shape: ' + str(preds.shape))\\n    if CLASS_INDEX is None:\\n        fpath = get_file('imagenet_class_index.json',\\n                         CLASS_INDEX_PATH,\\n                         cache_subdir='models')\\n        CLASS_INDEX = json.load(open(fpath))\\n    results = []\\n    for pred in preds:\\n        top_indices = pred.argsort()[-top:][::-1]\\n        result = [tuple(CLASS_INDEX[str(i)]) + (pred[i],) for i in top_indices]\\n        results.append(result)\\n    return results\""
            ],
            "application/vnd.google.colaboratory.intrinsic+json": {
              "type": "string"
            }
          },
          "metadata": {},
          "execution_count": 1
        }
      ]
    },
    {
      "cell_type": "markdown",
      "source": [
        "## Import Packages"
      ],
      "metadata": {
        "id": "Np_XEw4n-7sN"
      }
    },
    {
      "cell_type": "code",
      "execution_count": null,
      "metadata": {
        "id": "octUJuBF32ts"
      },
      "outputs": [],
      "source": [
        "import skimage\n",
        "import cv2\n",
        "import os\n",
        "import numpy as np\n",
        "from sklearn import manifold, datasets\n",
        "import pickle as pkl\n",
        "\n",
        "import keras\n",
        "from keras.preprocessing import image\n",
        "from keras.models import Model\n",
        "from keras.applications.vgg19 import VGG19\n",
        "from skimage.transform import resize\n",
        "#import imagenet_utils as imu\n",
        "from keras.applications import imagenet_utils as imu\n",
        "\n",
        "import tensorflow as tf\n",
        "from tensorflow.keras.applications import VGG19\n",
        "from tensorflow.keras.preprocessing import image\n",
        "from tensorflow.keras.applications.vgg19 import preprocess_input\n",
        "from tensorflow.keras.models import Model\n",
        "\n",
        "import matplotlib.pyplot as plt"
      ]
    },
    {
      "cell_type": "code",
      "source": [
        "import cv2 as cv\n",
        "from glob import glob\n",
        "from google.colab import drive\n",
        "drive.mount('/content/drive')"
      ],
      "metadata": {
        "colab": {
          "base_uri": "https://localhost:8080/"
        },
        "id": "w8g8xM4j0D-Z",
        "outputId": "6ea9a9b8-85be-4f7f-cc4a-b40ab648fd5e"
      },
      "execution_count": null,
      "outputs": [
        {
          "output_type": "stream",
          "name": "stdout",
          "text": [
            "Mounted at /content/drive\n"
          ]
        }
      ]
    },
    {
      "cell_type": "markdown",
      "source": [
        "## Load Data"
      ],
      "metadata": {
        "id": "duc_kW7I_E_-"
      }
    },
    {
      "cell_type": "code",
      "source": [
        "PATH = '/content/drive/My Drive/phd_thesis_data/deep_city/pix2pix/compiled/combined/thumbnails/h-w/right_half' #@param ['/content/drive/My Drive/aa_images/dataset_04', '/content/drive/My Drive/aa_images/10000_rdm_04_1', '/content/drive/My Drive/aa_images/10000_imgs_fixed_departure_v04'] {allow-input: true}\n",
        "\n",
        "#images = [cv.imread(file, cv.COLOR_BGR2RGB) for file in glob(PATH + '/*.jpg')]\n",
        "#print(len(images))"
      ],
      "metadata": {
        "id": "tADxbOQUpM0E"
      },
      "execution_count": null,
      "outputs": []
    },
    {
      "cell_type": "code",
      "source": [
        "#@title\n",
        "\"\"\"rootfolder = PATH\n",
        "file_list = os.listdir(rootfolder)\n",
        "print(file_list)\"\"\""
      ],
      "metadata": {
        "id": "CEOmXlu6gO5b",
        "cellView": "form",
        "colab": {
          "base_uri": "https://localhost:8080/",
          "height": 35
        },
        "outputId": "7199260f-0aa4-4f01-e7a4-b69451d4d0aa"
      },
      "execution_count": null,
      "outputs": [
        {
          "output_type": "execute_result",
          "data": {
            "text/plain": [
              "'rootfolder = PATH\\nfile_list = os.listdir(rootfolder)\\nprint(file_list)'"
            ],
            "application/vnd.google.colaboratory.intrinsic+json": {
              "type": "string"
            }
          },
          "metadata": {},
          "execution_count": 5
        }
      ]
    },
    {
      "cell_type": "code",
      "source": [
        "#@title\n",
        "\"\"\"file_list_sorted = file_list.sort()\n",
        "print(file_list_sorted)\"\"\""
      ],
      "metadata": {
        "id": "mw5JSh2966fo",
        "cellView": "form",
        "colab": {
          "base_uri": "https://localhost:8080/",
          "height": 35
        },
        "outputId": "8cf35a90-96d4-4a74-9cc8-12c5cf96d1d2"
      },
      "execution_count": null,
      "outputs": [
        {
          "output_type": "execute_result",
          "data": {
            "text/plain": [
              "'file_list_sorted = file_list.sort()\\nprint(file_list_sorted)'"
            ],
            "application/vnd.google.colaboratory.intrinsic+json": {
              "type": "string"
            }
          },
          "metadata": {},
          "execution_count": 6
        }
      ]
    },
    {
      "cell_type": "code",
      "source": [
        "#@title\n",
        "\"\"\"\n",
        "#rootfolder = 'D:\\\\COMPUTER_VISION\\\\AAPR\\\\10000_imgs_aa_barrel_vault'\n",
        "file_list = []\n",
        "for i in range(len(os.listdir(rootfolder))):\n",
        "  file_list.append(plt.imread(PATH + str(i+10000) + '.jpg'))\n",
        "\n",
        "print(file_list)\"\"\""
      ],
      "metadata": {
        "id": "FfAku3iHzMhk",
        "cellView": "form",
        "colab": {
          "base_uri": "https://localhost:8080/",
          "height": 35
        },
        "outputId": "d7bfff6e-f7a4-40ca-8ebe-44bb7c06a8bc"
      },
      "execution_count": null,
      "outputs": [
        {
          "output_type": "execute_result",
          "data": {
            "text/plain": [
              "\"\\n#rootfolder = 'D:\\\\COMPUTER_VISION\\\\AAPR\\\\10000_imgs_aa_barrel_vault'\\nfile_list = []\\nfor i in range(len(os.listdir(rootfolder))):\\n  file_list.append(plt.imread(PATH + str(i+10000) + '.jpg'))\\n\\nprint(file_list)\""
            ],
            "application/vnd.google.colaboratory.intrinsic+json": {
              "type": "string"
            }
          },
          "metadata": {},
          "execution_count": 7
        }
      ]
    },
    {
      "cell_type": "code",
      "source": [
        "#np.array(file_list)"
      ],
      "metadata": {
        "id": "4UI0LB4diwfX"
      },
      "execution_count": null,
      "outputs": []
    },
    {
      "cell_type": "markdown",
      "source": [
        "## Extract Features with VGG19"
      ],
      "metadata": {
        "id": "G1HemlZ0_n7Q"
      }
    },
    {
      "cell_type": "code",
      "source": [
        "#@title\n",
        "\"\"\"\n",
        "hulist = []\n",
        "\n",
        "for i in file_list:\n",
        "    filepath = os.path.join(rootfolder,i)\n",
        "    img = cv2.imread(filepath, cv2.IMREAD_GRAYSCALE)\n",
        "\n",
        "    moments = cv2.moments(img)\n",
        "    huMoments = cv2.HuMoments(moments)\n",
        "    huMoments = np.squeeze(huMoments)\n",
        "    huMoments = huMoments.tolist()\n",
        "    hulist.append(huMoments)\n",
        "\n",
        "humoments_total = np.stack(hulist, axis=0)\n",
        "\n",
        "rootfolder2 = rootfolder + '_features'\n",
        "fileName = os.path.join(rootfolder2,'Hu_moments')\n",
        "fileObject = open(fileName, 'wb')\n",
        "pkl.dump(humoments_total, fileObject)\n",
        "fileObject.close()\n",
        "\n",
        "\"\"\""
      ],
      "metadata": {
        "cellView": "form",
        "id": "7gZUyUvhA8oj",
        "colab": {
          "base_uri": "https://localhost:8080/"
        },
        "outputId": "6391c428-48be-468c-a20a-e91c0d39cbfe"
      },
      "execution_count": null,
      "outputs": [
        {
          "output_type": "execute_result",
          "data": {
            "text/plain": [
              "\"\\nhulist = []\\n\\nfor i in file_list:\\n    filepath = os.path.join(rootfolder,i)\\n    img = cv2.imread(filepath, cv2.IMREAD_GRAYSCALE)\\n    \\n    moments = cv2.moments(img)\\n    huMoments = cv2.HuMoments(moments)\\n    huMoments = np.squeeze(huMoments)\\n    huMoments = huMoments.tolist()\\n    hulist.append(huMoments)\\n    \\nhumoments_total = np.stack(hulist, axis=0)\\n\\nrootfolder2 = rootfolder + '_features'\\nfileName = os.path.join(rootfolder2,'Hu_moments')\\nfileObject = open(fileName, 'wb')\\npkl.dump(humoments_total, fileObject)\\nfileObject.close()\\n\\n\""
            ],
            "application/vnd.google.colaboratory.intrinsic+json": {
              "type": "string"
            }
          },
          "metadata": {},
          "execution_count": 9
        }
      ]
    },
    {
      "cell_type": "code",
      "source": [
        "\"\"\"\n",
        "base_model = VGG19(weights='imagenet')\n",
        "model_ = Model(inputs=base_model.input, outputs=base_model.get_layer('block5_pool').output)\n",
        "\n",
        "vgg19_features_list = []\n",
        "\n",
        "for i in range(0, 10000, 1):\n",
        "    img = image.load_img(str(PATH + str(i) + '.jpg'), target_size=(224, 224))\n",
        "    #img = tf.keras.preprocessing.image.load_img(filepath, target_size=(224, 224))\n",
        "    #print(i)\n",
        "    plt.imshow(img)\n",
        "    plt.axis('off')\n",
        "    x = image.img_to_array(img)\n",
        "    x = np.expand_dims(x, axis=0)\n",
        "    x = preprocess_input(x)\n",
        "    features = model_.predict(x).flatten()\n",
        "    vgg19_features_list.append(features)\n",
        "    print(features.shape)\n",
        "\"\"\""
      ],
      "metadata": {
        "colab": {
          "base_uri": "https://localhost:8080/"
        },
        "id": "UDeSs7jQzx5E",
        "outputId": "39f1af22-cd52-4528-a27f-553149f87159"
      },
      "execution_count": null,
      "outputs": [
        {
          "output_type": "execute_result",
          "data": {
            "text/plain": [
              "\"\\nbase_model = VGG19(weights='imagenet')\\nmodel_ = Model(inputs=base_model.input, outputs=base_model.get_layer('block5_pool').output)\\n\\nvgg19_features_list = []\\n\\nfor i in range(0, 10000, 1):\\n    img = image.load_img(str(PATH + str(i) + '.jpg'), target_size=(224, 224))\\n    #img = tf.keras.preprocessing.image.load_img(filepath, target_size=(224, 224))\\n    #print(i)\\n    plt.imshow(img)\\n    plt.axis('off')\\n    x = image.img_to_array(img)\\n    x = np.expand_dims(x, axis=0)\\n    x = preprocess_input(x)\\n    features = model_.predict(x).flatten()\\n    vgg19_features_list.append(features)\\n    print(features.shape)\\n\""
            ],
            "application/vnd.google.colaboratory.intrinsic+json": {
              "type": "string"
            }
          },
          "metadata": {},
          "execution_count": 10
        }
      ]
    },
    {
      "cell_type": "markdown",
      "source": [
        "### Save Model"
      ],
      "metadata": {
        "id": "_Q5eGW62Ao8n"
      }
    },
    {
      "cell_type": "code",
      "source": [
        "\"\"\"\n",
        "from pathlib import Path\n",
        "vgg19_features = np.stack(vgg19_features_list, axis=0)\n",
        "\n",
        "# rootfolder2 = Path + '_features'\n",
        "rootfolder2 = '/content/drive/My Drive/aa_images/10000_rdm_04_1_features/'\n",
        "fileName = os.path.join(rootfolder2,'vgg19_block5_pool')\n",
        "fileObject = open(fileName, 'wb')\n",
        "pkl.dump(vgg19_features, fileObject)\n",
        "fileObject.close()\n",
        "\"\"\""
      ],
      "metadata": {
        "id": "W294QnM8EeXA",
        "colab": {
          "base_uri": "https://localhost:8080/"
        },
        "outputId": "24879fc2-e7d4-44da-bf35-f1fcd3093f61"
      },
      "execution_count": null,
      "outputs": [
        {
          "output_type": "execute_result",
          "data": {
            "text/plain": [
              "\"\\nfrom pathlib import Path\\nvgg19_features = np.stack(vgg19_features_list, axis=0)\\n        \\n# rootfolder2 = Path + '_features'\\nrootfolder2 = '/content/drive/My Drive/aa_images/10000_rdm_04_1_features/'\\nfileName = os.path.join(rootfolder2,'vgg19_block5_pool')\\nfileObject = open(fileName, 'wb')\\npkl.dump(vgg19_features, fileObject)\\nfileObject.close()\\n\""
            ],
            "application/vnd.google.colaboratory.intrinsic+json": {
              "type": "string"
            }
          },
          "metadata": {},
          "execution_count": 11
        }
      ]
    },
    {
      "cell_type": "markdown",
      "source": [
        "## Extract Features with PCA"
      ],
      "metadata": {
        "id": "iEx-IIG4AZBU"
      }
    },
    {
      "cell_type": "code",
      "source": [
        "import numpy as np\n",
        "import matplotlib.pyplot as plt\n",
        "import sklearn.decomposition as dp\n",
        "import imageio\n",
        "from skimage import io,transform,color\n",
        "from skimage import img_as_ubyte\n",
        "#from sklearn.datasets.base import load_iris\n",
        "from PIL import Image\n",
        "import cv2 as cv\n"
      ],
      "metadata": {
        "id": "C0RWXAZUspqm"
      },
      "execution_count": null,
      "outputs": []
    },
    {
      "cell_type": "code",
      "source": [
        "# Initialize the image stack with the first image\n",
        "img = cv.imread(PATH + '1.jpg')\n",
        "plt.imshow(img)"
      ],
      "metadata": {
        "colab": {
          "base_uri": "https://localhost:8080/",
          "height": 286
        },
        "id": "FMmmzLmfzKoY",
        "outputId": "9f213b61-a457-4d93-c23b-1abfae01a93d"
      },
      "execution_count": null,
      "outputs": [
        {
          "output_type": "execute_result",
          "data": {
            "text/plain": [
              "<matplotlib.image.AxesImage at 0x7f54f550c340>"
            ]
          },
          "metadata": {},
          "execution_count": 13
        },
        {
          "output_type": "display_data",
          "data": {
            "text/plain": [
              "<Figure size 432x288 with 1 Axes>"
            ],
            "image/png": "[encoded data removed]"
          },
          "metadata": {
            "needs_background": "light"
          }
        }
      ]
    },
    {
      "cell_type": "code",
      "source": [
        "\n",
        "img_gray = color.rgb2gray(img)\n",
        "\n",
        "# Set the new size for the image\n",
        "new_size = (256, 256)\n",
        "\n",
        "# Resize the image\n",
        "img_gray = cv2.resize(img_gray, new_size, interpolation=cv2.INTER_AREA)\n",
        "\n",
        "im_stack = np.asarray(img_gray)\n",
        "\n",
        "print(str(im_stack) + '__1')\n",
        "\n",
        "\n",
        "# Concatenate additional images to the stack\n",
        "for i in range(2, 67):\n",
        "    img = cv.imread(PATH + str(i) + '.jpg')\n",
        "    img_gray = color.rgb2gray(img)\n",
        "\n",
        "    # Set the new size for the image\n",
        "    new_size = (256, 256)\n",
        "\n",
        "    # Resize the image\n",
        "    img_gray = cv2.resize(img_gray, new_size, interpolation=cv2.INTER_AREA)\n",
        "\n",
        "    im_array = np.asarray(img_gray)\n",
        "    im_stack = np.append(im_stack, im_array)\n",
        "    print(str(im_stack) + '__' + str(i))\n",
        "    print(len(im_stack))"
      ],
      "metadata": {
        "colab": {
          "base_uri": "https://localhost:8080/"
        },
        "id": "fVTI899_q7ad",
        "outputId": "5d78094e-4e05-4551-a3d6-32d98bd899b4"
      },
      "execution_count": null,
      "outputs": [
        {
          "output_type": "stream",
          "name": "stdout",
          "text": [
            "[[1. 1. 1. ... 1. 1. 1.]\n",
            " [1. 1. 1. ... 1. 1. 1.]\n",
            " [1. 1. 1. ... 1. 1. 1.]\n",
            " ...\n",
            " [1. 1. 1. ... 1. 1. 1.]\n",
            " [1. 1. 1. ... 1. 1. 1.]\n",
            " [1. 1. 1. ... 1. 1. 1.]]__1\n",
            "[1. 1. 1. ... 1. 1. 1.]__2\n",
            "131072\n",
            "[1.         1.         1.         ... 1.         1.00000003 1.        ]__3\n",
            "196608\n",
            "[1.         1.         1.         ... 0.99999999 0.99999999 1.        ]__4\n",
            "262144\n",
            "[1.         1.         1.         ... 1.         1.00000003 1.        ]__5\n",
            "327680\n",
            "[1.         1.         1.         ... 0.99999999 0.99999999 1.        ]__6\n",
            "393216\n",
            "[1.         1.         1.         ... 1.00000001 0.99999997 1.        ]__7\n",
            "458752\n",
            "[1.         1.         1.         ... 1.00000001 1.         1.        ]__8\n",
            "524288\n",
            "[1.         1.         1.         ... 1.         1.00000003 1.        ]__9\n",
            "589824\n",
            "[1.         1.         1.         ... 1.00000001 1.00000001 1.        ]__10\n",
            "655360\n",
            "[1.         1.         1.         ... 0.99999999 0.99999999 1.        ]__11\n",
            "720896\n",
            "[1.         1.         1.         ... 1.         1.00000003 1.        ]__12\n",
            "786432\n",
            "[1.         1.         1.         ... 1.00000001 0.99999997 1.        ]__13\n",
            "851968\n",
            "[1.         1.         1.         ... 1.00000001 1.00000001 1.        ]__14\n",
            "917504\n",
            "[1.         1.         1.         ... 0.99999997 0.99999999 1.        ]__15\n",
            "983040\n",
            "[1.         1.         1.         ... 1.00000001 0.99999997 1.        ]__16\n",
            "1048576\n",
            "[1.         1.         1.         ... 1.00000001 1.00000001 1.        ]__17\n",
            "1114112\n",
            "[1.         1.         1.         ... 0.99999997 0.99999999 1.        ]__18\n",
            "1179648\n",
            "[1.         1.         1.         ... 1.00000001 0.99999997 1.        ]__19\n",
            "1245184\n",
            "[1.         1.         1.         ... 0.99999999 0.99999999 1.        ]__20\n",
            "1310720\n",
            "[1. 1. 1. ... 1. 1. 1.]__21\n",
            "1376256\n",
            "[1.         1.         1.         ... 0.99999999 0.99999999 1.        ]__22\n",
            "1441792\n",
            "[1.         1.         1.         ... 0.99999999 0.99999999 1.        ]__23\n",
            "1507328\n",
            "[1. 1. 1. ... 1. 1. 1.]__24\n",
            "1572864\n",
            "[1.         1.         1.         ... 1.         1.00000003 1.        ]__25\n",
            "1638400\n",
            "[1.         1.         1.         ... 1.         1.00000003 1.        ]__26\n",
            "1703936\n",
            "[1.         1.         1.         ... 1.00000001 1.00000001 1.        ]__27\n",
            "1769472\n",
            "[1.         1.         1.         ... 0.99999999 0.99999999 1.        ]__28\n",
            "1835008\n",
            "[1.         1.         1.         ... 1.         1.00000003 1.        ]__29\n",
            "1900544\n",
            "[1.         1.         1.         ... 1.         1.00000003 1.        ]__30\n",
            "1966080\n",
            "[1.         1.         1.         ... 1.         1.00000003 1.        ]__31\n",
            "2031616\n",
            "[1.         1.         1.         ... 0.99999999 0.99999999 1.        ]__32\n",
            "2097152\n",
            "[1. 1. 1. ... 1. 1. 1.]__33\n",
            "2162688\n",
            "[1.         1.         1.         ... 0.99999999 0.99999999 1.        ]__34\n",
            "2228224\n",
            "[1.         1.         1.         ... 1.00000001 1.00000001 1.        ]__35\n",
            "2293760\n",
            "[1.         1.         1.         ... 1.         1.00000003 1.        ]__36\n",
            "2359296\n",
            "[1.         1.         1.         ... 1.00000002 0.99999998 1.        ]__37\n",
            "2424832\n",
            "[1.         1.         1.         ... 1.00000001 1.00000001 1.        ]__38\n",
            "2490368\n",
            "[1.         1.         1.         ... 1.00000001 1.00000001 1.        ]__39\n",
            "2555904\n",
            "[1.         1.         1.         ... 1.00000001 1.00000001 1.        ]__40\n",
            "2621440\n",
            "[1.         1.         1.         ... 1.         1.00000003 1.        ]__41\n",
            "2686976\n",
            "[1.         1.         1.         ... 1.         1.00000003 1.        ]__42\n",
            "2752512\n",
            "[1.         1.         1.         ... 1.00000001 0.99999997 1.        ]__43\n",
            "2818048\n",
            "[1.         1.         1.         ... 1.00000001 1.00000001 1.        ]__44\n",
            "2883584\n",
            "[1.         1.         1.         ... 1.00000001 1.00000001 1.        ]__45\n",
            "2949120\n",
            "[1.         1.         1.         ... 1.00000001 1.00000001 1.        ]__46\n",
            "3014656\n",
            "[1.         1.         1.         ... 0.99999999 0.99999999 1.        ]__47\n",
            "3080192\n",
            "[1.         1.         1.         ... 1.00000001 1.00000001 1.        ]__48\n",
            "3145728\n",
            "[1.         1.         1.         ... 1.         1.00000003 1.        ]__49\n",
            "3211264\n",
            "[1.         1.         1.         ... 0.99999999 0.99999999 1.        ]__50\n",
            "3276800\n",
            "[1.         1.         1.         ... 1.00000001 1.00000001 1.        ]__51\n",
            "3342336\n",
            "[1.         1.         1.         ... 1.00000001 1.00000001 1.        ]__52\n",
            "3407872\n",
            "[1.         1.         1.         ... 0.99999999 0.99999999 1.        ]__53\n",
            "3473408\n",
            "[1.         1.         1.         ... 1.00000001 1.00000001 1.        ]__54\n",
            "3538944\n",
            "[1.         1.         1.         ... 1.         1.00000003 1.        ]__55\n",
            "3604480\n",
            "[1.         1.         1.         ... 0.99999999 0.99999999 1.        ]__56\n",
            "3670016\n",
            "[1.         1.         1.         ... 1.00000001 1.00000001 1.        ]__57\n",
            "3735552\n",
            "[1.         1.         1.         ... 1.00000001 1.00000001 1.        ]__58\n",
            "3801088\n",
            "[1.         1.         1.         ... 1.00000001 1.00000001 1.        ]__59\n",
            "3866624\n",
            "[1.         1.         1.         ... 1.         1.00000003 1.        ]__60\n",
            "3932160\n",
            "[1. 1. 1. ... 1. 1. 1.]__61\n",
            "3997696\n",
            "[1. 1. 1. ... 1. 1. 1.]__62\n",
            "4063232\n",
            "[1. 1. 1. ... 1. 1. 1.]__63\n",
            "4128768\n",
            "[1.         1.         1.         ... 1.00000001 1.00000001 1.        ]__64\n",
            "4194304\n",
            "[1. 1. 1. ... 1. 1. 1.]__65\n",
            "4259840\n",
            "[1. 1. 1. ... 1. 1. 1.]__66\n",
            "4325376\n"
          ]
        }
      ]
    },
    {
      "cell_type": "code",
      "source": [
        "# PCA algorithm\n",
        "def PCA(matrix):\n",
        "    #matrix = matrix.reshape(-1, 1)\n",
        "    matrix = np.split(matrix, 66)\n",
        "    #print(matrix)\n",
        "    num_comp = 3 #@param{type:'slider', min:0, max:100, step:1}\n",
        "\n",
        "    pca = dp.PCA(n_components = num_comp) # load the PCA algorithm, set the principal component after dimensionality reduction to n_components\n",
        "    pca_features = pca.fit_transform(matrix) # dimensionality reduction on raw data\n",
        "    print(pca_features[0])\n",
        "    print(pca_features[1])\n",
        "\n",
        "    for i in range(66):\n",
        "        print(pca_features[i])\n",
        "\n",
        "    return pca_features\n",
        "\n",
        "\n",
        "#print(img_gray)\n",
        "low_matrix = PCA(im_stack)"
      ],
      "metadata": {
        "colab": {
          "base_uri": "https://localhost:8080/",
          "height": 1000
        },
        "id": "z2fV0hFr1CVO",
        "outputId": "b459818c-834c-4747-97e9-aad2d8a990c9"
      },
      "execution_count": null,
      "outputs": [
        {
          "output_type": "stream",
          "name": "stdout",
          "text": [
            "[-29.35617644 -15.74923843 -20.90635392]\n",
            "[-19.18132257  14.30320978 -21.15728127]\n",
            "[-29.35617644 -15.74923843 -20.90635392]\n",
            "[-19.18132257  14.30320978 -21.15728127]\n",
            "[ 36.14507298  34.79141486 -30.23044002]\n",
            "[ 55.34087397 -12.8316252    6.8591336 ]\n",
            "[-30.35971082 -19.62750217 -15.92841054]\n",
            "[-18.43629592 -11.28852227   8.66899421]\n",
            "[-15.34127859  -5.28149954  16.88657717]\n",
            "[-21.55943353  11.11124876 -16.36583642]\n",
            "[ 30.22214814  32.35867087 -25.69765117]\n",
            "[ 48.91559177 -42.73780304 -13.26151979]\n",
            "[-29.73424217 -17.7699756  -12.7918093 ]\n",
            "[-10.9085942    4.24936823  16.04139549]\n",
            "[-14.51183541  -1.78112518  18.26643449]\n",
            "[-12.79342463  23.18162016  -6.00761638]\n",
            "[ 19.82832314  40.21916506 -11.81207152]\n",
            "[ 58.4108257  -37.07609398  -3.52520647]\n",
            "[-34.49217747 -30.48775608 -20.47151404]\n",
            "[-5.16041735  7.37350817 25.96716426]\n",
            "[-15.53201947   0.79539123  16.85893686]\n",
            "[-15.62441559  17.63172741  -3.48539244]\n",
            "[17.9244095  37.94175194 -9.77751022]\n",
            "[ 52.64915264 -27.84040434  -1.01021378]\n",
            "[-34.35319253 -29.28138408 -21.13639824]\n",
            "[-10.03853527   1.25694005  15.83566425]\n",
            "[-15.8171245   -7.09383911  17.27545562]\n",
            "[-14.91415637  16.39301806 -13.28320289]\n",
            "[ 17.25161969  33.54885801 -15.70034752]\n",
            "[ 41.69180368 -27.50454258  -0.48796667]\n",
            "[-34.1017043  -29.16747307 -18.11590269]\n",
            "[-18.30867735 -10.32194245  12.82060596]\n",
            "[-17.5902126   -6.74384466  17.02013472]\n",
            "[-14.93763126  16.10887807  -3.54170239]\n",
            "[ 19.67261513  39.96962439 -18.96778395]\n",
            "[ 63.50998471 -31.18754956  -1.81398349]\n",
            "[-32.29823985 -26.21181917 -18.70643807]\n",
            "[  2.15636384 -21.35753282   3.7348136 ]\n",
            "[-15.38243982  -8.63342766  21.31859386]\n",
            "[-17.97091737  17.28219249  -5.51711099]\n",
            "[ 17.46072375  38.66776695 -12.23438199]\n",
            "[ 5.53598115e+01 -3.65174905e+01  5.00970251e-03]\n",
            "[-34.07098746 -29.00614783 -18.24914327]\n",
            "[-7.7106521  -2.87021291 25.27989839]\n",
            "[-15.62482307  -2.92314039  25.62863072]\n",
            "[-15.72460418  17.96222801  -1.9206857 ]\n",
            "[ 25.36929685  39.29297465 -11.31282704]\n",
            "[ 36.76271896 -22.65953069   9.99075888]\n",
            "[-33.39677143 -29.32288073 -21.98916185]\n",
            "[-10.48607008  -1.81675071  27.84502178]\n",
            "[-13.63685638  -0.67195263  27.40274791]\n",
            "[-10.62270557  25.02652094   3.88726788]\n",
            "[17.55991774 35.80550126 -1.25772474]\n",
            "[ 49.63617532 -27.12237796   0.62456052]\n",
            "[-31.85549011 -23.4925411  -19.64603194]\n",
            "[-4.66267553  5.96494788 29.9185682 ]\n",
            "[-8.98983586  6.58697327 29.70074456]\n",
            "[-12.83126951  16.91396877   1.61375904]\n",
            "[13.56991128 33.47629065 -8.26005776]\n",
            "[ 37.05214682 -20.15126908   0.08793278]\n",
            "[-30.30529889 -19.8889969  -18.35272459]\n",
            "[-4.88034053  3.99572373 27.6749374 ]\n",
            "[-3.46542254 15.105951   31.49022516]\n",
            "[-13.35127513  26.85681699   1.74294672]\n",
            "[17.33720434 44.62440258 -7.17366854]\n",
            "[ 49.03226301 -19.74472095   0.48098285]\n",
            "[-29.35617644 -15.74923843 -20.90635392]\n",
            "[-3.18352426 13.11549756 30.07452896]\n"
          ]
        },
        {
          "output_type": "execute_result",
          "data": {
            "text/plain": [
              "'\\n#print(low_matrix)#输出PCA之后的矩阵\\nend_matrix = low_matrix * 255\\nend_img = matrix_image(end_matrix)#乘255之后的结果转为图片\\nend_img.show()#显示PCA之后的图片'"
            ],
            "application/vnd.google.colaboratory.intrinsic+json": {
              "type": "string"
            }
          },
          "metadata": {},
          "execution_count": 19
        }
      ]
    },
    {
      "cell_type": "markdown",
      "source": [
        "//"
      ],
      "metadata": {
        "id": "d7nP3b9L1bln"
      }
    },
    {
      "cell_type": "markdown",
      "source": [
        "## T-SNE"
      ],
      "metadata": {
        "id": "y0Ffns8Drxhc"
      }
    },
    {
      "cell_type": "code",
      "source": [
        "import pickle as pkl\n",
        "import numpy as np\n",
        "import os\n",
        "from sklearn import manifold, datasets\n",
        "import time\n",
        "\n",
        "\n",
        "_n_dim = 3\n",
        "_perplexity = 10\n",
        "_learning_rate = 100\n",
        "_scale = 1\n",
        "\n",
        "tsne = manifold.TSNE(n_components=_n_dim, init='pca', random_state=0, perplexity=int(_perplexity), learning_rate=int(_learning_rate))\n",
        "X_tsne = tsne.fit_transform(low_matrix) # Fit X into an embedded space and return that transformed output.\n",
        "X_tsne  = X_tsne *_scale\n",
        "output = X_tsne.tolist()\n",
        "time=time.time()\n",
        "\n",
        "for i in range(66):\n",
        "    print(output[i])\n"
      ],
      "metadata": {
        "id": "BixHjUaQrwwe",
        "colab": {
          "base_uri": "https://localhost:8080/"
        },
        "outputId": "2f8353ef-734f-4088-8a2e-2ebe8ff4562e"
      },
      "execution_count": null,
      "outputs": [
        {
          "output_type": "stream",
          "name": "stdout",
          "text": [
            "[35.219757080078125, 59.58084487915039, 85.8115463256836]\n",
            "[51.45535659790039, 76.86404418945312, -97.57525634765625]\n",
            "[113.80073547363281, -53.898624420166016, -16.548208236694336]\n",
            "[-60.17631149291992, 73.6605453491211, 44.94227981567383]\n",
            "[29.34829330444336, 0.7601166367530823, 55.275840759277344]\n",
            "[-36.299129486083984, 20.541515350341797, 6.460191249847412]\n",
            "[16.5083065032959, 48.21778869628906, -152.50454711914062]\n",
            "[69.24662780761719, 109.83576965332031, -78.208251953125]\n",
            "[116.9090347290039, -72.19258117675781, 22.17110824584961]\n",
            "[-47.13555145263672, -145.70831298828125, -60.13478469848633]\n",
            "[23.47772979736328, 42.611289978027344, 38.93659210205078]\n",
            "[13.42418098449707, -53.34304428100586, -44.092864990234375]\n",
            "[-43.992218017578125, -57.80574417114258, -35.017154693603516]\n",
            "[46.4549446105957, 20.552291870117188, -97.86701202392578]\n",
            "[55.7437858581543, -109.4963607788086, 39.44591522216797]\n",
            "[-77.44633483886719, 124.5338363647461, 89.08661651611328]\n",
            "[76.56156158447266, -0.42525312304496765, 22.565643310546875]\n",
            "[-71.95156860351562, 68.9720687866211, -96.40387725830078]\n",
            "[-21.796855926513672, -37.05952072143555, -64.16646575927734]\n",
            "[46.582767486572266, -34.57098388671875, 144.18955993652344]\n",
            "[92.98407745361328, -104.05422973632812, -26.122966766357422]\n",
            "[-36.6965446472168, -204.75900268554688, -69.6694564819336]\n",
            "[90.23773956298828, -17.333528518676758, 63.79121780395508]\n",
            "[-6.075160980224609, -40.45607376098633, -11.69223403930664]\n",
            "[-58.863319396972656, -24.21467399597168, -3.392627477645874]\n",
            "[22.441396713256836, 96.81314086914062, -68.71865844726562]\n",
            "[87.60105895996094, -147.86558532714844, -11.570849418640137]\n",
            "[-87.66789245605469, 62.30614471435547, 86.0900650024414]\n",
            "[103.00389862060547, 56.57094192504883, 73.39161682128906]\n",
            "[-76.46520233154297, 20.826631546020508, -7.767599582672119]\n",
            "[-54.438087463378906, -3.576029062271118, -40.979827880859375]\n",
            "[59.99934768676758, -26.2877140045166, -91.55184173583984]\n",
            "[98.0464859008789, -118.1991958618164, 22.779409408569336]\n",
            "[-39.5624885559082, 122.1791763305664, 58.15989685058594]\n",
            "[74.74840545654297, 41.984771728515625, 40.157691955566406]\n",
            "[-57.424217224121094, -1.5862592458724976, 47.788421630859375]\n",
            "[-92.76127624511719, -30.979320526123047, -31.894954681396484]\n",
            "[-53.34400177001953, -128.84593200683594, 19.853130340576172]\n",
            "[49.57803726196289, -118.30562591552734, -23.748414993286133]\n",
            "[-70.9327163696289, 122.63888549804688, 23.237287521362305]\n",
            "[113.12456512451172, 13.776041984558105, 90.09691619873047]\n",
            "[-89.64653778076172, -23.043373107910156, -89.00450134277344]\n",
            "[-3.2919762134552, 12.618083000183105, -44.58346176147461]\n",
            "[58.72927474975586, 80.69303131103516, -29.290142059326172]\n",
            "[64.63957214355469, -80.37854766845703, 4.945362091064453]\n",
            "[-112.02581024169922, 66.3656234741211, 26.589675903320312]\n",
            "[117.31938171386719, 18.902450561523438, 41.40517807006836]\n",
            "[-67.23003387451172, -65.9089126586914, 31.188344955444336]\n",
            "[69.86902618408203, -84.76921081542969, 100.18319702148438]\n",
            "[85.69339752197266, 44.94889450073242, -43.32760238647461]\n",
            "[16.2466983795166, -107.88353729248047, 10.037540435791016]\n",
            "[-65.6189956665039, -102.86698913574219, -89.57840728759766]\n",
            "[67.02550506591797, 21.33429527282715, 77.31019592285156]\n",
            "[-135.18386840820312, -5.748398780822754, 8.886075973510742]\n",
            "[-43.26304626464844, 35.458045959472656, -91.9522476196289]\n",
            "[22.177534103393555, 103.2230453491211, -12.139627456665039]\n",
            "[-124.43714141845703, -78.88218688964844, 60.64120864868164]\n",
            "[-46.13591766357422, 83.5941390991211, 103.99198150634766]\n",
            "[31.414836883544922, 11.893452644348145, 100.7265625]\n",
            "[-84.94950103759766, 28.388765335083008, -114.1253890991211]\n",
            "[-43.213592529296875, 0.6948745250701904, -130.08847045898438]\n",
            "[85.05111694335938, 13.059661865234375, -69.8095932006836]\n",
            "[45.15199661254883, -147.69125366210938, 14.726829528808594]\n",
            "[-103.08843231201172, 98.68026733398438, 57.91624450683594]\n",
            "[-1.7377612590789795, 33.46288299560547, 78.61035919189453]\n",
            "[-102.71434783935547, 42.65500259399414, -70.0450668334961]\n"
          ]
        }
      ]
    },
    {
      "cell_type": "markdown",
      "source": [
        "### Save CSV"
      ],
      "metadata": {
        "id": "BaNoBVkWh3fD"
      }
    },
    {
      "cell_type": "code",
      "source": [
        "# Convert the list to an array\n",
        "my_array = np.array(output)\n",
        "\n",
        "# Save the array as a CSV file\n",
        "f_name = 'latent_space_mix' #@param{type:'string'}\n",
        "np.savetxt(f_name + '.csv', my_array, delimiter=',')"
      ],
      "metadata": {
        "id": "1qGIdcHmw7qD"
      },
      "execution_count": null,
      "outputs": []
    },
    {
      "cell_type": "markdown",
      "source": [
        "### Save Model"
      ],
      "metadata": {
        "id": "YbqHz0aVBef-"
      }
    },
    {
      "cell_type": "code",
      "source": [
        "\"\"\"\n",
        "from pathlib import Path\n",
        "features = np.stack(low_matrix, axis=0)\n",
        "\n",
        "# rootfolder2 = Path + '_features'\n",
        "rootfolder2 = '/content/drive/My Drive/'\n",
        "fileName = os.path.join(rootfolder2,'pca_pool')\n",
        "fileObject = open(fileName, 'wb')\n",
        "pkl.dump(features, fileObject)\n",
        "fileObject.close()\n",
        "\"\"\""
      ],
      "metadata": {
        "id": "tEhHzCY5BOsa"
      },
      "execution_count": null,
      "outputs": []
    }
  ]
}