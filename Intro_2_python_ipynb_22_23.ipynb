{
  "nbformat": 4,
  "nbformat_minor": 0,
  "metadata": {
    "colab": {
      "provenance": [],
      "collapsed_sections": [
        "1wOwAnjRpbs2",
        "Oi9YGDCTqH3k",
        "y7UvyAPmxHkV",
        "AXA4jrEOL9hM",
        "ObA9PRtQL9hT"
      ],
      "toc_visible": true,
      "machine_shape": "hm",
      "authorship_tag": "ABX9TyN/rcfRfoShC7xGYwd5Rsjj",
      "include_colab_link": true
    },
    "kernelspec": {
      "name": "python3",
      "display_name": "Python 3"
    },
    "language_info": {
      "name": "python"
    },
    "accelerator": "GPU"
  },
  "cells": [
    {
      "cell_type": "markdown",
      "metadata": {
        "id": "view-in-github",
        "colab_type": "text"
      },
      "source": [
        "<a href=\"https://colab.research.google.com/github/WilliamShengYangHuang/AALU_Coding/blob/main/Intro_2_python_ipynb_22_23.ipynb\" target=\"_parent\"><img src=\"https://colab.research.google.com/assets/colab-badge.svg\" alt=\"Open In Colab\"/></a>"
      ]
    },
    {
      "cell_type": "markdown",
      "source": [
        "# **Introduction to Programming using Python 3.x in Google Colab**\n",
        "for Landscape Urbanism, AA School, 2022-2023\n",
        "\n",
        "![Python-Symbol--.png](data:image/png;base64,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)\n",
        "\n",
        "Course Tutor: William Huang (huang.sheng-yang@aaschool.ac.uk)\n",
        "\n",
        "Python Tutorial (https://docs.python.org/3/tutorial/index.html)\n",
        "\n",
        "Google Colaboratory (https://colab.research.google.com/notebooks/intro.ipynb)\n",
        "\n",
        "Lastlast updated in January 2023\n"
      ],
      "metadata": {
        "id": "u8x6ACQQ9bsV"
      }
    },
    {
      "cell_type": "markdown",
      "source": [
        "\"Python is an interpreted **high-level general-purpose programming language**. Its design philosophy emphasizes code readability with its use of significant indentation. Its language constructs as well as its object-oriented approach aim to help programmers write clear, logical code for small and large-scale projects.\n",
        "\n",
        "Python is dynamically-typed and garbage-collected. It supports multiple programming paradigms, including structured (particularly, procedural), object-oriented and functional programming. It is often described as a \"batteries included\" language due to its comprehensive standard library.\n",
        "\n",
        "Guido van Rossum began working on Python in the late 1980s, as a successor to the ABC programming language, and first released it in 1991 as Python 0.9.0.Python 2.0 was released in 2000 and introduced new features, such as list comprehensions and a cycle-detecting garbage collection system (in addition to reference counting). Python 3.0 was released in 2008 and was a major revision of the language that is not completely backward-compatible. Python 2 was discontinued with version 2.7.18 in 2020.\n",
        "\n",
        "Python consistently ranks as one of the most popular programming languages.\"\n",
        "\n",
        "\n",
        "(\"*Python*\" in Wikipedia, accessed on 14 January 2022)"
      ],
      "metadata": {
        "id": "cep4LZKe-nwf"
      }
    },
    {
      "cell_type": "markdown",
      "source": [
        "## 1. Basics Setups and Package Operations"
      ],
      "metadata": {
        "id": "0TLqO8SFpfXA"
      }
    },
    {
      "cell_type": "markdown",
      "source": [
        "### Casing"
      ],
      "metadata": {
        "id": "Tkqmlfc2JyN9"
      }
    },
    {
      "cell_type": "code",
      "source": [
        "snake_case = True"
      ],
      "metadata": {
        "id": "kbqfyrCRJQwU"
      },
      "execution_count": null,
      "outputs": []
    },
    {
      "cell_type": "code",
      "source": [
        "CamelCase = True"
      ],
      "metadata": {
        "id": "xhc1bDwwI89n"
      },
      "execution_count": null,
      "outputs": []
    },
    {
      "cell_type": "code",
      "source": [
        "wrong casing = True"
      ],
      "metadata": {
        "id": "YdwijLfjJWLk"
      },
      "execution_count": null,
      "outputs": []
    },
    {
      "cell_type": "markdown",
      "source": [
        "### Comments"
      ],
      "metadata": {
        "id": "SGYMHiJ0JLyw"
      }
    },
    {
      "cell_type": "code",
      "source": [
        "This will run"
      ],
      "metadata": {
        "id": "6dt_kZSmIzox"
      },
      "execution_count": null,
      "outputs": []
    },
    {
      "cell_type": "code",
      "source": [
        "# This will not run"
      ],
      "metadata": {
        "id": "V-6foOFaIhqi"
      },
      "execution_count": null,
      "outputs": []
    },
    {
      "cell_type": "code",
      "source": [
        "\"\"\"\n",
        "This\n",
        "will\n",
        "not\n",
        "run\n",
        "\"\"\""
      ],
      "metadata": {
        "id": "jUhXmpdiI2Wd"
      },
      "execution_count": null,
      "outputs": []
    },
    {
      "cell_type": "markdown",
      "source": [
        "### Check Python version"
      ],
      "metadata": {
        "id": "CKT_Oxc7oDtP"
      }
    },
    {
      "cell_type": "code",
      "source": [
        "!python --version"
      ],
      "metadata": {
        "colab": {
          "base_uri": "https://localhost:8080/"
        },
        "id": "jFGxeN3-8TrV",
        "outputId": "118bfafc-5921-4c4e-e040-4ec3b1c2b07e"
      },
      "execution_count": null,
      "outputs": [
        {
          "output_type": "stream",
          "name": "stdout",
          "text": [
            "Python 3.8.10\n"
          ]
        }
      ]
    },
    {
      "cell_type": "markdown",
      "source": [
        "Or"
      ],
      "metadata": {
        "id": "a3aBl0o-8R8V"
      }
    },
    {
      "cell_type": "code",
      "source": [
        "from platform import python_version\n",
        "print(python_version())"
      ],
      "metadata": {
        "colab": {
          "base_uri": "https://localhost:8080/"
        },
        "id": "-GMUXmnOoB6X",
        "outputId": "8dab3940-d8a5-4f84-c20e-542e52896c07"
      },
      "execution_count": null,
      "outputs": [
        {
          "output_type": "stream",
          "name": "stdout",
          "text": [
            "3.7.14\n"
          ]
        }
      ]
    },
    {
      "cell_type": "markdown",
      "source": [
        "\n",
        "\n",
        "Use `!pip install` to install a package if it is uninstalled.\n",
        "\n",
        "Use `!pip show` to ckeck package version and other details.\n",
        "\n",
        "Use `!pip uninstall` to uninstall a package from current development environment."
      ],
      "metadata": {
        "id": "RzQPbAuMzsti"
      }
    },
    {
      "cell_type": "markdown",
      "source": [
        "#### Example: installing/checking/uninstalling the package *GeoPandas*"
      ],
      "metadata": {
        "id": "vQjxAta2m8dw"
      }
    },
    {
      "cell_type": "markdown",
      "source": [
        "#### Pip Install a Package"
      ],
      "metadata": {
        "id": "iXq3bcl0o7oA"
      }
    },
    {
      "cell_type": "code",
      "source": [
        "!pip install geopandas"
      ],
      "metadata": {
        "id": "U0D-XBVhkFEE",
        "colab": {
          "base_uri": "https://localhost:8080/"
        },
        "outputId": "24f97fae-36fc-4f58-d802-b104f9e94462"
      },
      "execution_count": null,
      "outputs": [
        {
          "output_type": "stream",
          "name": "stdout",
          "text": [
            "Looking in indexes: https://pypi.org/simple, https://us-python.pkg.dev/colab-wheels/public/simple/\n",
            "Collecting geopandas\n",
            "  Downloading geopandas-0.10.2-py2.py3-none-any.whl (1.0 MB)\n",
            "\u001b[K     |████████████████████████████████| 1.0 MB 28.5 MB/s \n",
            "\u001b[?25hCollecting fiona>=1.8\n",
            "  Downloading Fiona-1.8.21-cp37-cp37m-manylinux2014_x86_64.whl (16.7 MB)\n",
            "\u001b[K     |████████████████████████████████| 16.7 MB 86.4 MB/s \n",
            "\u001b[?25hRequirement already satisfied: pandas>=0.25.0 in /usr/local/lib/python3.7/dist-packages (from geopandas) (1.3.5)\n",
            "Requirement already satisfied: shapely>=1.6 in /usr/local/lib/python3.7/dist-packages (from geopandas) (1.8.4)\n",
            "Collecting pyproj>=2.2.0\n",
            "  Downloading pyproj-3.2.1-cp37-cp37m-manylinux2010_x86_64.whl (6.3 MB)\n",
            "\u001b[K     |████████████████████████████████| 6.3 MB 64.6 MB/s \n",
            "\u001b[?25hCollecting cligj>=0.5\n",
            "  Downloading cligj-0.7.2-py3-none-any.whl (7.1 kB)\n",
            "Collecting click-plugins>=1.0\n",
            "  Downloading click_plugins-1.1.1-py2.py3-none-any.whl (7.5 kB)\n",
            "Requirement already satisfied: six>=1.7 in /usr/local/lib/python3.7/dist-packages (from fiona>=1.8->geopandas) (1.15.0)\n",
            "Collecting munch\n",
            "  Downloading munch-2.5.0-py2.py3-none-any.whl (10 kB)\n",
            "Requirement already satisfied: attrs>=17 in /usr/local/lib/python3.7/dist-packages (from fiona>=1.8->geopandas) (22.1.0)\n",
            "Requirement already satisfied: certifi in /usr/local/lib/python3.7/dist-packages (from fiona>=1.8->geopandas) (2022.6.15)\n",
            "Requirement already satisfied: click>=4.0 in /usr/local/lib/python3.7/dist-packages (from fiona>=1.8->geopandas) (7.1.2)\n",
            "Requirement already satisfied: setuptools in /usr/local/lib/python3.7/dist-packages (from fiona>=1.8->geopandas) (57.4.0)\n",
            "Requirement already satisfied: pytz>=2017.3 in /usr/local/lib/python3.7/dist-packages (from pandas>=0.25.0->geopandas) (2022.2.1)\n",
            "Requirement already satisfied: numpy>=1.17.3 in /usr/local/lib/python3.7/dist-packages (from pandas>=0.25.0->geopandas) (1.21.6)\n",
            "Requirement already satisfied: python-dateutil>=2.7.3 in /usr/local/lib/python3.7/dist-packages (from pandas>=0.25.0->geopandas) (2.8.2)\n",
            "Installing collected packages: munch, cligj, click-plugins, pyproj, fiona, geopandas\n",
            "Successfully installed click-plugins-1.1.1 cligj-0.7.2 fiona-1.8.21 geopandas-0.10.2 munch-2.5.0 pyproj-3.2.1\n"
          ]
        }
      ]
    },
    {
      "cell_type": "markdown",
      "source": [
        "#### Pip Show a Package"
      ],
      "metadata": {
        "id": "2IAUc5HxovcI"
      }
    },
    {
      "cell_type": "code",
      "source": [
        "!pip show geopandas"
      ],
      "metadata": {
        "id": "8InKQ1_GmaLm",
        "colab": {
          "base_uri": "https://localhost:8080/"
        },
        "outputId": "b653fefa-f4ff-4d73-f130-30680d0da591"
      },
      "execution_count": null,
      "outputs": [
        {
          "output_type": "stream",
          "name": "stdout",
          "text": [
            "Name: geopandas\n",
            "Version: 0.10.2\n",
            "Summary: Geographic pandas extensions\n",
            "Home-page: http://geopandas.org\n",
            "Author: GeoPandas contributors\n",
            "Author-email: kjordahl@alum.mit.edu\n",
            "License: BSD\n",
            "Location: /usr/local/lib/python3.7/dist-packages\n",
            "Requires: pyproj, pandas, fiona, shapely\n",
            "Required-by: \n"
          ]
        }
      ]
    },
    {
      "cell_type": "markdown",
      "source": [
        "#### Pip Uninstall a Package"
      ],
      "metadata": {
        "id": "F-j7FIt7ozMP"
      }
    },
    {
      "cell_type": "code",
      "source": [
        "!pip uninstall geopandas"
      ],
      "metadata": {
        "id": "f4buVQ-Tm07E",
        "colab": {
          "base_uri": "https://localhost:8080/"
        },
        "outputId": "00ffa304-84e1-4dbd-cb30-8a5bc312a616"
      },
      "execution_count": null,
      "outputs": [
        {
          "output_type": "stream",
          "name": "stdout",
          "text": [
            "Found existing installation: geopandas 0.10.2\n",
            "Uninstalling geopandas-0.10.2:\n",
            "  Would remove:\n",
            "    /usr/local/lib/python3.7/dist-packages/geopandas-0.10.2.dist-info/*\n",
            "    /usr/local/lib/python3.7/dist-packages/geopandas/*\n",
            "Proceed (y/n)? Traceback (most recent call last):\n",
            "  File \"/usr/local/lib/python3.7/dist-packages/pip/_internal/cli/base_command.py\", line 180, in _main\n",
            "    status = self.run(options, args)\n",
            "  File \"/usr/local/lib/python3.7/dist-packages/pip/_internal/commands/uninstall.py\", line 86, in run\n",
            "    auto_confirm=options.yes, verbose=self.verbosity > 0,\n",
            "  File \"/usr/local/lib/python3.7/dist-packages/pip/_internal/req/req_install.py\", line 658, in uninstall\n",
            "    uninstalled_pathset.remove(auto_confirm, verbose)\n",
            "  File \"/usr/local/lib/python3.7/dist-packages/pip/_internal/req/req_uninstall.py\", line 380, in remove\n",
            "    if auto_confirm or self._allowed_to_proceed(verbose):\n",
            "  File \"/usr/local/lib/python3.7/dist-packages/pip/_internal/req/req_uninstall.py\", line 423, in _allowed_to_proceed\n",
            "    return ask('Proceed (y/n)? ', ('y', 'n')) == 'y'\n",
            "  File \"/usr/local/lib/python3.7/dist-packages/pip/_internal/utils/misc.py\", line 203, in ask\n",
            "    response = input(message)\n",
            "KeyboardInterrupt\n",
            "\n",
            "During handling of the above exception, another exception occurred:\n",
            "\n",
            "Traceback (most recent call last):\n",
            "  File \"/usr/local/bin/pip3\", line 8, in <module>\n",
            "    sys.exit(main())\n",
            "  File \"/usr/local/lib/python3.7/dist-packages/pip/_internal/cli/main.py\", line 71, in main\n",
            "    return command.main(cmd_args)\n",
            "  File \"/usr/local/lib/python3.7/dist-packages/pip/_internal/cli/base_command.py\", line 104, in main\n",
            "    return self._main(args)\n",
            "  File \"/usr/local/lib/python3.7/dist-packages/pip/_internal/cli/base_command.py\", line 192, in _main\n",
            "    NetworkConnectionError,\n",
            "KeyboardInterrupt\n"
          ]
        }
      ]
    },
    {
      "cell_type": "markdown",
      "source": [
        "Import a Package"
      ],
      "metadata": {
        "id": "u-51WfCuob-o"
      }
    },
    {
      "cell_type": "code",
      "source": [
        "import geopandas as gpd"
      ],
      "metadata": {
        "id": "NvaRR1JQO5BC"
      },
      "execution_count": null,
      "outputs": []
    },
    {
      "cell_type": "markdown",
      "source": [
        "List devices (computing platform)"
      ],
      "metadata": {
        "id": "jFCuwZFVoedy"
      }
    },
    {
      "cell_type": "code",
      "source": [
        "from tensorflow.python.client import device_lib\n",
        "device_lib.list_local_devices()"
      ],
      "metadata": {
        "id": "-sVxYpacoXRp",
        "colab": {
          "base_uri": "https://localhost:8080/"
        },
        "outputId": "b47f594d-49a9-4f0e-c606-1c49ed4262d2"
      },
      "execution_count": null,
      "outputs": [
        {
          "output_type": "execute_result",
          "data": {
            "text/plain": [
              "[name: \"/device:CPU:0\"\n",
              " device_type: \"CPU\"\n",
              " memory_limit: 268435456\n",
              " locality {\n",
              " }\n",
              " incarnation: 9182773368953426293\n",
              " xla_global_id: -1, name: \"/device:GPU:0\"\n",
              " device_type: \"GPU\"\n",
              " memory_limit: 14444920832\n",
              " locality {\n",
              "   bus_id: 1\n",
              "   links {\n",
              "   }\n",
              " }\n",
              " incarnation: 10323688742912591832\n",
              " physical_device_desc: \"device: 0, name: Tesla T4, pci bus id: 0000:00:04.0, compute capability: 7.5\"\n",
              " xla_global_id: 416903419]"
            ]
          },
          "metadata": {},
          "execution_count": 7
        }
      ]
    },
    {
      "cell_type": "markdown",
      "source": [
        "## 2. Course Components and Packages to be Used"
      ],
      "metadata": {
        "id": "1wOwAnjRpbs2"
      }
    },
    {
      "cell_type": "markdown",
      "source": [
        "i. Platform"
      ],
      "metadata": {
        "id": "YSN_stTcyzDa"
      }
    },
    {
      "cell_type": "code",
      "execution_count": null,
      "metadata": {
        "id": "DHyytRhyuxmH",
        "colab": {
          "base_uri": "https://localhost:8080/",
          "height": 190
        },
        "outputId": "7300765d-97ff-468a-fafe-7ebee368419f"
      },
      "outputs": [
        {
          "output_type": "error",
          "ename": "NameError",
          "evalue": "ignored",
          "traceback": [
            "\u001b[0;31m---------------------------------------------------------------------------\u001b[0m",
            "\u001b[0;31mNameError\u001b[0m                                 Traceback (most recent call last)",
            "\u001b[0;32m<ipython-input-8-57c4246ce5ac>\u001b[0m in \u001b[0;36m<module>\u001b[0;34m\u001b[0m\n\u001b[0;32m----> 1\u001b[0;31m \u001b[0mgoogle\u001b[0m\u001b[0;34m.\u001b[0m\u001b[0mcolab\u001b[0m \u001b[0;31m# To work with files on Google Colaboratory (Colab)\u001b[0m\u001b[0;34m\u001b[0m\u001b[0;34m\u001b[0m\u001b[0m\n\u001b[0m\u001b[1;32m      2\u001b[0m \u001b[0mos\u001b[0m \u001b[0;31m# operating systems operations such as path functions\u001b[0m\u001b[0;34m\u001b[0m\u001b[0;34m\u001b[0m\u001b[0m\n",
            "\u001b[0;31mNameError\u001b[0m: name 'google' is not defined"
          ]
        }
      ],
      "source": [
        "google.colab # To work with files on Google Colaboratory (Colab)\n",
        "os # operating systems operations such as path functions"
      ]
    },
    {
      "cell_type": "markdown",
      "source": [
        "ii. Data and Math"
      ],
      "metadata": {
        "id": "nK-bhDuOy7Il"
      }
    },
    {
      "cell_type": "code",
      "source": [
        "numpy # Mathemetical (general, vertors, matrices/arrays/tensors...) calculations\n",
        "scipy # Scientific computing\n",
        "pandas # Data processing\n",
        "geopandas # Geo-spatial data processing"
      ],
      "metadata": {
        "id": "GgqpjZ3yy6fK"
      },
      "execution_count": null,
      "outputs": []
    },
    {
      "cell_type": "markdown",
      "source": [
        "iii. Data Visualisation and Image Processing"
      ],
      "metadata": {
        "id": "QI7Z5tKEzJva"
      }
    },
    {
      "cell_type": "code",
      "source": [
        "cv2 # OpenCV, for computer vision\n",
        "skimage # Image processing\n",
        "matplotlib # Usual plotting and data visialisation\n",
        "PIL # Pillow\n",
        "bokeh # ineractive visualisation"
      ],
      "metadata": {
        "id": "suHrqpkAzIPx"
      },
      "execution_count": null,
      "outputs": []
    },
    {
      "cell_type": "markdown",
      "source": [
        "iv. Machine Learning (ML)"
      ],
      "metadata": {
        "id": "SomunmOUzBmY"
      }
    },
    {
      "cell_type": "code",
      "source": [
        "sklearn # Machine learning\n",
        "tensorflow # Tensorflow 2 for deep learning and computer vision\n",
        "tensorflow.keras # high level API for tensorflow"
      ],
      "metadata": {
        "id": "PnIvEKM8zAzk"
      },
      "execution_count": null,
      "outputs": []
    },
    {
      "cell_type": "markdown",
      "source": [
        "v. GIS + ML"
      ],
      "metadata": {
        "id": "snlnXtrIzTTf"
      }
    },
    {
      "cell_type": "code",
      "source": [
        "ArcGIS # ArcGIS API for Python"
      ],
      "metadata": {
        "id": "pwR50t1jzScp"
      },
      "execution_count": null,
      "outputs": []
    },
    {
      "cell_type": "markdown",
      "source": [
        "## 3. Typical Workflow to Work on Colab"
      ],
      "metadata": {
        "id": "0G7n8q1r1Ku0"
      }
    },
    {
      "cell_type": "markdown",
      "source": [
        "1.   Setup Google Drive services (Download Google Drive for desktop: https://support.google.com/drive/answer/7329379)\n",
        "2.   Create or load notebook\n",
        "3.   Set notebook name (or make own copy if using shared notbook)\n",
        "4.   Set runtime type\n",
        "5.   Connect to 'hosted runtime'\n",
        "6.   Code\n",
        "7.   Run Scripts and debug (Stack Overflow: https://stackoverflow.com/questions/tagged/python)\n",
        "8.   Save notebook in Google Drive and/or on GitHub"
      ],
      "metadata": {
        "id": "2vcDGLjd6AZ7"
      }
    },
    {
      "cell_type": "markdown",
      "metadata": {
        "id": "JAFKYgrpL9eY"
      },
      "source": [
        "##4. Basics of Python"
      ]
    },
    {
      "cell_type": "markdown",
      "source": [
        "### Hello World"
      ],
      "metadata": {
        "id": "Oi9YGDCTqH3k"
      }
    },
    {
      "cell_type": "code",
      "source": [
        "print('hello world')"
      ],
      "metadata": {
        "colab": {
          "base_uri": "https://localhost:8080/"
        },
        "id": "ZnRlL0fIqGth",
        "outputId": "de9cf805-68ba-4f0f-90e2-8622499f652d"
      },
      "execution_count": null,
      "outputs": [
        {
          "output_type": "stream",
          "name": "stdout",
          "text": [
            "hello world\n"
          ]
        }
      ]
    },
    {
      "cell_type": "markdown",
      "metadata": {
        "id": "NwS_hu4xL9eo"
      },
      "source": [
        "###Basic Data Types & Operations"
      ]
    },
    {
      "cell_type": "markdown",
      "metadata": {
        "id": "DL5sMSZ9L9eq"
      },
      "source": [
        "####Numbers & Arithmetic"
      ]
    },
    {
      "cell_type": "code",
      "execution_count": null,
      "metadata": {
        "id": "KheDr_zDL9es",
        "colab": {
          "base_uri": "https://localhost:8080/"
        },
        "outputId": "234b23de-cc82-42a1-d068-4edc1875aa7e"
      },
      "outputs": [
        {
          "output_type": "stream",
          "name": "stdout",
          "text": [
            "3 <class 'int'>\n"
          ]
        }
      ],
      "source": [
        "x = 3\n",
        "print(x, type(x))"
      ]
    },
    {
      "cell_type": "code",
      "execution_count": null,
      "metadata": {
        "id": "sk_8DFcuL9ey",
        "colab": {
          "base_uri": "https://localhost:8080/"
        },
        "outputId": "bf65c1d6-f0ce-4fca-9ed1-47985b8cf29c"
      },
      "outputs": [
        {
          "output_type": "stream",
          "name": "stdout",
          "text": [
            "4\n",
            "2\n",
            "6\n",
            "9\n"
          ]
        }
      ],
      "source": [
        "print(x + 1)   # Addition\n",
        "print(x - 1)   # Subtraction\n",
        "print(x * 2)   # Multiplication\n",
        "print(x ** 2)  # Exponentiation"
      ]
    },
    {
      "cell_type": "code",
      "source": [
        "print(x ** 0.5)  # Square root"
      ],
      "metadata": {
        "colab": {
          "base_uri": "https://localhost:8080/"
        },
        "id": "jrEf5jg8BpsP",
        "outputId": "aef8182a-c3b7-4716-ed74-527cbaa8985f"
      },
      "execution_count": null,
      "outputs": [
        {
          "output_type": "stream",
          "name": "stdout",
          "text": [
            "1.7320508075688772\n"
          ]
        }
      ]
    },
    {
      "cell_type": "code",
      "source": [
        "print(x ** 1/2)  # Square root?"
      ],
      "metadata": {
        "id": "dtRQPBn6CRk-"
      },
      "execution_count": null,
      "outputs": []
    },
    {
      "cell_type": "code",
      "source": [
        "import math\n",
        "print (math.sqrt(16)) # Square root"
      ],
      "metadata": {
        "id": "WU7i9d5BAKs8"
      },
      "execution_count": null,
      "outputs": []
    },
    {
      "cell_type": "code",
      "execution_count": null,
      "metadata": {
        "id": "U4Jl8K0tL9e4",
        "colab": {
          "base_uri": "https://localhost:8080/"
        },
        "outputId": "ebe5d58c-09bf-498a-b132-63ee99dfdd88"
      },
      "outputs": [
        {
          "output_type": "stream",
          "name": "stdout",
          "text": [
            "4\n",
            "8\n"
          ]
        }
      ],
      "source": [
        "x += 1\n",
        "print(x)\n",
        "\n",
        "x *= 2\n",
        "print(x)"
      ]
    },
    {
      "cell_type": "markdown",
      "source": [
        "Note that unlike many languages, Python does not have unary increment (x++) or decrement (x--) operators."
      ],
      "metadata": {
        "id": "yyJKrneHK-8Z"
      }
    },
    {
      "cell_type": "code",
      "execution_count": null,
      "metadata": {
        "id": "w-nZ0Sg_L9e9",
        "colab": {
          "base_uri": "https://localhost:8080/"
        },
        "outputId": "d6b22dbb-130f-49de-8c24-bedd911967aa"
      },
      "outputs": [
        {
          "output_type": "stream",
          "name": "stdout",
          "text": [
            "<class 'float'>\n",
            "2.5 3.5 5.0 6.25\n"
          ]
        }
      ],
      "source": [
        "y = 2.5\n",
        "print(type(y))\n",
        "print(y, y + 1, y * 2, y ** 2)"
      ]
    },
    {
      "cell_type": "code",
      "source": [
        "# Specify decimal digits\n",
        "pi = 0.314159265359\n",
        "pi_2d = '%.2f' % pi\n",
        "print(pi_2d)\n",
        "\n",
        "# Check type!"
      ],
      "metadata": {
        "colab": {
          "base_uri": "https://localhost:8080/"
        },
        "id": "huxxy6_yJaZY",
        "outputId": "ff77ce5a-58c2-4c9c-d9a2-4b1a4dc079bf"
      },
      "execution_count": null,
      "outputs": [
        {
          "output_type": "stream",
          "name": "stdout",
          "text": [
            "0.31\n",
            "<class 'str'>\n"
          ]
        }
      ]
    },
    {
      "cell_type": "markdown",
      "metadata": {
        "id": "r2A9ApyaL9fB"
      },
      "source": [
        "Python also has built-in types for long integers and complex numbers; you can find all of the details in the [documentation](https://docs.python.org/3.7/library/stdtypes.html#numeric-types-int-float-long-complex)."
      ]
    },
    {
      "cell_type": "markdown",
      "metadata": {
        "id": "EqRS7qhBL9fC"
      },
      "source": [
        "####Booleans"
      ]
    },
    {
      "cell_type": "markdown",
      "metadata": {
        "id": "Nv_LIVOJL9fD"
      },
      "source": [
        "Python implements all of the usual operators for Boolean logic, but uses English words rather than symbols (`&&`, `||`, etc.):"
      ]
    },
    {
      "cell_type": "code",
      "execution_count": null,
      "metadata": {
        "id": "RvoImwgGL9fE",
        "colab": {
          "base_uri": "https://localhost:8080/"
        },
        "outputId": "7aae284b-13de-4547-e7a3-3084b0b08ad6"
      },
      "outputs": [
        {
          "output_type": "stream",
          "name": "stdout",
          "text": [
            "<class 'bool'>\n",
            "<class 'bool'>\n"
          ]
        }
      ],
      "source": [
        "t, f = True, False\n",
        "print(type(t))\n",
        "print(type(f))"
      ]
    },
    {
      "cell_type": "code",
      "execution_count": null,
      "metadata": {
        "id": "6zYm7WzCL9fK",
        "colab": {
          "base_uri": "https://localhost:8080/"
        },
        "outputId": "3f76f5c2-4649-4ba4-d6d3-2460d8f90aae"
      },
      "outputs": [
        {
          "output_type": "stream",
          "name": "stdout",
          "text": [
            "False\n",
            "True\n",
            "False\n",
            "True\n"
          ]
        }
      ],
      "source": [
        "print(t and f) # Logical AND;\n",
        "print(t or f)  # Logical OR;\n",
        "print(not t)   # Logical NOT;\n",
        "print(t != f)  # Logical XOR;"
      ]
    },
    {
      "cell_type": "markdown",
      "metadata": {
        "id": "UQnQWFEyL9fP"
      },
      "source": [
        "####Strings"
      ]
    },
    {
      "cell_type": "code",
      "execution_count": null,
      "metadata": {
        "id": "AijEDtPFL9fP",
        "colab": {
          "base_uri": "https://localhost:8080/"
        },
        "outputId": "77457070-ba0f-49af-e956-9994200cc96c"
      },
      "outputs": [
        {
          "output_type": "stream",
          "name": "stdout",
          "text": [
            "hello\n",
            "<class 'str'> 5\n"
          ]
        }
      ],
      "source": [
        "hello = 'hello'   # String literals can use single quotes\n",
        "world = \"world\"   # or double quotes; it does not matter\n",
        "print(hello)\n",
        "print(type(hello), len(hello))"
      ]
    },
    {
      "cell_type": "markdown",
      "source": [
        "h e l l o\n",
        "\n",
        "0 1 2 3 4"
      ],
      "metadata": {
        "id": "tlCRg-vqI0iC"
      }
    },
    {
      "cell_type": "code",
      "source": [
        "# Fetch a letter in a string\n",
        "hello[0]"
      ],
      "metadata": {
        "colab": {
          "base_uri": "https://localhost:8080/",
          "height": 36
        },
        "id": "-9l0N1ExEZCw",
        "outputId": "32f56d41-e789-4fcc-9416-5f71c2a5b59c"
      },
      "execution_count": null,
      "outputs": [
        {
          "output_type": "execute_result",
          "data": {
            "text/plain": [
              "'h'"
            ],
            "application/vnd.google.colaboratory.intrinsic+json": {
              "type": "string"
            }
          },
          "metadata": {},
          "execution_count": 7
        }
      ]
    },
    {
      "cell_type": "code",
      "source": [
        "hello[-1]"
      ],
      "metadata": {
        "colab": {
          "base_uri": "https://localhost:8080/",
          "height": 36
        },
        "id": "S7JDCRowFETi",
        "outputId": "dcd77df9-f350-402b-f30b-5083275ac61b"
      },
      "execution_count": null,
      "outputs": [
        {
          "output_type": "execute_result",
          "data": {
            "text/plain": [
              "'o'"
            ],
            "application/vnd.google.colaboratory.intrinsic+json": {
              "type": "string"
            }
          },
          "metadata": {},
          "execution_count": 10
        }
      ]
    },
    {
      "cell_type": "code",
      "source": [
        "# String slicing\n",
        "hello[1:3]"
      ],
      "metadata": {
        "colab": {
          "base_uri": "https://localhost:8080/",
          "height": 36
        },
        "id": "TMl7UlkjIaIE",
        "outputId": "5e5a676e-e4ef-4690-f9a1-3cefd638fcad"
      },
      "execution_count": null,
      "outputs": [
        {
          "output_type": "execute_result",
          "data": {
            "text/plain": [
              "'el'"
            ],
            "application/vnd.google.colaboratory.intrinsic+json": {
              "type": "string"
            }
          },
          "metadata": {},
          "execution_count": 15
        }
      ]
    },
    {
      "cell_type": "code",
      "execution_count": null,
      "metadata": {
        "id": "saDeaA7hL9fT",
        "colab": {
          "base_uri": "https://localhost:8080/"
        },
        "outputId": "512c244d-0258-454b-b8a6-09964f493a97"
      },
      "outputs": [
        {
          "output_type": "stream",
          "name": "stdout",
          "text": [
            "hello world\n"
          ]
        }
      ],
      "source": [
        "hw = hello + ' ' + world  # String concatenation\n",
        "print(hw)"
      ]
    },
    {
      "cell_type": "markdown",
      "source": [
        "Formatting\n",
        "\n",
        "`format()`"
      ],
      "metadata": {
        "id": "XElJFbVl7TC_"
      }
    },
    {
      "cell_type": "code",
      "execution_count": null,
      "metadata": {
        "id": "Nji1_UjYL9fY",
        "colab": {
          "base_uri": "https://localhost:8080/"
        },
        "outputId": "6884b84a-07a4-4ad2-bd80-848e0b7bffaa"
      },
      "outputs": [
        {
          "output_type": "stream",
          "name": "stdout",
          "text": [
            "hello world 12\n"
          ]
        }
      ],
      "source": [
        "hw12 = '{} {} {}'.format(hello, world, 12)  # string formatting\n",
        "print(hw12)"
      ]
    },
    {
      "cell_type": "markdown",
      "metadata": {
        "id": "bUpl35bIL9fc"
      },
      "source": [
        "Other string functions"
      ]
    },
    {
      "cell_type": "code",
      "execution_count": null,
      "metadata": {
        "id": "VOxGatlsL9fd",
        "colab": {
          "base_uri": "https://localhost:8080/"
        },
        "outputId": "a4b512b9-3224-471b-f2dc-1e11d1f8c417"
      },
      "outputs": [
        {
          "output_type": "stream",
          "name": "stdout",
          "text": [
            "Hello\n",
            "HELLO\n",
            "  hello\n",
            " hello \n",
            "he(ell)(ell)o\n",
            "world\n"
          ]
        }
      ],
      "source": [
        "s = \"hello\"\n",
        "print(s.capitalize())  # Capitalise a string\n",
        "print(s.upper())       # Convert a string to uppercase; prints \"HELLO\"\n",
        "print(s.rjust(7))      # Right-justify a string, padding with spaces\n",
        "print(s.center(7))     # Center a string, padding with spaces\n",
        "print(s.replace('l', '(ell)'))  # Replace all instances of one substring with another\n",
        "print('  world '.strip())  # Strip leading and trailing whitespace"
      ]
    },
    {
      "cell_type": "markdown",
      "metadata": {
        "id": "06cayXLtL9fi"
      },
      "source": [
        "You can find a list of all string methods in the [documentation](https://docs.python.org/3.7/library/stdtypes.html#string-methods)."
      ]
    },
    {
      "cell_type": "markdown",
      "metadata": {
        "id": "UsIWOe0LL9fn"
      },
      "source": [
        "####Lists"
      ]
    },
    {
      "cell_type": "markdown",
      "metadata": {
        "id": "wzxX7rgWL9fn"
      },
      "source": [
        "A list is the Python equivalent of an array, but is resizeable and can contain elements of different types:"
      ]
    },
    {
      "cell_type": "code",
      "execution_count": null,
      "metadata": {
        "id": "hk3A8pPcL9fp",
        "colab": {
          "base_uri": "https://localhost:8080/"
        },
        "outputId": "4e72a0f0-5e8f-4845-f6b4-362ba2abc276"
      },
      "outputs": [
        {
          "output_type": "stream",
          "name": "stdout",
          "text": [
            "[3, 1, 2] 2\n",
            "2\n"
          ]
        }
      ],
      "source": [
        "xs = [3, 1, 2]   # Create a list\n",
        "print(xs, xs[2])\n",
        "print(xs[-1])     # Negative indices count from the end of the list; prints \"2\""
      ]
    },
    {
      "cell_type": "code",
      "execution_count": null,
      "metadata": {
        "id": "YCjCy_0_L9ft",
        "colab": {
          "base_uri": "https://localhost:8080/"
        },
        "outputId": "9e320023-e180-46d7-c8ac-9d9147333598"
      },
      "outputs": [
        {
          "output_type": "stream",
          "name": "stdout",
          "text": [
            "[3, 1, 'foo']\n"
          ]
        }
      ],
      "source": [
        "xs[2] = 'foo'    # Lists can contain elements of different types\n",
        "print(xs)"
      ]
    },
    {
      "cell_type": "code",
      "execution_count": null,
      "metadata": {
        "id": "vJ0x5cF-L9fx",
        "colab": {
          "base_uri": "https://localhost:8080/"
        },
        "outputId": "6ea90613-57ab-44e5-c2a7-8ccf572656d1"
      },
      "outputs": [
        {
          "output_type": "stream",
          "name": "stdout",
          "text": [
            "[3, 1, 'foo', 'bar']\n"
          ]
        }
      ],
      "source": [
        "xs.append('bar') # Add a new element to the end of the list\n",
        "print(xs)"
      ]
    },
    {
      "cell_type": "code",
      "execution_count": null,
      "metadata": {
        "id": "cxVCNRTNL9f1",
        "colab": {
          "base_uri": "https://localhost:8080/"
        },
        "outputId": "1cd327e8-520b-41cf-d5d5-68acad56a526"
      },
      "outputs": [
        {
          "output_type": "stream",
          "name": "stdout",
          "text": [
            "bar [3, 1, 'foo']\n"
          ]
        }
      ],
      "source": [
        "x = xs.pop()     # Remove and return the last element of the list\n",
        "print(x, xs)"
      ]
    },
    {
      "cell_type": "markdown",
      "metadata": {
        "id": "ilyoyO34L9f4"
      },
      "source": [
        "As usual, you can find all the gory details about lists in the [documentation](https://docs.python.org/3.7/tutorial/datastructures.html#more-on-lists)."
      ]
    },
    {
      "cell_type": "markdown",
      "metadata": {
        "id": "ovahhxd_L9f5"
      },
      "source": [
        "####Slicing"
      ]
    },
    {
      "cell_type": "markdown",
      "metadata": {
        "id": "YeSYKhv9L9f6"
      },
      "source": [
        "In addition to accessing list elements one at a time, Python provides concise syntax to access sublists; this is known as slicing:"
      ]
    },
    {
      "cell_type": "code",
      "execution_count": null,
      "metadata": {
        "id": "ninq666bL9f6",
        "colab": {
          "base_uri": "https://localhost:8080/"
        },
        "outputId": "c69a1dbb-a79a-4264-f52f-2852b1ecb46b"
      },
      "outputs": [
        {
          "output_type": "stream",
          "name": "stdout",
          "text": [
            "[0, 1, 2, 3, 4]\n",
            "[2, 3]\n",
            "[2, 3, 4]\n",
            "[0, 1]\n",
            "[0, 1, 2, 3, 4]\n",
            "[0, 1, 2, 3]\n",
            "[0, 1, 8, 9, 4]\n"
          ]
        }
      ],
      "source": [
        "nums = list(range(5))    # range is a built-in function that creates a list of integers\n",
        "print(nums)         # Prints \"[0, 1, 2, 3, 4]\"\n",
        "\n",
        "print(nums[2:4])    # Get a slice from index 2 to 4 (exclusive); prints \"[2, 3]\"\n",
        "print(nums[2:])     # Get a slice from index 2 to the end; prints \"[2, 3, 4]\"\n",
        "print(nums[:2])     # Get a slice from the start to index 2 (exclusive); prints \"[0, 1]\"\n",
        "print(nums[:])      # Get a slice of the whole list; prints [\"0, 1, 2, 3, 4]\"\n",
        "print(nums[:-1])    # Slice indices can be negative; prints [\"0, 1, 2, 3]\"\n",
        "nums[2:4] = [8, 9] # Assign a new sublist to a slice\n",
        "print(nums)         # Prints \"[0, 1, 8, 9, 4]\""
      ]
    },
    {
      "cell_type": "markdown",
      "metadata": {
        "id": "UONpMhF4L9f_"
      },
      "source": [
        "####Loops"
      ]
    },
    {
      "cell_type": "markdown",
      "metadata": {
        "id": "_DYz1j6QL9f_"
      },
      "source": [
        "You can loop over the elements of a list like this:"
      ]
    },
    {
      "cell_type": "code",
      "execution_count": null,
      "metadata": {
        "id": "4cCOysfWL9gA",
        "colab": {
          "base_uri": "https://localhost:8080/"
        },
        "outputId": "3521a739-8355-46c9-e41b-b5d7deeb6c72"
      },
      "outputs": [
        {
          "output_type": "stream",
          "name": "stdout",
          "text": [
            "tower_bridge\n",
            "green_belt\n",
            "euston\n"
          ]
        }
      ],
      "source": [
        "urban_elements = ['tower_bridge', 'green_belt', 'euston']\n",
        "for element in urban_elements:\n",
        "    print(element)"
      ]
    },
    {
      "cell_type": "markdown",
      "metadata": {
        "id": "KxIaQs7pL9gE"
      },
      "source": [
        "If you want access to the index of each element within the body of a loop, use the built-in `enumerate` function:"
      ]
    },
    {
      "cell_type": "code",
      "execution_count": null,
      "metadata": {
        "id": "JjGnDluWL9gF",
        "colab": {
          "base_uri": "https://localhost:8080/"
        },
        "outputId": "d2550af0-7b2b-402f-d763-e182a5d3d3aa"
      },
      "outputs": [
        {
          "output_type": "stream",
          "name": "stdout",
          "text": [
            "#1: tower_bridge\n",
            "#2: green_belt\n",
            "#3: euston\n"
          ]
        }
      ],
      "source": [
        "urban_elements = ['tower_bridge', 'green_belt', 'euston']\n",
        "for idx, animal in enumerate(urban_elements):\n",
        "    print('#{}: {}'.format(idx + 1, animal))"
      ]
    },
    {
      "cell_type": "markdown",
      "metadata": {
        "id": "arrLCcMyL9gK"
      },
      "source": [
        "####List comprehensions:"
      ]
    },
    {
      "cell_type": "markdown",
      "metadata": {
        "id": "5Qn2jU_pL9gL"
      },
      "source": [
        "When programming, frequently we want to transform one type of data into another. As a simple example, consider the following code that computes square numbers:"
      ]
    },
    {
      "cell_type": "code",
      "execution_count": null,
      "metadata": {
        "id": "IVNEwoMXL9gL",
        "colab": {
          "base_uri": "https://localhost:8080/"
        },
        "outputId": "2388dfd9-cfaa-4c07-cd60-b5b39a702474"
      },
      "outputs": [
        {
          "output_type": "stream",
          "name": "stdout",
          "text": [
            "[0, 1, 4, 9, 16]\n"
          ]
        }
      ],
      "source": [
        "nums = [0, 1, 2, 3, 4]\n",
        "squares = []\n",
        "for x in nums:\n",
        "    squares.append(x ** 2)\n",
        "print(squares)"
      ]
    },
    {
      "cell_type": "markdown",
      "metadata": {
        "id": "7DmKVUFaL9gQ"
      },
      "source": [
        "You can make this code simpler using a list comprehension:"
      ]
    },
    {
      "cell_type": "code",
      "execution_count": null,
      "metadata": {
        "id": "kZxsUfV6L9gR",
        "colab": {
          "base_uri": "https://localhost:8080/"
        },
        "outputId": "91d37c26-228e-4cb0-962c-7d2b2c426605"
      },
      "outputs": [
        {
          "output_type": "stream",
          "name": "stdout",
          "text": [
            "[0, 1, 4, 9, 16]\n"
          ]
        }
      ],
      "source": [
        "nums = [0, 1, 2, 3, 4]\n",
        "squares = [x ** 2 for x in nums]\n",
        "print(squares)"
      ]
    },
    {
      "cell_type": "markdown",
      "metadata": {
        "id": "-D8ARK7tL9gV"
      },
      "source": [
        "List comprehensions can also contain conditions:"
      ]
    },
    {
      "cell_type": "code",
      "execution_count": null,
      "metadata": {
        "id": "yUtgOyyYL9gV",
        "colab": {
          "base_uri": "https://localhost:8080/"
        },
        "outputId": "bd8a0f2a-5069-437c-c1e6-17b9e02cd745"
      },
      "outputs": [
        {
          "output_type": "stream",
          "name": "stdout",
          "text": [
            "[0, 4, 16]\n"
          ]
        }
      ],
      "source": [
        "nums = [0, 1, 2, 3, 4]\n",
        "even_squares = [x ** 2 for x in nums if x % 2 == 0]\n",
        "print(even_squares)"
      ]
    },
    {
      "cell_type": "markdown",
      "metadata": {
        "id": "H8xsUEFpL9gZ"
      },
      "source": [
        "####Dictionaries"
      ]
    },
    {
      "cell_type": "markdown",
      "metadata": {
        "id": "kkjAGMAJL9ga"
      },
      "source": [
        "A dictionary stores (key, value) pairs, similar to a `Map` in Java or an object in Javascript. You can use it like this:"
      ]
    },
    {
      "cell_type": "code",
      "execution_count": null,
      "metadata": {
        "id": "XBYI1MrYL9gb",
        "colab": {
          "base_uri": "https://localhost:8080/"
        },
        "outputId": "464520c2-ad84-4e29-f402-610a694a7686"
      },
      "outputs": [
        {
          "output_type": "stream",
          "name": "stdout",
          "text": [
            "lanmark\n",
            "True\n"
          ]
        }
      ],
      "source": [
        "urban_images = {'tower_bridge': 'lanmark', 'green_belt': 'edge'}  # Create a new dictionary with some data\n",
        "print(urban_images['tower_bridge'])       # Get an entry from a dictionary; prints \"cute\"\n",
        "print('tower_bridge' in urban_images)     # Check if a dictionary has a given key; prints \"True\""
      ]
    },
    {
      "cell_type": "code",
      "execution_count": null,
      "metadata": {
        "id": "pS7e-G-HL9gf",
        "colab": {
          "base_uri": "https://localhost:8080/"
        },
        "outputId": "b2293e87-4b88-43cf-f50b-f3dafafaf65a"
      },
      "outputs": [
        {
          "output_type": "stream",
          "name": "stdout",
          "text": [
            "node\n"
          ]
        }
      ],
      "source": [
        "urban_images['oxford_street'] = 'node'    # Set an entry in a dictionary\n",
        "print(urban_images['oxford_street'])      # Prints \"lanmark\""
      ]
    },
    {
      "cell_type": "code",
      "execution_count": null,
      "metadata": {
        "id": "tFY065ItL9gi",
        "colab": {
          "base_uri": "https://localhost:8080/",
          "height": 171
        },
        "outputId": "52539636-98d1-4d85-b488-badf4f858a26"
      },
      "outputs": [
        {
          "output_type": "error",
          "ename": "KeyError",
          "evalue": "ignored",
          "traceback": [
            "\u001b[0;31m---------------------------------------------------------------------------\u001b[0m",
            "\u001b[0;31mKeyError\u001b[0m                                  Traceback (most recent call last)",
            "\u001b[0;32m<ipython-input-24-e6ccfbf84272>\u001b[0m in \u001b[0;36m<module>\u001b[0;34m\u001b[0m\n\u001b[0;32m----> 1\u001b[0;31m \u001b[0mprint\u001b[0m\u001b[0;34m(\u001b[0m\u001b[0murban_images\u001b[0m\u001b[0;34m[\u001b[0m\u001b[0;34m'euston'\u001b[0m\u001b[0;34m]\u001b[0m\u001b[0;34m)\u001b[0m  \u001b[0;31m# KeyError: 'euston' not a key of d\u001b[0m\u001b[0;34m\u001b[0m\u001b[0;34m\u001b[0m\u001b[0m\n\u001b[0m",
            "\u001b[0;31mKeyError\u001b[0m: 'euston'"
          ]
        }
      ],
      "source": [
        "print(urban_images['euston'])  # KeyError: 'euston' not a key of d"
      ]
    },
    {
      "cell_type": "code",
      "execution_count": null,
      "metadata": {
        "id": "8TjbEWqML9gl",
        "colab": {
          "base_uri": "https://localhost:8080/"
        },
        "outputId": "c2d977c5-f925-4b09-e3d6-5eb6e90a5a83"
      },
      "outputs": [
        {
          "output_type": "stream",
          "name": "stdout",
          "text": [
            "N/A\n",
            "N/A\n"
          ]
        }
      ],
      "source": [
        "print(urban_images.get('euston', 'N/A'))  # Get an element with a default; prints \"N/A\"\n",
        "print(urban_images.get('oxford_street', 'N/A'))    # Get an element with a default; prints \"landmark\""
      ]
    },
    {
      "cell_type": "code",
      "execution_count": null,
      "metadata": {
        "id": "0EItdNBJL9go",
        "colab": {
          "base_uri": "https://localhost:8080/"
        },
        "outputId": "9ae98e6c-4ef4-4b07-8fa3-a64fcb0ca58c"
      },
      "outputs": [
        {
          "output_type": "stream",
          "name": "stdout",
          "text": [
            "N/A\n"
          ]
        }
      ],
      "source": [
        "del urban_images['oxford_street']        # Remove an element from a dictionary\n",
        "print(urban_images.get('oxford_street', 'N/A')) # \"fish\" is no longer a key; prints \"N/A\""
      ]
    },
    {
      "cell_type": "markdown",
      "metadata": {
        "id": "wqm4dRZNL9gr"
      },
      "source": [
        "You can find all you need to know about dictionaries in the [documentation](https://docs.python.org/2/library/stdtypes.html#dict)."
      ]
    },
    {
      "cell_type": "markdown",
      "metadata": {
        "id": "IxwEqHlGL9gr"
      },
      "source": [
        "It is easy to iterate over the keys in a dictionary:"
      ]
    },
    {
      "cell_type": "code",
      "execution_count": null,
      "metadata": {
        "id": "rYfz7ZKNL9gs",
        "colab": {
          "base_uri": "https://localhost:8080/"
        },
        "outputId": "18a60d04-720c-4a58-f190-aa7aa62ba5b0"
      },
      "outputs": [
        {
          "output_type": "stream",
          "name": "stdout",
          "text": [
            "A ucl has 1000 points of interest (POI)\n",
            "A tower_bridge has 10000 points of interest (POI)\n",
            "A bloomsbury has 100 points of interest (POI)\n"
          ]
        }
      ],
      "source": [
        "urban_images = {'ucl': 1000, 'tower_bridge': 10000, 'bloomsbury': 100}\n",
        "for u_element, POI in urban_images.items():\n",
        "    print('A {} has {} points of interest (POI)'.format(u_element, POI))"
      ]
    },
    {
      "cell_type": "markdown",
      "metadata": {
        "id": "17sxiOpzL9gz"
      },
      "source": [
        "Dictionary comprehensions: These are similar to list comprehensions, but allow you to easily construct dictionaries. For example:"
      ]
    },
    {
      "cell_type": "code",
      "execution_count": null,
      "metadata": {
        "id": "8PB07imLL9gz",
        "colab": {
          "base_uri": "https://localhost:8080/"
        },
        "outputId": "4744088c-2e0c-46a8-f66d-342b99b6a77c"
      },
      "outputs": [
        {
          "output_type": "stream",
          "name": "stdout",
          "text": [
            "{0: 0, 2: 4, 4: 16}\n"
          ]
        }
      ],
      "source": [
        "nums = [0, 1, 2, 3, 4]\n",
        "even_num_to_square = {x: x ** 2 for x in nums if x % 2 == 0}\n",
        "print(even_num_to_square)"
      ]
    },
    {
      "cell_type": "markdown",
      "metadata": {
        "id": "V9MHfUdvL9g2"
      },
      "source": [
        "####Sets"
      ]
    },
    {
      "cell_type": "markdown",
      "metadata": {
        "id": "Rpm4UtNpL9g2"
      },
      "source": [
        "A set is an unordered collection of distinct elements. As a simple example, consider the following:"
      ]
    },
    {
      "cell_type": "code",
      "execution_count": null,
      "metadata": {
        "id": "MmyaniLsL9g2",
        "colab": {
          "base_uri": "https://localhost:8080/"
        },
        "outputId": "ca7e4bce-c791-432d-ec7b-7392943d51fb"
      },
      "outputs": [
        {
          "output_type": "stream",
          "name": "stdout",
          "text": [
            "True\n",
            "False\n"
          ]
        }
      ],
      "source": [
        "urban_elements = {'tower_bridge', 'green_belt'}\n",
        "print('tower_bridge' in urban_elements)   # Check if an element is in a set; prints \"True\"\n",
        "print('oxford_street' in urban_elements)  # prints \"False\"\n"
      ]
    },
    {
      "cell_type": "code",
      "execution_count": null,
      "metadata": {
        "id": "ElJEyK86L9g6",
        "colab": {
          "base_uri": "https://localhost:8080/"
        },
        "outputId": "51c0eef8-3e91-45c3-8e49-dac9545169d5"
      },
      "outputs": [
        {
          "output_type": "stream",
          "name": "stdout",
          "text": [
            "True\n",
            "3\n"
          ]
        }
      ],
      "source": [
        "urban_elements.add('oxford_street')      # Add an element to a set\n",
        "print('oxford_street' in urban_elements)\n",
        "print(len(urban_elements))       # Number of elements in a set;"
      ]
    },
    {
      "cell_type": "code",
      "execution_count": null,
      "metadata": {
        "id": "5uGmrxdPL9g9",
        "colab": {
          "base_uri": "https://localhost:8080/"
        },
        "outputId": "b39884b9-9b3c-41a5-dbb2-8423c2172f40"
      },
      "outputs": [
        {
          "output_type": "stream",
          "name": "stdout",
          "text": [
            "3\n",
            "2\n"
          ]
        }
      ],
      "source": [
        "urban_elements.add('tower_bridge')       # Adding an element that is already in the set does nothing\n",
        "print(len(urban_elements))\n",
        "urban_elements.remove('tower_bridge')    # Remove an element from a set\n",
        "print(len(urban_elements))"
      ]
    },
    {
      "cell_type": "markdown",
      "metadata": {
        "id": "zk2DbvLKL9g_"
      },
      "source": [
        "_Loops_: Iterating over a set has the same syntax as iterating over a list; however since sets are unordered, you cannot make assumptions about the order in which you visit the elements of the set:"
      ]
    },
    {
      "cell_type": "code",
      "execution_count": null,
      "metadata": {
        "id": "K47KYNGyL9hA",
        "colab": {
          "base_uri": "https://localhost:8080/"
        },
        "outputId": "43a2acf5-869f-4c13-c76c-3d5df7520db7"
      },
      "outputs": [
        {
          "output_type": "stream",
          "name": "stdout",
          "text": [
            "#1: tower_bridge\n",
            "#2: oxford_street\n",
            "#3: green_belt\n"
          ]
        }
      ],
      "source": [
        "urban_elements = {'tower_bridge', 'green_belt', 'oxford_street'}\n",
        "for idx, u_element in enumerate(urban_elements):\n",
        "    print('#{}: {}'.format(idx + 1, u_element))"
      ]
    },
    {
      "cell_type": "markdown",
      "metadata": {
        "id": "puq4S8buL9hC"
      },
      "source": [
        "Set comprehensions: Like lists and dictionaries, we can easily construct sets using set comprehensions:"
      ]
    },
    {
      "cell_type": "code",
      "execution_count": null,
      "metadata": {
        "id": "iw7k90k3L9hC",
        "colab": {
          "base_uri": "https://localhost:8080/"
        },
        "outputId": "be31f1c8-335a-4c2e-81ed-b42bf5ffd51b"
      },
      "outputs": [
        {
          "output_type": "stream",
          "name": "stdout",
          "text": [
            "{0, 1, 2, 3, 4, 5}\n"
          ]
        }
      ],
      "source": [
        "from math import sqrt\n",
        "print({int(sqrt(x)) for x in range(30)})"
      ]
    },
    {
      "cell_type": "markdown",
      "metadata": {
        "id": "qPsHSKB1L9hF"
      },
      "source": [
        "####Tuples"
      ]
    },
    {
      "cell_type": "code",
      "source": [],
      "metadata": {
        "id": "of9QZYngKp0B"
      },
      "execution_count": null,
      "outputs": []
    },
    {
      "cell_type": "markdown",
      "metadata": {
        "id": "kucc0LKVL9hG"
      },
      "source": [
        "A tuple is an (immutable) ordered list of values. A tuple is in many ways similar to a list; one of the most important differences is that tuples can be used as keys in dictionaries and as elements of sets, while lists cannot. Here is a trivial example:"
      ]
    },
    {
      "cell_type": "code",
      "execution_count": null,
      "metadata": {
        "id": "9wHUyTKxL9hH",
        "colab": {
          "base_uri": "https://localhost:8080/"
        },
        "outputId": "282bffb4-b6d6-4a74-e429-f7cdb4cb857b"
      },
      "outputs": [
        {
          "output_type": "stream",
          "name": "stdout",
          "text": [
            "<class 'tuple'>\n",
            "5\n",
            "1\n"
          ]
        }
      ],
      "source": [
        "d = {(x, x + 1): x for x in range(10)}  # Create a dictionary with tuple keys\n",
        "t = (5, 6)       # Create a tuple\n",
        "print(type(t))\n",
        "print(d[t])\n",
        "print(d[(1, 2)])"
      ]
    },
    {
      "cell_type": "markdown",
      "source": [
        "#### Switch"
      ],
      "metadata": {
        "id": "KqMnocR4rTYm"
      }
    },
    {
      "cell_type": "code",
      "source": [
        "def switch(lang):\n",
        "    if lang == \"JavaScript\":\n",
        "        return \"You can become a web developer.\"\n",
        "    elif lang == \"PHP\":\n",
        "        return \"You can become a backend developer.\"\n",
        "    elif lang == \"Python\":\n",
        "        return \"You can become a data scientist.\"\n",
        "    elif lang == \"Solidity\":\n",
        "        return \"You can become a blockchain developer.\"\n",
        "    elif lang == \"Java\":\n",
        "        return \"You can become a mobile app developer.\""
      ],
      "metadata": {
        "id": "v4Rrxg50q4Cr"
      },
      "execution_count": null,
      "outputs": []
    },
    {
      "cell_type": "code",
      "source": [
        "input = input('put a name:')\n",
        "print(switch(input))\n",
        "\n",
        "del input # Clear variable 'input'"
      ],
      "metadata": {
        "colab": {
          "base_uri": "https://localhost:8080/"
        },
        "id": "V71QocdHq56r",
        "outputId": "bfad5312-5b0c-4a60-b075-0e2b2ad1b33c"
      },
      "execution_count": null,
      "outputs": [
        {
          "output_type": "stream",
          "name": "stdout",
          "text": [
            "put a name:Python\n",
            "You can become a Data Scientist\n"
          ]
        }
      ]
    },
    {
      "cell_type": "markdown",
      "source": [
        "## 5. Loading Data from Google Drive"
      ],
      "metadata": {
        "id": "VxT_N306S85X"
      }
    },
    {
      "cell_type": "markdown",
      "source": [
        "Place the working data in your Google Drive to use `google.colab.drive`"
      ],
      "metadata": {
        "id": "ld1zWV0fsODc"
      }
    },
    {
      "cell_type": "code",
      "source": [
        "from google.colab import drive\n",
        "import os"
      ],
      "metadata": {
        "id": "r0biOzuHTg3_"
      },
      "execution_count": null,
      "outputs": []
    },
    {
      "cell_type": "code",
      "source": [
        "drive.mount(\"/content/drive\") # mount google drive"
      ],
      "metadata": {
        "colab": {
          "base_uri": "https://localhost:8080/"
        },
        "id": "-JgzBTg8sGHK",
        "outputId": "59ca778d-20a7-4e22-b901-eaeeb61ad2cc"
      },
      "execution_count": null,
      "outputs": [
        {
          "output_type": "stream",
          "name": "stdout",
          "text": [
            "Mounted at /content/drive\n"
          ]
        }
      ]
    },
    {
      "cell_type": "code",
      "source": [
        "folder_path = \"/content/drive/My Drive/connectivity_w\" # path of the folder to be accessed\n",
        "\n",
        "os.chdir(folder_path) # change the current working directory to the given path\n",
        "os.listdir(folder_path) # list all the entries in the directory given by\n"
      ],
      "metadata": {
        "id": "wnLH36mwS6u3",
        "colab": {
          "base_uri": "https://localhost:8080/"
        },
        "outputId": "e302b9b7-8fef-48d4-ad79-08527b33c301"
      },
      "execution_count": null,
      "outputs": [
        {
          "output_type": "execute_result",
          "data": {
            "text/plain": [
              "['0.jpg',\n",
              " '1.jpg',\n",
              " '2.jpg',\n",
              " '3.jpg',\n",
              " '4.jpg',\n",
              " '5.jpg',\n",
              " '6.jpg',\n",
              " '7.jpg',\n",
              " '8.jpg',\n",
              " '9.jpg',\n",
              " '10.jpg',\n",
              " '11.jpg',\n",
              " '12.jpg',\n",
              " '13.jpg',\n",
              " '14.jpg',\n",
              " '15.jpg']"
            ]
          },
          "metadata": {},
          "execution_count": 40
        }
      ]
    },
    {
      "cell_type": "markdown",
      "source": [
        "#### Colab Forms\n",
        "\n",
        "They parametricise codes to interactive interaces.\n",
        "\n",
        "Syntax: `#@param{type:type(param)} `\n",
        "\n",
        "Reference: https://colab.research.google.com/notebooks/forms.ipynb"
      ],
      "metadata": {
        "id": "4-oS4AM2NInY"
      }
    },
    {
      "cell_type": "code",
      "source": [
        "from matplotlib import pyplot as plt\n",
        "from skimage.io import imread, imshow\n",
        "\n",
        "img_id = \"2\" #@param [\"0\", \"1\", \"2\"]\n",
        "\n",
        "fullPath = folder_path + \"/\" + img_id + \".jpg\" # path of the image\n",
        "img = imread(fullPath)\n",
        "# plt.axis('off')\n",
        "plt.axis('on')\n",
        "imshow(img)"
      ],
      "metadata": {
        "id": "znWQUYQUVhWc",
        "colab": {
          "base_uri": "https://localhost:8080/",
          "height": 315
        },
        "outputId": "3a36b261-10ea-4b27-8bef-0f3f9da6a19c"
      },
      "execution_count": null,
      "outputs": [
        {
          "output_type": "execute_result",
          "data": {
            "text/plain": [
              "<matplotlib.image.AxesImage at 0x7f7e840ad110>"
            ]
          },
          "metadata": {},
          "execution_count": 41
        },
        {
          "output_type": "display_data",
          "data": {
            "text/plain": [
              "<Figure size 432x288 with 1 Axes>"
            ],
            "image/png": "[encoded data removed]"
          },
          "metadata": {
            "needs_background": "light"
          }
        }
      ]
    },
    {
      "cell_type": "code",
      "source": [
        "# Set csv file path\n",
        "PATH = \"/content/drive/My Drive/abalone_train.csv\""
      ],
      "metadata": {
        "id": "1wFP1nuG9TSX"
      },
      "execution_count": null,
      "outputs": []
    },
    {
      "cell_type": "code",
      "source": [
        "import pandas as pd\n",
        "\n",
        "df = pd.read_csv(PATH)\n",
        "print(df.to_string())"
      ],
      "metadata": {
        "colab": {
          "base_uri": "https://localhost:8080/"
        },
        "id": "g7D8bxED-Xz3",
        "outputId": "175ca169-e0d8-4f60-9762-820b0425d258"
      },
      "execution_count": null,
      "outputs": [
        {
          "output_type": "stream",
          "name": "stdout",
          "text": [
            "         c1     c2     c3      c4      c5      c6      c7  c8\n",
            "0     0.435  0.335  0.110  0.3340  0.1355  0.0775  0.0965   7\n",
            "1     0.585  0.450  0.125  0.8740  0.3545  0.2075  0.2250   6\n",
            "2     0.655  0.510  0.160  1.0920  0.3960  0.2825  0.3700  14\n",
            "3     0.545  0.425  0.125  0.7680  0.2940  0.1495  0.2600  16\n",
            "4     0.545  0.420  0.130  0.8790  0.3740  0.1695  0.2300  13\n",
            "5     0.570  0.450  0.145  0.7510  0.2825  0.2195  0.2215  10\n",
            "6     0.470  0.360  0.130  0.4720  0.1820  0.1140  0.1500  10\n",
            "7     0.610  0.450  0.190  1.0805  0.5170  0.2495  0.2935  10\n",
            "8     0.520  0.425  0.125  0.7900  0.3720  0.2050  0.1900   8\n",
            "9     0.485  0.390  0.120  0.5990  0.2510  0.1345  0.1690   8\n",
            "10    0.625  0.495  0.155  1.0250  0.4600  0.1945  0.3400   9\n",
            "11    0.615  0.495  0.160  1.2550  0.5815  0.3195  0.3225  12\n",
            "12    0.455  0.350  0.140  0.5185  0.2210  0.1265  0.1350  10\n",
            "13    0.475  0.355  0.115  0.5195  0.2790  0.0880  0.1325   7\n",
            "14    0.385  0.300  0.100  0.2895  0.1215  0.0630  0.0900   7\n",
            "15    0.670  0.525  0.165  1.6085  0.6820  0.3145  0.4005  11\n",
            "16    0.615  0.520  0.150  1.3435  0.6290  0.2605  0.3450  10\n",
            "17    0.520  0.400  0.130  0.5825  0.2330  0.1365  0.1800  10\n",
            "18    0.635  0.495  0.180  1.5960  0.6170  0.3170  0.3700  11\n",
            "19    0.720  0.575  0.230  2.2695  0.8835  0.3985  0.6650  16\n",
            "20    0.570  0.435  0.150  0.8295  0.3875  0.1560  0.2450  10\n",
            "21    0.725  0.575  0.240  2.2100  1.3510  0.4130  0.5015  13\n",
            "22    0.435  0.350  0.110  0.3840  0.1430  0.1005  0.1250  13\n",
            "23    0.685  0.550  0.200  1.7725  0.8130  0.3870  0.4900  11\n",
            "24    0.575  0.445  0.145  0.8760  0.3795  0.1615  0.2700  10\n",
            "25    0.575  0.435  0.130  1.0105  0.3680  0.2220  0.3200  10\n",
            "26    0.625  0.445  0.160  1.0900  0.4600  0.2965  0.3040  11\n",
            "27    0.355  0.270  0.075  0.1775  0.0790  0.0315  0.0540   6\n",
            "28    0.565  0.480  0.175  0.9570  0.3885  0.2150  0.2750  18\n",
            "29    0.470  0.365  0.120  0.5820  0.2900  0.0920  0.1460   8\n",
            "30    0.410  0.325  0.105  0.3635  0.1590  0.0770  0.1200  10\n",
            "31    0.550  0.415  0.135  0.7635  0.3180  0.2100  0.2000   9\n",
            "32    0.575  0.435  0.140  0.8455  0.4010  0.1910  0.2220   9\n",
            "33    0.550  0.470  0.150  0.8970  0.3770  0.1840  0.2900   9\n",
            "34    0.355  0.280  0.100  0.2275  0.0935  0.0455  0.0850  11\n",
            "35    0.580  0.450  0.155  0.8275  0.3210  0.1975  0.2445   8\n",
            "36    0.525  0.405  0.135  0.7575  0.3305  0.2160  0.1950  10\n",
            "37    0.630  0.525  0.195  1.3135  0.4935  0.2565  0.4650  10\n",
            "38    0.465  0.360  0.125  0.4365  0.1690  0.1075  0.1450  11\n",
            "39    0.630  0.495  0.180  1.3100  0.4950  0.2950  0.4695  10\n",
            "40    0.325  0.200  0.080  0.0995  0.0395  0.0225  0.0320   8\n",
            "41    0.645  0.500  0.160  1.3815  0.6720  0.3260  0.3150   9\n",
            "42    0.620  0.485  0.180  1.1785  0.4675  0.2655  0.3900  13\n",
            "43    0.495  0.375  0.155  0.9760  0.4500  0.2285  0.2475   9\n",
            "44    0.645  0.520  0.170  1.1970  0.5260  0.2925  0.3170  11\n",
            "45    0.575  0.465  0.195  0.9965  0.4170  0.2470  0.4700   8\n",
            "46    0.590  0.405  0.150  0.8530  0.3260  0.2615  0.2450   9\n",
            "47    0.465  0.350  0.140  0.5755  0.2015  0.1505  0.1900  15\n",
            "48    0.480  0.335  0.125  0.5240  0.2460  0.1095  0.1450   7\n",
            "49    0.620  0.480  0.160  1.1125  0.5635  0.2445  0.2810   8\n",
            "50    0.530  0.435  0.170  0.8155  0.2985  0.1550  0.2750  13\n",
            "51    0.650  0.500  0.140  1.2380  0.6165  0.2355  0.3200   8\n",
            "52    0.380  0.290  0.105  0.2570  0.0990  0.0510  0.0850  10\n",
            "53    0.665  0.530  0.180  1.4910  0.6345  0.3420  0.4350  10\n",
            "54    0.600  0.445  0.135  0.9205  0.4450  0.2035  0.2530   9\n",
            "55    0.465  0.365  0.115  0.4670  0.2315  0.0925  0.1130   7\n",
            "56    0.375  0.280  0.095  0.2225  0.0875  0.0430  0.0800  10\n",
            "57    0.585  0.445  0.140  0.9130  0.4305  0.2205  0.2530  10\n",
            "58    0.510  0.380  0.135  0.6810  0.3435  0.1420  0.1700   9\n",
            "59    0.425  0.310  0.095  0.3075  0.1390  0.0745  0.0930   7\n",
            "60    0.470  0.375  0.120  0.5805  0.2660  0.0935  0.1690   8\n",
            "61    0.445  0.350  0.140  0.5905  0.2025  0.1580  0.1900  14\n",
            "62    0.370  0.275  0.100  0.2815  0.1505  0.0505  0.0680   5\n",
            "63    0.500  0.375  0.140  0.5495  0.2480  0.1120  0.1585   7\n",
            "64    0.690  0.525  0.200  1.7825  0.9165  0.3325  0.4610  12\n",
            "65    0.615  0.495  0.155  1.0805  0.5200  0.1900  0.3200   9\n",
            "66    0.570  0.470  0.155  1.1860  0.6355  0.2315  0.2770  10\n",
            "67    0.650  0.565  0.200  1.6645  0.7530  0.3670  0.4300  12\n",
            "68    0.320  0.240  0.085  0.1310  0.0615  0.0265  0.0380   6\n",
            "69    0.520  0.400  0.125  0.6865  0.2950  0.1715  0.1850   9\n",
            "70    0.735  0.570  0.210  2.2355  1.1705  0.4630  0.5315  10\n",
            "71    0.375  0.275  0.085  0.2200  0.1090  0.0500  0.0605   7\n",
            "72    0.350  0.260  0.090  0.1980  0.0725  0.0560  0.0600  10\n",
            "73    0.665  0.525  0.180  1.5785  0.6780  0.2290  0.4560  14\n",
            "74    0.530  0.420  0.135  0.6770  0.2565  0.1415  0.2100   9\n",
            "75    0.620  0.475  0.175  1.0165  0.4355  0.2140  0.3250  10\n",
            "76    0.455  0.375  0.120  0.4970  0.2355  0.1055  0.1295   6\n",
            "77    0.565  0.455  0.170  0.9065  0.3420  0.1560  0.3200  18\n",
            "78    0.625  0.505  0.175  1.1500  0.5475  0.2560  0.3045  11\n",
            "79    0.580  0.460  0.150  1.0165  0.4910  0.2210  0.2650   9\n",
            "80    0.520  0.390  0.130  0.5545  0.2355  0.1095  0.1895   7\n",
            "81    0.610  0.470  0.160  1.0170  0.4260  0.2255  0.3200  12\n",
            "82    0.525  0.425  0.160  0.8355  0.3545  0.2135  0.2450   9\n",
            "83    0.565  0.390  0.125  0.7440  0.3520  0.1300  0.1685  11\n",
            "84    0.650  0.525  0.185  1.4880  0.6650  0.3370  0.3780  11\n",
            "85    0.380  0.235  0.100  0.2580  0.1055  0.0540  0.0800   7\n",
            "86    0.635  0.525  0.205  1.4840  0.5500  0.3115  0.4300  20\n",
            "87    0.775  0.630  0.250  2.7795  1.3485  0.7600  0.5780  12\n",
            "88    0.565  0.440  0.175  1.1220  0.3930  0.2000  0.3750  20\n",
            "89    0.390  0.290  0.090  0.2625  0.1170  0.0540  0.0770   7\n",
            "90    0.555  0.410  0.125  0.5990  0.2345  0.1465  0.1940   8\n",
            "91    0.400  0.320  0.095  0.3480  0.1940  0.0530  0.0870   6\n",
            "92    0.695  0.550  0.205  2.1730  1.1330  0.4665  0.4960  10\n",
            "93    0.710  0.575  0.215  2.0090  0.9895  0.4475  0.5020  11\n",
            "94    0.400  0.290  0.115  0.2795  0.1115  0.0575  0.0750   9\n",
            "95    0.290  0.205  0.070  0.0975  0.0360  0.0190  0.0350   8\n",
            "96    0.640  0.515  0.180  1.2470  0.5475  0.2925  0.3685  10\n",
            "97    0.750  0.555  0.215  2.2010  1.0615  0.5235  0.5285  11\n",
            "98    0.670  0.545  0.175  1.7070  0.6995  0.3870  0.5750  13\n",
            "99    0.585  0.475  0.185  0.8575  0.3465  0.1785  0.2750  12\n",
            "100   0.560  0.410  0.165  0.9300  0.3505  0.2370  0.3000  13\n",
            "101   0.395  0.290  0.095  0.3000  0.1580  0.0680  0.0780   7\n",
            "102   0.500  0.390  0.135  0.7815  0.3610  0.1575  0.2385   9\n",
            "103   0.740  0.535  0.185  1.6500  0.7340  0.4505  0.3350  13\n",
            "104   0.570  0.425  0.130  0.7820  0.3695  0.1745  0.1965   8\n",
            "105   0.470  0.365  0.135  0.5220  0.2395  0.1525  0.1450  10\n",
            "106   0.370  0.275  0.085  0.2045  0.0960  0.0560  0.0800   6\n",
            "107   0.640  0.500  0.170  1.5175  0.6930  0.3260  0.4090  11\n",
            "108   0.585  0.455  0.170  0.9945  0.4255  0.2630  0.2845  11\n",
            "109   0.675  0.535  0.160  1.4100  0.5920  0.3175  0.4200  16\n",
            "110   0.650  0.520  0.195  1.2810  0.5985  0.2460  0.3825  10\n",
            "111   0.560  0.415  0.145  0.8520  0.4300  0.1885  0.2050   8\n",
            "112   0.620  0.515  0.155  1.3255  0.6685  0.2605  0.3350  12\n",
            "113   0.600  0.480  0.165  0.9165  0.4135  0.1965  0.2725   9\n",
            "114   0.400  0.315  0.105  0.2870  0.1135  0.0370  0.1130  10\n",
            "115   0.505  0.380  0.120  0.5940  0.2595  0.1435  0.1800   7\n",
            "116   0.590  0.485  0.155  1.0785  0.4535  0.2435  0.3100   9\n",
            "117   0.545  0.410  0.140  0.7405  0.3565  0.1775  0.2030   9\n",
            "118   0.515  0.400  0.135  0.6965  0.3200  0.1255  0.1750   9\n",
            "119   0.705  0.550  0.210  1.4385  0.6550  0.3255  0.4620  11\n",
            "120   0.380  0.285  0.100  0.2665  0.1150  0.0610  0.0750  11\n",
            "121   0.440  0.345  0.115  0.5450  0.2690  0.1110  0.1305   6\n",
            "122   0.370  0.285  0.100  0.2280  0.0675  0.0675  0.0810  10\n",
            "123   0.475  0.420  0.160  0.7095  0.3500  0.1505  0.1845   8\n",
            "124   0.370  0.280  0.110  0.2305  0.0945  0.0465  0.0750  10\n",
            "125   0.360  0.280  0.090  0.2255  0.0885  0.0400  0.0900   8\n",
            "126   0.645  0.500  0.180  1.4610  0.5985  0.2425  0.4390  11\n",
            "127   0.615  0.475  0.170  1.1025  0.4695  0.2355  0.3450  14\n",
            "128   0.385  0.305  0.105  0.3315  0.1365  0.0745  0.1000   7\n",
            "129   0.655  0.550  0.180  1.2740  0.5860  0.2810  0.3650  10\n",
            "130   0.480  0.365  0.100  0.4610  0.2205  0.0835  0.1350   8\n",
            "131   0.560  0.425  0.135  0.9415  0.5090  0.2015  0.1975   9\n",
            "132   0.505  0.380  0.135  0.6855  0.3610  0.1565  0.1610   9\n",
            "133   0.625  0.470  0.175  1.1790  0.6050  0.2580  0.2710   9\n",
            "134   0.640  0.505  0.190  1.2765  0.4835  0.3280  0.4000  12\n",
            "135   0.595  0.485  0.150  1.0835  0.5305  0.2310  0.2760   8\n",
            "136   0.500  0.385  0.120  0.5160  0.1970  0.1305  0.1650   8\n",
            "137   0.455  0.365  0.095  0.5140  0.2245  0.1010  0.1500  15\n",
            "138   0.580  0.475  0.150  0.9700  0.3850  0.2165  0.3500  11\n",
            "139   0.495  0.390  0.125  0.6655  0.2840  0.1620  0.2000  11\n",
            "140   0.535  0.420  0.145  0.9260  0.3980  0.1965  0.2500  17\n",
            "141   0.625  0.500  0.175  1.2730  0.5640  0.3020  0.3740   9\n",
            "142   0.525  0.400  0.130  0.6455  0.3250  0.1245  0.1700   8\n",
            "143   0.295  0.215  0.070  0.1210  0.0470  0.0155  0.0405   6\n",
            "144   0.360  0.280  0.105  0.1990  0.0695  0.0450  0.0800   9\n",
            "145   0.190  0.140  0.030  0.0315  0.0125  0.0050  0.0105   3\n",
            "146   0.485  0.365  0.125  0.4260  0.1630  0.0965  0.1510   8\n",
            "147   0.630  0.515  0.155  1.2590  0.4105  0.1970  0.4100  13\n",
            "148   0.625  0.485  0.170  1.4370  0.5855  0.2930  0.4750  11\n",
            "149   0.180  0.125  0.050  0.0230  0.0085  0.0055  0.0100   3\n",
            "150   0.545  0.415  0.160  0.7715  0.2720  0.1455  0.2765  10\n",
            "151   0.770  0.605  0.175  2.0505  0.8005  0.5260  0.3550  11\n",
            "152   0.505  0.405  0.160  0.6835  0.2710  0.1450  0.2150  10\n",
            "153   0.565  0.440  0.150  0.9830  0.4475  0.2355  0.2485   9\n",
            "154   0.400  0.310  0.100  0.2875  0.1145  0.0635  0.0950  10\n",
            "155   0.275  0.220  0.080  0.1365  0.0565  0.0285  0.0420   6\n",
            "156   0.425  0.340  0.120  0.3880  0.1490  0.0870  0.1250  10\n",
            "157   0.365  0.295  0.080  0.2555  0.0970  0.0430  0.1000   7\n",
            "158   0.505  0.385  0.105  0.5525  0.2390  0.1245  0.1555   9\n",
            "159   0.560  0.450  0.160  1.0235  0.4290  0.2680  0.3000  10\n",
            "160   0.415  0.310  0.110  0.2965  0.1230  0.0570  0.0995  10\n",
            "161   0.330  0.215  0.075  0.1145  0.0450  0.0265  0.0350   6\n",
            "162   0.560  0.420  0.180  1.6645  0.7755  0.3500  0.4525   9\n",
            "163   0.585  0.455  0.165  0.9980  0.3450  0.2495  0.3150  12\n",
            "164   0.505  0.390  0.120  0.6530  0.3315  0.1385  0.1670   9\n",
            "165   0.580  0.465  0.160  1.0345  0.3150  0.2600  0.3635  12\n",
            "166   0.580  0.435  0.140  0.9530  0.4750  0.2165  0.2095   9\n",
            "167   0.560  0.465  0.145  0.8875  0.3345  0.2200  0.2695   9\n",
            "168   0.580  0.450  0.140  0.8240  0.3465  0.1765  0.2630  10\n",
            "169   0.675  0.540  0.210  1.5930  0.6860  0.3180  0.4500  11\n",
            "170   0.520  0.410  0.140  0.5995  0.2420  0.1375  0.1820  11\n",
            "171   0.595  0.460  0.160  0.9210  0.4005  0.2025  0.2875   9\n",
            "172   0.630  0.505  0.165  1.0650  0.4595  0.2160  0.3150  12\n",
            "173   0.590  0.415  0.150  0.8805  0.3645  0.2340  0.2350  11\n",
            "174   0.500  0.420  0.125  0.6200  0.2550  0.1500  0.2050  11\n",
            "175   0.435  0.330  0.095  0.3930  0.2190  0.0750  0.0885   6\n",
            "176   0.505  0.390  0.160  0.6440  0.2475  0.2025  0.1635   9\n",
            "177   0.500  0.405  0.140  0.6155  0.2410  0.1355  0.2050   9\n",
            "178   0.320  0.250  0.080  0.1565  0.0570  0.0340  0.0600   9\n",
            "179   0.485  0.370  0.140  0.5065  0.2425  0.0880  0.1465   8\n",
            "180   0.585  0.450  0.135  0.8550  0.3795  0.1870  0.2600   9\n",
            "181   0.400  0.295  0.095  0.2520  0.1105  0.0575  0.0660   6\n",
            "182   0.385  0.315  0.110  0.2860  0.1225  0.0635  0.0835  10\n",
            "183   0.420  0.305  0.090  0.3280  0.1680  0.0615  0.0820   6\n",
            "184   0.670  0.510  0.200  1.5945  0.6705  0.3845  0.4505  10\n",
            "185   0.495  0.375  0.150  0.5970  0.2615  0.1350  0.1780  11\n",
            "186   0.265  0.200  0.065  0.0840  0.0340  0.0105  0.0300   7\n",
            "187   0.275  0.195  0.065  0.1060  0.0540  0.0200  0.0280   6\n",
            "188   0.455  0.335  0.135  0.5010  0.2740  0.0995  0.1065   7\n",
            "189   0.625  0.495  0.165  1.2620  0.5070  0.3180  0.3900  10\n",
            "190   0.570  0.450  0.160  0.9715  0.3965  0.2550  0.2600  12\n",
            "191   0.390  0.300  0.100  0.3085  0.1385  0.0735  0.0850   6\n",
            "192   0.740  0.565  0.205  2.1190  0.9655  0.5185  0.4820  12\n",
            "193   0.350  0.250  0.070  0.1800  0.0655  0.0480  0.0540   6\n",
            "194   0.375  0.280  0.085  0.2145  0.0855  0.0485  0.0720   7\n",
            "195   0.340  0.255  0.095  0.2130  0.0810  0.0340  0.0700   9\n",
            "196   0.590  0.485  0.120  0.9110  0.3900  0.1820  0.2900  16\n",
            "197   0.525  0.420  0.155  0.8420  0.4280  0.1415  0.2045   9\n",
            "198   0.740  0.580  0.205  2.3810  0.8155  0.4695  0.4880  12\n",
            "199   0.695  0.560  0.190  1.4940  0.5880  0.3425  0.4850  15\n",
            "200   0.355  0.290  0.090  0.3275  0.1340  0.0860  0.0900   9\n",
            "201   0.570  0.465  0.155  0.9685  0.4460  0.2610  0.2550   9\n",
            "202   0.755  0.625  0.210  2.5050  1.1965  0.5130  0.6785  11\n",
            "203   0.525  0.400  0.140  0.6540  0.3050  0.1600  0.1690   7\n",
            "204   0.440  0.320  0.095  0.3275  0.1495  0.0590  0.1000   8\n",
            "205   0.290  0.210  0.070  0.1115  0.0480  0.0205  0.0300   5\n",
            "206   0.280  0.205  0.070  0.1015  0.0410  0.0300  0.0300   6\n",
            "207   0.530  0.410  0.155  0.7155  0.2805  0.1685  0.2140  11\n",
            "208   0.595  0.430  0.165  0.9845  0.4525  0.2070  0.2725   8\n",
            "209   0.530  0.405  0.125  0.6515  0.2715  0.1605  0.1860   7\n",
            "210   0.535  0.420  0.150  0.7365  0.2785  0.1860  0.2150  14\n",
            "211   0.475  0.360  0.120  0.5780  0.2825  0.1200  0.1700   8\n",
            "212   0.610  0.460  0.155  0.9570  0.4255  0.1975  0.2650   8\n",
            "213   0.485  0.380  0.150  0.6050  0.2155  0.1400  0.1800  15\n",
            "214   0.740  0.595  0.190  2.3235  1.1495  0.5115  0.5050  11\n",
            "215   0.325  0.250  0.055  0.1660  0.0760  0.0510  0.0450   5\n",
            "216   0.630  0.515  0.160  1.3360  0.5530  0.3205  0.3500  11\n",
            "217   0.630  0.485  0.185  1.1670  0.5480  0.2485  0.3400  10\n",
            "218   0.370  0.275  0.090  0.2065  0.0960  0.0395  0.0580   7\n",
            "219   0.330  0.230  0.080  0.1400  0.0565  0.0365  0.0460   7\n",
            "220   0.515  0.400  0.125  0.9550  0.3410  0.2535  0.2600  13\n",
            "221   0.505  0.380  0.130  0.6560  0.2270  0.1785  0.2200  13\n",
            "222   0.350  0.265  0.080  0.1920  0.0810  0.0465  0.0530   6\n",
            "223   0.240  0.180  0.055  0.0555  0.0235  0.0130  0.0180   4\n",
            "224   0.290  0.225  0.075  0.1520  0.0710  0.0590  0.0450   9\n",
            "225   0.465  0.350  0.115  0.4210  0.1565  0.0910  0.1345   9\n",
            "226   0.260  0.200  0.070  0.0920  0.0370  0.0200  0.0300   6\n",
            "227   0.510  0.405  0.125  0.6925  0.3270  0.1550  0.1805   7\n",
            "228   0.555  0.435  0.140  0.7495  0.3410  0.1645  0.2140   8\n",
            "229   0.510  0.405  0.130  0.5990  0.3065  0.1155  0.1485   8\n",
            "230   0.525  0.380  0.125  0.6500  0.3030  0.1550  0.1590   7\n",
            "231   0.670  0.545  0.160  1.5415  0.5985  0.2565  0.4950  15\n",
            "232   0.510  0.385  0.135  0.6320  0.2820  0.1450  0.1700   8\n",
            "233   0.575  0.440  0.125  0.8515  0.4555  0.1715  0.1965   9\n",
            "234   0.530  0.415  0.150  0.7775  0.2370  0.1415  0.3300  20\n",
            "235   0.670  0.505  0.175  1.0145  0.4375  0.2710  0.3745  10\n",
            "236   0.640  0.500  0.165  1.1635  0.5540  0.2390  0.3200  11\n",
            "237   0.465  0.340  0.105  0.4860  0.2310  0.1035  0.1225   9\n",
            "238   0.595  0.475  0.140  0.9440  0.3625  0.1890  0.3150   9\n",
            "239   0.490  0.370  0.105  0.5265  0.2490  0.1005  0.1480   7\n",
            "240   0.375  0.290  0.100  0.2190  0.0925  0.0380  0.0750   6\n",
            "241   0.600  0.470  0.150  0.9220  0.3630  0.1940  0.3050  10\n",
            "242   0.355  0.275  0.090  0.2510  0.0970  0.0530  0.0800   7\n",
            "243   0.680  0.515  0.170  1.6115  0.8415  0.3060  0.3950  11\n",
            "244   0.285  0.225  0.070  0.1005  0.0425  0.0185  0.0350   7\n",
            "245   0.710  0.540  0.165  1.9590  0.7665  0.2610  0.7800  18\n",
            "246   0.480  0.355  0.125  0.4940  0.2385  0.0835  0.1500   9\n",
            "247   0.495  0.375  0.140  0.4940  0.1810  0.0975  0.1910   8\n",
            "248   0.550  0.410  0.125  0.7605  0.2505  0.1635  0.1950  14\n",
            "249   0.265  0.200  0.065  0.0975  0.0400  0.0205  0.0280   7\n",
            "250   0.540  0.390  0.125  0.6255  0.2525  0.1580  0.1900   8\n",
            "251   0.655  0.525  0.180  1.4020  0.6240  0.2935  0.3650  13\n",
            "252   0.285  0.210  0.075  0.1185  0.0550  0.0285  0.0400   7\n",
            "253   0.605  0.485  0.150  1.2380  0.6315  0.2260  0.3300  11\n",
            "254   0.580  0.450  0.235  1.0710  0.3000  0.2060  0.3950  14\n",
            "255   0.315  0.230  0.070  0.1440  0.0530  0.0305  0.0400   8\n",
            "256   0.285  0.220  0.065  0.0960  0.0405  0.0205  0.0300   5\n",
            "257   0.645  0.500  0.180  1.2785  0.5345  0.2995  0.3450  13\n",
            "258   0.495  0.375  0.115  0.6245  0.2820  0.1430  0.1550   6\n",
            "259   0.650  0.495  0.180  1.7930  0.8005  0.3390  0.5300  14\n",
            "260   0.205  0.155  0.045  0.0495  0.0235  0.0110  0.0140   3\n",
            "261   0.450  0.335  0.115  0.3935  0.1950  0.0710  0.1100   7\n",
            "262   0.285  0.205  0.070  0.1060  0.0390  0.0285  0.0340   5\n",
            "263   0.525  0.400  0.125  0.5655  0.2435  0.1190  0.1750   8\n",
            "264   0.435  0.320  0.120  0.3785  0.1520  0.0915  0.1250  11\n",
            "265   0.590  0.465  0.170  1.0425  0.4635  0.2400  0.2700  10\n",
            "266   0.480  0.365  0.120  0.6015  0.3120  0.1170  0.1400   7\n",
            "267   0.360  0.265  0.085  0.1895  0.0725  0.0515  0.0550   6\n",
            "268   0.350  0.235  0.080  0.1700  0.0725  0.0465  0.0495   7\n",
            "269   0.660  0.530  0.185  1.3460  0.5460  0.2705  0.4760  11\n",
            "270   0.655  0.515  0.170  1.5270  0.8485  0.2635  0.3310  11\n",
            "271   0.570  0.450  0.155  0.9100  0.3260  0.1895  0.3550  14\n",
            "272   0.630  0.510  0.170  1.1885  0.4915  0.3065  0.3480   7\n",
            "273   0.590  0.475  0.155  0.9715  0.3710  0.2350  0.2800  11\n",
            "274   0.560  0.425  0.145  0.6880  0.3095  0.1305  0.2165   9\n",
            "275   0.470  0.355  0.180  0.4800  0.2055  0.1050  0.1505   8\n",
            "276   0.565  0.450  0.165  0.9765  0.3220  0.2440  0.3700  12\n",
            "277   0.625  0.525  0.195  1.3520  0.4505  0.2445  0.5300  13\n",
            "278   0.360  0.260  0.080  0.1795  0.0740  0.0315  0.0600   5\n",
            "279   0.275  0.200  0.070  0.0960  0.0370  0.0225  0.0300   6\n",
            "280   0.640  0.490  0.135  1.1000  0.4880  0.2505  0.2925  10\n",
            "281   0.520  0.410  0.110  0.5185  0.2165  0.0915  0.1840   8\n",
            "282   0.450  0.335  0.125  0.3490  0.1190  0.1055  0.1150  10\n",
            "283   0.630  0.490  0.190  1.1775  0.4935  0.3365  0.2850  11\n",
            "284   0.610  0.495  0.165  1.0835  0.4525  0.2730  0.3170   9\n",
            "285   0.530  0.425  0.170  0.9490  0.3485  0.2395  0.2780  17\n",
            "286   0.620  0.510  0.175  1.2815  0.5715  0.2385  0.3900  10\n",
            "287   0.465  0.360  0.130  0.5265  0.2105  0.1185  0.1650  10\n",
            "288   0.510  0.455  0.135  0.6855  0.2875  0.1540  0.2035   9\n",
            "289   0.475  0.360  0.125  0.4905  0.2050  0.1305  0.1250   8\n",
            "290   0.590  0.440  0.150  0.8725  0.3870  0.2150  0.2450   8\n",
            "291   0.570  0.480  0.175  1.1850  0.4740  0.2610  0.3800  11\n",
            "292   0.580  0.490  0.130  1.1335  0.5860  0.2565  0.2370   9\n",
            "293   0.480  0.390  0.125  0.6905  0.2190  0.1550  0.2000  12\n",
            "294   0.500  0.400  0.130  0.6645  0.2580  0.1330  0.2400  12\n",
            "295   0.570  0.460  0.140  0.9535  0.4465  0.2065  0.2450  12\n",
            "296   0.650  0.515  0.180  1.3315  0.5665  0.3470  0.4050  13\n",
            "297   0.350  0.255  0.080  0.1915  0.0800  0.0385  0.0630   9\n",
            "298   0.410  0.300  0.100  0.3010  0.1240  0.0690  0.0900   9\n",
            "299   0.250  0.190  0.060  0.0765  0.0360  0.0115  0.0245   6\n",
            "300   0.515  0.385  0.110  0.5785  0.2530  0.1600  0.1400   8\n",
            "301   0.650  0.520  0.170  1.3655  0.6155  0.2885  0.3600  11\n",
            "302   0.590  0.450  0.145  1.0220  0.4280  0.2680  0.2650  10\n",
            "303   0.685  0.505  0.190  1.5330  0.6670  0.4055  0.4100  10\n",
            "304   0.550  0.465  0.150  1.0820  0.3575  0.1940  0.1900  14\n",
            "305   0.490  0.380  0.125  0.5490  0.2450  0.1075  0.1740  10\n",
            "306   0.360  0.270  0.090  0.2320  0.1200  0.0435  0.0560   8\n",
            "307   0.560  0.435  0.135  0.7200  0.3290  0.1030  0.2510  11\n",
            "308   0.605  0.485  0.160  1.2010  0.4170  0.2875  0.3800   9\n",
            "309   0.250  0.175  0.060  0.0635  0.0275  0.0080  0.0200   4\n",
            "310   0.570  0.450  0.155  1.1950  0.5625  0.2565  0.2950  10\n",
            "311   0.310  0.225  0.075  0.1550  0.0650  0.0370  0.0365   6\n",
            "312   0.645  0.500  0.160  1.2465  0.5475  0.3270  0.3000  10\n",
            "313   0.295  0.230  0.080  0.1625  0.0650  0.0500  0.0385   5\n",
            "314   0.490  0.380  0.155  0.5780  0.2395  0.1255  0.1800   9\n",
            "315   0.600  0.480  0.155  1.0140  0.4510  0.1885  0.3250  11\n",
            "316   0.435  0.340  0.115  0.3925  0.1825  0.0780  0.1145   6\n",
            "317   0.600  0.475  0.150  0.9900  0.3860  0.2195  0.3105  10\n",
            "318   0.680  0.520  0.185  1.5410  0.5985  0.3950  0.4575  10\n",
            "319   0.620  0.500  0.165  1.3070  0.6355  0.2545  0.3150   9\n",
            "320   0.545  0.440  0.140  0.8395  0.3560  0.1905  0.2385  11\n",
            "321   0.475  0.380  0.140  0.6890  0.3165  0.1315  0.1955   7\n",
            "322   0.610  0.490  0.170  1.3475  0.7045  0.2500  0.3045  11\n",
            "323   0.585  0.455  0.155  1.1330  0.5515  0.2230  0.3050  12\n",
            "324   0.650  0.520  0.155  1.3680  0.6185  0.2880  0.3650   9\n",
            "325   0.485  0.375  0.140  0.5210  0.2000  0.1230  0.1700   8\n",
            "326   0.545  0.435  0.165  0.9955  0.3245  0.2665  0.3250  19\n",
            "327   0.645  0.500  0.200  1.4285  0.6390  0.3050  0.3600  11\n",
            "328   0.580  0.425  0.150  0.8440  0.3645  0.1850  0.2705   9\n",
            "329   0.650  0.515  0.215  1.4980  0.5640  0.3230  0.4250  16\n",
            "330   0.605  0.470  0.180  1.1405  0.3755  0.2805  0.3850  15\n",
            "331   0.620  0.495  0.175  1.8060  0.6430  0.3285  0.7250  17\n",
            "332   0.395  0.300  0.120  0.2995  0.1265  0.0680  0.0895   8\n",
            "333   0.665  0.505  0.160  1.2890  0.6145  0.2530  0.3665  11\n",
            "334   0.475  0.340  0.105  0.4535  0.2030  0.0800  0.1465   9\n",
            "335   0.255  0.195  0.065  0.0800  0.0315  0.0180  0.0270   8\n",
            "336   0.310  0.240  0.090  0.1455  0.0605  0.0315  0.0450   7\n",
            "337   0.500  0.385  0.145  0.7615  0.2460  0.1950  0.2040  14\n",
            "338   0.525  0.390  0.135  0.6005  0.2265  0.1310  0.2100  16\n",
            "339   0.620  0.475  0.185  1.3250  0.6045  0.3250  0.3300  13\n",
            "340   0.580  0.425  0.145  0.8300  0.3790  0.1605  0.2575  11\n",
            "341   0.580  0.440  0.175  1.0730  0.4005  0.2345  0.3350  19\n",
            "342   0.350  0.265  0.090  0.2265  0.0995  0.0575  0.0650   6\n",
            "343   0.380  0.275  0.100  0.2255  0.0800  0.0490  0.0850  10\n",
            "344   0.445  0.335  0.100  0.4895  0.2745  0.0860  0.1105   7\n",
            "345   0.515  0.395  0.125  0.5560  0.2695  0.0960  0.1700   8\n",
            "346   0.415  0.330  0.100  0.3905  0.1925  0.0755  0.1025   7\n",
            "347   0.535  0.420  0.145  0.7910  0.3300  0.1890  0.2500  10\n",
            "348   0.485  0.370  0.155  0.9680  0.4190  0.2455  0.2365   9\n",
            "349   0.550  0.450  0.155  0.7895  0.3430  0.1590  0.2500  12\n",
            "350   0.700  0.545  0.130  1.5560  0.6725  0.3740  0.1950  12\n",
            "351   0.645  0.490  0.160  1.1665  0.4935  0.3155  0.2990   9\n",
            "352   0.560  0.430  0.145  0.8995  0.4640  0.1775  0.2340   9\n",
            "353   0.385  0.280  0.090  0.2280  0.1025  0.0420  0.0655   5\n",
            "354   0.580  0.450  0.150  0.9270  0.2760  0.1815  0.3600  14\n",
            "355   0.595  0.480  0.185  1.1785  0.5260  0.2975  0.3140  10\n",
            "356   0.585  0.470  0.170  1.0990  0.3975  0.2325  0.3580  20\n",
            "357   0.510  0.400  0.125  0.5450  0.2610  0.1150  0.1385   6\n",
            "358   0.515  0.390  0.130  0.5755  0.1975  0.1300  0.1845   9\n",
            "359   0.565  0.455  0.150  0.9795  0.4440  0.2050  0.2750   8\n",
            "360   0.555  0.455  0.180  0.9580  0.2960  0.1950  0.3900  14\n",
            "361   0.500  0.395  0.120  0.5370  0.2165  0.1085  0.1785   9\n",
            "362   0.530  0.415  0.115  0.5915  0.2330  0.1585  0.1800  11\n",
            "363   0.555  0.425  0.150  0.8730  0.4625  0.1845  0.1965   9\n",
            "364   0.565  0.465  0.150  1.1815  0.5810  0.2215  0.3095   9\n",
            "365   0.430  0.330  0.095  0.3400  0.1315  0.0850  0.1120  14\n",
            "366   0.515  0.420  0.135  0.7110  0.3370  0.1440  0.2050  13\n",
            "367   0.550  0.445  0.110  0.7935  0.3780  0.1420  0.2600  10\n",
            "368   0.490  0.355  0.155  0.9810  0.4650  0.2015  0.2505   8\n",
            "369   0.310  0.215  0.075  0.1275  0.0565  0.0275  0.0360   7\n",
            "370   0.200  0.155  0.040  0.0435  0.0155  0.0090  0.0070   4\n",
            "371   0.465  0.340  0.110  0.3460  0.1425  0.0730  0.1130  11\n",
            "372   0.625  0.480  0.160  1.1415  0.5795  0.2145  0.2900   9\n",
            "373   0.575  0.435  0.150  1.0305  0.4605  0.2180  0.3600   8\n",
            "374   0.415  0.315  0.105  0.3300  0.1405  0.0705  0.0950   6\n",
            "375   0.565  0.435  0.150  0.9900  0.5795  0.1825  0.2060   8\n",
            "376   0.470  0.375  0.115  0.4265  0.1685  0.0755  0.1500   8\n",
            "377   0.485  0.380  0.120  0.4725  0.2075  0.1075  0.1470   6\n",
            "378   0.450  0.355  0.105  0.4445  0.1970  0.0930  0.1335   8\n",
            "379   0.375  0.290  0.080  0.2820  0.1405  0.0725  0.0800   7\n",
            "380   0.265  0.205  0.070  0.1055  0.0390  0.0410  0.0350   5\n",
            "381   0.255  0.185  0.070  0.0750  0.0280  0.0180  0.0250   6\n",
            "382   0.335  0.235  0.085  0.1545  0.0660  0.0345  0.0450   6\n",
            "383   0.500  0.400  0.130  0.7715  0.3700  0.1600  0.2110   8\n",
            "384   0.630  0.480  0.160  1.1990  0.5265  0.3350  0.3150  11\n",
            "385   0.680  0.540  0.155  1.5340  0.6710  0.3790  0.3840  10\n",
            "386   0.610  0.365  0.155  1.0765  0.4880  0.2490  0.2700   9\n",
            "387   0.470  0.350  0.100  0.4775  0.1885  0.0885  0.1750   8\n",
            "388   0.450  0.360  0.160  0.5670  0.1740  0.1245  0.2250  12\n",
            "389   0.585  0.460  0.170  0.9325  0.3650  0.2710  0.2900   9\n",
            "390   0.440  0.340  0.120  0.4380  0.2115  0.0830  0.1200   9\n",
            "391   0.575  0.450  0.170  1.0475  0.3775  0.1705  0.3850  18\n",
            "392   0.570  0.440  0.140  0.9535  0.3785  0.2010  0.3050  17\n",
            "393   0.505  0.390  0.185  0.6125  0.2670  0.1420  0.1720   7\n",
            "394   0.570  0.440  0.095  0.8270  0.3395  0.2215  0.2350   8\n",
            "395   0.605  0.475  0.175  1.2525  0.5575  0.3055  0.3430   9\n",
            "396   0.645  0.520  0.180  1.2850  0.5775  0.3520  0.3170   9\n",
            "397   0.355  0.260  0.090  0.1925  0.0770  0.0380  0.0650   8\n",
            "398   0.275  0.200  0.065  0.0920  0.0385  0.0235  0.0270   5\n",
            "399   0.590  0.455  0.155  1.0660  0.3820  0.2275  0.4150  20\n",
            "400   0.495  0.380  0.120  0.5120  0.2330  0.1205  0.1360   7\n",
            "401   0.375  0.280  0.080  0.2165  0.0935  0.0925  0.0700   7\n",
            "402   0.475  0.360  0.120  0.5915  0.3245  0.1100  0.1270   6\n",
            "403   0.540  0.420  0.140  0.6275  0.2505  0.1175  0.2350   9\n",
            "404   0.610  0.500  0.165  1.2715  0.4915  0.1850  0.4900  12\n",
            "405   0.575  0.460  0.155  0.8920  0.4415  0.1760  0.2200  10\n",
            "406   0.630  0.495  0.160  1.0930  0.4970  0.2210  0.3150  12\n",
            "407   0.400  0.300  0.090  0.2815  0.1185  0.0610  0.0800   7\n",
            "408   0.435  0.345  0.120  0.3215  0.1300  0.0560  0.1185   7\n",
            "409   0.510  0.405  0.120  0.6100  0.2290  0.1310  0.2350  11\n",
            "410   0.525  0.410  0.130  0.6875  0.3435  0.1495  0.1765   9\n",
            "411   0.210  0.150  0.050  0.0420  0.0175  0.0125  0.0150   4\n",
            "412   0.435  0.335  0.110  0.4110  0.2025  0.0945  0.1000   7\n",
            "413   0.490  0.380  0.120  0.5290  0.2165  0.1390  0.1550  11\n",
            "414   0.460  0.350  0.115  0.4400  0.1900  0.1025  0.1300   8\n",
            "415   0.485  0.375  0.130  0.6025  0.2935  0.1285  0.1600   7\n",
            "416   0.570  0.450  0.135  0.7940  0.3815  0.1415  0.2450   8\n",
            "417   0.555  0.455  0.160  1.0575  0.3925  0.2280  0.2930  13\n",
            "418   0.480  0.370  0.125  0.4740  0.1790  0.1035  0.1750   9\n",
            "419   0.580  0.470  0.165  0.9270  0.3215  0.1985  0.3150  11\n",
            "420   0.300  0.225  0.075  0.1345  0.0570  0.0280  0.0440   5\n",
            "421   0.490  0.385  0.160  0.6560  0.2455  0.1710  0.2050   9\n",
            "422   0.535  0.400  0.135  0.8215  0.3935  0.1960  0.2050   8\n",
            "423   0.585  0.460  0.170  1.0835  0.3745  0.3260  0.3250  14\n",
            "424   0.630  0.480  0.185  1.2100  0.5300  0.2555  0.3220  11\n",
            "425   0.375  0.290  0.095  0.2875  0.1230  0.0605  0.0800   6\n",
            "426   0.560  0.420  0.140  0.8370  0.4140  0.2140  0.2000   8\n",
            "427   0.330  0.205  0.095  0.1595  0.0770  0.0320  0.0435   5\n",
            "428   0.560  0.445  0.165  0.8320  0.3455  0.1790  0.2790   9\n",
            "429   0.320  0.255  0.085  0.1745  0.0720  0.0330  0.0570   8\n",
            "430   0.475  0.375  0.130  0.5175  0.2075  0.1165  0.1700  10\n",
            "431   0.450  0.350  0.145  0.5425  0.1765  0.1230  0.1750  13\n",
            "432   0.405  0.310  0.120  0.3095  0.1380  0.0580  0.0950  13\n",
            "433   0.235  0.175  0.055  0.0670  0.0270  0.0125  0.0180   6\n",
            "434   0.520  0.410  0.155  0.7270  0.2910  0.1835  0.2350  12\n",
            "435   0.545  0.430  0.150  0.7285  0.3020  0.1315  0.2545  10\n",
            "436   0.415  0.315  0.120  0.4015  0.1990  0.0870  0.0970   8\n",
            "437   0.585  0.455  0.150  0.9870  0.4355  0.2075  0.3100  11\n",
            "438   0.680  0.535  0.185  1.6070  0.7245  0.3215  0.4980  12\n",
            "439   0.655  0.505  0.175  1.2905  0.6205  0.2965  0.3260  10\n",
            "440   0.550  0.430  0.145  0.7895  0.3745  0.1710  0.2230  11\n",
            "441   0.725  0.575  0.175  2.1240  0.7650  0.4515  0.8500  20\n",
            "442   0.605  0.480  0.175  1.1685  0.4815  0.2305  0.3560   9\n",
            "443   0.550  0.425  0.145  0.8900  0.4325  0.1710  0.2360  10\n",
            "444   0.580  0.475  0.135  0.9250  0.3910  0.1650  0.2750  14\n",
            "445   0.600  0.410  0.145  0.9390  0.4475  0.1960  0.2680   8\n",
            "446   0.620  0.480  0.155  1.2555  0.5270  0.3740  0.3175  11\n",
            "447   0.650  0.505  0.170  1.5595  0.6950  0.3515  0.3950  11\n",
            "448   0.295  0.210  0.080  0.1000  0.0380  0.0260  0.0310   8\n",
            "449   0.640  0.505  0.190  1.2355  0.4435  0.3105  0.3650  14\n",
            "450   0.690  0.550  0.200  1.8465  0.7320  0.4720  0.5700  19\n",
            "451   0.615  0.475  0.130  0.8425  0.3530  0.1915  0.2510   8\n",
            "452   0.590  0.500  0.200  1.1870  0.4120  0.2705  0.3700  16\n",
            "453   0.485  0.390  0.100  0.5565  0.2215  0.1155  0.1850   9\n",
            "454   0.625  0.490  0.120  0.8765  0.4560  0.1800  0.2330  10\n",
            "455   0.580  0.430  0.125  0.9115  0.4460  0.2075  0.1210  10\n",
            "456   0.430  0.335  0.115  0.4060  0.1660  0.0935  0.1350   8\n",
            "457   0.540  0.405  0.125  0.8910  0.4815  0.1915  0.2020   9\n",
            "458   0.660  0.525  0.215  1.7860  0.6725  0.3615  0.4065  11\n",
            "459   0.470  0.345  0.120  0.3685  0.1525  0.0615  0.1250   8\n",
            "460   0.400  0.315  0.090  0.3300  0.1510  0.0680  0.0800   6\n",
            "461   0.355  0.280  0.085  0.2905  0.0950  0.0395  0.1150   7\n",
            "462   0.625  0.515  0.150  1.2415  0.5235  0.3065  0.3600  15\n",
            "463   0.480  0.375  0.120  0.5895  0.2535  0.1280  0.1720  11\n",
            "464   0.420  0.335  0.115  0.3690  0.1710  0.0710  0.1200   8\n",
            "465   0.650  0.545  0.185  1.5055  0.6565  0.3410  0.4300  10\n",
            "466   0.565  0.440  0.150  0.8630  0.4350  0.1490  0.2700   9\n",
            "467   0.550  0.415  0.175  1.0420  0.3295  0.2325  0.2905  15\n",
            "468   0.520  0.380  0.140  0.5250  0.1775  0.1150  0.1850  11\n",
            "469   0.360  0.265  0.090  0.2165  0.0960  0.0370  0.0735  10\n",
            "470   0.600  0.475  0.230  1.1570  0.5220  0.2235  0.3600  11\n",
            "471   0.565  0.455  0.130  1.0580  0.4390  0.2645  0.3000  10\n",
            "472   0.615  0.500  0.205  1.1055  0.4445  0.2270  0.3900  16\n",
            "473   0.635  0.525  0.185  1.4065  0.6840  0.3000  0.3745  10\n",
            "474   0.745  0.585  0.190  1.9660  0.8435  0.4370  0.5855  18\n",
            "475   0.605  0.480  0.140  0.9910  0.4735  0.2345  0.2400   8\n",
            "476   0.615  0.485  0.160  1.1575  0.5005  0.2495  0.3150  10\n",
            "477   0.510  0.375  0.110  0.5805  0.2865  0.1180  0.1480   7\n",
            "478   0.635  0.510  0.170  1.2235  0.5320  0.2710  0.3540   9\n",
            "479   0.650  0.525  0.175  1.4715  0.6750  0.3150  0.3990  11\n",
            "480   0.675  0.545  0.195  1.7345  0.6845  0.3695  0.6050  20\n",
            "481   0.505  0.385  0.145  0.6775  0.2360  0.1790  0.2000  15\n",
            "482   0.640  0.495  0.165  1.3070  0.6780  0.2920  0.2660  11\n",
            "483   0.490  0.370  0.110  0.5380  0.2710  0.1035  0.1390   8\n",
            "484   0.630  0.465  0.150  1.0270  0.5370  0.1880  0.1760   8\n",
            "485   0.545  0.400  0.140  0.7780  0.3680  0.2150  0.1800   9\n",
            "486   0.425  0.325  0.110  0.3335  0.1730  0.0450  0.1000   7\n",
            "487   0.385  0.285  0.105  0.2905  0.1215  0.0685  0.0875  12\n",
            "488   0.205  0.155  0.045  0.0425  0.0170  0.0055  0.0155   7\n",
            "489   0.620  0.490  0.150  1.1950  0.4605  0.3020  0.3550   9\n",
            "490   0.500  0.405  0.150  0.5965  0.2530  0.1260  0.1850  12\n",
            "491   0.640  0.505  0.155  1.4025  0.7050  0.2655  0.3350  10\n",
            "492   0.460  0.350  0.115  0.4600  0.2025  0.1115  0.1165   6\n",
            "493   0.520  0.375  0.135  0.5375  0.2210  0.1170  0.1700   8\n",
            "494   0.560  0.450  0.155  0.9125  0.3595  0.2710  0.3500  10\n",
            "495   0.590  0.445  0.135  0.7715  0.3280  0.1745  0.2300   9\n",
            "496   0.625  0.475  0.160  1.3335  0.6050  0.2875  0.3190  10\n",
            "497   0.515  0.380  0.120  0.6250  0.3265  0.1295  0.1600   7\n",
            "498   0.570  0.430  0.145  0.8330  0.3540  0.1440  0.2815  10\n",
            "499   0.280  0.200  0.080  0.0915  0.0330  0.0215  0.0300   5\n",
            "500   0.565  0.440  0.175  0.9025  0.3100  0.1930  0.3250  14\n",
            "501   0.605  0.455  0.160  1.1035  0.4210  0.3015  0.3250   9\n",
            "502   0.585  0.450  0.170  0.8685  0.3325  0.1635  0.2700  22\n",
            "503   0.615  0.455  0.135  1.0590  0.4735  0.2630  0.2740   9\n",
            "504   0.430  0.325  0.090  0.4250  0.2170  0.0870  0.0950   7\n",
            "505   0.310  0.235  0.075  0.1515  0.0560  0.0315  0.0500   7\n",
            "506   0.545  0.430  0.165  0.8020  0.2935  0.1830  0.2800  11\n",
            "507   0.310  0.225  0.075  0.1295  0.0455  0.0335  0.0440   9\n",
            "508   0.595  0.470  0.135  0.9365  0.4340  0.1840  0.2870  10\n",
            "509   0.690  0.550  0.180  1.6915  0.6655  0.4020  0.5000  11\n",
            "510   0.540  0.420  0.140  0.8050  0.3690  0.1725  0.2100  11\n",
            "511   0.675  0.535  0.185  1.5575  0.7035  0.4020  0.4000  11\n",
            "512   0.670  0.520  0.175  1.4755  0.6275  0.3790  0.3740  10\n",
            "513   0.495  0.380  0.135  0.5095  0.2065  0.1165  0.1650   8\n",
            "514   0.600  0.450  0.140  0.8690  0.3425  0.1950  0.2910  11\n",
            "515   0.575  0.445  0.160  0.8390  0.4005  0.1980  0.2390   9\n",
            "516   0.540  0.405  0.150  0.7585  0.3070  0.2075  0.1900  10\n",
            "517   0.560  0.410  0.160  0.8215  0.3420  0.1840  0.2530   9\n",
            "518   0.575  0.485  0.165  1.0405  0.4190  0.2640  0.3000  14\n",
            "519   0.330  0.250  0.090  0.1970  0.0850  0.0410  0.0605  10\n",
            "520   0.485  0.385  0.130  0.5680  0.2505  0.1780  0.1540   7\n",
            "521   0.580  0.460  0.160  1.0630  0.5130  0.2705  0.2625   9\n",
            "522   0.420  0.340  0.115  0.4215  0.1750  0.0930  0.1350   8\n",
            "523   0.615  0.475  0.145  0.9525  0.3915  0.1950  0.3200   9\n",
            "524   0.695  0.530  0.190  1.7260  0.7625  0.4360  0.4550  11\n",
            "525   0.315  0.235  0.075  0.1485  0.0585  0.0375  0.0425   6\n",
            "526   0.600  0.460  0.180  1.1400  0.4230  0.2575  0.3650  10\n",
            "527   0.570  0.430  0.160  0.8110  0.3875  0.1590  0.2285   9\n",
            "528   0.625  0.490  0.145  0.9200  0.4370  0.1735  0.2800  10\n",
            "529   0.460  0.345  0.105  0.4490  0.1960  0.0945  0.1265   7\n",
            "530   0.525  0.395  0.120  0.6080  0.2970  0.1395  0.1405   8\n",
            "531   0.550  0.440  0.165  0.8605  0.3120  0.1690  0.3000  17\n",
            "532   0.575  0.455  0.155  1.0130  0.4685  0.2085  0.2950  11\n",
            "533   0.130  0.095  0.035  0.0105  0.0050  0.0065  0.0035   4\n",
            "534   0.550  0.425  0.160  0.7930  0.3430  0.2035  0.2150   9\n",
            "535   0.200  0.145  0.025  0.0345  0.0110  0.0075  0.0100   5\n",
            "536   0.630  0.505  0.165  1.2600  0.4525  0.2755  0.4060  14\n",
            "537   0.355  0.270  0.100  0.2160  0.0830  0.0370  0.0750  10\n",
            "538   0.530  0.395  0.130  0.5750  0.2470  0.1150  0.1830   9\n",
            "539   0.405  0.305  0.120  0.3185  0.1235  0.0905  0.0950   7\n",
            "540   0.670  0.550  0.190  1.3905  0.5425  0.3035  0.4000  12\n",
            "541   0.480  0.350  0.135  0.5465  0.2735  0.0995  0.1580   8\n",
            "542   0.650  0.495  0.160  1.2075  0.5500  0.2695  0.3200  10\n",
            "543   0.460  0.355  0.140  0.4910  0.2070  0.1150  0.1740  10\n",
            "544   0.430  0.350  0.110  0.4060  0.1675  0.0810  0.1350  10\n",
            "545   0.670  0.550  0.170  1.2470  0.4720  0.2455  0.4000  21\n",
            "546   0.515  0.400  0.160  0.8175  0.2515  0.1560  0.3000  23\n",
            "547   0.415  0.315  0.125  0.3880  0.0680  0.0900  0.1250  12\n",
            "548   0.580  0.460  0.165  1.2275  0.4730  0.1965  0.4350  16\n",
            "549   0.175  0.125  0.040  0.0240  0.0095  0.0060  0.0050   4\n",
            "550   0.625  0.515  0.170  1.3310  0.5725  0.3005  0.3610   9\n",
            "551   0.680  0.520  0.165  1.4775  0.7240  0.2790  0.4060  11\n",
            "552   0.440  0.355  0.120  0.4950  0.2310  0.1100  0.1250   7\n",
            "553   0.550  0.430  0.180  0.8265  0.4405  0.1590  0.2250  10\n",
            "554   0.585  0.450  0.150  0.9970  0.4055  0.2830  0.2510  11\n",
            "555   0.415  0.310  0.105  0.3595  0.1670  0.0830  0.0915   6\n",
            "556   0.615  0.470  0.175  1.2985  0.5135  0.3430  0.3200  14\n",
            "557   0.610  0.460  0.160  1.0000  0.4940  0.1970  0.2750  10\n",
            "558   0.645  0.510  0.190  1.4865  0.6445  0.2960  0.4250  12\n",
            "559   0.550  0.450  0.130  0.8040  0.3375  0.1405  0.2300   6\n",
            "560   0.645  0.515  0.175  1.6115  0.6745  0.3840  0.3850  14\n",
            "561   0.720  0.560  0.180  1.5865  0.6910  0.3750  0.4425  11\n",
            "562   0.535  0.430  0.140  0.7165  0.2855  0.1595  0.2155   8\n",
            "563   0.660  0.525  0.180  1.5965  0.7765  0.3970  0.3605  10\n",
            "564   0.575  0.475  0.145  0.8570  0.3665  0.1730  0.2690   9\n",
            "565   0.715  0.520  0.180  1.6000  0.7080  0.3525  0.4450  12\n",
            "566   0.610  0.475  0.165  1.1160  0.4280  0.2205  0.3150  15\n",
            "567   0.550  0.405  0.125  0.6510  0.2965  0.1370  0.2000   9\n",
            "568   0.675  0.525  0.175  1.4020  0.4830  0.3205  0.4650  16\n",
            "569   0.475  0.370  0.125  0.5095  0.2165  0.1125  0.1650   9\n",
            "570   0.490  0.400  0.135  0.6240  0.3035  0.1285  0.1690   8\n",
            "571   0.660  0.505  0.185  1.5280  0.6900  0.3025  0.4410  11\n",
            "572   0.140  0.105  0.035  0.0140  0.0055  0.0025  0.0040   3\n",
            "573   0.500  0.400  0.125  0.5975  0.2700  0.1275  0.1660   9\n",
            "574   0.645  0.505  0.185  1.4630  0.5920  0.3905  0.4160  10\n",
            "575   0.405  0.285  0.090  0.2645  0.1265  0.0505  0.0750   6\n",
            "576   0.550  0.420  0.170  0.8465  0.3360  0.2405  0.2450  13\n",
            "577   0.360  0.270  0.085  0.1960  0.0875  0.0350  0.0640   4\n",
            "578   0.630  0.505  0.175  1.2210  0.5550  0.2520  0.3400  12\n",
            "579   0.450  0.340  0.105  0.4385  0.2100  0.0925  0.1200   8\n",
            "580   0.560  0.440  0.140  0.9285  0.3825  0.1880  0.3000  11\n",
            "581   0.640  0.510  0.175  1.3680  0.5150  0.2660  0.5700  21\n",
            "582   0.640  0.510  0.190  1.6130  0.6215  0.3610  0.4700  14\n",
            "583   0.670  0.535  0.190  1.6690  0.7465  0.2935  0.5080  11\n",
            "584   0.205  0.150  0.065  0.0400  0.0200  0.0110  0.0130   4\n",
            "585   0.545  0.440  0.135  0.9185  0.4290  0.2015  0.2375  10\n",
            "586   0.415  0.330  0.090  0.3595  0.1700  0.0810  0.0900   6\n",
            "587   0.515  0.455  0.135  0.7225  0.2950  0.1625  0.2350   9\n",
            "588   0.660  0.530  0.170  1.3905  0.5905  0.2120  0.4530  15\n",
            "589   0.685  0.540  0.160  1.6675  0.8330  0.3775  0.4750  11\n",
            "590   0.480  0.370  0.130  0.5885  0.2475  0.1505  0.1595  15\n",
            "591   0.300  0.220  0.080  0.1210  0.0475  0.0420  0.0350   5\n",
            "592   0.530  0.405  0.150  0.8315  0.3520  0.1870  0.2525  10\n",
            "593   0.430  0.325  0.110  0.3675  0.1355  0.0935  0.1200  13\n",
            "594   0.445  0.320  0.120  0.4140  0.1990  0.0900  0.1170   7\n",
            "595   0.445  0.325  0.100  0.3780  0.1795  0.1000  0.0890   7\n",
            "596   0.775  0.570  0.220  2.0320  0.7350  0.4755  0.6585  17\n",
            "597   0.390  0.300  0.100  0.2665  0.1105  0.0590  0.0840   7\n",
            "598   0.580  0.450  0.185  0.9955  0.3945  0.2720  0.2850  11\n",
            "599   0.340  0.265  0.070  0.1850  0.0625  0.0395  0.0700   7\n",
            "600   0.490  0.380  0.140  0.7605  0.2450  0.1670  0.1850  10\n",
            "601   0.535  0.420  0.130  0.8055  0.3010  0.1810  0.2800  14\n",
            "602   0.445  0.345  0.090  0.3795  0.1430  0.0740  0.1250  10\n",
            "603   0.645  0.485  0.155  1.4890  0.5915  0.3120  0.3800  18\n",
            "604   0.575  0.475  0.160  1.1140  0.4955  0.2745  0.2900   9\n",
            "605   0.745  0.565  0.215  1.9310  0.8960  0.4585  0.5000  11\n",
            "606   0.605  0.465  0.165  1.0560  0.4215  0.2475  0.3400  13\n",
            "607   0.425  0.310  0.095  0.3505  0.1645  0.0710  0.1000   8\n",
            "608   0.415  0.325  0.100  0.3335  0.1445  0.0715  0.0950   7\n",
            "609   0.455  0.350  0.105  0.4445  0.2130  0.1070  0.1115   7\n",
            "610   0.580  0.445  0.160  0.9840  0.4900  0.2010  0.2700   9\n",
            "611   0.510  0.400  0.125  0.5935  0.2390  0.1300  0.2040   8\n",
            "612   0.635  0.495  0.170  1.3695  0.6570  0.3055  0.3650  10\n",
            "613   0.740  0.605  0.200  2.4925  1.1455  0.5750  0.5235  13\n",
            "614   0.720  0.550  0.195  2.0730  1.0715  0.4265  0.5015   9\n",
            "615   0.655  0.545  0.185  1.7590  0.6865  0.3130  0.5470  11\n",
            "616   0.700  0.535  0.160  1.7255  0.6300  0.2635  0.5400  19\n",
            "617   0.530  0.425  0.150  0.8495  0.3280  0.2320  0.2020   8\n",
            "618   0.510  0.400  0.140  0.6515  0.2455  0.1665  0.1850  10\n",
            "619   0.605  0.470  0.160  1.1735  0.4975  0.2405  0.3450  12\n",
            "620   0.375  0.260  0.080  0.2075  0.0900  0.0415  0.0700   6\n",
            "621   0.595  0.465  0.175  1.1150  0.4015  0.2540  0.3900  13\n",
            "622   0.640  0.540  0.175  1.2210  0.5100  0.2590  0.3900  15\n",
            "623   0.435  0.345  0.120  0.4475  0.2210  0.1120  0.1250   7\n",
            "624   0.570  0.440  0.190  1.0180  0.4470  0.2070  0.2650   9\n",
            "625   0.535  0.405  0.145  0.6845  0.2725  0.1710  0.2050  10\n",
            "626   0.415  0.305  0.100  0.3250  0.1560  0.0505  0.0910   6\n",
            "627   0.565  0.450  0.195  1.0035  0.4060  0.2505  0.2850  15\n",
            "628   0.550  0.420  0.135  0.8160  0.3995  0.1485  0.2300  12\n",
            "629   0.655  0.530  0.195  1.3880  0.5670  0.2735  0.4100  13\n",
            "630   0.415  0.325  0.100  0.3850  0.1670  0.0800  0.1250   7\n",
            "631   0.510  0.400  0.130  0.6435  0.2700  0.1665  0.2050  12\n",
            "632   0.505  0.385  0.130  0.6435  0.3135  0.1490  0.1515   7\n",
            "633   0.385  0.290  0.100  0.2575  0.1000  0.0610  0.0860   6\n",
            "634   0.520  0.405  0.125  0.6435  0.2415  0.1735  0.2100  12\n",
            "635   0.450  0.350  0.130  0.5470  0.2450  0.1405  0.1405   8\n",
            "636   0.630  0.475  0.155  1.0005  0.4520  0.2520  0.2650  10\n",
            "637   0.565  0.440  0.185  0.9090  0.3440  0.2325  0.2550  15\n",
            "638   0.345  0.250  0.090  0.2030  0.0780  0.0590  0.0550   6\n",
            "639   0.505  0.395  0.105  0.5510  0.2480  0.1030  0.1710   8\n",
            "640   0.565  0.425  0.135  0.8115  0.3410  0.1675  0.2550  15\n",
            "641   0.410  0.315  0.095  0.3060  0.1210  0.0735  0.0900   9\n",
            "642   0.490  0.420  0.125  0.6090  0.2390  0.1435  0.2200  14\n",
            "643   0.450  0.360  0.125  0.5065  0.2220  0.1050  0.1600  10\n",
            "644   0.515  0.360  0.125  0.4725  0.1815  0.1250  0.1380   9\n",
            "645   0.540  0.440  0.160  1.0905  0.3910  0.2295  0.3550  15\n",
            "646   0.345  0.255  0.095  0.1830  0.0750  0.0385  0.0600   6\n",
            "647   0.705  0.565  0.515  2.2100  1.1075  0.4865  0.5120  10\n",
            "648   0.550  0.420  0.145  0.7385  0.3210  0.1485  0.2520  11\n",
            "649   0.600  0.465  0.155  1.0165  0.5120  0.2465  0.2250  10\n",
            "650   0.580  0.425  0.155  0.8730  0.3615  0.2490  0.2390  10\n",
            "651   0.625  0.470  0.155  1.1955  0.6430  0.2055  0.3145  12\n",
            "652   0.610  0.485  0.170  1.1005  0.5125  0.2290  0.3050  11\n",
            "653   0.490  0.385  0.140  0.5425  0.1980  0.1270  0.1750  11\n",
            "654   0.460  0.375  0.135  0.4935  0.1860  0.0845  0.1700  12\n",
            "655   0.610  0.485  0.160  1.0145  0.5315  0.2120  0.2415   8\n",
            "656   0.600  0.500  0.155  1.3320  0.6235  0.2835  0.3500   8\n",
            "657   0.580  0.475  0.155  0.9740  0.4305  0.2300  0.2850  10\n",
            "658   0.480  0.370  0.120  0.5360  0.2510  0.1140  0.1500   8\n",
            "659   0.550  0.425  0.135  0.8515  0.3620  0.1960  0.2700  14\n",
            "660   0.545  0.435  0.150  0.6855  0.2905  0.1450  0.2250  10\n",
            "661   0.500  0.375  0.115  0.5945  0.1850  0.1480  0.1900  11\n",
            "662   0.600  0.470  0.130  1.0105  0.4230  0.2190  0.2980   9\n",
            "663   0.670  0.505  0.205  1.3645  0.6075  0.3025  0.3530   9\n",
            "664   0.575  0.460  0.165  0.9155  0.4005  0.2465  0.2385   8\n",
            "665   0.675  0.520  0.145  1.3645  0.5570  0.3405  0.3850  11\n",
            "666   0.460  0.365  0.115  0.5110  0.2365  0.1180  0.1230   7\n",
            "667   0.505  0.475  0.160  1.1155  0.5090  0.2390  0.3065   8\n",
            "668   0.310  0.235  0.070  0.1510  0.0630  0.0405  0.0450   6\n",
            "669   0.560  0.430  0.125  0.8025  0.3130  0.1715  0.2630  13\n",
            "670   0.595  0.470  0.155  1.1775  0.5420  0.2690  0.3100   9\n",
            "671   0.235  0.160  0.040  0.0480  0.0185  0.0180  0.0150   5\n",
            "672   0.615  0.480  0.190  1.3600  0.5305  0.2375  0.4700  18\n",
            "673   0.450  0.330  0.105  0.4480  0.2080  0.0890  0.1200   9\n",
            "674   0.335  0.265  0.095  0.1975  0.0795  0.0375  0.0700   9\n",
            "675   0.410  0.315  0.110  0.3210  0.1255  0.0655  0.0950  10\n",
            "676   0.450  0.330  0.110  0.3685  0.1600  0.0885  0.1020   6\n",
            "677   0.700  0.580  0.205  2.1300  0.7415  0.4900  0.5800  20\n",
            "678   0.675  0.545  0.185  1.7375  0.8760  0.3135  0.4690  13\n",
            "679   0.405  0.300  0.110  0.3200  0.1720  0.0440  0.0930   7\n",
            "680   0.540  0.425  0.120  0.8170  0.2945  0.1530  0.1950  10\n",
            "681   0.695  0.535  0.175  1.3610  0.5465  0.2815  0.4650  10\n",
            "682   0.630  0.530  0.175  1.4135  0.6670  0.2945  0.3555  13\n",
            "683   0.570  0.420  0.155  1.0080  0.3770  0.1930  0.3400  13\n",
            "684   0.575  0.475  0.170  0.9670  0.3775  0.2840  0.2750  13\n",
            "685   0.610  0.500  0.180  1.4380  0.5185  0.3735  0.3345   9\n",
            "686   0.760  0.575  0.190  1.8290  0.7035  0.3860  0.5600  14\n",
            "687   0.570  0.460  0.170  0.9035  0.4075  0.1935  0.2140   7\n",
            "688   0.465  0.355  0.115  0.4705  0.1955  0.1180  0.1260   7\n",
            "689   0.740  0.575  0.220  2.0120  0.8915  0.5265  0.4710  12\n",
            "690   0.650  0.525  0.165  1.2380  0.6470  0.2485  0.3005   9\n",
            "691   0.560  0.425  0.135  0.8205  0.3715  0.1850  0.2360   9\n",
            "692   0.680  0.570  0.205  1.8420  0.6250  0.4080  0.6500  20\n",
            "693   0.275  0.200  0.055  0.0925  0.0380  0.0210  0.0260   4\n",
            "694   0.645  0.500  0.170  1.1845  0.4805  0.2740  0.3550  13\n",
            "695   0.535  0.390  0.125  0.5990  0.2595  0.1490  0.1690   9\n",
            "696   0.720  0.595  0.225  1.9690  0.8045  0.4230  0.6600  16\n",
            "697   0.655  0.460  0.160  1.4940  0.6895  0.3310  0.1825   9\n",
            "698   0.510  0.400  0.145  0.5775  0.2310  0.1430  0.1770   9\n",
            "699   0.410  0.320  0.115  0.3870  0.1650  0.1005  0.0985  11\n",
            "700   0.525  0.400  0.140  0.6955  0.2405  0.1600  0.2530  10\n",
            "701   0.495  0.375  0.115  0.5755  0.3100  0.1145  0.1395   8\n",
            "702   0.380  0.275  0.110  0.2560  0.1100  0.0535  0.0755   6\n",
            "703   0.545  0.420  0.140  0.7505  0.2475  0.1300  0.2550  22\n",
            "704   0.505  0.395  0.135  0.5915  0.2880  0.1315  0.1850  12\n",
            "705   0.650  0.500  0.170  1.4045  0.6940  0.3180  0.3235  11\n",
            "706   0.645  0.490  0.160  1.1440  0.5015  0.2890  0.3190   8\n",
            "707   0.580  0.440  0.145  0.7905  0.3525  0.1645  0.2420  10\n",
            "708   0.330  0.255  0.095  0.1875  0.0735  0.0450  0.0600   7\n",
            "709   0.665  0.500  0.170  1.2975  0.6035  0.2910  0.3595   9\n",
            "710   0.190  0.130  0.045  0.0265  0.0090  0.0050  0.0090   5\n",
            "711   0.355  0.280  0.110  0.2235  0.0815  0.0525  0.0800   7\n",
            "712   0.375  0.280  0.080  0.2260  0.1050  0.0470  0.0650   6\n",
            "713   0.360  0.270  0.090  0.2075  0.0980  0.0390  0.0620   6\n",
            "714   0.390  0.295  0.095  0.2030  0.0875  0.0450  0.0750   7\n",
            "715   0.500  0.390  0.130  0.5075  0.2115  0.1040  0.1755   9\n",
            "716   0.660  0.515  0.200  1.6465  0.7490  0.4220  0.4010  11\n",
            "717   0.450  0.360  0.110  0.4470  0.2030  0.0820  0.1300  12\n",
            "718   0.630  0.500  0.175  1.2645  0.5635  0.3065  0.3425  10\n",
            "719   0.480  0.400  0.125  0.7590  0.2125  0.1790  0.2400  15\n",
            "720   0.635  0.495  0.015  1.1565  0.5115  0.3080  0.2885   9\n",
            "721   0.610  0.465  0.160  1.0725  0.4835  0.2515  0.2800  10\n",
            "722   0.580  0.450  0.155  0.9300  0.3850  0.2460  0.2650   9\n",
            "723   0.655  0.510  0.215  1.7835  0.8885  0.4095  0.4195  11\n",
            "724   0.465  0.360  0.105  0.4310  0.1720  0.1070  0.1750   9\n",
            "725   0.400  0.310  0.100  0.1270  0.1060  0.0710  0.0850   7\n",
            "726   0.255  0.190  0.070  0.0815  0.0280  0.0160  0.0310   5\n",
            "727   0.580  0.455  0.135  0.7955  0.4050  0.1670  0.2040  10\n",
            "728   0.415  0.340  0.130  0.3675  0.1460  0.0885  0.1200  10\n",
            "729   0.655  0.510  0.175  1.4150  0.5885  0.3725  0.3640  10\n",
            "730   0.235  0.160  0.060  0.0545  0.0265  0.0095  0.0150   4\n",
            "731   0.230  0.175  0.065  0.0645  0.0260  0.0105  0.0200   5\n",
            "732   0.430  0.340  0.120  0.3575  0.1510  0.0645  0.1045   9\n",
            "733   0.635  0.500  0.190  1.2900  0.5930  0.3045  0.3520   8\n",
            "734   0.585  0.455  0.150  0.9060  0.4095  0.2300  0.2335   8\n",
            "735   0.620  0.490  0.160  1.0660  0.4460  0.2460  0.3050  11\n",
            "736   0.630  0.485  0.165  1.2330  0.6565  0.2315  0.3035  10\n",
            "737   0.440  0.320  0.105  0.3875  0.1755  0.0740  0.1200   9\n",
            "738   0.455  0.355  1.130  0.5940  0.3320  0.1160  0.1335   8\n",
            "739   0.445  0.330  0.110  0.3580  0.1525  0.0670  0.1185   8\n",
            "740   0.335  0.250  0.095  0.1850  0.0795  0.0495  0.0550   8\n",
            "741   0.535  0.410  0.150  0.8105  0.3450  0.1870  0.2400  11\n",
            "742   0.455  0.375  0.125  0.5330  0.2330  0.1060  0.1850   8\n",
            "743   0.495  0.400  0.155  0.6445  0.2420  0.1325  0.2050  17\n",
            "744   0.560  0.440  0.160  1.1115  0.5035  0.2785  0.2600  10\n",
            "745   0.580  0.450  0.150  0.9200  0.3930  0.2120  0.2895   9\n",
            "746   0.470  0.350  0.135  0.5670  0.2315  0.1465  0.1525  11\n",
            "747   0.695  0.550  0.220  1.5515  0.5660  0.3835  0.4450  13\n",
            "748   0.465  0.355  0.120  0.5315  0.2725  0.0970  0.1395   8\n",
            "749   0.490  0.385  0.120  0.5910  0.2710  0.1125  0.1775   9\n",
            "750   0.340  0.245  0.085  0.2015  0.1005  0.0380  0.0530   6\n",
            "751   0.385  0.305  0.125  0.3140  0.1460  0.0555  0.0800  10\n",
            "752   0.450  0.345  0.105  0.4115  0.1800  0.1125  0.1350   7\n",
            "753   0.300  0.230  0.075  0.1500  0.0605  0.0420  0.0450   5\n",
            "754   0.435  0.330  0.105  0.3350  0.1560  0.0555  0.1050   8\n",
            "755   0.650  0.505  0.165  1.1600  0.4785  0.2740  0.3490  11\n",
            "756   0.695  0.580  0.200  1.8995  0.6750  0.4780  0.5295  13\n",
            "757   0.645  0.505  0.165  1.3070  0.4335  0.2620  0.5200  10\n",
            "758   0.325  0.250  0.070  0.1745  0.0875  0.0355  0.0400   7\n",
            "759   0.635  0.495  0.175  1.2110  0.7070  0.2725  0.3230   9\n",
            "760   0.300  0.220  0.065  0.1195  0.0520  0.0155  0.0350   5\n",
            "761   0.545  0.430  0.155  0.8035  0.4090  0.1440  0.2280   7\n",
            "762   0.620  0.485  0.155  1.0490  0.4620  0.2310  0.2500  10\n",
            "763   0.730  0.595  0.230  2.8255  1.1465  0.4190  0.8970  17\n",
            "764   0.670  0.535  0.185  1.5970  0.6275  0.3500  0.4700  21\n",
            "765   0.365  0.295  0.095  0.2500  0.1075  0.0545  0.0800   9\n",
            "766   0.615  0.500  0.165  1.3270  0.6000  0.3015  0.3550  10\n",
            "767   0.415  0.325  0.100  0.3215  0.1535  0.0595  0.1050  10\n",
            "768   0.665  0.535  0.225  2.1835  0.7535  0.3910  0.8850  27\n",
            "769   0.680  0.530  0.185  1.1095  0.4390  0.2450  0.3400  10\n",
            "770   0.370  0.275  0.100  0.2295  0.0885  0.0465  0.0700   7\n",
            "771   0.585  0.450  0.160  0.9045  0.4050  0.2215  0.2335   8\n",
            "772   0.450  0.345  0.110  0.4700  0.2355  0.0855  0.1135   7\n",
            "773   0.645  0.510  0.155  1.5390  0.6405  0.3585  0.4300  11\n",
            "774   0.605  0.450  0.165  1.2225  0.3570  0.2020  0.3850  13\n",
            "775   0.690  0.535  0.185  1.8260  0.7970  0.4090  0.4990  11\n",
            "776   0.500  0.410  0.150  0.6620  0.2815  0.1370  0.2200  11\n",
            "777   0.405  0.310  0.100  0.3850  0.1730  0.0915  0.1100   7\n",
            "778   0.645  0.510  0.165  1.4030  0.5755  0.2515  0.4545  11\n",
            "779   0.610  0.475  0.175  1.0240  0.4090  0.2610  0.3220   9\n",
            "780   0.610  0.480  0.140  1.0625  0.5160  0.2250  0.2915  11\n",
            "781   0.545  0.390  0.135  0.7835  0.4225  0.1815  0.1560   7\n",
            "782   0.625  0.470  0.180  1.1360  0.4510  0.3245  0.3050  11\n",
            "783   0.700  0.550  0.195  1.6245  0.6750  0.3470  0.5350  13\n",
            "784   0.395  0.310  0.095  0.3130  0.1310  0.0720  0.0930   7\n",
            "785   0.380  0.285  0.090  0.2305  0.1005  0.0390  0.0775   7\n",
            "786   0.280  0.220  0.080  0.1315  0.0660  0.0240  0.0300   5\n",
            "787   0.595  0.450  0.150  1.1140  0.5865  0.2205  0.2500  11\n",
            "788   0.385  0.290  0.080  0.2485  0.1220  0.0495  0.0650   7\n",
            "789   0.500  0.410  0.140  0.6615  0.2585  0.1625  0.1960   9\n",
            "790   0.385  0.290  0.085  0.2505  0.1120  0.0610  0.0800   8\n",
            "791   0.640  0.485  0.160  1.0060  0.4560  0.2245  0.2835   9\n",
            "792   0.670  0.540  0.200  1.4600  0.6435  0.3280  0.4165   9\n",
            "793   0.485  0.370  0.140  0.5725  0.2040  0.1415  0.1750  10\n",
            "794   0.530  0.425  0.130  0.7675  0.4190  0.1205  0.2100   9\n",
            "795   0.500  0.395  0.145  0.7865  0.3320  0.1815  0.2455   8\n",
            "796   0.590  0.475  0.140  0.9770  0.4625  0.2025  0.2750  10\n",
            "797   0.425  0.315  0.125  0.3525  0.1135  0.0565  0.1300  18\n",
            "798   0.660  0.500  0.155  1.3765  0.6485  0.2880  0.3350  12\n",
            "799   0.505  0.405  0.130  0.6015  0.3015  0.1100  0.1800   8\n",
            "800   0.615  0.480  0.175  1.1180  0.4460  0.3195  0.3000   9\n",
            "801   0.615  0.475  0.150  1.0375  0.4760  0.2325  0.2830   9\n",
            "802   0.430  0.335  0.120  0.4440  0.1550  0.1145  0.1400  13\n",
            "803   0.605  0.475  0.175  1.0760  0.4630  0.2195  0.3350   9\n",
            "804   0.370  0.265  0.075  0.2140  0.0900  0.0510  0.0700   6\n",
            "805   0.670  0.515  0.170  1.4265  0.6605  0.3395  0.3700  11\n",
            "806   0.560  0.450  0.145  0.9355  0.4250  0.1645  0.2725  11\n",
            "807   0.455  0.365  0.115  0.4305  0.1840  0.1080  0.1245   8\n",
            "808   0.430  0.325  0.120  0.4450  0.1650  0.0995  0.1550   8\n",
            "809   0.660  0.520  0.190  1.5580  0.7550  0.2980  0.4000  10\n",
            "810   0.440  0.325  0.090  0.3500  0.1480  0.0670  0.1050   7\n",
            "811   0.420  0.325  0.115  0.3540  0.1625  0.0640  0.1050   8\n",
            "812   0.520  0.425  0.165  0.9885  0.3960  0.2250  0.3200  16\n",
            "813   0.480  0.355  0.160  0.4640  0.2210  0.1060  0.2390   8\n",
            "814   0.550  0.435  0.140  0.7995  0.2950  0.1905  0.2380  10\n",
            "815   0.490  0.390  0.135  0.5920  0.2420  0.0960  0.1835  15\n",
            "816   0.540  0.440  0.135  0.9590  0.2385  0.2210  0.3000  17\n",
            "817   0.335  0.250  0.080  0.1695  0.0695  0.0440  0.0495   6\n",
            "818   0.585  0.460  0.140  0.7635  0.3260  0.1530  0.2650   9\n",
            "819   0.550  0.450  0.145  0.7410  0.2950  0.1435  0.2665  10\n",
            "820   0.340  0.260  0.090  0.1790  0.0760  0.0525  0.0550   6\n",
            "821   0.355  0.260  0.090  0.1985  0.0715  0.0495  0.0580   7\n",
            "822   0.545  0.410  0.145  0.8730  0.3035  0.1960  0.3100  18\n",
            "823   0.390  0.300  0.100  0.2650  0.1075  0.0600  0.0865  13\n",
            "824   0.595  0.435  0.160  1.0570  0.4255  0.2240  0.3100   9\n",
            "825   0.615  0.485  0.215  0.9615  0.4220  0.1760  0.2900  11\n",
            "826   0.570  0.445  0.155  0.8670  0.3705  0.1705  0.2800   9\n",
            "827   0.605  0.505  0.180  1.4340  0.7285  0.2640  0.4310  11\n",
            "828   0.550  0.450  0.150  0.8750  0.3620  0.1755  0.2765  10\n",
            "829   0.365  0.275  0.085  0.2230  0.0980  0.0375  0.0750   7\n",
            "830   0.670  0.525  0.180  1.4915  0.7280  0.3430  0.3810   9\n",
            "831   0.505  0.400  0.130  0.7640  0.3035  0.1890  0.2175  11\n",
            "832   0.480  0.355  0.110  0.4495  0.2010  0.0890  0.1400   8\n",
            "833   0.455  0.365  0.110  0.3850  0.1660  0.0460  0.1345  13\n",
            "834   0.635  0.510  0.175  1.2125  0.5735  0.2610  0.3600  14\n",
            "835   0.215  0.150  0.055  0.0410  0.0150  0.0090  0.0125   3\n",
            "836   0.600  0.490  0.210  1.9875  1.0050  0.4190  0.4910  10\n",
            "837   0.375  0.280  0.090  0.2150  0.0840  0.0600  0.0550   6\n",
            "838   0.515  0.395  0.120  0.6460  0.2850  0.1365  0.1720   9\n",
            "839   0.615  0.475  0.170  1.0550  0.5430  0.2460  0.2345   9\n",
            "840   0.350  0.255  0.085  0.2145  0.1000  0.0465  0.0600  13\n",
            "841   0.620  0.485  0.145  1.0030  0.4655  0.2195  0.2800  11\n",
            "842   0.465  0.345  0.105  0.4015  0.2420  0.0345  0.1090   6\n",
            "843   0.425  0.330  0.115  0.3265  0.1315  0.0770  0.1030   6\n",
            "844   0.170  0.130  0.095  0.0300  0.0130  0.0080  0.0100   4\n",
            "845   0.395  0.295  0.090  0.3025  0.1430  0.0665  0.0765   5\n",
            "846   0.500  0.395  0.150  0.7145  0.3235  0.1730  0.1950   9\n",
            "847   0.645  0.530  0.195  1.3900  0.6465  0.2945  0.3735  10\n",
            "848   0.770  0.620  0.195  2.5155  1.1155  0.6415  0.6420  12\n",
            "849   0.295  0.225  0.080  0.1240  0.0485  0.0320  0.0400   9\n",
            "850   0.495  0.380  0.145  0.5150  0.1750  0.0980  0.2120  13\n",
            "851   0.595  0.430  0.210  1.5245  0.6530  0.3960  0.4100  11\n",
            "852   0.565  0.445  0.125  0.8305  0.3135  0.1785  0.2300  11\n",
            "853   0.650  0.500  0.165  1.1445  0.4850  0.2180  0.3650  12\n",
            "854   0.575  0.450  0.100  0.9315  0.4310  0.2220  0.2350  12\n",
            "855   0.590  0.470  0.180  1.1870  0.5985  0.2270  0.3100   9\n",
            "856   0.385  0.290  0.090  0.2615  0.1110  0.0595  0.0745   9\n",
            "857   0.395  0.320  0.100  0.3075  0.1490  0.0535  0.0900   8\n",
            "858   0.210  0.150  0.050  0.0385  0.0155  0.0085  0.0100   3\n",
            "859   0.645  0.510  0.160  1.1835  0.5560  0.2385  0.3450  11\n",
            "860   0.530  0.410  0.140  0.6810  0.3095  0.1415  0.1835   6\n",
            "861   0.695  0.550  0.160  1.6365  0.6940  0.3005  0.4400  13\n",
            "862   0.625  0.480  0.170  1.3525  0.6235  0.2780  0.3650  10\n",
            "863   0.595  0.450  0.140  0.8380  0.3965  0.1940  0.2170  10\n",
            "864   0.435  0.335  0.100  0.3245  0.1350  0.0785  0.0980   7\n",
            "865   0.525  0.405  0.130  0.7185  0.3265  0.1975  0.1750   8\n",
            "866   0.470  0.360  0.120  0.4775  0.2105  0.1055  0.1500  10\n",
            "867   0.640  0.485  0.185  1.4195  0.6735  0.3465  0.3255  11\n",
            "868   0.530  0.420  0.155  0.8100  0.4725  0.1110  0.1920  10\n",
            "869   0.535  0.435  0.155  0.8915  0.3415  0.1770  0.2500  13\n",
            "870   0.525  0.420  0.160  0.7560  0.2745  0.1730  0.2750   9\n",
            "871   0.700  0.560  0.175  1.6605  0.8605  0.3275  0.3980  11\n",
            "872   0.605  0.500  0.175  1.0980  0.4765  0.2320  0.3750  12\n",
            "873   0.650  0.525  0.190  1.3685  0.5975  0.2960  0.4000  11\n",
            "874   0.540  0.425  0.135  0.6860  0.3475  0.1545  0.2130   8\n",
            "875   0.645  0.500  0.190  1.2290  0.5240  0.2780  0.3950  17\n",
            "876   0.690  0.530  0.170  1.5535  0.7945  0.3485  0.3695   9\n",
            "877   0.605  0.485  0.160  1.2220  0.5300  0.2575  0.2800  13\n",
            "878   0.440  0.335  0.110  0.3885  0.1750  0.0835  0.1110   7\n",
            "879   0.430  0.340  0.120  0.3910  0.1555  0.0950  0.1405   7\n",
            "880   0.655  0.505  0.165  1.2700  0.6035  0.2620  0.3350  10\n",
            "881   0.420  0.310  0.100  0.2805  0.1125  0.0615  0.0925   8\n",
            "882   0.430  0.350  0.105  0.3660  0.1705  0.0855  0.1100   6\n",
            "883   0.425  0.315  0.095  0.3675  0.1865  0.0675  0.0985   7\n",
            "884   0.595  0.460  0.150  0.8335  0.3770  0.1925  0.2350   8\n",
            "885   0.520  0.450  0.150  0.8950  0.3615  0.1860  0.2350  14\n",
            "886   0.515  0.430  0.140  0.8340  0.3670  0.2000  0.2300   8\n",
            "887   0.350  0.250  0.100  0.4015  0.1725  0.0630  0.1255   7\n",
            "888   0.650  0.510  0.155  1.1890  0.4830  0.2780  0.3645  13\n",
            "889   0.595  0.495  0.235  1.3660  0.5065  0.2190  0.5200  13\n",
            "890   0.655  0.500  0.205  1.5280  0.6215  0.3725  0.4535  11\n",
            "891   0.395  0.300  0.090  0.2790  0.1340  0.0490  0.0750   8\n",
            "892   0.530  0.425  0.130  0.7585  0.3250  0.1970  0.2050   8\n",
            "893   0.625  0.500  0.180  1.3705  0.6450  0.3030  0.3705  12\n",
            "894   0.425  0.310  0.090  0.3010  0.1385  0.0650  0.0800   7\n",
            "895   0.540  0.415  0.135  0.7090  0.3195  0.1740  0.1850   9\n",
            "896   0.465  0.360  0.120  0.4765  0.1920  0.1125  0.1600  10\n",
            "897   0.325  0.250  0.075  0.1585  0.0750  0.0305  0.0455   6\n",
            "898   0.535  0.440  0.150  0.6765  0.2560  0.1390  0.2600  12\n",
            "899   0.640  0.525  0.215  1.7790  0.4535  0.2855  0.5500  22\n",
            "900   0.625  0.490  0.165  1.1835  0.5170  0.2375  0.3900  11\n",
            "901   0.500  0.405  0.140  0.6735  0.2650  0.1240  0.2500  18\n",
            "902   0.550  0.465  0.180  1.2125  0.3245  0.2050  0.5250  27\n",
            "903   0.545  0.440  0.165  0.7440  0.2875  0.2040  0.2500  15\n",
            "904   0.435  0.300  0.120  0.5965  0.2590  0.1390  0.1645   8\n",
            "905   0.725  0.550  0.200  1.5100  0.8735  0.4265  0.5085   9\n",
            "906   0.550  0.450  0.150  1.0145  0.4070  0.2015  0.2875  10\n",
            "907   0.495  0.385  0.125  0.5850  0.2755  0.1235  0.1650   8\n",
            "908   0.525  0.430  0.125  0.8130  0.3315  0.1660  0.1775  12\n",
            "909   0.590  0.465  0.150  1.1510  0.6130  0.2390  0.2515   9\n",
            "910   0.450  0.330  0.105  0.3715  0.1865  0.0785  0.0975   7\n",
            "911   0.270  0.200  0.070  0.1000  0.0340  0.0245  0.0350   5\n",
            "912   0.525  0.425  0.190  0.8720  0.4625  0.1725  0.1990   9\n",
            "913   0.400  0.320  0.110  0.3530  0.1405  0.0985  0.1000   8\n",
            "914   0.630  0.490  0.165  1.2005  0.5750  0.2730  0.2940  10\n",
            "915   0.640  0.485  0.150  1.0980  0.5195  0.2220  0.3175  10\n",
            "916   0.615  0.455  0.150  0.9335  0.3820  0.2470  0.2615  10\n",
            "917   0.720  0.550  0.200  1.9965  0.9035  0.4690  0.5215  10\n",
            "918   0.485  0.375  0.125  0.5620  0.2505  0.1345  0.1525   8\n",
            "919   0.550  0.380  0.165  1.2050  0.5430  0.2940  0.3345  10\n",
            "920   0.600  0.485  0.165  1.1405  0.5870  0.2175  0.2880   9\n",
            "921   0.610  0.470  0.155  1.0325  0.4970  0.2175  0.2785   9\n",
            "922   0.490  0.365  0.145  0.6345  0.1995  0.1625  0.2200  10\n",
            "923   0.575  0.470  0.150  0.9785  0.4505  0.1960  0.2760   9\n",
            "924   0.720  0.570  0.200  1.8275  0.9190  0.3660  0.4850  10\n",
            "925   0.470  0.365  0.100  0.4110  0.1750  0.0855  0.1350   8\n",
            "926   0.530  0.435  0.135  0.7365  0.3275  0.1315  0.2200  12\n",
            "927   0.340  0.265  0.085  0.1835  0.0770  0.0460  0.0650  10\n",
            "928   0.495  0.400  0.145  0.5780  0.2545  0.1305  0.1645   8\n",
            "929   0.255  0.185  0.065  0.0740  0.0305  0.0165  0.0200   4\n",
            "930   0.460  0.350  0.110  0.4675  0.2125  0.0990  0.1375   7\n",
            "931   0.700  0.525  0.190  1.6465  0.8545  0.3070  0.3995   9\n",
            "932   0.595  0.460  0.155  1.0455  0.4565  0.2400  0.3085  10\n",
            "933   0.500  0.385  0.135  0.6425  0.3195  0.1290  0.1535   7\n",
            "934   0.535  0.405  0.185  0.8345  0.3175  0.1725  0.2900  16\n",
            "935   0.410  0.305  0.090  0.3535  0.1570  0.0745  0.1000   7\n",
            "936   0.705  0.545  0.170  1.5800  0.6435  0.4565  0.2650  11\n",
            "937   0.505  0.400  0.165  0.7290  0.2675  0.1550  0.2500   9\n",
            "938   0.440  0.310  0.115  0.3625  0.1340  0.0820  0.1200  11\n",
            "939   0.440  0.340  0.100  0.3790  0.1725  0.0815  0.1010   7\n",
            "940   0.375  0.275  0.100  0.2325  0.1165  0.0420  0.0650   6\n",
            "941   0.475  0.375  0.115  0.5205  0.2330  0.1190  0.1455   7\n",
            "942   0.545  0.410  0.115  0.6765  0.2900  0.1580  0.2200   9\n",
            "943   0.560  0.440  0.155  0.8110  0.3685  0.1780  0.2350  11\n",
            "944   0.380  0.285  0.085  0.2370  0.1150  0.0405  0.0700   6\n",
            "945   0.595  0.460  0.170  1.1295  0.5700  0.2555  0.2650  10\n",
            "946   0.240  0.185  0.070  0.0715  0.0260  0.0180  0.0250   6\n",
            "947   0.600  0.470  0.135  0.9700  0.4655  0.1955  0.2640  11\n",
            "948   0.655  0.505  0.195  1.4405  0.6880  0.3805  0.3630  11\n",
            "949   0.510  0.395  0.145  0.6185  0.2160  0.1385  0.2400  12\n",
            "950   0.535  0.450  0.155  0.8075  0.3655  0.1480  0.2595  10\n",
            "951   0.665  0.515  0.185  1.3405  0.5595  0.2930  0.4375  11\n",
            "952   0.235  0.175  0.080  0.0645  0.0215  0.0175  0.0215   5\n",
            "953   0.630  0.495  0.200  1.4255  0.6590  0.3360  0.3800  11\n",
            "954   0.695  0.530  0.150  1.4770  0.6375  0.3025  0.4300  14\n",
            "955   0.655  0.540  0.175  1.5585  0.7285  0.4020  0.3850  11\n",
            "956   0.575  0.445  0.160  0.9175  0.4500  0.1935  0.2400   9\n",
            "957   0.520  0.415  0.140  0.6375  0.3080  0.1335  0.1680   9\n",
            "958   0.570  0.450  0.160  0.8615  0.3725  0.2175  0.2550  12\n",
            "959   0.440  0.350  0.125  0.4560  0.2100  0.0955  0.1310   8\n",
            "960   0.485  0.345  0.160  0.8690  0.3085  0.1850  0.3190   9\n",
            "961   0.515  0.375  0.140  0.6505  0.2495  0.1410  0.2215  10\n",
            "962   0.625  0.525  0.215  1.5765  0.5115  0.2595  0.6650  16\n",
            "963   0.410  0.325  0.100  0.3245  0.1320  0.0720  0.1060   6\n",
            "964   0.620  0.470  0.140  0.8565  0.3595  0.1600  0.2950   9\n",
            "965   0.495  0.395  0.125  0.5415  0.2375  0.1345  0.1550   9\n",
            "966   0.620  0.510  0.175  1.2705  0.5415  0.3230  0.3225   9\n",
            "967   0.345  0.255  0.095  0.1945  0.0925  0.0370  0.0550   6\n",
            "968   0.430  0.315  0.095  0.3780  0.1750  0.0800  0.1045   8\n",
            "969   0.230  0.180  0.050  0.0640  0.0215  0.0135  0.0200   5\n",
            "970   0.315  0.230  0.080  0.1375  0.0545  0.0310  0.0445   5\n",
            "971   0.600  0.470  0.175  1.1050  0.4865  0.2470  0.3150  15\n",
            "972   0.580  0.445  0.125  0.7095  0.3030  0.1405  0.2350   9\n",
            "973   0.530  0.410  0.130  0.6965  0.3020  0.1935  0.2000  10\n",
            "974   0.635  0.505  0.145  1.1345  0.5050  0.2655  0.3150  10\n",
            "975   0.535  0.405  0.140  0.8180  0.4020  0.1715  0.1890   7\n",
            "976   0.590  0.465  0.155  1.1360  0.5245  0.2615  0.2750  11\n",
            "977   0.360  0.250  0.115  0.4650  0.2100  0.1055  0.1280   7\n",
            "978   0.660  0.475  0.180  1.3695  0.6410  0.2940  0.3350   6\n",
            "979   0.510  0.385  0.150  0.6250  0.3095  0.1190  0.1725   8\n",
            "980   0.615  0.505  0.165  1.1670  0.4895  0.2955  0.3450  10\n",
            "981   0.670  0.520  0.195  1.8065  0.7580  0.3735  0.5055  11\n",
            "982   0.570  0.440  0.125  0.8650  0.3675  0.1725  0.2700  12\n",
            "983   0.705  0.535  0.180  1.6850  0.6930  0.4200  0.4045  12\n",
            "984   0.555  0.450  0.175  0.7380  0.3040  0.1755  0.2200   9\n",
            "985   0.520  0.400  0.120  0.8230  0.2980  0.1805  0.2650  15\n",
            "986   0.405  0.305  0.095  0.3485  0.1455  0.0895  0.1000   9\n",
            "987   0.335  0.220  0.070  0.1700  0.0760  0.0365  0.0500   6\n",
            "988   0.400  0.300  0.110  0.3150  0.1090  0.0670  0.1200   9\n",
            "989   0.595  0.465  0.155  1.0260  0.4645  0.1120  0.3050  12\n",
            "990   0.490  0.385  0.125  0.6490  0.3200  0.1240  0.1695   8\n",
            "991   0.560  0.430  0.150  0.8745  0.4530  0.1610  0.2200   8\n",
            "992   0.530  0.420  0.140  0.6270  0.2905  0.1165  0.1830   8\n",
            "993   0.650  0.545  0.230  1.7520  0.5605  0.2895  0.8150  16\n",
            "994   0.360  0.265  0.095  0.2315  0.1050  0.0460  0.0750   7\n",
            "995   0.350  0.265  0.110  0.2090  0.0660  0.0590  0.0750   9\n",
            "996   0.495  0.370  0.120  0.5940  0.2800  0.1100  0.1375   7\n",
            "997   0.505  0.355  0.125  0.6010  0.2500  0.1205  0.1850   8\n",
            "998   0.525  0.410  0.165  0.8005  0.2635  0.1985  0.2500  13\n",
            "999   0.255  0.195  0.055  0.0725  0.0285  0.0170  0.0210   4\n",
            "1000  0.335  0.245  0.090  0.1665  0.0595  0.0400  0.0600   6\n",
            "1001  0.530  0.425  0.130  0.7810  0.3905  0.2005  0.2150   9\n",
            "1002  0.475  0.360  0.110  0.4920  0.2110  0.1100  0.1500   8\n",
            "1003  0.490  0.380  0.140  0.6385  0.2305  0.1420  0.1950  13\n",
            "1004  0.615  0.460  0.150  1.0265  0.4935  0.2010  0.2745  10\n",
            "1005  0.605  0.470  0.140  0.9390  0.3385  0.2010  0.3200  13\n",
            "1006  0.635  0.495  0.155  1.3635  0.5830  0.2985  0.2950  10\n",
            "1007  0.665  0.500  0.175  1.7420  0.5950  0.3025  0.7250  21\n",
            "1008  0.465  0.375  0.120  0.4710  0.2220  0.1190  0.1400   9\n",
            "1009  0.635  0.490  0.175  1.3750  0.6230  0.2705  0.3950  11\n",
            "1010  0.590  0.485  0.205  1.2315  0.4525  0.2380  0.4200  13\n",
            "1011  0.335  0.250  0.075  0.1825  0.0705  0.0440  0.0550   7\n",
            "1012  0.520  0.415  0.140  0.6385  0.2945  0.1405  0.1710   8\n",
            "1013  0.455  0.345  0.150  0.5795  0.1685  0.1250  0.2150  13\n",
            "1014  0.365  0.270  0.085  0.1875  0.0810  0.0420  0.0580   6\n",
            "1015  0.490  0.395  0.135  0.5545  0.2130  0.0925  0.2150  14\n",
            "1016  0.590  0.455  0.145  1.0630  0.5155  0.2445  0.2500   8\n",
            "1017  0.470  0.370  0.140  0.4985  0.2095  0.1225  0.1450  10\n",
            "1018  0.505  0.390  0.130  0.6740  0.3165  0.1410  0.1785   9\n",
            "1019  0.590  0.455  0.150  0.9760  0.4650  0.2055  0.2765  10\n",
            "1020  0.590  0.465  0.135  0.9895  0.4235  0.1990  0.2800   8\n",
            "1021  0.600  0.480  0.150  1.0290  0.4085  0.2705  0.2950  16\n",
            "1022  0.565  0.455  0.175  1.0130  0.3420  0.2070  0.3500  19\n",
            "1023  0.555  0.440  0.140  0.8460  0.3460  0.1715  0.2735  10\n",
            "1024  0.425  0.315  0.100  0.3770  0.1645  0.0720  0.1050   6\n",
            "1025  0.550  0.425  0.145  0.7970  0.2970  0.1500  0.2650   9\n",
            "1026  0.390  0.285  0.100  0.2810  0.1275  0.0620  0.0770   7\n",
            "1027  0.250  0.185  0.065  0.0710  0.0270  0.0185  0.0225   5\n",
            "1028  0.550  0.470  0.150  0.9205  0.3810  0.2435  0.2675  10\n",
            "1029  0.460  0.370  0.110  0.3965  0.1485  0.0855  0.1455   8\n",
            "1030  0.445  0.350  0.120  0.4425  0.1920  0.0955  0.1350   8\n",
            "1031  0.475  0.375  0.125  0.5930  0.2770  0.1150  0.1800  10\n",
            "1032  0.565  0.430  0.150  0.8310  0.4245  0.1735  0.2190  10\n",
            "1033  0.525  0.400  0.130  0.6445  0.3450  0.1285  0.2000   8\n",
            "1034  0.500  0.365  0.125  0.5280  0.2290  0.1030  0.1645   9\n",
            "1035  0.480  0.350  0.100  0.5190  0.2365  0.1275  0.1260   7\n",
            "1036  0.575  0.450  0.160  0.9550  0.4400  0.1685  0.2700  16\n",
            "1037  0.465  0.375  0.135  0.6000  0.2225  0.1290  0.2300  16\n",
            "1038  0.600  0.450  0.140  0.8370  0.3700  0.1770  0.2425  10\n",
            "1039  0.715  0.565  0.180  1.7900  0.8440  0.3535  0.5385   9\n",
            "1040  0.645  0.535  0.190  1.2395  0.4680  0.2385  0.4240  10\n",
            "1041  0.255  0.190  0.075  0.0865  0.0345  0.0205  0.0250   5\n",
            "1042  0.505  0.365  0.115  0.5210  0.2500  0.0960  0.1500   8\n",
            "1043  0.285  0.215  0.075  0.1060  0.0415  0.0230  0.0350   5\n",
            "1044  0.550  0.415  0.150  0.7915  0.3535  0.1760  0.2360  10\n",
            "1045  0.590  0.435  0.165  0.9765  0.4525  0.2395  0.2350   9\n",
            "1046  0.640  0.490  0.180  1.3600  0.6530  0.3470  0.3050   9\n",
            "1047  0.620  0.490  0.170  1.2105  0.5185  0.2555  0.3350  13\n",
            "1048  0.615  0.505  0.190  1.4030  0.6715  0.2925  0.3650   8\n",
            "1049  0.495  0.375  0.115  0.5070  0.2410  0.1030  0.1500   8\n",
            "1050  0.525  0.385  0.130  0.6070  0.2355  0.1250  0.1950   8\n",
            "1051  0.530  0.400  0.125  0.6170  0.2790  0.1270  0.1900   8\n",
            "1052  0.495  0.385  0.130  0.6905  0.3125  0.1790  0.1750  10\n",
            "1053  0.505  0.375  0.115  0.5895  0.2635  0.1200  0.1670  10\n",
            "1054  0.740  0.600  0.195  1.9740  0.5980  0.4085  0.7100  16\n",
            "1055  0.720  0.575  0.215  2.1000  0.8565  0.4825  0.6020  12\n",
            "1056  0.495  0.370  0.125  0.4715  0.2075  0.0910  0.1500   8\n",
            "1057  0.635  0.485  0.155  1.0730  0.4670  0.1975  0.3500  11\n",
            "1058  0.175  0.135  0.040  0.0305  0.0110  0.0075  0.0100   5\n",
            "1059  0.585  0.480  0.185  1.0400  0.4340  0.2650  0.2850  10\n",
            "1060  0.625  0.500  0.150  0.9530  0.3445  0.2235  0.3050  15\n",
            "1061  0.585  0.460  0.165  1.1135  0.5825  0.2345  0.2740  10\n",
            "1062  0.530  0.415  0.175  0.7395  0.2610  0.1395  0.2645  17\n",
            "1063  0.335  0.250  0.080  0.1670  0.0675  0.0325  0.0575   6\n",
            "1064  0.735  0.590  0.215  1.7470  0.7275  0.4030  0.5570  11\n",
            "1065  0.390  0.290  0.090  0.2745  0.1350  0.0455  0.0780   8\n",
            "1066  0.505  0.385  0.135  0.6185  0.2510  0.1175  0.2000  12\n",
            "1067  0.605  0.475  0.150  1.1500  0.5750  0.2320  0.2970  10\n",
            "1068  0.290  0.210  0.075  0.2750  0.1130  0.0675  0.0350   6\n",
            "1069  0.615  0.455  0.130  0.9685  0.4900  0.1820  0.2655  10\n",
            "1070  0.550  0.425  0.150  0.7665  0.3390  0.1760  0.2100   8\n",
            "1071  0.415  0.335  0.100  0.3580  0.1690  0.0670  0.1050   7\n",
            "1072  0.570  0.465  0.125  0.8490  0.3785  0.1765  0.2400  15\n",
            "1073  0.475  0.375  0.125  0.5785  0.2775  0.0850  0.1550  10\n",
            "1074  0.520  0.410  0.140  0.6625  0.2775  0.1555  0.1960  11\n",
            "1075  0.500  0.380  0.155  0.6675  0.2745  0.1560  0.1800  12\n",
            "1076  0.600  0.480  0.180  1.0645  0.4495  0.2455  0.3250  10\n",
            "1077  0.700  0.575  0.205  1.7975  0.7295  0.3935  0.5165  13\n",
            "1078  0.415  0.325  0.105  0.3800  0.1595  0.0785  0.1200  12\n",
            "1079  0.370  0.280  0.090  0.2565  0.1255  0.0645  0.0645   6\n",
            "1080  0.370  0.290  0.100  0.2500  0.1025  0.0505  0.0850  10\n",
            "1081  0.605  0.485  0.160  1.0565  0.3700  0.2355  0.3550  10\n",
            "1082  0.435  0.325  0.100  0.3660  0.1740  0.0725  0.1090   7\n",
            "1083  0.575  0.460  0.145  0.9945  0.4660  0.2290  0.2650   7\n",
            "1084  0.645  0.500  0.175  1.3375  0.5540  0.3080  0.4150  10\n",
            "1085  0.445  0.350  0.115  0.3615  0.1565  0.0695  0.1170   8\n",
            "1086  0.620  0.500  0.170  1.1480  0.5475  0.2200  0.3315  10\n",
            "1087  0.335  0.260  0.085  0.1920  0.0970  0.0300  0.0540   6\n",
            "1088  0.600  0.470  0.155  1.0360  0.4375  0.1960  0.3250  20\n",
            "1089  0.425  0.325  0.110  0.3170  0.1350  0.0480  0.0900   8\n",
            "1090  0.500  0.375  0.130  0.7210  0.3055  0.1725  0.2200  14\n",
            "1091  0.435  0.335  0.100  0.3295  0.1290  0.0700  0.1100   7\n",
            "1092  0.445  0.340  0.120  0.4475  0.1930  0.1035  0.1300   9\n",
            "1093  0.360  0.270  0.090  0.2190  0.0970  0.0405  0.0650   6\n",
            "1094  0.545  0.460  0.160  0.8975  0.3410  0.1655  0.3450  10\n",
            "1095  0.380  0.280  0.095  0.2885  0.1650  0.0435  0.0670   7\n",
            "1096  0.615  0.450  0.150  1.1980  0.7070  0.2095  0.2505   7\n",
            "1097  0.510  0.390  0.125  0.6565  0.2620  0.1835  0.1750  10\n",
            "1098  0.465  0.370  0.115  0.5340  0.2610  0.0980  0.1430   7\n",
            "1099  0.460  0.355  0.110  0.4255  0.2015  0.0810  0.1300   7\n",
            "1100  0.480  0.365  0.135  0.6395  0.2945  0.1130  0.1750   8\n",
            "1101  0.280  0.210  0.080  0.1085  0.0410  0.0265  0.0345   7\n",
            "1102  0.245  0.205  0.060  0.0765  0.0340  0.0140  0.0215   4\n",
            "1103  0.425  0.310  0.105  0.3650  0.1590  0.0825  0.1050   6\n",
            "1104  0.570  0.440  0.130  0.7665  0.3470  0.1785  0.2020  10\n",
            "1105  0.625  0.490  0.185  1.1690  0.5275  0.2535  0.3440  11\n",
            "1106  0.370  0.280  0.095  0.2655  0.1220  0.0520  0.0800   7\n",
            "1107  0.385  0.300  0.090  0.2470  0.1225  0.0440  0.0675   5\n",
            "1108  0.620  0.490  0.160  1.0350  0.4400  0.2525  0.2850  11\n",
            "1109  0.700  0.550  0.175  1.4405  0.6565  0.2985  0.3750  12\n",
            "1110  0.590  0.470  0.180  1.1235  0.4205  0.2805  0.3600  13\n",
            "1111  0.525  0.425  0.120  0.7020  0.3335  0.1465  0.2200  12\n",
            "1112  0.665  0.520  0.165  1.6885  0.7295  0.4070  0.4265  11\n",
            "1113  0.640  0.480  0.145  1.1145  0.5080  0.2400  0.3400  10\n",
            "1114  0.645  0.495  0.150  1.2095  0.6030  0.2225  0.3390   9\n",
            "1115  0.545  0.420  0.120  0.7865  0.4030  0.1850  0.1700   7\n",
            "1116  0.485  0.355  0.105  0.4980  0.2175  0.0960  0.1525   9\n",
            "1117  0.395  0.305  0.105  0.2820  0.0975  0.0650  0.0960   9\n",
            "1118  0.505  0.425  0.125  0.6115  0.2450  0.1375  0.2000   9\n",
            "1119  0.175  0.125  0.040  0.0280  0.0095  0.0080  0.0090   4\n",
            "1120  0.675  0.540  0.175  1.5545  0.6645  0.2780  0.5120  12\n",
            "1121  0.655  0.525  0.190  1.3595  0.5640  0.3215  0.3985  10\n",
            "1122  0.405  0.310  0.110  0.9100  0.4160  0.2075  0.0995   8\n",
            "1123  0.580  0.435  0.150  0.8340  0.4280  0.1515  0.2300   8\n",
            "1124  0.580  0.455  0.170  0.9300  0.4080  0.2590  0.2200   9\n",
            "1125  0.675  0.525  0.155  1.4785  0.6280  0.3405  0.4200   9\n",
            "1126  0.570  0.450  0.155  1.1935  0.5130  0.2100  0.3430  10\n",
            "1127  0.440  0.365  0.125  0.5160  0.2155  0.1140  0.1550  10\n",
            "1128  0.350  0.265  0.080  0.2000  0.0900  0.0420  0.0600   7\n",
            "1129  0.510  0.400  0.140  0.8145  0.4590  0.1965  0.1950  10\n",
            "1130  0.395  0.280  0.080  0.2660  0.0995  0.0660  0.0900  12\n",
            "1131  0.430  0.335  0.120  0.3970  0.1985  0.0865  0.1035   7\n",
            "1132  0.615  0.480  0.160  1.2525  0.5850  0.2595  0.3300   8\n",
            "1133  0.670  0.510  0.155  1.2780  0.5605  0.3045  0.3580  11\n",
            "1134  0.630  0.485  0.160  1.2430  0.6230  0.2750  0.3000  10\n",
            "1135  0.650  0.500  0.155  1.2020  0.5650  0.3135  0.2940  11\n",
            "1136  0.470  0.370  0.110  0.5555  0.2500  0.1150  0.1630   8\n",
            "1137  0.465  0.345  0.110  0.4415  0.1755  0.0905  0.1200   7\n",
            "1138  0.705  0.550  0.170  1.2190  0.6395  0.2360  0.3010   9\n",
            "1139  0.550  0.425  0.155  0.8725  0.4120  0.1870  0.2425  10\n",
            "1140  0.610  0.480  0.170  1.1370  0.4565  0.2900  0.3470  10\n",
            "1141  0.575  0.440  0.150  0.9830  0.4860  0.2150  0.2390   8\n",
            "1142  0.780  0.600  0.210  2.5480  1.1945  0.5745  0.6745  11\n",
            "1143  0.730  0.560  0.190  1.9425  0.7990  0.5195  0.5655  11\n",
            "1144  0.540  0.425  0.130  0.8155  0.3675  0.1365  0.2460  11\n",
            "1145  0.440  0.345  0.100  0.3660  0.1220  0.0905  0.1200  13\n",
            "1146  0.430  0.320  0.110  0.3675  0.1675  0.1020  0.1050   8\n",
            "1147  0.525  0.430  0.135  0.8435  0.4325  0.1800  0.1815   9\n",
            "1148  0.570  0.435  0.140  0.8085  0.3235  0.1830  0.2200  16\n",
            "1149  0.585  0.465  0.170  0.9915  0.3865  0.2240  0.2650  12\n",
            "1150  0.730  0.555  0.180  1.6895  0.6555  0.1965  0.4935  10\n",
            "1151  0.225  0.170  0.070  0.0565  0.0240  0.0130  0.0160   4\n",
            "1152  0.575  0.435  0.155  0.8975  0.4115  0.2325  0.2300   9\n",
            "1153  0.460  0.380  0.135  0.4820  0.2070  0.1225  0.1450  10\n",
            "1154  0.595  0.460  0.140  1.0045  0.4655  0.2095  0.2515   9\n",
            "1155  0.280  0.215  0.080  0.1320  0.0720  0.0220  0.0330   5\n",
            "1156  0.660  0.515  0.195  1.5655  0.7345  0.3530  0.3860   9\n",
            "1157  0.750  0.550  0.195  1.8325  0.8300  0.3660  0.4400  11\n",
            "1158  0.565  0.450  0.115  0.9085  0.3980  0.1970  0.2900  17\n",
            "1159  0.725  0.505  0.185  1.9780  1.0260  0.4255  0.4505  12\n",
            "1160  0.400  0.290  0.100  0.2580  0.1040  0.0590  0.0815   7\n",
            "1161  0.630  0.455  0.150  1.1315  0.4810  0.2745  0.3050   9\n",
            "1162  0.600  0.455  0.145  0.8895  0.4190  0.1715  0.2690  10\n",
            "1163  0.620  0.465  0.140  1.0110  0.4790  0.2385  0.2550   8\n",
            "1164  0.440  0.350  0.110  0.4585  0.2000  0.0885  0.1300   9\n",
            "1165  0.630  0.515  0.160  1.0160  0.4215  0.2440  0.3550  19\n",
            "1166  0.455  0.350  0.120  0.4835  0.1815  0.1440  0.1600  11\n",
            "1167  0.475  0.365  0.140  0.4545  0.1710  0.1180  0.1580   8\n",
            "1168  0.660  0.515  0.170  1.3370  0.6150  0.3125  0.3575  10\n",
            "1169  0.385  0.265  0.080  0.2510  0.1240  0.0370  0.0700   6\n",
            "1170  0.580  0.455  0.150  1.0120  0.4985  0.2115  0.2835  10\n",
            "1171  0.490  0.375  0.135  0.6125  0.2555  0.1020  0.2200  11\n",
            "1172  0.560  0.465  0.160  1.0315  0.4320  0.2025  0.3370   9\n",
            "1173  0.595  0.500  0.180  1.0530  0.4405  0.1920  0.3900  13\n",
            "1174  0.490  0.365  0.130  0.6835  0.1650  0.1315  0.2050  21\n",
            "1175  0.330  0.235  0.090  0.1630  0.0615  0.0340  0.0550  10\n",
            "1176  0.425  0.350  0.100  0.4425  0.1750  0.0755  0.1750   7\n",
            "1177  0.600  0.510  0.185  1.2850  0.6095  0.2745  0.3150   9\n",
            "1178  0.590  0.460  0.145  0.9290  0.3800  0.2400  0.2550  10\n",
            "1179  0.675  0.515  0.145  1.2650  0.6025  0.2990  0.3250  10\n",
            "1180  0.605  0.475  0.165  1.0560  0.4330  0.2195  0.3570   9\n",
            "1181  0.470  0.390  0.150  0.6355  0.2185  0.0885  0.2550   9\n",
            "1182  0.555  0.460  0.160  0.8600  0.3345  0.1935  0.2750  10\n",
            "1183  0.445  0.345  0.140  0.4760  0.2055  0.1015  0.1085  15\n",
            "1184  0.515  0.385  0.125  0.6115  0.3175  0.1265  0.1500   8\n",
            "1185  0.470  0.350  0.130  0.4660  0.1845  0.0990  0.1450  11\n",
            "1186  0.560  0.425  0.140  0.9175  0.4005  0.1975  0.2600  10\n",
            "1187  0.675  0.525  0.185  1.5870  0.6935  0.3360  0.3950  13\n",
            "1188  0.560  0.445  0.180  0.9030  0.3575  0.2045  0.2950   9\n",
            "1189  0.470  0.355  0.120  0.3930  0.1670  0.0885  0.1150   8\n",
            "1190  0.535  0.410  0.135  0.8620  0.2855  0.1525  0.3200  14\n",
            "1191  0.550  0.430  0.140  0.8400  0.3750  0.2180  0.1945   8\n",
            "1192  0.450  0.355  0.105  0.5225  0.2370  0.1165  0.1450   8\n",
            "1193  0.590  0.460  0.160  1.0115  0.4450  0.2615  0.2565   8\n",
            "1194  0.680  0.510  0.200  1.6075  0.7140  0.3390  0.4705  11\n",
            "1195  0.595  0.460  0.155  1.0300  0.4275  0.2070  0.3305  10\n",
            "1196  0.535  0.400  0.130  0.6570  0.2835  0.1620  0.1750   7\n",
            "1197  0.525  0.440  0.150  0.8425  0.3685  0.1985  0.2400  12\n",
            "1198  0.610  0.475  0.140  1.1330  0.5275  0.2355  0.3500  11\n",
            "1199  0.575  0.445  0.170  0.8015  0.3475  0.1465  0.2500   9\n",
            "1200  0.685  0.530  0.170  1.5600  0.6470  0.3830  0.4650  11\n",
            "1201  0.480  0.380  0.125  0.6245  0.3395  0.1085  0.1665   8\n",
            "1202  0.580  0.455  0.195  1.8590  0.9450  0.4260  0.4410   9\n",
            "1203  0.670  0.520  0.190  1.3200  0.5235  0.3095  0.4275  13\n",
            "1204  0.620  0.490  0.190  1.2180  0.5455  0.2965  0.3550  13\n",
            "1205  0.310  0.245  0.095  0.1500  0.0525  0.0340  0.0480   7\n",
            "1206  0.500  0.420  0.135  0.6765  0.3020  0.1415  0.2065   9\n",
            "1207  0.645  0.515  0.240  1.5415  0.4710  0.3690  0.5350  13\n",
            "1208  0.565  0.490  0.155  0.9245  0.4050  0.2195  0.2550  11\n",
            "1209  0.510  0.395  0.105  0.5525  0.2340  0.1270  0.1650   8\n",
            "1210  0.500  0.400  0.125  0.6725  0.3360  0.1200  0.1825   7\n",
            "1211  0.390  0.300  0.095  0.3265  0.1665  0.0575  0.0890   7\n",
            "1212  0.600  0.475  0.170  1.1315  0.5080  0.2720  0.3090  10\n",
            "1213  0.645  0.510  0.190  1.4745  0.6050  0.3450  0.4800   9\n",
            "1214  0.550  0.440  0.155  0.9460  0.3130  0.1825  0.3350  16\n",
            "1215  0.650  0.505  0.190  1.2740  0.5900  0.2300  0.3910  11\n",
            "1216  0.710  0.550  0.170  1.6140  0.7430  0.3450  0.4500  11\n",
            "1217  0.610  0.480  0.160  1.2340  0.5980  0.2380  0.3150  12\n",
            "1218  0.650  0.520  0.210  1.6785  0.6665  0.3080  0.4600  11\n",
            "1219  0.725  0.570  0.190  2.3305  1.2530  0.5410  0.5200   9\n",
            "1220  0.595  0.475  0.160  1.3175  0.4080  0.2340  0.5800  21\n",
            "1221  0.465  0.350  0.120  0.5205  0.2015  0.1625  0.1850  11\n",
            "1222  0.610  0.475  0.170  1.0265  0.4350  0.2335  0.3035  10\n",
            "1223  0.560  0.440  0.130  0.7235  0.3490  0.1490  0.2000   8\n",
            "1224  0.635  0.485  0.190  1.3765  0.6340  0.2885  0.4060  11\n",
            "1225  0.650  0.495  0.175  1.2270  0.5280  0.2580  0.3700  11\n",
            "1226  0.375  0.280  0.085  0.3155  0.1870  0.0460  0.0670   7\n",
            "1227  0.370  0.270  0.095  0.2175  0.0970  0.0460  0.0650   6\n",
            "1228  0.430  0.335  0.105  0.3780  0.1880  0.0785  0.0900   6\n",
            "1229  0.575  0.470  0.165  0.8530  0.2920  0.1790  0.3500  16\n",
            "1230  0.535  0.410  0.130  0.7145  0.3350  0.1440  0.2075   9\n",
            "1231  0.615  0.475  0.175  1.2240  0.6035  0.2610  0.3110   9\n",
            "1232  0.585  0.470  0.145  0.9565  0.4025  0.2365  0.2650   9\n",
            "1233  0.625  0.520  0.175  1.4105  0.6910  0.3220  0.3465  10\n",
            "1234  0.600  0.475  0.155  1.0590  0.4410  0.1900  0.3900  11\n",
            "1235  0.350  0.270  0.090  0.2055  0.0750  0.0575  0.0620   6\n",
            "1236  0.645  0.520  0.190  1.3105  0.5800  0.2880  0.3700  12\n",
            "1237  0.535  0.435  0.150  0.7250  0.2690  0.1385  0.2500   9\n",
            "1238  0.480  0.385  0.145  0.6400  0.2925  0.1405  0.1575   6\n",
            "1239  0.625  0.455  0.170  1.0820  0.4955  0.2345  0.3150   9\n",
            "1240  0.180  0.130  0.045  0.0275  0.0125  0.0100  0.0090   3\n",
            "1241  0.435  0.340  0.110  0.4070  0.1685  0.0730  0.1300  10\n",
            "1242  0.350  0.255  0.090  0.1785  0.0855  0.0305  0.0525   8\n",
            "1243  0.575  0.425  0.150  0.8765  0.4550  0.1800  0.2280   8\n",
            "1244  0.520  0.385  0.115  0.5810  0.2555  0.1560  0.1430  10\n",
            "1245  0.360  0.295  0.100  0.2105  0.0660  0.0525  0.0750   9\n",
            "1246  0.690  0.505  0.200  1.8720  0.8930  0.4015  0.4800  10\n",
            "1247  0.625  0.490  0.155  1.1150  0.4840  0.2770  0.3095   9\n",
            "1248  0.385  0.300  0.115  0.3435  0.1645  0.0850  0.1025   6\n",
            "1249  0.660  0.510  0.180  1.2610  0.5000  0.2335  0.3390  10\n",
            "1250  0.425  0.345  0.125  0.4250  0.1600  0.0795  0.1540  13\n",
            "1251  0.575  0.460  0.185  1.0940  0.4485  0.2170  0.3450  15\n",
            "1252  0.235  0.130  0.075  0.1585  0.0685  0.0370  0.0465   5\n",
            "1253  0.635  0.500  0.175  1.4770  0.6840  0.3005  0.3900  12\n",
            "1254  0.450  0.340  0.120  0.4925  0.2410  0.1075  0.1200   6\n",
            "1255  0.550  0.425  0.135  0.6560  0.2570  0.1700  0.2030  10\n",
            "1256  0.490  0.375  0.150  0.5755  0.2200  0.1440  0.1900   9\n",
            "1257  0.720  0.545  0.185  1.7185  0.7925  0.4010  0.4680  11\n",
            "1258  0.475  0.350  0.115  0.4870  0.1940  0.1455  0.1250  13\n",
            "1259  0.480  0.370  0.125  0.5435  0.2440  0.1010  0.1650   9\n",
            "1260  0.695  0.550  0.185  1.6790  0.8050  0.4015  0.3965  10\n",
            "1261  0.580  0.450  0.145  1.1370  0.5585  0.2200  0.2900   8\n",
            "1262  0.595  0.455  0.140  0.9140  0.3895  0.2225  0.2710   9\n",
            "1263  0.605  0.475  0.190  1.1255  0.5900  0.2470  0.2600  10\n",
            "1264  0.680  0.560  0.195  1.7775  0.8610  0.3220  0.4150  11\n",
            "1265  0.575  0.425  0.140  0.8635  0.3930  0.2270  0.2000  11\n",
            "1266  0.310  0.225  0.080  0.1345  0.0540  0.0240  0.0500   7\n",
            "1267  0.480  0.370  0.120  0.5140  0.2075  0.1310  0.1550  13\n",
            "1268  0.655  0.580  0.205  2.0805  0.9590  0.3415  0.6010  17\n",
            "1269  0.505  0.390  0.125  0.5445  0.2460  0.1500  0.1405   7\n",
            "1270  0.720  0.575  0.170  1.9335  0.9130  0.3890  0.5100  13\n",
            "1271  0.555  0.450  0.145  0.9150  0.4000  0.2460  0.2850  11\n",
            "1272  0.600  0.500  0.170  1.1300  0.4405  0.2670  0.3350  11\n",
            "1273  0.530  0.430  0.135  0.8790  0.2800  0.2165  0.2500  10\n",
            "1274  0.310  0.240  0.105  0.2885  0.1180  0.0650  0.0830   6\n",
            "1275  0.580  0.450  0.160  0.8675  0.3935  0.2210  0.2150   9\n",
            "1276  0.565  0.470  0.195  1.1420  0.3870  0.2580  0.3500  17\n",
            "1277  0.355  0.270  0.105  0.2710  0.1425  0.0525  0.0735   9\n",
            "1278  0.700  0.540  0.205  1.7400  0.7885  0.3730  0.4865  13\n",
            "1279  0.525  0.415  0.150  0.7155  0.2355  0.1710  0.2700  13\n",
            "1280  0.480  0.370  0.135  0.6315  0.3445  0.1015  0.1610   7\n",
            "1281  0.545  0.430  0.140  0.8320  0.4355  0.1700  0.2010   9\n",
            "1282  0.410  0.325  0.100  0.3555  0.1460  0.0720  0.1050   9\n",
            "1283  0.560  0.440  0.135  0.8025  0.3500  0.1615  0.2590   9\n",
            "1284  0.290  0.210  0.065  0.0970  0.0375  0.0220  0.0300   6\n",
            "1285  0.350  0.265  0.110  0.2965  0.1365  0.0630  0.0850   7\n",
            "1286  0.390  0.290  0.100  0.2845  0.1255  0.0635  0.0810   7\n",
            "1287  0.325  0.245  0.070  0.1610  0.0755  0.0255  0.0450   6\n",
            "1288  0.380  0.325  0.110  0.3105  0.1200  0.0740  0.1050  10\n",
            "1289  0.470  0.375  0.125  0.5225  0.2265  0.1040  0.1620   8\n",
            "1290  0.515  0.420  0.150  0.6725  0.2555  0.1335  0.2350  10\n",
            "1291  0.375  0.290  0.085  0.2385  0.1180  0.0450  0.0695   7\n",
            "1292  0.475  0.350  0.115  0.4980  0.2375  0.0990  0.1400   7\n",
            "1293  0.515  0.405  0.130  0.7220  0.3200  0.1310  0.2100  10\n",
            "1294  0.500  0.380  0.155  0.6600  0.2655  0.1365  0.2150  19\n",
            "1295  0.495  0.375  0.120  0.6140  0.2855  0.1365  0.1610   8\n",
            "1296  0.460  0.355  0.130  0.4580  0.1920  0.1055  0.1300  13\n",
            "1297  0.605  0.445  0.140  0.9820  0.4295  0.2085  0.2950  12\n",
            "1298  0.625  0.475  0.175  1.1435  0.4755  0.2475  0.3490  10\n",
            "1299  0.585  0.510  0.160  1.2180  0.6390  0.2410  0.3000  11\n",
            "1300  0.425  0.330  0.130  0.4405  0.1520  0.0935  0.1550   9\n",
            "1301  0.460  0.345  0.115  0.4215  0.1895  0.1020  0.1110   6\n",
            "1302  0.575  0.450  0.135  0.8070  0.3615  0.1760  0.2540  10\n",
            "1303  0.560  0.440  0.155  0.9705  0.4315  0.2630  0.2550   9\n",
            "1304  0.570  0.450  0.180  0.9080  0.4015  0.2170  0.2550   9\n",
            "1305  0.560  0.415  0.130  0.7615  0.3695  0.1700  0.1955   8\n",
            "1306  0.370  0.280  0.100  0.2210  0.1165  0.0265  0.0635   6\n",
            "1307  0.200  0.150  0.040  0.0460  0.0210  0.0070  0.0065   4\n",
            "1308  0.225  0.160  0.045  0.0465  0.0250  0.0150  0.0150   4\n",
            "1309  0.525  0.400  0.115  0.6295  0.2555  0.1440  0.1800  11\n",
            "1310  0.210  0.150  0.055  0.0455  0.0200  0.0065  0.0130   4\n",
            "1311  0.500  0.365  0.130  0.5945  0.3090  0.1085  0.1535   9\n",
            "1312  0.530  0.420  0.135  0.6750  0.2940  0.1560  0.1825  10\n",
            "1313  0.415  0.305  0.105  0.3605  0.1200  0.0820  0.1000  10\n",
            "1314  0.565  0.440  0.175  0.8735  0.4140  0.2100  0.2100  11\n",
            "1315  0.520  0.380  0.135  0.5825  0.2505  0.1565  0.1750   8\n",
            "1316  0.515  0.390  0.140  0.5555  0.2000  0.1135  0.2235  12\n",
            "1317  0.500  0.375  0.125  0.5695  0.2590  0.1240  0.1570   7\n",
            "1318  0.550  0.405  0.150  0.9235  0.4120  0.2135  0.2400   7\n",
            "1319  0.500  0.390  0.130  0.7090  0.2750  0.1680  0.1800  11\n",
            "1320  0.520  0.395  0.145  0.7700  0.4240  0.1420  0.1895   7\n",
            "1321  0.385  0.300  0.125  0.3430  0.1705  0.0735  0.0810   7\n",
            "1322  0.635  0.485  0.180  1.1795  0.4785  0.2775  0.3550  10\n",
            "1323  0.710  0.565  0.195  1.7265  0.6380  0.3365  0.5650  17\n",
            "1324  0.675  0.555  0.200  1.4385  0.5450  0.2665  0.4650  21\n",
            "1325  0.455  0.370  0.110  0.5140  0.2385  0.1235  0.1260   8\n",
            "1326  0.455  0.365  0.135  0.4410  0.1515  0.1165  0.1450   9\n",
            "1327  0.460  0.335  0.110  0.4440  0.2250  0.0745  0.1100   8\n",
            "1328  0.470  0.355  0.130  0.5465  0.2005  0.1260  0.1850  14\n",
            "1329  0.615  0.470  0.145  1.0285  0.4435  0.2825  0.2850  11\n",
            "1330  0.610  0.480  0.175  1.0675  0.3910  0.2160  0.4200  15\n",
            "1331  0.310  0.220  0.085  0.1460  0.0610  0.0365  0.0450   6\n",
            "1332  0.565  0.445  0.150  0.7960  0.3635  0.1840  0.2190   8\n",
            "1333  0.505  0.385  0.125  0.5960  0.2450  0.0970  0.2100   9\n",
            "1334  0.495  0.415  0.165  0.7485  0.2640  0.1340  0.2850  13\n",
            "1335  0.530  0.410  0.145  0.8255  0.3750  0.2040  0.2450   9\n",
            "1336  0.210  0.170  0.045  0.0475  0.0190  0.0110  0.0130   5\n",
            "1337  0.480  0.390  0.150  0.6275  0.2760  0.1340  0.1850  13\n",
            "1338  0.170  0.125  0.055  0.0235  0.0090  0.0055  0.0080   6\n",
            "1339  0.450  0.350  0.140  0.4740  0.2100  0.1090  0.1275  16\n",
            "1340  0.520  0.415  0.145  0.8045  0.3325  0.1725  0.2850  10\n",
            "1341  0.520  0.405  0.145  0.8290  0.3535  0.1685  0.2050  15\n",
            "1342  0.455  0.350  0.125  0.4485  0.1585  0.1020  0.1335  16\n",
            "1343  0.330  0.230  0.085  0.1695  0.0790  0.0260  0.0505   6\n",
            "1344  0.625  0.500  0.170  1.0985  0.4645  0.2200  0.3540   9\n",
            "1345  0.500  0.385  0.120  0.6335  0.2305  0.1250  0.2350  14\n",
            "1346  0.780  0.630  0.215  2.6570  1.4880  0.4985  0.5860  11\n",
            "1347  0.570  0.450  0.140  0.9275  0.4770  0.1605  0.2515   8\n",
            "1348  0.485  0.390  0.125  0.5910  0.2870  0.1410  0.1200   9\n",
            "1349  0.610  0.490  0.170  1.1370  0.4605  0.2825  0.3440  12\n",
            "1350  0.270  0.205  0.075  0.1180  0.0590  0.0310  0.0305   4\n",
            "1351  0.630  0.490  0.170  1.1745  0.5255  0.2730  0.3390  11\n",
            "1352  0.435  0.325  0.110  0.3670  0.1595  0.0800  0.1050   6\n",
            "1353  0.525  0.405  0.120  0.7555  0.3755  0.1555  0.2010   9\n",
            "1354  0.630  0.490  0.170  1.2170  0.5515  0.2120  0.3100  11\n",
            "1355  0.495  0.370  0.125  0.4775  0.1850  0.0705  0.1690  18\n",
            "1356  0.570  0.450  0.135  1.0200  0.5460  0.2040  0.2500   9\n",
            "1357  0.565  0.440  0.125  0.8020  0.3595  0.1825  0.2150   9\n",
            "1358  0.675  0.510  0.150  1.1965  0.4750  0.3040  0.3860  11\n",
            "1359  0.645  0.520  0.210  1.5535  0.6160  0.3655  0.4740  16\n",
            "1360  0.550  0.430  0.160  0.9295  0.3170  0.1735  0.3550  13\n",
            "1361  0.545  0.430  0.140  0.6870  0.2615  0.1405  0.2500   9\n",
            "1362  0.365  0.275  0.135  0.2400  0.1080  0.0445  0.0735   7\n",
            "1363  0.195  0.135  0.040  0.0325  0.0135  0.0050  0.0095   4\n",
            "1364  0.415  0.310  0.090  0.3245  0.1305  0.0735  0.1150   8\n",
            "1365  0.550  0.445  0.125  0.6720  0.2880  0.1365  0.2100  11\n",
            "1366  0.270  0.195  0.080  0.1000  0.0385  0.0195  0.0300   6\n",
            "1367  0.290  0.215  0.060  0.1115  0.0530  0.0185  0.0320   5\n",
            "1368  0.575  0.450  0.130  0.8145  0.4030  0.1715  0.2130  10\n",
            "1369  0.735  0.565  0.225  2.0370  0.8700  0.5145  0.5675  13\n",
            "1370  0.660  0.525  0.205  1.3665  0.5005  0.2910  0.4100  18\n",
            "1371  0.550  0.415  0.145  0.7815  0.3730  0.1600  0.2215   8\n",
            "1372  0.515  0.400  0.125  0.6150  0.2865  0.1230  0.1765   8\n",
            "1373  0.520  0.400  0.145  0.7765  0.3525  0.1845  0.1850   9\n",
            "1374  0.640  0.525  0.185  1.7070  0.7630  0.4205  0.4435  11\n",
            "1375  0.670  0.525  0.200  1.7405  0.6205  0.2970  0.6570  11\n",
            "1376  0.555  0.440  0.150  0.8380  0.4155  0.1460  0.2300   8\n",
            "1377  0.445  0.355  0.095  0.3615  0.1415  0.0785  0.1200   8\n",
            "1378  0.455  0.355  0.120  0.4495  0.1770  0.1040  0.1500   9\n",
            "1379  0.625  0.470  0.170  1.2550  0.5250  0.2415  0.4050  10\n",
            "1380  0.565  0.435  0.185  0.9815  0.3290  0.1360  0.3900  13\n",
            "1381  0.230  0.165  0.060  0.0515  0.0190  0.0145  0.0360   4\n",
            "1382  0.630  0.495  0.145  1.1470  0.5455  0.2660  0.2885   9\n",
            "1383  0.485  0.365  0.140  0.4475  0.1895  0.0925  0.2305   8\n",
            "1384  0.575  0.450  0.165  0.9215  0.3275  0.2250  0.2560  12\n",
            "1385  0.510  0.380  0.130  0.5840  0.2240  0.1355  0.1850  13\n",
            "1386  0.575  0.440  0.185  1.0250  0.5075  0.2245  0.2485  10\n",
            "1387  0.715  0.525  0.200  1.8900  0.9500  0.4360  0.4305  10\n",
            "1388  0.415  0.305  0.130  0.3200  0.1305  0.0755  0.1050   8\n",
            "1389  0.360  0.265  0.090  0.2055  0.0960  0.0370  0.0585   7\n",
            "1390  0.590  0.440  0.140  1.0070  0.4775  0.2105  0.2925   9\n",
            "1391  0.565  0.450  0.135  0.9885  0.3870  0.1495  0.3100  12\n",
            "1392  0.325  0.240  0.085  0.1730  0.0795  0.0380  0.0500   7\n",
            "1393  0.585  0.475  0.150  1.0650  0.5315  0.1990  0.2885  10\n",
            "1394  0.585  0.490  0.185  1.1710  0.5220  0.2535  0.3350  10\n",
            "1395  0.600  0.500  0.160  1.0150  0.3995  0.1735  0.3300  19\n",
            "1396  0.165  0.115  0.015  0.0145  0.0055  0.0030  0.0050   4\n",
            "1397  0.660  0.530  0.195  1.5505  0.6505  0.3295  0.4950  10\n",
            "1398  0.540  0.430  0.170  0.8360  0.3725  0.1815  0.2400   9\n",
            "1399  0.705  0.560  0.205  2.3810  0.9915  0.5005  0.6240  10\n",
            "1400  0.625  0.495  0.175  1.2935  0.5805  0.3170  0.3550   9\n",
            "1401  0.355  0.260  0.085  0.1905  0.0810  0.0485  0.0550   6\n",
            "1402  0.540  0.410  0.135  0.7025  0.3100  0.1770  0.2000   8\n",
            "1403  0.515  0.390  0.110  0.5310  0.2415  0.0980  0.1615   8\n",
            "1404  0.635  0.480  0.190  1.4670  0.5825  0.3030  0.4200  15\n",
            "1405  0.610  0.495  0.185  1.1530  0.5360  0.2905  0.2450   8\n",
            "1406  0.595  0.440  0.135  0.9640  0.5005  0.1715  0.2575  10\n",
            "1407  0.580  0.460  0.150  1.1155  0.5575  0.2255  0.2900   7\n",
            "1408  0.620  0.500  0.180  1.3915  0.7260  0.2795  0.3320  11\n",
            "1409  0.585  0.435  0.140  0.6955  0.3085  0.1290  0.2245   8\n",
            "1410  0.450  0.325  0.115  0.4305  0.2235  0.0785  0.1155   8\n",
            "1411  0.505  0.385  0.115  0.6160  0.2430  0.1075  0.2100  11\n",
            "1412  0.625  0.500  0.130  1.0820  0.5785  0.2045  0.2500   8\n",
            "1413  0.615  0.455  0.145  1.1155  0.5045  0.2380  0.3150  10\n",
            "1414  0.205  0.140  0.050  0.0460  0.0165  0.0120  0.0135   6\n",
            "1415  0.440  0.340  0.105  0.3690  0.1640  0.0800  0.1015   5\n",
            "1416  0.720  0.550  0.180  1.5200  0.6370  0.3250  0.4350  10\n",
            "1417  0.435  0.350  0.125  0.4590  0.1970  0.1145  0.1450   9\n",
            "1418  0.530  0.420  0.120  0.5965  0.2555  0.1410  0.1770   7\n",
            "1419  0.535  0.425  0.155  0.7765  0.3020  0.1565  0.2500  16\n",
            "1420  0.590  0.480  0.160  1.2620  0.5685  0.2725  0.3350   9\n",
            "1421  0.665  0.515  0.190  1.6385  0.8310  0.3575  0.3710  11\n",
            "1422  0.705  0.570  0.185  1.7610  0.7470  0.3725  0.4880  10\n",
            "1423  0.550  0.435  0.140  0.7450  0.3470  0.1740  0.2265   9\n",
            "1424  0.650  0.495  0.160  1.3105  0.5770  0.3315  0.3550   9\n",
            "1425  0.670  0.530  0.225  1.5615  0.6300  0.4870  0.3725  11\n",
            "1426  0.530  0.400  0.145  0.5550  0.1935  0.1305  0.1950   9\n",
            "1427  0.320  0.240  0.070  0.1330  0.0585  0.0255  0.0410   6\n",
            "1428  0.320  0.255  0.100  0.1755  0.0730  0.0415  0.0650   7\n",
            "1429  0.580  0.460  0.150  1.0490  0.5205  0.1935  0.3050  10\n",
            "1430  0.625  0.485  0.160  1.2135  0.6310  0.2235  0.3020   9\n",
            "1431  0.625  0.495  0.180  1.0815  0.4715  0.2540  0.3135  10\n",
            "1432  0.585  0.455  0.140  0.9700  0.4620  0.1850  0.2950   9\n",
            "1433  0.425  0.325  0.100  0.3295  0.1365  0.0725  0.1100   7\n",
            "1434  0.320  0.230  0.060  0.1290  0.0615  0.0275  0.0355   7\n",
            "1435  0.575  0.445  0.145  0.8470  0.4150  0.1945  0.2200   9\n",
            "1436  0.650  0.510  0.175  1.4460  0.6485  0.2705  0.4500  12\n",
            "1437  0.555  0.420  0.140  0.8680  0.3300  0.2430  0.2100  13\n",
            "1438  0.500  0.380  0.120  0.5765  0.2730  0.1350  0.1450   9\n",
            "1439  0.460  0.345  0.110  0.4595  0.2350  0.0885  0.1160   7\n",
            "1440  0.620  0.485  0.220  1.5110  0.5095  0.2840  0.5100  17\n",
            "1441  0.500  0.415  0.165  0.6885  0.2490  0.1380  0.2500  13\n",
            "1442  0.545  0.405  0.135  0.5945  0.2700  0.1185  0.1850   8\n",
            "1443  0.525  0.380  0.135  0.6150  0.2610  0.1590  0.1750   8\n",
            "1444  0.700  0.575  0.205  1.7730  0.6050  0.4470  0.5380  13\n",
            "1445  0.525  0.415  0.135  0.7945  0.3940  0.1890  0.2020   7\n",
            "1446  0.645  0.485  0.215  1.5140  0.5460  0.2615  0.6350  16\n",
            "1447  0.440  0.350  0.125  0.4035  0.1750  0.0630  0.1290   9\n",
            "1448  0.465  0.380  0.135  0.5790  0.2080  0.1095  0.2200  14\n",
            "1449  0.650  0.510  0.185  1.3750  0.5310  0.3840  0.3985  10\n",
            "1450  0.470  0.350  0.125  0.4315  0.1900  0.1165  0.1175   6\n",
            "1451  0.480  0.380  0.120  0.6080  0.2705  0.1405  0.1850   8\n",
            "1452  0.515  0.400  0.140  0.7165  0.3495  0.1595  0.1785   8\n",
            "1453  0.635  0.510  0.155  1.1560  0.4280  0.2890  0.3150  18\n",
            "1454  0.275  0.205  0.065  0.1010  0.0410  0.0210  0.0340   5\n",
            "1455  0.405  0.310  0.095  0.3425  0.1785  0.0640  0.0855   8\n",
            "1456  0.460  0.330  0.150  0.5325  0.2085  0.1805  0.1250  10\n",
            "1457  0.500  0.380  0.135  0.5285  0.2260  0.1230  0.2090   8\n",
            "1458  0.485  0.365  0.150  0.9145  0.4145  0.1990  0.2730   7\n",
            "1459  0.350  0.260  0.075  0.1800  0.0900  0.0245  0.0550   5\n",
            "1460  0.295  0.225  0.090  0.1105  0.0405  0.0245  0.0320   7\n",
            "1461  0.465  0.360  0.080  0.4880  0.1910  0.1250  0.1550  11\n",
            "1462  0.570  0.455  0.150  0.9520  0.3895  0.2155  0.2745   9\n",
            "1463  0.535  0.420  0.125  0.7380  0.3550  0.1895  0.1795   8\n",
            "1464  0.395  0.300  0.090  0.2855  0.1385  0.0625  0.0770   5\n",
            "1465  0.665  0.500  0.175  1.2975  0.6075  0.3140  0.3150   9\n",
            "1466  0.485  0.355  0.130  0.5810  0.2450  0.1320  0.1680  12\n",
            "1467  0.520  0.410  0.115  0.7700  0.2630  0.1570  0.2600  11\n",
            "1468  0.630  0.480  0.150  1.0525  0.3920  0.3360  0.2850  12\n",
            "1469  0.595  0.455  0.145  0.9420  0.4300  0.1820  0.2770  11\n",
            "1470  0.385  0.305  0.095  0.2520  0.0915  0.0550  0.0900  14\n",
            "1471  0.640  0.505  0.180  1.2970  0.5900  0.3125  0.3630  11\n",
            "1472  0.620  0.450  0.135  0.9240  0.3580  0.2265  0.2965  10\n",
            "1473  0.525  0.400  0.125  0.6965  0.3690  0.1385  0.1640   9\n",
            "1474  0.535  0.450  0.135  0.8075  0.3220  0.1810  0.2500  13\n",
            "1475  0.630  0.515  0.170  1.3850  0.6355  0.2955  0.3800  11\n",
            "1476  0.350  0.270  0.075  0.2150  0.1000  0.0360  0.0650   6\n",
            "1477  0.345  0.265  0.100  0.2455  0.1110  0.0535  0.0650   7\n",
            "1478  0.615  0.480  0.185  1.2205  0.4985  0.3150  0.3300  10\n",
            "1479  0.545  0.410  0.140  0.6250  0.2230  0.1600  0.2350  13\n",
            "1480  0.630  0.480  0.165  1.2860  0.6040  0.2710  0.3500   8\n",
            "1481  0.575  0.460  0.150  0.9270  0.3330  0.2070  0.2985   9\n",
            "1482  0.585  0.450  0.150  0.8915  0.3975  0.2035  0.2530   8\n",
            "1483  0.405  0.305  0.100  0.2680  0.1145  0.0530  0.0850   7\n",
            "1484  0.595  0.500  0.165  1.0600  0.4020  0.2800  0.2750  11\n",
            "1485  0.550  0.450  0.170  0.8100  0.3170  0.1570  0.2200  11\n",
            "1486  0.680  0.530  0.180  1.5290  0.7635  0.3115  0.4025  11\n",
            "1487  0.490  0.390  0.120  0.5110  0.2205  0.1030  0.1745   9\n",
            "1488  0.770  0.600  0.215  2.1945  1.0515  0.4820  0.5840  10\n",
            "1489  0.550  0.465  0.150  0.9360  0.4810  0.1740  0.2435   9\n",
            "1490  0.505  0.385  0.150  0.6415  0.2460  0.1520  0.2150  12\n",
            "1491  0.500  0.375  0.120  0.5290  0.2235  0.1230  0.1600   8\n",
            "1492  0.360  0.295  0.105  0.2410  0.0865  0.0530  0.0950   8\n",
            "1493  0.555  0.430  0.165  0.7575  0.2735  0.1635  0.2750  13\n",
            "1494  0.435  0.325  0.110  0.4335  0.1780  0.0985  0.1550   7\n",
            "1495  0.380  0.290  0.100  0.2370  0.1080  0.0395  0.0820   6\n",
            "1496  0.705  0.545  0.180  1.5395  0.6075  0.3675  0.4645  13\n",
            "1497  0.550  0.410  0.130  0.8705  0.4455  0.2115  0.2130   9\n",
            "1498  0.400  0.335  0.115  0.4335  0.2105  0.1205  0.1200  10\n",
            "1499  0.655  0.520  0.165  1.4095  0.5860  0.2910  0.4050   9\n",
            "1500  0.555  0.435  0.145  0.9205  0.4040  0.2275  0.2550   8\n",
            "1501  0.750  0.570  0.210  2.2360  1.1090  0.5195  0.5450  11\n",
            "1502  0.695  0.570  0.200  2.0330  0.7510  0.4255  0.6850  15\n",
            "1503  0.475  0.360  0.110  0.4520  0.1910  0.0990  0.1300   8\n",
            "1504  0.595  0.480  0.165  1.2620  0.4835  0.2830  0.4100  17\n",
            "1505  0.650  0.525  0.190  1.3850  0.8875  0.3095  0.4050  11\n",
            "1506  0.530  0.395  0.125  0.6235  0.2975  0.1080  0.1950  11\n",
            "1507  0.520  0.435  0.195  0.9730  0.2985  0.2135  0.3550  18\n",
            "1508  0.640  0.510  0.170  1.3715  0.5670  0.3070  0.4090  10\n",
            "1509  0.650  0.525  0.190  1.4995  0.6265  0.4005  0.3950  14\n",
            "1510  0.445  0.335  0.110  0.4355  0.2025  0.1095  0.1195   6\n",
            "1511  0.550  0.425  0.160  0.9700  0.2885  0.1390  0.4800  20\n",
            "1512  0.645  0.500  0.195  1.4010  0.6165  0.3515  0.3725  10\n",
            "1513  0.670  0.540  0.195  1.6190  0.7400  0.3305  0.4650  11\n",
            "1514  0.440  0.325  0.100  0.4165  0.1850  0.0865  0.1100   6\n",
            "1515  0.620  0.505  0.160  1.3725  0.6285  0.2750  0.3685  11\n",
            "1516  0.495  0.400  0.155  0.8085  0.2345  0.1155  0.3500   6\n",
            "1517  0.670  0.525  0.195  1.3700  0.6065  0.2955  0.4070  12\n",
            "1518  0.395  0.270  0.100  0.2985  0.1445  0.0610  0.0820   5\n",
            "1519  0.485  0.375  0.135  0.5560  0.1925  0.1315  0.1685  10\n",
            "1520  0.525  0.410  0.115  0.7745  0.4160  0.1630  0.1800   7\n",
            "1521  0.485  0.360  0.130  0.5415  0.2595  0.0960  0.1600  10\n",
            "1522  0.680  0.550  0.175  1.4730  0.7130  0.2820  0.4295  11\n",
            "1523  0.480  0.370  0.100  0.5135  0.2430  0.1015  0.1350   8\n",
            "1524  0.395  0.295  0.095  0.2725  0.1150  0.0625  0.0850   8\n",
            "1525  0.255  0.190  0.050  0.0830  0.0295  0.0215  0.0270   6\n",
            "1526  0.360  0.270  0.085  0.2185  0.1065  0.0380  0.0620   6\n",
            "1527  0.695  0.515  0.175  1.5165  0.5780  0.4105  0.3900  15\n",
            "1528  0.545  0.430  0.140  0.7720  0.2890  0.1900  0.2615   8\n",
            "1529  0.720  0.565  0.180  1.7190  0.8465  0.4070  0.3875  11\n",
            "1530  0.345  0.255  0.100  0.1970  0.0710  0.0510  0.0600   9\n",
            "1531  0.345  0.255  0.085  0.2005  0.1050  0.0370  0.0500   5\n",
            "1532  0.470  0.370  0.130  0.5225  0.2010  0.1330  0.1650   7\n",
            "1533  0.670  0.485  0.175  1.2565  0.5355  0.3220  0.3860   9\n",
            "1534  0.645  0.480  0.150  1.1920  0.6055  0.2595  0.2850   9\n",
            "1535  0.280  0.210  0.085  0.1075  0.0415  0.0240  0.0340   5\n",
            "1536  0.430  0.310  0.130  0.6485  0.2735  0.1630  0.1840   9\n",
            "1537  0.705  0.555  0.195  1.7525  0.7105  0.4215  0.5160  12\n",
            "1538  0.560  0.435  0.125  0.8775  0.3345  0.2145  0.2900  13\n",
            "1539  0.300  0.220  0.090  0.1425  0.0570  0.0335  0.0430   7\n",
            "1540  0.315  0.235  0.070  0.1490  0.0580  0.0325  0.0470   7\n",
            "1541  0.565  0.445  0.140  0.8360  0.4060  0.1605  0.2245   9\n",
            "1542  0.655  0.530  0.165  1.2835  0.5830  0.1255  0.4000   8\n",
            "1543  0.470  0.355  0.120  0.4915  0.1765  0.1125  0.1325   9\n",
            "1544  0.390  0.315  0.090  0.3095  0.1470  0.0500  0.0900   7\n",
            "1545  0.655  0.540  0.215  1.8440  0.7425  0.3270  0.5850  22\n",
            "1546  0.630  0.510  0.175  1.3415  0.6575  0.2620  0.3750  10\n",
            "1547  0.385  0.285  0.090  0.2480  0.0935  0.0660  0.0700   6\n",
            "1548  0.655  0.520  0.180  1.4920  0.7185  0.3600  0.3550  11\n",
            "1549  0.620  0.485  0.170  1.2080  0.4805  0.3045  0.3300  15\n",
            "1550  0.585  0.470  0.165  1.4090  0.8000  0.2290  0.2950  10\n",
            "1551  0.655  0.540  0.165  1.4030  0.6955  0.2385  0.4200  11\n",
            "1552  0.650  0.520  0.195  1.6760  0.6930  0.4400  0.4700  15\n",
            "1553  0.620  0.510  0.180  1.3315  0.5940  0.2760  0.3880  11\n",
            "1554  0.585  0.455  0.125  1.0270  0.3910  0.2120  0.2500  17\n",
            "1555  0.665  0.515  0.200  1.2695  0.5115  0.2675  0.4360  12\n",
            "1556  0.570  0.425  0.140  0.7655  0.3310  0.1400  0.2400  10\n",
            "1557  0.500  0.380  0.155  0.6550  0.2405  0.1430  0.2050  17\n",
            "1558  0.540  0.435  0.145  0.9700  0.4285  0.2200  0.2640  17\n",
            "1559  0.330  0.255  0.095  0.1720  0.0660  0.0255  0.0600   6\n",
            "1560  0.715  0.545  0.180  1.7405  0.8710  0.3470  0.4490  10\n",
            "1561  0.655  0.590  0.200  1.5455  0.6540  0.3765  0.4150  11\n",
            "1562  0.535  0.400  0.145  0.7050  0.3065  0.1365  0.2200  10\n",
            "1563  0.535  0.435  0.160  0.8105  0.3155  0.1795  0.2400  10\n",
            "1564  0.335  0.260  0.075  0.2200  0.0855  0.0400  0.0850   6\n",
            "1565  0.520  0.405  0.120  0.6270  0.2645  0.1415  0.1810  11\n",
            "1566  0.275  0.205  0.080  0.0960  0.0360  0.0185  0.0300   6\n",
            "1567  0.360  0.280  0.080  0.1755  0.0810  0.0505  0.0700   6\n",
            "1568  0.565  0.455  0.185  0.9265  0.3540  0.1575  0.3750  16\n",
            "1569  0.595  0.470  0.155  1.2015  0.4920  0.3865  0.2650  10\n",
            "1570  0.590  0.470  0.135  1.1685  0.5390  0.2790  0.2800   8\n",
            "1571  0.620  0.460  0.160  0.9505  0.4915  0.2000  0.2280   9\n",
            "1572  0.640  0.515  0.205  1.5335  0.6635  0.3345  0.4025   9\n",
            "1573  0.285  0.215  0.060  0.0935  0.0310  0.0230  0.0300   6\n",
            "1574  0.410  0.310  0.125  0.3595  0.1415  0.0885  0.1150  11\n",
            "1575  0.620  0.495  0.180  1.2555  0.5765  0.2540  0.3550  12\n",
            "1576  0.460  0.360  0.135  0.6105  0.1955  0.1070  0.2350  14\n",
            "1577  0.655  0.500  0.140  1.1705  0.5405  0.3175  0.2850  12\n",
            "1578  0.625  0.505  0.215  1.4455  0.4960  0.2870  0.4350  22\n",
            "1579  0.425  0.320  0.100  0.3055  0.1260  0.0600  0.1060   7\n",
            "1580  0.590  0.450  0.120  0.7485  0.3345  0.1315  0.2200  14\n",
            "1581  0.415  0.320  0.115  0.3045  0.1215  0.0735  0.0940   7\n",
            "1582  0.560  0.455  0.165  0.8600  0.4015  0.1695  0.2450  11\n",
            "1583  0.570  0.405  0.160  0.9245  0.3445  0.2185  0.2950  19\n",
            "1584  0.540  0.420  0.130  0.7505  0.3680  0.1675  0.1845   9\n",
            "1585  0.650  0.495  0.160  1.3040  0.5700  0.3120  0.3725   9\n",
            "1586  0.545  0.430  0.150  0.7420  0.3525  0.1580  0.2080  10\n",
            "1587  0.555  0.430  0.135  0.8120  0.4055  0.1630  0.2215   9\n",
            "1588  0.610  0.485  0.170  1.0225  0.4190  0.2405  0.3600  12\n",
            "1589  0.620  0.470  0.145  1.0865  0.5110  0.2715  0.2565  10\n",
            "1590  0.610  0.490  0.160  1.1545  0.5865  0.2385  0.2915  11\n",
            "1591  0.480  0.380  0.130  0.6175  0.3000  0.1420  0.1750  12\n",
            "1592  0.600  0.475  0.135  1.4405  0.5885  0.1910  0.3175   9\n",
            "1593  0.700  0.525  0.175  1.7585  0.8745  0.3615  0.4700  10\n",
            "1594  0.535  0.400  0.150  0.8045  0.3345  0.2125  0.2100  13\n",
            "1595  0.625  0.480  0.145  1.0850  0.4645  0.2445  0.3270  10\n",
            "1596  0.755  0.575  0.200  2.0730  1.0135  0.4655  0.4800  11\n",
            "1597  0.645  0.495  0.190  1.5390  0.6115  0.4080  0.4450  12\n",
            "1598  0.440  0.345  0.130  0.4495  0.2090  0.0835  0.1340   6\n",
            "1599  0.685  0.530  0.170  1.5105  0.7385  0.3525  0.3725  10\n",
            "1600  0.560  0.445  0.150  0.8225  0.3685  0.1870  0.2360  10\n",
            "1601  0.550  0.435  0.140  0.7625  0.3270  0.1685  0.2590  10\n",
            "1602  0.475  0.370  0.125  0.5370  0.2220  0.1215  0.1500   9\n",
            "1603  0.670  0.525  0.180  1.6615  0.8005  0.3645  0.4300  10\n",
            "1604  0.580  0.435  0.155  0.8785  0.4250  0.1685  0.2425  10\n",
            "1605  0.435  0.320  0.080  0.3325  0.1485  0.0635  0.1050   9\n",
            "1606  0.670  0.505  0.160  1.2585  0.6255  0.3110  0.3080  12\n",
            "1607  0.600  0.475  0.190  1.0875  0.4030  0.2655  0.3250  14\n",
            "1608  0.680  0.545  0.185  1.6720  0.7075  0.3640  0.4800  11\n",
            "1609  0.585  0.435  0.175  0.9820  0.4055  0.2495  0.2700  10\n",
            "1610  0.330  0.250  0.105  0.1715  0.0655  0.0350  0.0600   7\n",
            "1611  0.535  0.415  0.185  0.8415  0.3140  0.1585  0.3000  15\n",
            "1612  0.420  0.300  0.105  0.3160  0.1255  0.0700  0.1035   7\n",
            "1613  0.650  0.535  0.175  1.2895  0.6095  0.2765  0.3440  10\n",
            "1614  0.610  0.490  0.160  1.1120  0.4650  0.2280  0.3410  10\n",
            "1615  0.585  0.465  0.190  1.1710  0.3905  0.2355  0.4000  17\n",
            "1616  0.400  0.300  0.110  0.2985  0.1375  0.0710  0.0750   6\n",
            "1617  0.370  0.280  0.090  0.2330  0.0905  0.0545  0.0700  11\n",
            "1618  0.460  0.350  0.110  0.4000  0.1760  0.0830  0.1205   7\n",
            "1619  0.380  0.300  0.100  0.2860  0.1305  0.0560  0.0900   7\n",
            "1620  0.510  0.415  0.140  0.8185  0.3025  0.2155  0.2350  16\n",
            "1621  0.370  0.290  0.095  0.2490  0.1045  0.0580  0.0670   6\n",
            "1622  0.650  0.520  0.195  1.6275  0.6890  0.3905  0.4320  11\n",
            "1623  0.475  0.360  0.100  0.4285  0.1965  0.0990  0.1120   7\n",
            "1624  0.530  0.385  0.125  0.6695  0.2890  0.1510  0.1800  10\n",
            "1625  0.475  0.380  0.145  0.5700  0.1670  0.1180  0.1870  11\n",
            "1626  0.640  0.525  0.200  1.3765  0.4400  0.3075  0.4700  16\n",
            "1627  0.530  0.395  0.115  0.5685  0.2490  0.1375  0.1610   9\n",
            "1628  0.420  0.340  0.125  0.4495  0.1650  0.1125  0.1440  11\n",
            "1629  0.655  0.515  0.200  1.4940  0.7255  0.3090  0.4050  12\n",
            "1630  0.500  0.395  0.140  0.7155  0.3165  0.1760  0.2400  10\n",
            "1631  0.665  0.505  0.165  1.3490  0.5985  0.3175  0.3600   9\n",
            "1632  0.470  0.365  0.120  0.6120  0.3270  0.1500  0.1400   8\n",
            "1633  0.580  0.445  0.170  1.1780  0.3935  0.2165  0.3150  20\n",
            "1634  0.415  0.315  0.100  0.3645  0.1765  0.0795  0.0950   8\n",
            "1635  0.335  0.260  0.090  0.1835  0.0780  0.0240  0.0650  11\n",
            "1636  0.695  0.525  0.175  1.7420  0.6960  0.3890  0.5050  12\n",
            "1637  0.385  0.290  0.095  0.3120  0.1430  0.0635  0.0860   6\n",
            "1638  0.545  0.415  0.200  1.3580  0.5670  0.3180  0.4030  10\n",
            "1639  0.540  0.415  0.150  0.8115  0.3875  0.1875  0.2035   9\n",
            "1640  0.510  0.405  0.125  0.6795  0.3465  0.1395  0.1820   8\n",
            "1641  0.550  0.385  0.130  0.7275  0.3430  0.1625  0.1900   8\n",
            "1642  0.200  0.140  0.055  0.0350  0.0145  0.0080  0.0100   5\n",
            "1643  0.565  0.450  0.165  0.8870  0.3700  0.2390  0.2490  11\n",
            "1644  0.460  0.380  0.130  0.6390  0.3000  0.1525  0.1600  11\n",
            "1645  0.205  0.150  0.055  0.0420  0.0255  0.0150  0.0120   5\n",
            "1646  0.545  0.385  0.150  1.1185  0.5425  0.2445  0.2845   9\n",
            "1647  0.330  0.250  0.095  0.2085  0.1020  0.0395  0.0520   7\n",
            "1648  0.500  0.440  0.155  0.7420  0.2025  0.2005  0.2115  14\n",
            "1649  0.675  0.520  0.175  1.4940  0.7365  0.3055  0.3700   9\n",
            "1650  0.625  0.480  0.160  1.2415  0.6575  0.2625  0.2785   9\n",
            "1651  0.315  0.230  0.000  0.1340  0.0575  0.0285  0.3505   6\n",
            "1652  0.675  0.525  0.160  1.2835  0.5720  0.2755  0.3545  13\n",
            "1653  0.235  0.175  0.065  0.0615  0.0205  0.0200  0.0190   6\n",
            "1654  0.500  0.385  0.110  0.5960  0.3015  0.1040  0.1510   8\n",
            "1655  0.620  0.495  0.195  1.5145  0.5790  0.3460  0.5195  15\n",
            "1656  0.525  0.415  0.160  0.6445  0.2600  0.1575  0.2200  12\n",
            "1657  0.615  0.500  0.170  1.0540  0.4845  0.2280  0.2950  10\n",
            "1658  0.640  0.515  0.080  1.0420  0.5150  0.1755  0.1750  10\n",
            "1659  0.405  0.300  0.090  0.2885  0.1380  0.0635  0.0765   6\n",
            "1660  0.610  0.480  0.165  1.2435  0.5575  0.2675  0.3720   8\n",
            "1661  0.385  0.280  0.095  0.2570  0.1190  0.0590  0.0700   7\n",
            "1662  0.595  0.475  0.160  1.1405  0.5470  0.2310  0.2710   6\n",
            "1663  0.580  0.460  0.175  1.1650  0.6500  0.2205  0.3055   9\n",
            "1664  0.500  0.385  0.135  0.5510  0.2245  0.0715  0.2060  11\n",
            "1665  0.430  0.340  0.100  0.3405  0.1395  0.0665  0.1200   8\n",
            "1666  0.605  0.490  0.150  1.1345  0.5265  0.2645  0.2950   9\n",
            "1667  0.715  0.565  0.175  1.9525  0.7645  0.4185  0.4135  10\n",
            "1668  0.625  0.485  0.160  1.2540  0.5910  0.2590  0.3485   9\n",
            "1669  0.440  0.350  0.120  0.3750  0.1425  0.0965  0.1150   9\n",
            "1670  0.490  0.375  0.115  0.5570  0.2275  0.1335  0.1765   8\n",
            "1671  0.380  0.270  0.080  0.2105  0.0865  0.0420  0.0700   8\n",
            "1672  0.690  0.525  0.175  1.7005  0.8255  0.3620  0.4050   8\n",
            "1673  0.710  0.565  0.195  1.8170  0.7850  0.4920  0.4900  11\n",
            "1674  0.520  0.400  0.105  0.8720  0.4515  0.1615  0.1985   9\n",
            "1675  0.410  0.335  0.105  0.3305  0.1405  0.0640  0.1050   7\n",
            "1676  0.710  0.555  0.170  1.4700  0.5375  0.3800  0.4310  12\n",
            "1677  0.700  0.565  0.175  1.8565  0.8445  0.3935  0.5400  10\n",
            "1678  0.645  0.550  0.175  1.2915  0.5700  0.3045  0.3300  14\n",
            "1679  0.420  0.305  0.100  0.3415  0.1645  0.0775  0.0860   7\n",
            "1680  0.450  0.350  0.135  0.4940  0.2205  0.0945  0.1405   7\n",
            "1681  0.625  0.485  0.150  1.0440  0.4380  0.2865  0.2780   9\n",
            "1682  0.525  0.400  0.140  0.6055  0.2605  0.1080  0.2100   9\n",
            "1683  0.625  0.480  0.155  1.2035  0.5865  0.2390  0.3185  12\n",
            "1684  0.650  0.510  0.175  1.3165  0.6345  0.2605  0.3640  12\n",
            "1685  0.520  0.415  0.160  0.5950  0.2105  0.1420  0.2600  15\n",
            "1686  0.640  0.500  0.150  1.0705  0.3710  0.2705  0.3600   8\n",
            "1687  0.565  0.465  0.175  0.9950  0.3895  0.1830  0.3700  15\n",
            "1688  0.690  0.540  0.155  1.4540  0.6240  0.3105  0.3900   9\n",
            "1689  0.605  0.490  0.150  1.1345  0.4305  0.2525  0.3500  10\n",
            "1690  0.635  0.510  0.155  0.9860  0.4050  0.2255  0.3100  10\n",
            "1691  0.275  0.205  0.070  0.0940  0.0335  0.0200  0.0325   5\n",
            "1692  0.645  0.500  0.190  1.5595  0.7410  0.3715  0.3845  14\n",
            "1693  0.335  0.250  0.080  0.1830  0.0735  0.0400  0.0575   6\n",
            "1694  0.500  0.385  0.120  0.5600  0.2835  0.1030  0.1350   8\n",
            "1695  0.505  0.405  0.110  0.6250  0.3050  0.1600  0.1750   9\n",
            "1696  0.395  0.290  0.095  0.3190  0.1380  0.0800  0.0820   7\n",
            "1697  0.535  0.410  0.155  0.6315  0.2745  0.1415  0.1815  12\n",
            "1698  0.625  0.500  0.185  1.2425  0.5995  0.2480  0.3350  10\n",
            "1699  0.750  0.615  0.205  2.2635  0.8210  0.4230  0.7260  12\n",
            "1700  0.570  0.445  0.155  0.7330  0.2820  0.1590  0.2350  14\n",
            "1701  0.540  0.420  0.140  0.6665  0.3125  0.1380  0.1895  10\n",
            "1702  0.480  0.380  0.145  0.5900  0.2320  0.1410  0.2300  12\n",
            "1703  0.440  0.335  0.110  0.3940  0.1570  0.0960  0.1220   9\n",
            "1704  0.575  0.480  0.150  0.8745  0.3750  0.1930  0.2900  12\n",
            "1705  0.530  0.405  0.120  0.6320  0.2715  0.1480  0.1875   9\n",
            "1706  0.545  0.405  0.175  0.9800  0.2585  0.2070  0.3800  18\n",
            "1707  0.325  0.270  0.100  0.1850  0.0800  0.0435  0.0650   6\n",
            "1708  0.485  0.380  0.140  0.6730  0.2175  0.1300  0.1950  18\n",
            "1709  0.420  0.320  0.110  0.3090  0.1150  0.0645  0.0945   6\n",
            "1710  0.605  0.455  0.145  0.8620  0.3340  0.1985  0.3000   9\n",
            "1711  0.550  0.440  0.135  0.8435  0.4340  0.1995  0.1850   8\n",
            "1712  0.480  0.380  0.125  0.5230  0.2105  0.1045  0.1750  15\n",
            "1713  0.580  0.455  0.155  0.8365  0.3150  0.1385  0.3200  18\n",
            "1714  0.385  0.305  0.090  0.2775  0.1090  0.0515  0.1000   9\n",
            "1715  0.475  0.365  0.100  0.1315  0.2025  0.0875  0.1230   7\n",
            "1716  0.725  0.530  0.190  1.7315  0.8300  0.3980  0.4050  11\n",
            "1717  0.400  0.290  0.110  0.3290  0.1880  0.0455  0.0825   6\n",
            "1718  0.600  0.470  0.200  1.0310  0.3920  0.2035  0.2900  15\n",
            "1719  0.605  0.485  0.175  1.1450  0.4325  0.2700  0.4050  16\n",
            "1720  0.630  0.475  0.150  1.1720  0.5360  0.2540  0.3160  11\n",
            "1721  0.595  0.455  0.150  0.8860  0.4315  0.2010  0.2230  10\n",
            "1722  0.570  0.445  0.145  0.8775  0.4120  0.2170  0.2200   8\n",
            "1723  0.465  0.380  0.130  0.4540  0.1895  0.0800  0.1550  11\n",
            "1724  0.625  0.500  0.165  1.2880  0.5730  0.3035  0.3150   9\n",
            "1725  0.660  0.535  0.205  1.4415  0.5925  0.2775  0.4900  10\n",
            "1726  0.645  0.490  0.215  1.4060  0.4265  0.2285  0.5100  25\n",
            "1727  0.350  0.260  0.090  0.1950  0.0745  0.0410  0.0655   9\n",
            "1728  0.440  0.340  0.100  0.4510  0.1880  0.0870  0.1300  10\n",
            "1729  0.410  0.300  0.090  0.2800  0.1410  0.0575  0.0750   8\n",
            "1730  0.420  0.320  0.115  0.3760  0.1690  0.0920  0.1000   5\n",
            "1731  0.510  0.375  0.100  0.5785  0.2380  0.1225  0.1750   7\n",
            "1732  0.475  0.365  0.125  0.5465  0.2290  0.1185  0.1720   9\n",
            "1733  0.355  0.285  0.095  0.2275  0.0955  0.0475  0.0715   6\n",
            "1734  0.620  0.480  0.150  1.1015  0.4965  0.2430  0.3050  10\n",
            "1735  0.450  0.350  0.130  0.4655  0.2075  0.1045  0.1350   8\n",
            "1736  0.610  0.480  0.190  1.2955  0.5215  0.3225  0.3650  12\n",
            "1737  0.680  0.550  0.200  1.5960  0.5250  0.4075  0.5850  21\n",
            "1738  0.635  0.485  0.165  1.2695  0.5635  0.3065  0.3395  11\n",
            "1739  0.615  0.525  0.155  1.0385  0.4270  0.2315  0.3450  11\n",
            "1740  0.470  0.360  0.145  0.5370  0.1725  0.1375  0.1950  15\n",
            "1741  0.485  0.370  0.115  0.4785  0.1995  0.0955  0.1290   7\n",
            "1742  0.475  0.350  0.110  0.4565  0.2060  0.0990  0.1300   6\n",
            "1743  0.440  0.355  0.125  0.4775  0.1320  0.0815  0.1900   9\n",
            "1744  0.640  0.500  0.170  1.1200  0.4955  0.2645  0.3200  12\n",
            "1745  0.425  0.325  0.115  0.3685  0.1620  0.0865  0.1045   7\n",
            "1746  0.500  0.380  0.125  0.5770  0.2690  0.1265  0.1535   9\n",
            "1747  0.410  0.305  0.100  0.3630  0.1735  0.0650  0.1100  11\n",
            "1748  0.430  0.350  0.090  0.3970  0.1575  0.0890  0.1200   9\n",
            "1749  0.565  0.450  0.160  0.7950  0.3605  0.1555  0.2300  12\n",
            "1750  0.615  0.515  0.170  1.1400  0.4305  0.2245  0.4200  16\n",
            "1751  0.680  0.520  0.185  1.4940  0.6150  0.3935  0.4060  11\n",
            "1752  0.445  0.370  0.125  0.5150  0.2495  0.0870  0.1590   9\n",
            "1753  0.550  0.430  0.140  0.7135  0.2565  0.1860  0.2250   9\n",
            "1754  0.670  0.520  0.190  1.6385  0.8115  0.3690  0.3910   9\n",
            "1755  0.160  0.120  0.020  0.0180  0.0075  0.0045  0.0050   4\n",
            "1756  0.380  0.300  0.100  0.2505  0.1060  0.0535  0.0775   8\n",
            "1757  0.575  0.480  0.170  1.1000  0.5060  0.2485  0.3100  10\n",
            "1758  0.355  0.270  0.100  0.2255  0.1100  0.0420  0.0640   7\n",
            "1759  0.605  0.490  0.155  1.1530  0.5030  0.2505  0.2950  15\n",
            "1760  0.440  0.330  0.115  0.4005  0.1430  0.1130  0.1200   8\n",
            "1761  0.320  0.225  0.085  0.1415  0.0675  0.0295  0.0405   6\n",
            "1762  0.365  0.285  0.085  0.2205  0.0855  0.0515  0.0700   9\n",
            "1763  0.565  0.445  0.155  0.8260  0.3410  0.2055  0.2475  10\n",
            "1764  0.545  0.445  0.175  0.8525  0.3465  0.1890  0.2950  13\n",
            "1765  0.655  0.500  0.180  1.4155  0.5080  0.3140  0.4450  18\n",
            "1766  0.635  0.490  0.175  1.2435  0.5805  0.3130  0.3050  10\n",
            "1767  0.575  0.455  0.165  0.8670  0.3765  0.1805  0.2680   8\n",
            "1768  0.540  0.420  0.135  0.8075  0.3485  0.1795  0.2350  11\n",
            "1769  0.595  0.465  0.145  1.1070  0.4020  0.2415  0.3100  12\n",
            "1770  0.635  0.480  0.200  1.3655  0.6255  0.2595  0.4250  16\n",
            "1771  0.545  0.425  0.140  0.8145  0.3050  0.2310  0.2440  10\n",
            "1772  0.440  0.325  0.110  0.4965  0.2580  0.1195  0.1075   8\n",
            "1773  0.570  0.435  0.170  0.8730  0.3820  0.1830  0.2705  10\n",
            "1774  0.425  0.345  0.110  0.3665  0.1250  0.0810  0.1170  11\n",
            "1775  0.540  0.425  0.160  0.9455  0.3675  0.2005  0.2950   9\n",
            "1776  0.645  0.490  0.175  1.3200  0.6525  0.2375  0.3385  11\n",
            "1777  0.475  0.350  0.120  0.4905  0.2035  0.1300  0.1350   7\n",
            "1778  0.620  0.450  0.200  0.8580  0.4285  0.1525  0.2405   8\n",
            "1779  0.540  0.435  0.175  0.8920  0.3220  0.1740  0.3350  13\n",
            "1780  0.470  0.355  0.115  0.4155  0.1670  0.0840  0.1390   7\n",
            "1781  0.605  0.455  0.160  1.1215  0.5330  0.2730  0.2710  10\n",
            "1782  0.520  0.410  0.170  0.8705  0.3735  0.2190  0.2500  14\n",
            "1783  0.575  0.445  0.140  0.7370  0.3250  0.1405  0.2370  10\n",
            "1784  0.215  0.150  0.030  0.0385  0.0115  0.0050  0.0100   5\n",
            "1785  0.650  0.505  0.175  1.2075  0.5105  0.2620  0.3900  10\n",
            "1786  0.515  0.385  0.125  0.5720  0.2370  0.1435  0.1650   7\n",
            "1787  0.550  0.440  0.160  0.9850  0.4645  0.2010  0.2700   8\n",
            "1788  0.605  0.495  0.170  1.2385  0.5280  0.2465  0.3900  14\n",
            "1789  0.375  0.280  0.080  0.2025  0.0825  0.0480  0.0650   8\n",
            "1790  0.635  0.500  0.180  1.3190  0.5485  0.2920  0.4900  16\n",
            "1791  0.560  0.450  0.160  0.9220  0.4320  0.1780  0.2600  15\n",
            "1792  0.280  0.210  0.065  0.0905  0.0350  0.0200  0.0300   5\n",
            "1793  0.685  0.525  0.175  1.7100  0.5415  0.3090  0.5800  16\n",
            "1794  0.545  0.410  0.125  0.6540  0.2945  0.1315  0.2050  10\n",
            "1795  0.640  0.500  0.175  1.2730  0.5065  0.2925  0.4050  13\n",
            "1796  0.545  0.450  0.160  0.8615  0.2925  0.1545  0.3650  16\n",
            "1797  0.315  0.230  0.090  0.1285  0.0430  0.0400  0.0400   7\n",
            "1798  0.660  0.525  0.200  1.4630  0.6525  0.2995  0.4220  11\n",
            "1799  0.255  0.180  0.055  0.0830  0.0310  0.0215  0.0200   4\n",
            "1800  0.640  0.500  0.180  1.4995  0.5930  0.3140  0.4310  11\n",
            "1801  0.385  0.290  0.090  0.2365  0.1000  0.0505  0.0760   8\n",
            "1802  0.565  0.435  0.185  1.0320  0.3540  0.2045  0.3100  20\n",
            "1803  0.440  0.375  0.130  0.4870  0.2260  0.0965  0.1550   9\n",
            "1804  0.570  0.460  0.135  0.9795  0.3970  0.2525  0.2655   9\n",
            "1805  0.725  0.560  0.185  1.7920  0.8730  0.3670  0.4350  11\n",
            "1806  0.425  0.340  0.100  0.3515  0.1625  0.0820  0.0940   7\n",
            "1807  0.420  0.320  0.115  0.4090  0.2055  0.0935  0.1050   8\n",
            "1808  0.540  0.435  0.140  0.7345  0.3300  0.1595  0.2130   9\n",
            "1809  0.565  0.440  0.155  0.9395  0.4275  0.2140  0.2700  12\n",
            "1810  0.610  0.475  0.150  1.1420  0.6200  0.2370  0.2450   9\n",
            "1811  0.500  0.375  0.120  0.5420  0.2150  0.1160  0.1700   9\n",
            "1812  0.405  0.310  0.065  0.3205  0.1575  0.0660  0.0880   6\n",
            "1813  0.595  0.470  0.145  0.9910  0.4035  0.1505  0.3400  16\n",
            "1814  0.435  0.340  0.110  0.3795  0.1495  0.0850  0.1200   8\n",
            "1815  0.705  0.555  0.200  1.4685  0.4715  0.3235  0.5200  19\n",
            "1816  0.660  0.505  0.165  1.3740  0.5890  0.3510  0.3450  10\n",
            "1817  0.465  0.325  0.140  0.7615  0.3620  0.1535  0.2090  10\n",
            "1818  0.525  0.410  0.135  0.7085  0.2930  0.1525  0.2350  11\n",
            "1819  0.560  0.445  0.160  0.8965  0.4200  0.2175  0.2215   8\n",
            "1820  0.550  0.430  0.155  0.7850  0.2890  0.2270  0.2330  11\n",
            "1821  0.535  0.455  0.140  1.0015  0.5300  0.1765  0.2440   9\n",
            "1822  0.525  0.365  0.170  0.9605  0.4380  0.2225  0.2760  10\n",
            "1823  0.580  0.460  0.185  1.0170  0.3515  0.2000  0.3200  10\n",
            "1824  0.495  0.410  0.125  0.7555  0.3355  0.1290  0.2140   9\n",
            "1825  0.450  0.320  0.100  0.3810  0.1705  0.0750  0.1150   9\n",
            "1826  0.500  0.380  0.140  0.6355  0.2770  0.1430  0.1785   8\n",
            "1827  0.400  0.315  0.100  0.3225  0.1430  0.0735  0.0910   6\n",
            "1828  0.615  0.475  0.155  1.0270  0.4470  0.2500  0.2850   9\n",
            "1829  0.635  0.490  0.160  1.1010  0.5340  0.1865  0.3455  10\n",
            "1830  0.455  0.355  0.080  0.4520  0.2165  0.0995  0.1250   9\n",
            "1831  0.705  0.560  0.220  1.9810  0.8175  0.3085  0.7600  14\n",
            "1832  0.660  0.525  0.190  1.6700  0.6525  0.4875  0.4900  11\n",
            "1833  0.635  0.510  0.185  1.3080  0.5440  0.3180  0.3770   8\n",
            "1834  0.445  0.335  0.140  0.4565  0.1785  0.1140  0.1400  11\n",
            "1835  0.590  0.465  0.195  1.0885  0.3685  0.1870  0.3750  17\n",
            "1836  0.645  0.525  0.200  1.4490  0.6010  0.2565  0.5050  13\n",
            "1837  0.300  0.230  0.085  0.1170  0.0500  0.0175  0.0415   6\n",
            "1838  0.585  0.450  0.145  0.9835  0.4845  0.2420  0.2200   9\n",
            "1839  0.405  0.305  0.085  0.2605  0.1145  0.0595  0.0850   8\n",
            "1840  0.720  0.580  0.195  2.1030  1.0265  0.4800  0.5375  10\n",
            "1841  0.635  0.500  0.180  1.3120  0.5290  0.2485  0.4850  18\n",
            "1842  0.330  0.225  0.075  0.1870  0.0945  0.0395  0.0425   7\n",
            "1843  0.600  0.475  0.150  1.0890  0.5195  0.2230  0.2920  11\n",
            "1844  0.375  0.285  0.080  0.2260  0.0975  0.0400  0.0725   7\n",
            "1845  0.505  0.380  0.130  0.6930  0.3910  0.1195  0.1515   8\n",
            "1846  0.515  0.395  0.165  0.7565  0.1905  0.1700  0.3205  10\n",
            "1847  0.285  0.210  0.070  0.1090  0.0440  0.0265  0.0330   5\n",
            "1848  0.165  0.120  0.030  0.0215  0.0070  0.0050  0.0050   3\n",
            "1849  0.655  0.530  0.175  1.2635  0.4860  0.2635  0.4150  15\n",
            "1850  0.500  0.355  0.140  0.5280  0.2125  0.1490  0.1400   9\n",
            "1851  0.450  0.325  0.135  0.4380  0.1805  0.1165  0.1100   9\n",
            "1852  0.255  0.185  0.060  0.0880  0.0365  0.0210  0.0230   5\n",
            "1853  0.530  0.425  0.155  0.7905  0.3070  0.1710  0.2595   9\n",
            "1854  0.505  0.400  0.125  0.5830  0.2460  0.1300  0.1750   7\n",
            "1855  0.465  0.360  0.105  0.4520  0.2200  0.1590  0.1035   9\n",
            "1856  0.560  0.435  0.150  0.8715  0.4755  0.1835  0.1835   9\n",
            "1857  0.520  0.410  0.145  0.6460  0.2965  0.1595  0.1650   9\n",
            "1858  0.530  0.410  0.150  0.6120  0.2435  0.1525  0.1895  11\n",
            "1859  0.340  0.250  0.075  0.1785  0.0665  0.0455  0.0450   5\n",
            "1860  0.475  0.365  0.115  0.4590  0.2175  0.0930  0.1165   7\n",
            "1861  0.450  0.335  0.105  0.3620  0.1575  0.0795  0.1095   7\n",
            "1862  0.455  0.330  0.100  0.3720  0.3580  0.0775  0.1100   8\n",
            "1863  0.610  0.485  0.180  1.2795  0.5735  0.2855  0.3550   7\n",
            "1864  0.400  0.310  0.115  0.3465  0.1475  0.0695  0.1150  10\n",
            "1865  0.520  0.390  0.120  0.6435  0.2885  0.1570  0.1610   7\n",
            "1866  0.725  0.560  0.210  2.1410  0.6500  0.3980  1.0050  18\n",
            "1867  0.460  0.365  0.110  0.4495  0.1755  0.1020  0.1500   8\n",
            "1868  0.490  0.355  0.160  0.8795  0.3485  0.2150  0.2825   8\n",
            "1869  0.490  0.400  0.145  0.6635  0.2100  0.1295  0.2515  13\n",
            "1870  0.610  0.485  0.145  1.3305  0.7830  0.2255  0.2865   9\n",
            "1871  0.475  0.370  0.125  0.6490  0.3470  0.1360  0.1420   8\n",
            "1872  0.470  0.360  0.135  0.5010  0.1665  0.1150  0.1650  10\n",
            "1873  0.585  0.450  0.180  0.7995  0.3360  0.1855  0.2370   8\n",
            "1874  0.590  0.500  0.150  1.1420  0.4850  0.2650  0.3450   9\n",
            "1875  0.530  0.410  0.165  0.7320  0.1890  0.1700  0.3100  11\n",
            "1876  0.450  0.335  0.125  0.4475  0.2165  0.1260  0.1100   6\n",
            "1877  0.405  0.325  0.110  0.3555  0.1510  0.0630  0.1170   9\n",
            "1878  0.360  0.270  0.085  0.1960  0.0905  0.0340  0.0530   7\n",
            "1879  0.315  0.210  0.060  0.1250  0.0600  0.0375  0.0350   5\n",
            "1880  0.655  0.520  0.170  1.1445  0.5300  0.2230  0.3480   9\n",
            "1881  0.560  0.455  0.125  0.9430  0.3440  0.1290  0.3750  21\n",
            "1882  0.615  0.515  0.135  1.1215  0.5450  0.2305  0.2900   9\n",
            "1883  0.600  0.460  0.155  0.9595  0.4455  0.1890  0.2950  11\n",
            "1884  0.625  0.515  0.180  1.3485  0.5255  0.2520  0.3925  14\n",
            "1885  0.590  0.460  0.155  0.9060  0.3270  0.1485  0.3350  15\n",
            "1886  0.620  0.485  0.175  1.2710  0.5310  0.3075  0.3700  11\n",
            "1887  0.650  0.485  0.160  1.7395  0.5715  0.2785  0.3075  10\n",
            "1888  0.530  0.455  0.165  0.9805  0.3155  0.2815  0.2965  11\n",
            "1889  0.275  0.205  0.070  0.1055  0.4950  0.0190  0.0315   5\n",
            "1890  0.385  0.275  0.115  0.2685  0.0975  0.0825  0.0850   8\n",
            "1891  0.515  0.395  0.140  0.6860  0.2810  0.1255  0.2200  12\n",
            "1892  0.520  0.460  0.150  1.0190  0.5230  0.1985  0.2540   7\n",
            "1893  0.175  0.130  0.055  0.0315  0.0105  0.0065  0.0125   5\n",
            "1894  0.430  0.340  0.000  0.4280  0.2065  0.0860  0.1150   8\n",
            "1895  0.515  0.435  0.145  0.8815  0.2920  0.2060  0.2550  10\n",
            "1896  0.695  0.560  0.220  1.8340  0.8455  0.4220  0.4550  11\n",
            "1897  0.260  0.200  0.065  0.0960  0.0440  0.0270  0.0300   6\n",
            "1898  0.550  0.430  0.150  0.6550  0.2635  0.1220  0.2210   8\n",
            "1899  0.515  0.390  0.140  0.6780  0.3410  0.1325  0.1190   8\n",
            "1900  0.375  0.280  0.080  0.2235  0.1150  0.0430  0.0550   6\n",
            "1901  0.135  0.130  0.040  0.0290  0.0125  0.0065  0.0080   4\n",
            "1902  0.570  0.445  0.140  1.0635  0.5265  0.2195  0.2400   8\n",
            "1903  0.675  0.530  0.175  1.4465  0.6775  0.3300  0.3890  10\n",
            "1904  0.580  0.455  0.120  1.0735  0.4790  0.2735  0.2650  10\n",
            "1905  0.505  0.410  0.125  0.6420  0.2890  0.1330  0.1550   9\n",
            "1906  0.370  0.290  0.090  0.2445  0.0890  0.0655  0.0750   7\n",
            "1907  0.570  0.440  0.175  0.9415  0.3805  0.2285  0.2830   9\n",
            "1908  0.500  0.380  0.125  0.5190  0.2485  0.1135  0.1340   8\n",
            "1909  0.615  0.460  0.190  1.0660  0.4335  0.2260  0.3300  13\n",
            "1910  0.545  0.420  0.165  0.8935  0.4235  0.2195  0.2280   8\n",
            "1911  0.510  0.390  0.135  0.7690  0.3935  0.1455  0.1900   8\n",
            "1912  0.640  0.490  0.155  1.1285  0.4770  0.2690  0.3400   9\n",
            "1913  0.595  0.470  0.165  1.1080  0.4915  0.2325  0.3345   9\n",
            "1914  0.550  0.440  0.135  0.8790  0.3680  0.2095  0.2650  10\n",
            "1915  0.635  0.500  0.165  1.4595  0.7050  0.2645  0.3900   9\n",
            "1916  0.580  0.420  0.160  0.7280  0.2725  0.1900  0.1900  14\n",
            "1917  0.545  0.420  0.125  0.7170  0.3580  0.1120  0.2200   8\n",
            "1918  0.595  0.465  0.140  1.1130  0.5175  0.2440  0.3050  12\n",
            "1919  0.460  0.365  0.125  0.4670  0.1895  0.0945  0.1580  10\n",
            "1920  0.565  0.430  0.135  0.8545  0.3210  0.1775  0.2750  11\n",
            "1921  0.600  0.465  0.165  1.0475  0.4650  0.2345  0.3150  11\n",
            "1922  0.655  0.545  0.165  1.6225  0.6555  0.2990  0.5130  12\n",
            "1923  0.630  0.490  0.155  1.2290  0.5350  0.2900  0.3350  11\n",
            "1924  0.660  0.510  0.175  1.2180  0.5055  0.3030  0.3700  11\n",
            "1925  0.635  0.500  0.170  1.4345  0.6110  0.3090  0.4180  12\n",
            "1926  0.625  0.485  0.150  1.0945  0.5310  0.2610  0.2960  10\n",
            "1927  0.525  0.415  0.145  0.8450  0.3525  0.1635  0.2875   8\n",
            "1928  0.365  0.260  0.115  0.2180  0.0935  0.0445  0.0700   9\n",
            "1929  0.385  0.285  0.085  0.2440  0.1215  0.0445  0.0680   8\n",
            "1930  0.450  0.340  0.125  0.4045  0.1710  0.0700  0.1345   8\n",
            "1931  0.520  0.390  0.140  0.7325  0.2415  0.1440  0.2600  19\n",
            "1932  0.215  0.165  0.055  0.0590  0.0265  0.0125  0.0185   5\n",
            "1933  0.425  0.300  0.095  0.3515  0.1410  0.0775  0.1200   8\n",
            "1934  0.435  0.335  0.110  0.3830  0.1555  0.0675  0.1350  12\n",
            "1935  0.450  0.330  0.100  0.4110  0.1945  0.1000  0.0980   6\n",
            "1936  0.375  0.275  0.095  0.2465  0.1100  0.0415  0.0775   6\n",
            "1937  0.620  0.500  0.200  1.2210  0.4605  0.2630  0.4300  12\n",
            "1938  0.410  0.335  0.115  0.4405  0.1900  0.0850  0.1350   8\n",
            "1939  0.370  0.290  0.090  0.2410  0.1100  0.0450  0.0690  10\n",
            "1940  0.570  0.450  0.165  0.9030  0.3305  0.1845  0.2950  14\n",
            "1941  0.540  0.455  0.140  0.9720  0.4190  0.2550  0.2690  10\n",
            "1942  0.270  0.190  0.060  0.0990  0.0445  0.0170  0.0300   5\n",
            "1943  0.405  0.290  0.090  0.2825  0.1120  0.0750  0.0815   7\n",
            "1944  0.445  0.330  0.105  0.4525  0.1800  0.1030  0.1230   9\n",
            "1945  0.370  0.275  0.100  0.2225  0.0930  0.0260  0.0800   8\n",
            "1946  0.630  0.490  0.180  1.1300  0.4580  0.2765  0.3150  12\n",
            "1947  0.300  0.240  0.090  0.1610  0.0725  0.0390  0.0500   6\n",
            "1948  0.600  0.480  0.090  1.0500  0.4570  0.2685  0.2800   8\n",
            "1949  0.525  0.400  0.140  0.7325  0.3340  0.1575  0.1700  11\n",
            "1950  0.645  0.510  0.160  1.2415  0.5815  0.2760  0.3150   9\n",
            "1951  0.530  0.430  0.135  0.6255  0.2450  0.1455  0.2135  10\n",
            "1952  0.635  0.475  0.150  1.1845  0.5330  0.3070  0.2910  10\n",
            "1953  0.575  0.440  0.145  0.8700  0.3945  0.2195  0.2250   8\n",
            "1954  0.650  0.545  0.165  1.5660  0.6645  0.3455  0.4150  16\n",
            "1955  0.555  0.455  0.135  0.8370  0.3820  0.1710  0.2350   9\n",
            "1956  0.630  0.475  0.150  1.0720  0.4330  0.2975  0.3150   8\n",
            "1957  0.510  0.405  0.150  0.7035  0.3470  0.1340  0.1885   8\n",
            "1958  0.685  0.545  0.180  1.7680  0.7495  0.3920  0.4850  16\n",
            "1959  0.450  0.350  0.125  0.4435  0.1850  0.0900  0.1450  11\n",
            "1960  0.570  0.435  0.170  0.8480  0.4000  0.1660  0.2500   9\n",
            "1961  0.590  0.460  0.145  0.9905  0.4530  0.2205  0.2750   8\n",
            "1962  0.580  0.445  0.150  0.8865  0.3830  0.2090  0.2550  11\n",
            "1963  0.510  0.405  0.130  0.7175  0.3725  0.1580  0.1700   9\n",
            "1964  0.575  0.450  0.135  0.9215  0.3540  0.2090  0.2365   9\n",
            "1965  0.350  0.265  0.090  0.1775  0.0575  0.0420  0.0680  12\n",
            "1966  0.420  0.325  0.100  0.3680  0.1675  0.0625  0.1135  11\n",
            "1967  0.405  0.315  0.105  0.3470  0.1605  0.0785  0.1000   9\n",
            "1968  0.565  0.435  0.145  0.8445  0.3975  0.1580  0.2550   9\n",
            "1969  0.505  0.405  0.140  0.8750  0.2665  0.1740  0.2850  12\n",
            "1970  0.410  0.305  0.100  0.2645  0.1000  0.0655  0.0850   7\n",
            "1971  0.620  0.500  0.175  1.1070  0.4895  0.2400  0.3430  11\n",
            "1972  0.370  0.285  0.105  0.2700  0.1125  0.0585  0.0835   9\n",
            "1973  0.275  0.200  0.075  0.0860  0.0305  0.0190  0.0300   7\n",
            "1974  0.595  0.475  0.140  1.0305  0.4925  0.2170  0.2780  10\n",
            "1975  0.620  0.485  0.165  1.1325  0.5235  0.2505  0.2825   9\n",
            "1976  0.590  0.455  0.145  1.0730  0.4750  0.1900  0.2850  14\n",
            "1977  0.650  0.510  0.190  1.5420  0.7155  0.3735  0.3750   9\n",
            "1978  0.630  0.510  0.190  1.4985  0.4125  0.3075  0.5450  16\n",
            "1979  0.585  0.405  0.150  1.2565  0.4350  0.2020  0.3250  15\n",
            "1980  0.360  0.270  0.095  0.2000  0.0730  0.0560  0.0610   8\n",
            "1981  0.420  0.330  0.100  0.3520  0.1635  0.0890  0.1000   9\n",
            "1982  0.610  0.485  0.165  1.0870  0.4255  0.2320  0.3800  11\n",
            "1983  0.710  0.575  0.175  1.5550  0.6465  0.3705  0.5200  15\n",
            "1984  0.390  0.300  0.090  0.2520  0.1065  0.0530  0.0800   7\n",
            "1985  0.550  0.435  0.160  0.9060  0.3420  0.2190  0.2950  13\n",
            "1986  0.590  0.460  0.130  1.1020  0.4550  0.2055  0.3300  12\n",
            "1987  0.550  0.430  0.140  0.8105  0.3680  0.1610  0.2750   9\n",
            "1988  0.630  0.475  0.175  1.4230  0.4155  0.3385  0.4900  14\n",
            "1989  0.530  0.420  0.130  0.6580  0.2960  0.1245  0.1980   8\n",
            "1990  0.420  0.315  0.115  0.3550  0.1895  0.0650  0.0870   6\n",
            "1991  0.620  0.465  0.185  1.2740  0.5790  0.3065  0.3200  12\n",
            "1992  0.400  0.265  0.100  0.2775  0.1245  0.0605  0.0800   9\n",
            "1993  0.580  0.460  0.140  0.8295  0.3915  0.1650  0.2380  10\n",
            "1994  0.550  0.445  0.145  0.7830  0.3045  0.1570  0.2650  11\n",
            "1995  0.615  0.510  0.150  1.2960  0.5450  0.3315  0.3200   9\n",
            "1996  0.645  0.490  0.160  1.2510  0.5355  0.3345  0.3165   9\n",
            "1997  0.670  0.585  0.160  1.3090  0.5445  0.2945  0.4130  10\n",
            "1998  0.625  0.485  0.165  1.2255  0.5075  0.2960  0.3600  10\n",
            "1999  0.385  0.300  0.090  0.3080  0.1525  0.0560  0.0835   8\n",
            "2000  0.295  0.220  0.065  0.1295  0.0520  0.0280  0.0350   6\n",
            "2001  0.605  0.470  0.165  1.1775  0.6110  0.2275  0.2920   9\n",
            "2002  0.185  0.135  0.040  0.0270  0.0105  0.0055  0.0090   5\n",
            "2003  0.295  0.230  0.085  0.1250  0.0420  0.0285  0.0430   8\n",
            "2004  0.285  0.215  0.070  0.1075  0.0510  0.0225  0.0270   6\n",
            "2005  0.455  0.345  0.125  0.4400  0.1690  0.1065  0.1350  12\n",
            "2006  0.705  0.530  0.170  1.5640  0.6120  0.3940  0.4400  10\n",
            "2007  0.580  0.460  0.180  1.1450  0.4800  0.2770  0.3250  11\n",
            "2008  0.235  0.170  0.055  0.0515  0.0180  0.0105  0.0195   7\n",
            "2009  0.295  0.220  0.085  0.1285  0.0585  0.0270  0.0365   5\n",
            "2010  0.520  0.380  0.115  0.6645  0.3285  0.1700  0.1425   7\n",
            "2011  0.415  0.310  0.095  0.3400  0.1810  0.0570  0.0830   6\n",
            "2012  0.630  0.510  0.185  1.2350  0.5115  0.3490  0.3065  11\n",
            "2013  0.580  0.460  0.150  0.9955  0.4290  0.2120  0.2600  19\n",
            "2014  0.580  0.440  0.125  0.7855  0.3630  0.1955  0.1950  11\n",
            "2015  0.440  0.305  0.115  0.3790  0.1620  0.0910  0.1100   9\n",
            "2016  0.535  0.400  0.150  1.2240  0.6180  0.2750  0.2875  10\n",
            "2017  0.550  0.435  0.110  0.8060  0.3415  0.2030  0.2150   9\n",
            "2018  0.685  0.535  0.155  1.3845  0.6615  0.2145  0.4075  10\n",
            "2019  0.395  0.295  0.100  0.2715  0.1340  0.0325  0.0850  10\n",
            "2020  0.430  0.340  0.110  0.3820  0.1540  0.0955  0.1090   8\n",
            "2021  0.250  0.180  0.065  0.0805  0.0345  0.0185  0.0215   4\n",
            "2022  0.240  0.175  0.065  0.0665  0.0310  0.0135  0.0170   3\n",
            "2023  0.475  0.390  0.120  0.5305  0.2135  0.1155  0.1700  10\n",
            "2024  0.575  0.470  0.140  0.8375  0.3485  0.1735  0.2400  11\n",
            "2025  0.530  0.410  0.125  0.7690  0.3460  0.1730  0.2150   9\n",
            "2026  0.585  0.475  0.120  0.9450  0.4100  0.2115  0.2800  14\n",
            "2027  0.710  0.560  0.175  1.7240  0.5660  0.4575  0.4625  13\n",
            "2028  0.420  0.325  0.115  0.2885  0.1000  0.0570  0.1135  15\n",
            "2029  0.475  0.400  0.115  0.5410  0.1860  0.1025  0.2100  13\n",
            "2030  0.635  0.525  0.160  1.1950  0.5435  0.2460  0.3350  12\n",
            "2031  0.555  0.455  0.170  0.8435  0.3090  0.1905  0.3000  15\n",
            "2032  0.625  0.495  0.155  1.1770  0.5055  0.2780  0.3450   9\n",
            "2033  0.580  0.450  0.145  1.0025  0.5470  0.1975  0.2295   8\n",
            "2034  0.155  0.115  0.025  0.0240  0.0090  0.0050  0.0075   5\n",
            "2035  0.685  0.510  0.165  1.5450  0.6860  0.3775  0.4055  10\n",
            "2036  0.725  0.580  0.185  1.5230  0.8045  0.3595  0.4375   9\n",
            "2037  0.650  0.500  0.185  1.4415  0.7410  0.2955  0.3410   9\n",
            "2038  0.335  0.250  0.090  0.1810  0.0755  0.0415  0.0600   7\n",
            "2039  0.475  0.375  0.110  0.4940  0.2110  0.1090  0.1545   8\n",
            "2040  0.280  0.210  0.075  0.1195  0.0530  0.0265  0.0300   6\n",
            "2041  0.450  0.355  0.115  0.4780  0.1800  0.1185  0.1550  10\n",
            "2042  0.645  0.515  0.150  1.2120  0.5150  0.2055  0.3850  10\n",
            "2043  0.345  0.260  0.090  0.2070  0.0775  0.0435  0.0765  10\n",
            "2044  0.530  0.430  0.150  0.7410  0.3250  0.1855  0.1960   9\n",
            "2045  0.585  0.415  0.155  0.6985  0.3000  0.1460  0.1950  12\n",
            "2046  0.630  0.500  0.155  1.0050  0.3670  0.1990  0.3600  16\n",
            "2047  0.445  0.345  0.120  0.4035  0.1690  0.0825  0.1300   7\n",
            "2048  0.580  0.445  0.145  0.8880  0.4100  0.1815  0.2425   8\n",
            "2049  0.200  0.145  0.050  0.0360  0.0125  0.0080  0.0110   4\n",
            "2050  0.610  0.495  0.190  1.2130  0.4640  0.3060  0.3650  15\n",
            "2051  0.735  0.565  0.205  2.1275  0.9490  0.4600  0.5650  12\n",
            "2052  0.490  0.385  0.115  0.6830  0.3265  0.1615  0.1650  13\n",
            "2053  0.720  0.550  0.205  2.1650  1.1055  0.5250  0.4040  10\n",
            "2054  0.630  0.495  0.165  1.3075  0.5990  0.2840  0.3150  11\n",
            "2055  0.330  0.260  0.085  0.1965  0.0915  0.0425  0.0550   7\n",
            "2056  0.595  0.460  0.140  0.8520  0.4215  0.2255  0.2270   9\n",
            "2057  0.250  0.180  0.065  0.0685  0.0245  0.0155  0.0225   5\n",
            "2058  0.495  0.380  0.120  0.4740  0.1970  0.1065  0.1545  10\n",
            "2059  0.375  0.285  0.090  0.2370  0.1060  0.0395  0.0800   8\n",
            "2060  0.680  0.550  0.175  1.7980  0.8150  0.3925  0.4550  19\n",
            "2061  0.445  0.335  0.110  0.4110  0.1985  0.0935  0.1090   8\n",
            "2062  0.485  0.390  0.135  0.6170  0.2500  0.1345  0.1635   8\n",
            "2063  0.600  0.475  0.160  1.1640  0.5045  0.2635  0.3350  12\n",
            "2064  0.420  0.330  0.125  0.4630  0.1860  0.1100  0.1450  10\n",
            "2065  0.320  0.215  0.095  0.3050  0.1400  0.0670  0.0885   6\n",
            "2066  0.600  0.480  0.175  1.2290  0.4125  0.2735  0.4150  13\n",
            "2067  0.610  0.470  0.160  1.0220  0.4490  0.2345  0.2945   9\n",
            "2068  0.520  0.425  0.155  0.7735  0.2970  0.1230  0.2550  17\n",
            "2069  0.530  0.405  0.130  0.7380  0.2845  0.1700  0.1930   9\n",
            "2070  0.675  0.505  0.160  1.5320  0.7400  0.3570  0.3815  11\n",
            "2071  0.560  0.420  0.195  0.8085  0.3025  0.1795  0.2850  14\n",
            "2072  0.160  0.110  0.025  0.0195  0.0075  0.0050  0.0060   4\n",
            "2073  0.655  0.500  0.220  1.3590  0.6420  0.3255  0.4050  13\n",
            "2074  0.490  0.360  0.110  0.5005  0.1610  0.1070  0.1950  17\n",
            "2075  0.490  0.385  0.125  0.6090  0.3065  0.0960  0.1775   8\n",
            "2076  0.485  0.365  0.090  0.6510  0.3165  0.1320  0.1800   8\n",
            "2077  0.375  0.270  0.135  0.5970  0.2720  0.1310  0.1675   7\n",
            "2078  0.565  0.455  0.150  0.9595  0.4565  0.2395  0.2300   9\n",
            "2079  0.700  0.550  0.170  1.6840  0.7535  0.3265  0.3200  11\n",
            "2080  0.750  0.565  0.215  1.9380  0.7735  0.4825  0.5750  11\n",
            "2081  0.590  0.465  0.140  1.0460  0.4695  0.2630  0.2630   7\n",
            "2082  0.650  0.525  0.180  1.6260  0.5970  0.3445  0.5300  18\n",
            "2083  0.655  0.545  0.190  1.4245  0.6325  0.3330  0.3780  10\n",
            "2084  0.620  0.510  0.175  1.1255  0.4985  0.2270  0.3150  14\n",
            "2085  0.555  0.440  0.145  0.8815  0.4300  0.1975  0.2155   8\n",
            "2086  0.600  0.475  0.180  1.1620  0.5110  0.2675  0.3200  18\n",
            "2087  0.505  0.395  0.125  0.6350  0.2900  0.1555  0.1750   9\n",
            "2088  0.290  0.215  0.065  0.0985  0.0425  0.0210  0.0310   5\n",
            "2089  0.650  0.515  0.175  1.4805  0.5295  0.2720  0.5250  20\n",
            "2090  0.520  0.400  0.140  0.6220  0.2780  0.1455  0.1690   8\n",
            "2091  0.530  0.415  0.140  0.7240  0.3105  0.1675  0.2050  10\n",
            "2092  0.495  0.385  0.125  0.5125  0.2075  0.1155  0.1720  10\n",
            "2093  0.455  0.335  0.105  0.4055  0.1750  0.0920  0.1185   8\n",
            "2094  0.530  0.430  0.140  0.6770  0.2980  0.0965  0.2300   8\n",
            "2095  0.675  0.530  0.195  1.4985  0.6200  0.3750  0.4250   9\n",
            "2096  0.625  0.485  0.175  1.3745  0.7335  0.2715  0.3320   9\n",
            "2097  0.210  0.150  0.045  0.0400  0.0135  0.0080  0.0105   4\n",
            "2098  0.440  0.330  0.110  0.3800  0.1970  0.0790  0.0900   7\n",
            "2099  0.535  0.445  0.125  0.8725  0.4170  0.1990  0.2400   8\n",
            "2100  0.550  0.460  0.175  0.8690  0.3155  0.1825  0.3200  10\n",
            "2101  0.460  0.375  0.120  0.4605  0.1775  0.1100  0.1500   7\n",
            "2102  0.530  0.405  0.130  0.6615  0.2945  0.1395  0.1900   9\n",
            "2103  0.565  0.460  0.150  0.8765  0.3455  0.1925  0.2750  10\n",
            "2104  0.460  0.355  0.110  0.4360  0.1975  0.0960  0.1250   8\n",
            "2105  0.440  0.340  0.100  0.4070  0.2090  0.0735  0.1030   7\n",
            "2106  0.590  0.450  0.125  0.8600  0.4370  0.1515  0.2450   9\n",
            "2107  0.685  0.550  0.190  1.8850  0.8900  0.4100  0.4895  10\n",
            "2108  0.435  0.340  0.120  0.3960  0.1775  0.0810  0.1250   8\n",
            "2109  0.500  0.390  0.125  0.5830  0.2940  0.1320  0.1605   8\n",
            "2110  0.520  0.380  0.135  0.5395  0.2295  0.1330  0.1570   8\n",
            "2111  0.575  0.480  0.165  1.0780  0.5110  0.2095  0.3060   9\n",
            "2112  0.375  0.285  0.100  0.2390  0.1050  0.0555  0.0700   8\n",
            "2113  0.640  0.500  0.170  1.4545  0.6420  0.3575  0.3540   9\n",
            "2114  0.575  0.470  0.185  0.9850  0.3745  0.2175  0.3550  10\n",
            "2115  0.500  0.405  0.155  0.7720  0.3460  0.1535  0.2450  12\n",
            "2116  0.435  0.330  0.110  0.4130  0.2055  0.0960  0.0960   6\n",
            "2117  0.385  0.280  0.100  0.2755  0.1305  0.0610  0.0725   8\n",
            "2118  0.655  0.490  0.160  1.2040  0.5455  0.2615  0.3225   9\n",
            "2119  0.450  0.335  0.105  0.4250  0.1865  0.0910  0.1150   9\n",
            "2120  0.765  0.585  0.180  2.3980  1.1280  0.5120  0.5335  12\n",
            "2121  0.550  0.440  0.155  0.9155  0.3645  0.1950  0.2500   8\n",
            "2122  0.540  0.435  0.180  0.9960  0.3835  0.2260  0.3250  17\n",
            "2123  0.665  0.500  0.150  1.2475  0.4625  0.2955  0.3595  10\n",
            "2124  0.575  0.450  0.155  0.8860  0.3605  0.2110  0.2575   9\n",
            "2125  0.660  0.495  0.195  1.6275  0.5940  0.3595  0.4850  10\n",
            "2126  0.390  0.280  0.125  0.5640  0.3035  0.0955  0.1430   7\n",
            "2127  0.275  0.175  0.090  0.2315  0.0960  0.0570  0.0705   5\n",
            "2128  0.625  0.505  0.185  1.1565  0.5200  0.2405  0.3535  10\n",
            "2129  0.695  0.540  0.195  1.6910  0.7680  0.3630  0.4755  11\n",
            "2130  0.360  0.265  0.075  0.1845  0.0830  0.0365  0.0550   7\n",
            "2131  0.485  0.395  0.160  0.6600  0.2475  0.1280  0.2350  14\n",
            "2132  0.540  0.420  0.155  0.7385  0.3515  0.1520  0.2150  12\n",
            "2133  0.560  0.445  0.155  1.2240  0.5565  0.3225  0.2695  10\n",
            "2134  0.495  0.395  0.120  0.5530  0.2240  0.1375  0.1670   8\n",
            "2135  0.625  0.430  0.175  1.4110  0.5720  0.2970  0.3950  12\n",
            "2136  0.560  0.445  0.155  0.8735  0.3005  0.2090  0.2750  16\n",
            "2137  0.530  0.410  0.165  0.8115  0.2400  0.1690  0.2400  19\n",
            "2138  0.595  0.465  0.150  1.0765  0.4910  0.2200  0.2870   9\n",
            "2139  0.595  0.465  0.145  0.7955  0.3425  0.1795  0.2425  10\n",
            "2140  0.620  0.470  0.155  0.9660  0.4470  0.1710  0.2840  11\n",
            "2141  0.650  0.515  0.175  1.4660  0.6770  0.3045  0.4000  10\n",
            "2142  0.495  0.390  0.150  0.8530  0.3285  0.1890  0.2700  14\n",
            "2143  0.565  0.415  0.125  0.6670  0.3020  0.1545  0.1850   7\n",
            "2144  0.535  0.420  0.145  0.6885  0.2730  0.1515  0.2370   9\n",
            "2145  0.640  0.505  0.165  1.2235  0.5215  0.2695  0.3600  10\n",
            "2146  0.535  0.410  0.130  0.6075  0.2680  0.1225  0.1975   9\n",
            "2147  0.430  0.340  0.110  0.3645  0.1590  0.0855  0.1050   7\n",
            "2148  0.355  0.280  0.095  0.2455  0.0955  0.0620  0.0750  11\n",
            "2149  0.575  0.460  0.165  0.9575  0.4815  0.1945  0.2360  10\n",
            "2150  0.720  0.565  0.170  1.6130  0.7230  0.3255  0.4945  12\n",
            "2151  0.660  0.525  0.180  1.6935  0.6025  0.4005  0.4200  15\n",
            "2152  0.405  0.300  0.105  0.3040  0.1455  0.0610  0.0805   6\n",
            "2153  0.700  0.565  0.180  1.7510  0.8950  0.3355  0.4460   9\n",
            "2154  0.375  0.275  0.090  0.2180  0.0930  0.0405  0.0755   6\n",
            "2155  0.510  0.340  0.180  0.7005  0.3120  0.1650  0.2000  11\n",
            "2156  0.590  0.455  0.160  1.0900  0.5000  0.2215  0.2920   9\n",
            "2157  0.535  0.435  0.150  0.7170  0.3475  0.1445  0.1940   9\n",
            "2158  0.630  0.490  0.160  1.0900  0.4070  0.2240  0.3540  12\n",
            "2159  0.675  0.550  0.175  1.6890  0.6940  0.3710  0.4740  13\n",
            "2160  0.350  0.260  0.095  0.2210  0.0985  0.0430  0.0700   8\n",
            "2161  0.535  0.420  0.160  0.7465  0.3480  0.1515  0.2185  10\n",
            "2162  0.635  0.515  0.165  1.2290  0.5055  0.2975  0.3535  10\n",
            "2163  0.450  0.335  0.140  0.4625  0.1640  0.0760  0.1500  14\n",
            "2164  0.620  0.470  0.200  1.2255  0.3810  0.2700  0.4350  23\n",
            "2165  0.345  0.255  0.090  0.2005  0.0940  0.0295  0.0630   9\n",
            "2166  0.640  0.495  0.170  1.1390  0.5395  0.2820  0.2850  10\n",
            "2167  0.630  0.500  0.180  1.1965  0.5140  0.2325  0.3995   8\n",
            "2168  0.550  0.460  0.130  0.7085  0.3050  0.1455  0.2050  12\n",
            "2169  0.600  0.460  0.145  0.9325  0.3985  0.2245  0.2480   8\n",
            "2170  0.595  0.485  0.145  1.2515  0.5035  0.2925  0.3300  14\n",
            "2171  0.455  0.350  0.140  0.5725  0.1965  0.1325  0.1750  10\n",
            "2172  0.535  0.410  0.120  0.6835  0.3125  0.1655  0.1590   8\n",
            "2173  0.625  0.490  0.165  1.2050  0.5175  0.3105  0.3465  10\n",
            "2174  0.555  0.430  0.140  0.7545  0.3525  0.1835  0.2015   9\n",
            "2175  0.325  0.240  0.070  0.1520  0.0565  0.0305  0.0540   8\n",
            "2176  0.570  0.445  0.150  0.9950  0.5040  0.1850  0.2505   9\n",
            "2177  0.605  0.435  0.130  0.9025  0.4320  0.1740  0.2600  11\n",
            "2178  0.635  0.510  0.185  1.2860  0.5260  0.2950  0.4105  12\n",
            "2179  0.555  0.400  0.130  0.7075  0.3320  0.1585  0.1800   7\n",
            "2180  0.525  0.405  0.145  0.6965  0.3045  0.1535  0.2100   8\n",
            "2181  0.640  0.540  0.175  1.5710  0.6270  0.2710  0.4750  18\n",
            "2182  0.645  0.510  0.160  1.3300  0.6665  0.3090  0.3170   9\n",
            "2183  0.475  0.365  0.140  0.6175  0.2020  0.1445  0.1900  16\n",
            "2184  0.600  0.470  0.165  1.0590  0.5040  0.2410  0.2750   9\n",
            "2185  0.370  0.280  0.090  0.2180  0.0995  0.0545  0.0615   7\n",
            "2186  0.535  0.420  0.125  0.7640  0.3120  0.1505  0.2650  11\n",
            "2187  0.670  0.540  0.165  1.5015  0.5180  0.3580  0.5050  14\n",
            "2188  0.615  0.505  0.165  1.3400  0.5315  0.2815  0.4100  12\n",
            "2189  0.480  0.360  0.125  0.5420  0.2795  0.1025  0.1470   7\n",
            "2190  0.645  0.500  0.150  1.1590  0.4675  0.3355  0.3100   9\n",
            "2191  0.465  0.405  0.135  0.7775  0.4360  0.1715  0.1455  10\n",
            "2192  0.490  0.390  0.135  0.5785  0.2465  0.1230  0.2000  13\n",
            "2193  0.505  0.400  0.125  0.7700  0.2735  0.1590  0.2550  13\n",
            "2194  0.595  0.480  0.160  1.2095  0.5225  0.2960  0.3200   8\n",
            "2195  0.565  0.430  0.125  0.6545  0.2815  0.1390  0.2100   9\n",
            "2196  0.555  0.425  0.140  0.7880  0.2820  0.1595  0.2850  11\n",
            "2197  0.625  0.500  0.140  1.0960  0.5445  0.2165  0.2950  10\n",
            "2198  0.665  0.505  0.160  1.2915  0.6310  0.2925  0.3200  11\n",
            "2199  0.605  0.490  0.165  1.0710  0.4820  0.1935  0.3520  10\n",
            "2200  0.470  0.375  0.130  0.5795  0.2145  0.1640  0.1950  13\n",
            "2201  0.645  0.525  0.170  1.3700  0.6135  0.2830  0.3400  10\n",
            "2202  0.750  0.610  0.235  2.5085  1.2320  0.5190  0.6120  14\n",
            "2203  0.630  0.495  0.190  1.1655  0.5360  0.2115  0.1625  10\n",
            "2204  0.465  0.355  0.120  0.5805  0.2550  0.0915  0.1840   8\n",
            "2205  0.625  0.460  0.160  1.2395  0.5500  0.2730  0.3800  14\n",
            "2206  0.230  0.170  0.050  0.0570  0.0260  0.0130  0.0160   5\n",
            "2207  0.570  0.495  0.160  1.0915  0.4520  0.2750  0.3150  14\n",
            "2208  0.505  0.400  0.145  0.7045  0.3340  0.1425  0.2070   8\n",
            "2209  0.455  0.350  0.110  0.4580  0.2000  0.1110  0.1305   8\n",
            "2210  0.580  0.445  0.150  0.8580  0.4000  0.1560  0.2530   8\n",
            "2211  0.545  0.435  0.135  0.7715  0.3720  0.1480  0.2270   8\n",
            "2212  0.200  0.145  0.060  0.0370  0.0125  0.0095  0.0110   4\n",
            "2213  0.485  0.375  0.110  0.4640  0.2015  0.0900  0.1490   8\n",
            "2214  0.440  0.340  0.135  0.3975  0.1505  0.0945  0.1350   8\n",
            "2215  0.635  0.495  0.195  1.2970  0.5560  0.2985  0.3700  11\n",
            "2216  0.630  0.500  0.185  1.3620  0.5785  0.3125  0.3840  10\n",
            "2217  0.555  0.430  0.150  0.7830  0.3450  0.1755  0.2470   9\n",
            "2218  0.735  0.590  0.225  1.7560  0.6370  0.3405  0.5800  21\n",
            "2219  0.520  0.395  0.180  0.6400  0.1580  0.1100  0.2450  22\n",
            "2220  0.565  0.450  0.175  1.0095  0.4470  0.2375  0.2645   9\n",
            "2221  0.570  0.475  0.195  1.0295  0.4635  0.1905  0.3050  18\n",
            "2222  0.550  0.440  0.150  0.8945  0.3145  0.1510  0.3200  19\n",
            "2223  0.470  0.375  0.120  0.5565  0.2260  0.1220  0.1950  12\n",
            "2224  0.680  0.530  0.205  1.4960  0.5825  0.3370  0.4650  14\n",
            "2225  0.390  0.300  0.090  0.3055  0.1430  0.0645  0.0850   9\n",
            "2226  0.585  0.460  0.165  1.0580  0.4860  0.2500  0.2940   9\n",
            "2227  0.620  0.480  0.150  1.2660  0.6285  0.2575  0.3090  12\n",
            "2228  0.435  0.355  0.125  0.4075  0.1535  0.0740  0.1650   9\n",
            "2229  0.440  0.340  0.105  0.4020  0.1305  0.0955  0.1650  10\n",
            "2230  0.465  0.390  0.110  0.6355  0.1815  0.1570  0.2250  13\n",
            "2231  0.545  0.450  0.150  0.9780  0.3365  0.1905  0.3000  11\n",
            "2232  0.450  0.365  0.115  0.5885  0.3180  0.1210  0.1325   8\n",
            "2233  0.580  0.450  0.195  0.8265  0.4035  0.1730  0.2250   9\n",
            "2234  0.490  0.380  0.130  0.5390  0.2290  0.1355  0.1650  12\n",
            "2235  0.565  0.440  0.135  0.8300  0.3930  0.1735  0.2380   9\n",
            "2236  0.600  0.475  0.150  1.1300  0.5750  0.1960  0.3050   9\n",
            "2237  0.440  0.340  0.105  0.3440  0.1230  0.0810  0.1250   8\n",
            "2238  0.675  0.555  0.205  1.9250  0.7130  0.3580  0.4535  13\n",
            "2239  0.470  0.380  0.145  0.5865  0.2385  0.1440  0.1850   8\n",
            "2240  0.630  0.490  0.225  1.3360  0.6805  0.2590  0.3245  10\n",
            "2241  0.520  0.415  0.175  0.7530  0.2580  0.1710  0.2550   8\n",
            "2242  0.700  0.545  0.185  1.6135  0.7500  0.4035  0.3685  11\n",
            "2243  0.555  0.435  0.165  0.9700  0.3360  0.2315  0.2950  17\n",
            "2244  0.195  0.150  0.045  0.0375  0.0180  0.0060  0.0110   3\n",
            "2245  0.505  0.390  0.115  0.6600  0.3045  0.1555  0.1750   8\n",
            "2246  0.520  0.380  0.130  0.5345  0.2375  0.1220  0.1535   8\n",
            "2247  0.710  0.555  0.195  1.9485  0.9455  0.3765  0.4950  12\n",
            "2248  0.240  0.185  0.060  0.0655  0.0295  0.0005  0.0200   4\n",
            "2249  0.675  0.510  0.170  1.5270  0.8090  0.3180  0.3410  11\n",
            "2250  0.605  0.485  0.165  0.9515  0.4535  0.1930  0.2765  11\n",
            "2251  0.530  0.420  0.130  1.0010  0.3400  0.2260  0.2650  17\n",
            "2252  0.600  0.485  0.175  1.2675  0.4995  0.2815  0.3800  13\n",
            "2253  0.315  0.250  0.090  0.2030  0.0615  0.0370  0.0795  11\n",
            "2254  0.600  0.465  0.155  1.0400  0.4755  0.2500  0.2800  11\n",
            "2255  0.565  0.440  0.135  0.7680  0.3305  0.1385  0.2475   9\n",
            "2256  0.645  0.510  0.200  1.5675  0.6210  0.3670  0.4600  12\n",
            "2257  0.175  0.125  0.050  0.0235  0.0080  0.0035  0.0080   5\n",
            "2258  0.565  0.430  0.130  0.7840  0.3495  0.1885  0.2130   9\n",
            "2259  0.570  0.455  0.155  0.8320  0.3585  0.1740  0.2770  11\n",
            "2260  0.660  0.535  0.200  1.7910  0.7330  0.3180  0.5400  15\n",
            "2261  0.625  0.420  0.165  1.0595  0.3580  0.1650  0.4450  21\n",
            "2262  0.505  0.400  0.155  0.8415  0.2715  0.1775  0.2850  12\n",
            "2263  0.365  0.265  0.085  0.2130  0.0945  0.0490  0.0600   7\n",
            "2264  0.160  0.120  0.035  0.0210  0.0075  0.0045  0.0050   5\n",
            "2265  0.545  0.440  0.150  0.9475  0.3660  0.2390  0.2750   8\n",
            "2266  0.435  0.350  0.120  0.4585  0.1920  0.1000  0.1300  11\n",
            "2267  0.650  0.520  0.190  1.3445  0.5190  0.3060  0.4465  16\n",
            "2268  0.400  0.300  0.115  0.3180  0.1335  0.0725  0.0935   6\n",
            "2269  0.475  0.360  0.110  0.4555  0.1770  0.0965  0.1450   9\n",
            "2270  0.620  0.475  0.160  0.9070  0.3710  0.1670  0.3075  11\n",
            "2271  0.570  0.460  0.170  1.1000  0.4125  0.2205  0.3800  14\n",
            "2272  0.700  0.545  0.215  1.9125  0.8825  0.4385  0.5060  10\n",
            "2273  0.525  0.430  0.150  0.7365  0.3225  0.1610  0.2150  11\n",
            "2274  0.525  0.410  0.135  0.7905  0.4065  0.1980  0.1770   8\n",
            "2275  0.470  0.385  0.130  0.5870  0.2640  0.1170  0.1740   8\n",
            "2276  0.420  0.315  0.100  0.3435  0.1570  0.0795  0.0900   6\n",
            "2277  0.620  0.465  0.145  0.9110  0.3750  0.2145  0.2780  10\n",
            "2278  0.645  0.515  0.175  1.5460  0.7035  0.3650  0.4150  10\n",
            "2279  0.525  0.400  0.145  0.6095  0.2480  0.1590  0.1750   9\n",
            "2280  0.635  0.490  0.155  1.1450  0.4775  0.3035  0.3155   9\n",
            "2281  0.440  0.345  0.120  0.4870  0.1965  0.1080  0.1600  14\n",
            "2282  0.645  0.515  0.185  1.4605  0.5835  0.3155  0.4100  19\n",
            "2283  0.575  0.450  0.155  0.9480  0.4290  0.2060  0.2590   7\n",
            "2284  0.610  0.485  0.210  1.3445  0.5350  0.2205  0.5150  20\n",
            "2285  0.280  0.210  0.085  0.1065  0.0390  0.0295  0.0300   4\n",
            "2286  0.350  0.250  0.070  0.1605  0.0715  0.0335  0.0460   6\n",
            "2287  0.610  0.465  0.150  0.9605  0.4495  0.1725  0.2860   9\n",
            "2288  0.455  0.340  0.135  0.4620  0.1675  0.1580  0.1200   9\n",
            "2289  0.605  0.460  0.170  1.1220  0.3470  0.3045  0.3150  13\n",
            "2290  0.520  0.405  0.140  0.5775  0.2000  0.1450  0.1790  11\n",
            "2291  0.655  0.510  0.175  1.6525  0.8515  0.3365  0.4030  10\n",
            "2292  0.640  0.575  0.175  1.4585  0.6250  0.2660  0.4395  11\n",
            "2293  0.475  0.350  0.115  0.4520  0.1715  0.0920  0.1550  11\n",
            "2294  0.560  0.430  0.150  0.8825  0.3465  0.1720  0.3100   9\n",
            "2295  0.400  0.320  0.095  0.3030  0.1335  0.0600  0.1000   7\n",
            "2296  0.650  0.515  0.195  1.4005  0.5195  0.3600  0.4400  13\n",
            "2297  0.485  0.400  0.155  0.7310  0.2360  0.1830  0.2550  11\n",
            "2298  0.620  0.480  0.165  1.0125  0.5325  0.4365  0.3240  10\n",
            "2299  0.365  0.255  0.080  0.1985  0.0785  0.0345  0.0530   5\n",
            "2300  0.655  0.535  0.205  1.6445  0.7305  0.3595  0.4600  13\n",
            "2301  0.575  0.450  0.160  1.0680  0.5560  0.2140  0.2575  10\n",
            "2302  0.515  0.390  0.120  0.5650  0.2350  0.1350  0.1790   9\n",
            "2303  0.440  0.350  0.135  0.4350  0.1815  0.0830  0.1250  12\n",
            "2304  0.570  0.450  0.135  0.7805  0.3345  0.1850  0.2100   8\n",
            "2305  0.650  0.525  0.185  1.3455  0.5860  0.2780  0.3865   9\n",
            "2306  0.685  0.565  0.175  1.6380  0.7775  0.3750  0.4380  11\n",
            "2307  0.460  0.345  0.110  0.3755  0.1525  0.0580  0.1250   7\n",
            "2308  0.455  0.360  0.115  0.4570  0.2085  0.0855  0.1470  10\n",
            "2309  0.430  0.325  0.115  0.3865  0.1475  0.1065  0.1100  11\n",
            "2310  0.650  0.520  0.175  1.2655  0.6150  0.2775  0.3360   9\n",
            "2311  0.680  0.515  0.175  1.6185  0.5125  0.4090  0.6200  12\n",
            "2312  0.275  0.200  0.065  0.1165  0.0565  0.0130  0.0350   7\n",
            "2313  0.610  0.470  0.150  1.1625  0.5650  0.2580  0.3085  11\n",
            "2314  0.650  0.515  0.185  1.3745  0.7500  0.1805  0.3690  12\n",
            "2315  0.525  0.430  0.165  0.8645  0.3760  0.1945  0.2515  16\n",
            "2316  0.455  0.350  0.135  0.5365  0.2855  0.0855  0.1325   7\n",
            "2317  0.550  0.425  0.155  0.9175  0.2775  0.2430  0.3350  13\n",
            "2318  0.630  0.495  0.175  1.2695  0.6050  0.2710  0.3280  11\n",
            "2319  0.525  0.400  0.140  0.6010  0.2625  0.1285  0.1835   9\n",
            "2320  0.470  0.385  0.135  0.5895  0.2765  0.1200  0.1700   8\n",
            "2321  0.470  0.365  0.105  0.4205  0.1630  0.1035  0.1400   9\n",
            "2322  0.740  0.570  0.180  1.8725  0.9115  0.4270  0.4460  10\n",
            "2323  0.250  0.185  0.065  0.0685  0.0295  0.0140  0.0225   5\n",
            "2324  0.640  0.520  0.175  1.2480  0.4245  0.2595  0.4800  12\n",
            "2325  0.580  0.500  0.165  0.9250  0.3700  0.1850  0.3005  10\n",
            "2326  0.370  0.275  0.140  0.2215  0.0970  0.0455  0.0615   6\n",
            "2327  0.630  0.470  0.155  1.1325  0.5890  0.2110  0.2870   8\n",
            "2328  0.450  0.345  0.115  0.4960  0.1905  0.1170  0.1400  12\n",
            "2329  0.640  0.520  0.200  1.4070  0.5660  0.3040  0.4550  17\n",
            "2330  0.640  0.525  0.175  1.3820  0.6460  0.3115  0.3700   9\n",
            "2331  0.435  0.375  0.110  0.4155  0.1700  0.0760  0.1450   8\n",
            "2332  0.650  0.525  0.185  1.6220  0.6645  0.3225  0.4770  10\n",
            "2333  0.315  0.235  0.080  0.1800  0.0800  0.0450  0.0470   5\n",
            "2334  0.465  0.355  0.125  0.5255  0.2025  0.1350  0.1450  13\n",
            "2335  0.525  0.415  0.140  0.7240  0.3475  0.1730  0.1750   8\n",
            "2336  0.470  0.375  0.120  0.6015  0.2765  0.1455  0.1350   8\n",
            "2337  0.440  0.340  0.120  0.4995  0.2965  0.0945  0.1185   6\n",
            "2338  0.605  0.475  0.175  1.3820  0.6090  0.2325  0.3985  10\n",
            "2339  0.620  0.480  0.165  1.0430  0.4835  0.2210  0.3100  10\n",
            "2340  0.550  0.430  0.125  0.9230  0.4035  0.1750  0.2830   8\n",
            "2341  0.370  0.270  0.095  0.2320  0.1325  0.0410  0.0615   6\n",
            "2342  0.695  0.550  0.195  1.6645  0.7270  0.3600  0.4450  11\n",
            "2343  0.600  0.470  0.160  1.0120  0.4410  0.2015  0.3050  10\n",
            "2344  0.480  0.375  0.145  0.7770  0.2160  0.1300  0.1700   9\n",
            "2345  0.580  0.450  0.140  0.9615  0.4860  0.1815  0.2530   9\n",
            "2346  0.325  0.225  0.075  0.1390  0.0565  0.0320  0.0900   6\n",
            "2347  0.605  0.475  0.140  1.1175  0.5550  0.2570  0.2740   9\n",
            "2348  0.460  0.350  0.100  0.4710  0.2520  0.0770  0.1230   8\n",
            "2349  0.540  0.415  0.145  0.7400  0.2635  0.1680  0.2450  12\n",
            "2350  0.515  0.395  0.125  0.5805  0.2365  0.1075  0.1900   9\n",
            "2351  0.690  0.550  0.180  1.6590  0.8715  0.2655  0.4395   9\n",
            "2352  0.580  0.450  0.170  0.9705  0.4615  0.2320  0.2480   9\n",
            "2353  0.665  0.535  0.155  1.3830  0.5960  0.2565  0.4850  14\n",
            "2354  0.365  0.270  0.085  0.1960  0.0825  0.0375  0.0600   7\n",
            "2355  0.675  0.550  0.190  1.5510  0.7105  0.3685  0.4120  13\n",
            "2356  0.610  0.485  0.165  1.0915  0.3935  0.2435  0.3300  18\n",
            "2357  0.550  0.415  0.135  0.7750  0.3020  0.1790  0.2600  23\n",
            "2358  0.660  0.535  0.175  1.5175  0.7110  0.3125  0.4150  12\n",
            "2359  0.580  0.460  0.130  0.9210  0.3570  0.1810  0.2900  13\n",
            "2360  0.445  0.340  0.145  0.4340  0.1945  0.0905  0.1300   7\n",
            "2361  0.425  0.325  0.120  0.3755  0.1420  0.1065  0.1050   9\n",
            "2362  0.665  0.525  0.155  1.3575  0.5325  0.3045  0.4485  10\n",
            "2363  0.510  0.390  0.105  0.6120  0.1870  0.1500  0.1950  13\n",
            "2364  0.375  0.275  0.095  0.2295  0.0950  0.0545  0.0660   7\n",
            "2365  0.420  0.320  0.130  0.4135  0.1645  0.1060  0.1190  10\n",
            "2366  0.580  0.445  0.135  0.9500  0.4840  0.1820  0.2325   8\n",
            "2367  0.615  0.470  0.155  1.0840  0.5885  0.2090  0.2460   9\n",
            "2368  0.575  0.450  0.130  0.7850  0.3180  0.1930  0.2265   9\n",
            "2369  0.645  0.510  0.180  1.6195  0.7815  0.3220  0.4675  12\n",
            "2370  0.600  0.475  0.175  1.1100  0.5105  0.2560  0.2850   9\n",
            "2371  0.400  0.310  0.110  0.3140  0.1380  0.0570  0.1000  11\n",
            "2372  0.595  0.455  0.155  1.0410  0.4160  0.2105  0.3650  14\n",
            "2373  0.275  0.195  0.070  0.0875  0.0345  0.0220  0.0255   4\n",
            "2374  0.405  0.305  0.105  0.3625  0.1565  0.0705  0.1250  10\n",
            "2375  0.250  0.180  0.060  0.0730  0.0280  0.0170  0.0225   5\n",
            "2376  0.515  0.385  0.130  0.6230  0.2855  0.1285  0.1750  10\n",
            "2377  0.385  0.300  0.095  0.3020  0.1520  0.0615  0.0735   7\n",
            "2378  0.615  0.470  0.155  1.2000  0.5085  0.3200  0.2920   8\n",
            "2379  0.730  0.580  0.190  1.7375  0.6785  0.4345  0.5200  11\n",
            "2380  0.455  0.350  0.105  0.4010  0.1575  0.0830  0.1350   9\n",
            "2381  0.160  0.110  0.025  0.0180  0.0065  0.0055  0.0050   3\n",
            "2382  0.570  0.440  0.145  0.8815  0.3605  0.1955  0.2735  10\n",
            "2383  0.475  0.335  0.100  0.4425  0.1895  0.0860  0.1350   9\n",
            "2384  0.555  0.420  0.145  0.8695  0.3075  0.2575  0.2500  14\n",
            "2385  0.555  0.405  0.190  1.4060  0.6115  0.3420  0.3890  10\n",
            "2386  0.605  0.475  0.160  1.6160  0.5495  0.3320  0.3400  18\n",
            "2387  0.460  0.350  0.110  0.3945  0.1685  0.0865  0.1250   9\n",
            "2388  0.615  0.475  0.205  1.3370  0.5995  0.2815  0.3700  11\n",
            "2389  0.490  0.390  0.140  0.7070  0.2795  0.2185  0.1800  13\n",
            "2390  0.645  0.480  0.190  1.3710  0.6925  0.2905  0.3500  12\n",
            "2391  0.615  0.495  0.200  1.3040  0.5795  0.3115  0.3710  14\n",
            "2392  0.550  0.445  0.155  0.9905  0.5440  0.1780  0.2180   9\n",
            "2393  0.665  0.520  0.175  1.3725  0.6060  0.3200  0.3950  12\n",
            "2394  0.575  0.435  0.150  0.8050  0.2930  0.1625  0.2700  17\n",
            "2395  0.390  0.310  0.105  0.2665  0.1185  0.0525  0.0810   8\n",
            "2396  0.590  0.470  0.145  0.9235  0.4545  0.1730  0.2540   9\n",
            "2397  0.475  0.375  0.125  0.5880  0.2370  0.1715  0.1550  10\n",
            "2398  0.690  0.550  0.195  1.7770  0.7690  0.3800  0.4305  11\n",
            "2399  0.555  0.405  0.120  0.9130  0.4585  0.1960  0.2065   9\n",
            "2400  0.515  0.415  0.135  0.7125  0.2850  0.1520  0.2450  10\n",
            "2401  0.480  0.380  0.135  0.5280  0.2000  0.1395  0.1600  14\n",
            "2402  0.695  0.550  0.155  1.8495  0.7670  0.4420  0.4175  10\n",
            "2403  0.535  0.430  0.155  0.7845  0.3285  0.1690  0.2450  10\n",
            "2404  0.535  0.420  0.150  0.6995  0.2575  0.1530  0.2400  12\n",
            "2405  0.290  0.210  0.060  0.1045  0.0415  0.0220  0.0350   5\n",
            "2406  0.340  0.250  0.070  0.2225  0.1040  0.0425  0.0550   7\n",
            "2407  0.695  0.560  0.185  1.7715  0.8195  0.3310  0.4370  10\n",
            "2408  0.400  0.300  0.115  0.3025  0.1335  0.0465  0.0935   8\n",
            "2409  0.605  0.480  0.155  0.9995  0.4250  0.1985  0.3000  10\n",
            "2410  0.450  0.380  0.165  0.8165  0.2500  0.1915  0.2650  23\n",
            "2411  0.615  0.490  0.190  1.1345  0.4695  0.2570  0.3480  11\n",
            "2412  0.560  0.440  0.140  0.9710  0.4430  0.2045  0.2650  14\n",
            "2413  0.580  0.450  0.120  0.8685  0.4180  0.1475  0.2605   8\n",
            "2414  0.645  0.485  0.150  1.2215  0.5695  0.2735  0.3300   9\n",
            "2415  0.440  0.340  0.125  0.4895  0.1735  0.0875  0.2000  13\n",
            "2416  0.515  0.370  0.115  0.6145  0.3415  0.1550  0.1460   9\n",
            "2417  0.635  0.495  0.195  1.1720  0.4450  0.3115  0.3475  11\n",
            "2418  0.600  0.475  0.170  1.0880  0.4905  0.2475  0.3100  10\n",
            "2419  0.645  0.505  0.150  1.1605  0.5190  0.2615  0.3350  10\n",
            "2420  0.505  0.375  0.180  0.5680  0.2325  0.1495  0.1700  12\n",
            "2421  0.320  0.240  0.080  0.1800  0.0800  0.0385  0.0550   6\n",
            "2422  0.535  0.435  0.140  0.8740  0.3735  0.2290  0.2195   8\n",
            "2423  0.670  0.525  0.190  1.5270  0.5755  0.3530  0.4400  12\n",
            "2424  0.645  0.500  0.175  1.3385  0.6330  0.2990  0.3490  11\n",
            "2425  0.510  0.370  0.210  1.1830  0.5080  0.2920  0.3430   9\n",
            "2426  0.670  0.545  0.200  1.7025  0.8330  0.3740  0.4100  11\n",
            "2427  0.375  0.265  0.095  0.1960  0.0850  0.0420  0.0585   5\n",
            "2428  0.500  0.400  0.125  0.5765  0.2395  0.1260  0.1850  10\n",
            "2429  0.590  0.460  0.125  0.7550  0.3340  0.1500  0.2380   9\n",
            "2430  0.595  0.470  0.155  1.1210  0.4515  0.1780  0.1550  11\n",
            "2431  0.440  0.325  0.080  0.4130  0.1440  0.1015  0.1300   8\n",
            "2432  0.470  0.370  0.135  0.5470  0.2220  0.1325  0.1700  12\n",
            "2433  0.320  0.205  0.080  0.1810  0.0880  0.0340  0.0495   5\n",
            "2434  0.605  0.515  0.170  1.2890  0.6000  0.2945  0.3315   9\n",
            "2435  0.515  0.400  0.135  0.6360  0.3055  0.1215  0.1855   9\n",
            "2436  0.375  0.305  0.115  0.2715  0.0920  0.0740  0.0900   8\n",
            "2437  0.355  0.265  0.085  0.2010  0.0690  0.0530  0.0695   8\n",
            "2438  0.615  0.495  0.165  1.1980  0.5415  0.2865  0.3185  10\n",
            "2439  0.580  0.435  0.150  0.8390  0.3485  0.2070  0.1920   7\n",
            "2440  0.625  0.490  0.175  1.3325  0.5705  0.2710  0.4050  10\n",
            "2441  0.700  0.555  0.200  1.8580  0.7300  0.3665  0.5950  11\n",
            "2442  0.380  0.285  0.095  0.2430  0.0895  0.0665  0.0750   7\n",
            "2443  0.610  0.495  0.175  1.2635  0.5300  0.3150  0.3455  10\n",
            "2444  0.440  0.365  0.115  0.5010  0.2435  0.0840  0.1465   9\n",
            "2445  0.530  0.400  0.165  0.7720  0.2855  0.1975  0.2300  12\n",
            "2446  0.520  0.410  0.140  0.6990  0.3395  0.1290  0.1945  10\n",
            "2447  0.520  0.410  0.115  0.8070  0.2855  0.1790  0.2350  12\n",
            "2448  0.515  0.425  0.140  0.7660  0.3040  0.1725  0.2550  14\n",
            "2449  0.615  0.475  0.170  1.1825  0.4740  0.2895  0.2400  11\n",
            "2450  0.365  0.270  0.085  0.2050  0.0780  0.0485  0.0700   7\n",
            "2451  0.650  0.520  0.150  1.2380  0.5495  0.2960  0.3305  10\n",
            "2452  0.720  0.600  0.235  2.2385  0.9840  0.4110  0.6210  12\n",
            "2453  0.515  0.410  0.140  0.7355  0.3065  0.1370  0.2000   7\n",
            "2454  0.375  0.285  0.095  0.2530  0.0960  0.0575  0.0925   9\n",
            "2455  0.580  0.430  0.130  0.7980  0.3650  0.1730  0.2285  10\n",
            "2456  0.345  0.255  0.080  0.1690  0.0600  0.0425  0.0540  10\n",
            "2457  0.075  0.055  0.010  0.0020  0.0010  0.0005  0.0015   1\n",
            "2458  0.645  0.500  0.175  1.5105  0.6735  0.3755  0.3775  12\n",
            "2459  0.305  0.230  0.080  0.1560  0.0675  0.0345  0.0480   7\n",
            "2460  0.470  0.355  0.145  0.4485  0.1560  0.1020  0.1230   7\n",
            "2461  0.565  0.465  0.150  1.1285  0.3770  0.3525  0.3300  16\n",
            "2462  0.555  0.440  0.155  1.0160  0.4935  0.1855  0.2630  10\n",
            "2463  0.405  0.300  0.120  0.3240  0.1265  0.0700  0.1100   7\n",
            "2464  0.615  0.500  0.165  1.1765  0.4880  0.2440  0.3450  17\n",
            "2465  0.450  0.350  0.120  0.4680  0.2005  0.1065  0.1325   8\n",
            "2466  0.695  0.535  0.200  1.5855  0.6670  0.3340  0.4710  11\n",
            "2467  0.310  0.230  0.070  0.1245  0.0505  0.0265  0.0380   6\n",
            "2468  0.630  0.485  0.170  1.3205  0.5945  0.3450  0.3450   9\n",
            "2469  0.620  0.485  0.175  1.2155  0.5450  0.2530  0.3450  10\n",
            "2470  0.525  0.375  0.120  0.6315  0.3045  0.1140  0.1900   9\n",
            "2471  0.415  0.325  0.100  0.4665  0.2285  0.1065  0.1140   7\n",
            "2472  0.410  0.315  0.100  0.3000  0.1240  0.0575  0.1000   8\n",
            "2473  0.540  0.420  0.120  0.8115  0.3920  0.1455  0.2235   9\n",
            "2474  0.640  0.475  0.140  1.0725  0.4895  0.2295  0.3100   8\n",
            "2475  0.235  0.175  0.040  0.0705  0.0335  0.0150  0.0200   5\n",
            "2476  0.475  0.380  0.135  0.4860  0.1735  0.0700  0.1850   7\n",
            "2477  0.685  0.535  0.175  1.4320  0.6370  0.2470  0.4600  11\n",
            "2478  0.470  0.355  0.100  0.4755  0.1675  0.0805  0.1850  10\n",
            "2479  0.275  0.200  0.080  0.0990  0.0370  0.0240  0.0300   5\n",
            "2480  0.625  0.505  0.175  1.1310  0.5425  0.2265  0.3230   8\n",
            "2481  0.330  0.260  0.080  0.2000  0.0625  0.0500  0.0700   9\n",
            "2482  0.470  0.380  0.125  0.4845  0.2110  0.1075  0.1420   6\n",
            "2483  0.290  0.225  0.070  0.1010  0.0360  0.0235  0.0350   8\n",
            "2484  0.500  0.385  0.155  0.7620  0.3795  0.1610  0.1900  14\n",
            "2485  0.690  0.545  0.205  1.9330  0.7855  0.4290  0.4980  13\n",
            "2486  0.425  0.350  0.105  0.3930  0.1300  0.0630  0.1650   9\n",
            "2487  0.525  0.400  0.130  0.6995  0.3115  0.1310  0.2230   9\n",
            "2488  0.385  0.255  0.100  0.3175  0.1370  0.0680  0.0920   8\n",
            "2489  0.700  0.600  0.230  2.0030  0.8105  0.4045  0.5755  10\n",
            "2490  0.370  0.290  0.115  0.2500  0.1110  0.0570  0.0750   9\n",
            "2491  0.485  0.410  0.150  0.6960  0.2405  0.1625  0.2650  13\n",
            "2492  0.660  0.500  0.175  1.3275  0.5560  0.2805  0.4085   9\n",
            "2493  0.450  0.335  0.095  0.3505  0.1615  0.0625  0.1185   7\n",
            "2494  0.450  0.360  0.125  0.4500  0.1910  0.0865  0.1450  12\n",
            "2495  0.630  0.485  0.180  1.2435  0.5175  0.3080  0.3700  11\n",
            "2496  0.515  0.435  0.170  0.6310  0.2765  0.1110  0.2160  12\n",
            "2497  0.590  0.450  0.160  0.9000  0.3580  0.1560  0.3150  19\n",
            "2498  0.650  0.545  0.160  1.2425  0.4870  0.2960  0.4800  15\n",
            "2499  0.600  0.495  0.175  1.2900  0.6060  0.2760  0.3445  11\n",
            "2500  0.625  0.465  0.155  0.9720  0.4040  0.1845  0.3500  14\n",
            "2501  0.645  0.520  0.175  1.3345  0.6670  0.2665  0.3550  10\n",
            "2502  0.385  0.280  0.085  0.2175  0.0970  0.0380  0.0670   8\n",
            "2503  0.550  0.425  0.135  0.7305  0.3325  0.1545  0.2150   9\n",
            "2504  0.540  0.415  0.155  0.7020  0.3220  0.1670  0.1900  10\n",
            "2505  0.615  0.525  0.155  1.1375  0.3670  0.2360  0.3700  20\n",
            "2506  0.325  0.230  0.090  0.1470  0.0600  0.0340  0.0450   4\n",
            "2507  0.440  0.340  0.105  0.3640  0.1480  0.0805  0.1175   8\n",
            "2508  0.585  0.450  0.160  1.0770  0.4995  0.2875  0.2500  10\n",
            "2509  0.685  0.535  0.175  1.5845  0.7175  0.3775  0.4215   9\n",
            "2510  0.685  0.520  0.165  1.5190  0.6990  0.3685  0.4000  10\n",
            "2511  0.455  0.350  0.120  0.4555  0.1945  0.1045  0.1375   7\n",
            "2512  0.585  0.465  0.145  0.9855  0.4325  0.2145  0.2845  10\n",
            "2513  0.545  0.440  0.175  0.7745  0.2985  0.1875  0.2650  11\n",
            "2514  0.410  0.300  0.090  0.3040  0.1290  0.0710  0.0955   8\n",
            "2515  0.590  0.460  0.145  0.9015  0.4190  0.1785  0.2600  11\n",
            "2516  0.700  0.575  0.170  1.3100  0.5095  0.3140  0.4200  14\n",
            "2517  0.620  0.435  0.155  1.0120  0.4770  0.2360  0.2750   8\n",
            "2518  0.515  0.400  0.170  0.7960  0.2580  0.1755  0.2800  16\n",
            "2519  0.600  0.460  0.150  1.2350  0.6025  0.2740  0.2900   8\n",
            "2520  0.455  0.345  0.110  0.4340  0.2070  0.0855  0.1215   8\n",
            "2521  0.570  0.465  0.180  0.9995  0.4050  0.2770  0.2950  16\n",
            "2522  0.580  0.465  0.145  0.9865  0.4700  0.2155  0.2500  11\n",
            "2523  0.380  0.280  0.085  0.2735  0.1150  0.0610  0.0850   6\n",
            "2524  0.455  0.370  0.105  0.4925  0.2160  0.1245  0.1350   9\n",
            "2525  0.675  0.510  0.185  1.4730  0.6295  0.3025  0.4245  11\n",
            "2526  0.655  0.515  0.180  1.4120  0.6195  0.2485  0.4970  11\n",
            "2527  0.375  0.295  0.110  0.3005  0.1255  0.0575  0.1035   7\n",
            "2528  0.610  0.480  0.140  1.0310  0.4375  0.2615  0.2700   8\n",
            "2529  0.485  0.370  0.100  0.5130  0.2190  0.1075  0.1300   7\n",
            "2530  0.420  0.325  0.115  0.3140  0.1295  0.0635  0.1000   8\n",
            "2531  0.410  0.300  0.100  0.2820  0.1255  0.0570  0.0875   7\n",
            "2532  0.450  0.335  0.105  0.4470  0.2335  0.1530  0.1190   7\n",
            "2533  0.455  0.350  0.130  0.4725  0.2150  0.0745  0.1500   9\n",
            "2534  0.590  0.465  0.165  1.1150  0.5165  0.2730  0.2750  10\n",
            "2535  0.455  0.325  0.135  0.8200  0.4005  0.1715  0.2110   8\n",
            "2536  0.640  0.510  0.200  1.3905  0.6100  0.3315  0.4100  12\n",
            "2537  0.625  0.520  0.180  1.3540  0.4845  0.3510  0.3750  11\n",
            "2538  0.580  0.455  0.170  0.9075  0.3740  0.2135  0.2850  13\n",
            "2539  0.615  0.475  0.155  1.0735  0.4375  0.2585  0.3100  11\n",
            "2540  0.520  0.465  0.150  0.9505  0.4560  0.1990  0.2550   8\n",
            "2541  0.620  0.480  0.175  1.0405  0.4640  0.2225  0.3000   9\n",
            "2542  0.380  0.275  0.095  0.2505  0.0945  0.0655  0.0750   6\n",
            "2543  0.650  0.545  0.175  1.5245  0.5900  0.3260  0.4950  10\n",
            "2544  0.625  0.475  0.160  1.0845  0.5005  0.2355  0.3105  10\n",
            "2545  0.485  0.375  0.130  0.5535  0.2660  0.1120  0.1570   8\n",
            "2546  0.585  0.460  0.145  0.8465  0.3390  0.1670  0.2950  10\n",
            "2547  0.360  0.300  0.085  0.2700  0.1185  0.0640  0.0745   7\n",
            "2548  0.680  0.500  0.185  1.7410  0.7665  0.3255  0.4685  12\n",
            "2549  0.635  0.520  0.165  1.3405  0.5065  0.2960  0.4120  11\n",
            "2550  0.615  0.475  0.175  1.1940  0.5590  0.2590  0.3165  11\n",
            "2551  0.415  0.325  0.115  0.3455  0.1405  0.0765  0.1100   9\n",
            "2552  0.500  0.380  0.110  0.5605  0.2800  0.1060  0.1500   9\n",
            "2553  0.520  0.405  0.140  0.6915  0.2760  0.1370  0.2150  11\n",
            "2554  0.700  0.540  0.215  1.9780  0.6675  0.3125  0.7100  24\n",
            "2555  0.495  0.395  0.135  0.6335  0.3035  0.1295  0.1495   8\n",
            "2556  0.385  0.295  0.095  0.3350  0.1470  0.0940  0.0900   7\n",
            "2557  0.515  0.350  0.155  0.9225  0.4185  0.1980  0.2730   9\n",
            "2558  0.640  0.485  0.145  1.1335  0.5525  0.2505  0.3015  11\n",
            "2559  0.470  0.360  0.105  0.5440  0.2700  0.1395  0.1290   7\n",
            "2560  0.620  0.470  0.135  1.0195  0.5315  0.2005  0.2475   8\n",
            "2561  0.450  0.350  0.145  0.5250  0.2085  0.1000  0.1655  15\n",
            "2562  0.390  0.290  0.125  0.3055  0.1210  0.0820  0.0900   7\n",
            "2563  0.735  0.585  0.185  2.1240  0.9520  0.5500  0.5000  11\n",
            "2564  0.685  0.510  0.180  1.4545  0.6315  0.3105  0.3725   9\n",
            "2565  0.630  0.485  0.190  1.2435  0.4635  0.3055  0.3900  21\n",
            "2566  0.710  0.555  0.175  2.1400  1.2455  0.3725  0.4340  11\n",
            "2567  0.610  0.480  0.150  1.1495  0.5640  0.2740  0.2640   8\n",
            "2568  0.570  0.445  0.150  0.9875  0.5040  0.2070  0.2490   8\n",
            "2569  0.695  0.525  0.205  1.8185  0.8190  0.4025  0.4525  13\n",
            "2570  0.660  0.525  0.180  1.4780  0.5815  0.3810  0.3720  10\n",
            "2571  0.475  0.350  0.125  0.4225  0.1905  0.0790  0.1355   9\n",
            "2572  0.615  0.470  0.160  1.0175  0.4730  0.2395  0.2800  10\n",
            "2573  0.450  0.340  0.130  0.3715  0.1605  0.0795  0.1050   9\n",
            "2574  0.295  0.215  0.085  0.1280  0.0490  0.0340  0.0400   6\n",
            "2575  0.590  0.450  0.185  1.2830  0.4730  0.2760  0.4250  16\n",
            "2576  0.485  0.385  0.125  0.4775  0.2000  0.0785  0.1700  12\n",
            "2577  0.385  0.295  0.085  0.2535  0.1030  0.0575  0.0850   7\n",
            "2578  0.620  0.480  0.170  1.1045  0.5350  0.2500  0.2870  10\n",
            "2579  0.540  0.420  0.140  0.8035  0.3800  0.1805  0.2100   9\n",
            "2580  0.570  0.430  0.120  1.0615  0.3480  0.1670  0.3100  15\n",
            "2581  0.725  0.570  0.205  1.6195  0.7440  0.3150  0.4880  11\n",
            "2582  0.530  0.425  0.130  0.7455  0.2995  0.1355  0.2450  10\n",
            "2583  0.435  0.325  0.105  0.3350  0.1360  0.0650  0.1150   8\n",
            "2584  0.375  0.285  0.090  0.2570  0.1045  0.0620  0.0750   7\n",
            "2585  0.575  0.455  0.185  1.1560  0.5525  0.2430  0.2950  13\n",
            "2586  0.275  0.215  0.075  0.1155  0.0485  0.0290  0.0350   7\n",
            "2587  0.560  0.440  0.130  0.8255  0.2425  0.2020  0.2850  10\n",
            "2588  0.585  0.465  0.150  0.9800  0.4315  0.2545  0.2470   9\n",
            "2589  0.690  0.555  0.205  1.8165  0.7785  0.4395  0.5150  19\n",
            "2590  0.350  0.260  0.095  0.2110  0.0860  0.0560  0.0680   7\n",
            "2591  0.470  0.345  0.115  0.4885  0.2005  0.1080  0.1660  11\n",
            "2592  0.555  0.425  0.145  0.7905  0.3485  0.1765  0.2250   9\n",
            "2593  0.470  0.360  0.130  0.5225  0.1980  0.1065  0.1650   9\n",
            "2594  0.545  0.445  0.150  0.8000  0.3535  0.1630  0.2070   9\n",
            "2595  0.475  0.365  0.130  0.4805  0.1905  0.1140  0.1475  12\n",
            "2596  0.605  0.450  0.195  1.0980  0.4810  0.2895  0.3150  13\n",
            "2597  0.475  0.355  0.100  0.5035  0.2535  0.0910  0.1400   8\n",
            "2598  0.585  0.420  0.155  1.0340  0.4370  0.2225  0.3200  11\n",
            "2599  0.500  0.400  0.140  0.6615  0.2565  0.1755  0.2200   8\n",
            "2600  0.425  0.305  0.110  0.3590  0.1730  0.0875  0.0975   9\n",
            "2601  0.475  0.355  0.125  0.4865  0.2155  0.1105  0.1420   9\n",
            "2602  0.650  0.525  0.205  1.4275  0.6900  0.3060  0.4355  13\n",
            "2603  0.485  0.400  0.135  0.6630  0.3130  0.1370  0.2000  10\n",
            "2604  0.600  0.475  0.155  1.2100  0.6530  0.1695  0.3205  10\n",
            "2605  0.735  0.570  0.175  1.8800  0.9095  0.3870  0.4880  11\n",
            "2606  0.535  0.420  0.165  0.9195  0.3355  0.1985  0.2600  16\n",
            "2607  0.530  0.380  0.125  0.6160  0.2920  0.1130  0.1850   8\n",
            "2608  0.360  0.265  0.090  0.2065  0.0780  0.0570  0.0600   8\n",
            "2609  0.320  0.240  0.075  0.1735  0.0760  0.0355  0.0500   7\n",
            "2610  0.440  0.355  0.115  0.4150  0.1585  0.0925  0.1310  11\n",
            "2611  0.550  0.415  0.135  0.8145  0.4270  0.1855  0.1750   8\n",
            "2612  0.660  0.505  0.190  1.4045  0.6255  0.3375  0.3745   9\n",
            "2613  0.560  0.420  0.150  0.8755  0.4400  0.1965  0.2315   8\n",
            "2614  0.510  0.410  0.155  1.2825  0.5690  0.2910  0.3795   9\n",
            "2615  0.470  0.350  0.145  0.5175  0.1870  0.1235  0.1800  11\n",
            "2616  0.370  0.275  0.085  0.2405  0.1040  0.0535  0.0700   5\n",
            "2617  0.475  0.375  0.120  0.5630  0.2525  0.1205  0.1850  10\n",
            "2618  0.555  0.440  0.135  0.9025  0.3805  0.2105  0.2800  13\n",
            "2619  0.600  0.460  0.155  0.6655  0.2850  0.1490  0.2690  11\n",
            "2620  0.360  0.270  0.090  0.1885  0.0845  0.0385  0.0550   5\n",
            "2621  0.630  0.505  0.150  1.3165  0.6325  0.2465  0.3700  11\n",
            "2622  0.530  0.430  0.130  0.7045  0.3460  0.1415  0.1890   9\n",
            "2623  0.475  0.380  0.120  0.4410  0.1785  0.0885  0.1505   8\n",
            "2624  0.550  0.430  0.150  0.8745  0.4130  0.1905  0.2480   9\n",
            "2625  0.570  0.455  0.165  1.0595  0.4400  0.2195  0.2850  14\n",
            "2626  0.700  0.575  0.190  2.2730  1.0950  0.4180  0.6380  12\n",
            "2627  0.600  0.480  0.170  0.9175  0.3800  0.2225  0.2900   8\n",
            "2628  0.575  0.445  0.140  0.9410  0.3845  0.2520  0.2850   9\n",
            "2629  0.570  0.435  0.130  0.7535  0.3490  0.1755  0.1940  10\n",
            "2630  0.325  0.240  0.075  0.1550  0.0475  0.0355  0.0600   9\n",
            "2631  0.540  0.420  0.190  0.6855  0.2930  0.1630  0.3800  10\n",
            "2632  0.645  0.495  0.185  1.4935  0.5265  0.2785  0.4550  15\n",
            "2633  0.735  0.555  0.220  2.3330  1.2395  0.3645  0.6195  12\n",
            "2634  0.370  0.280  0.085  0.1980  0.0805  0.0455  0.0580   5\n",
            "2635  0.540  0.405  0.155  0.9715  0.3225  0.1940  0.2900  19\n",
            "2636  0.495  0.400  0.135  0.6100  0.2720  0.1435  0.1440   7\n",
            "2637  0.620  0.470  0.225  1.1150  0.3780  0.2145  0.3600  15\n",
            "2638  0.575  0.400  0.155  0.9325  0.3605  0.2445  0.3000  17\n",
            "2639  0.710  0.570  0.195  1.3480  0.8985  0.4435  0.4535  11\n",
            "2640  0.500  0.370  0.135  0.4500  0.1715  0.1055  0.1550   9\n",
            "2641  0.495  0.375  0.120  0.5890  0.3075  0.1215  0.1405   8\n",
            "2642  0.455  0.375  0.125  0.4580  0.1985  0.1110  0.1200  10\n",
            "2643  0.585  0.430  0.160  0.9550  0.3625  0.1760  0.2700  11\n",
            "2644  0.500  0.380  0.155  0.5955  0.2135  0.1610  0.2000  12\n",
            "2645  0.415  0.315  0.115  0.3895  0.2015  0.0650  0.1030   9\n",
            "2646  0.640  0.480  0.195  1.1435  0.4915  0.2345  0.3530   9\n",
            "2647  0.630  0.515  0.175  1.1955  0.4920  0.2470  0.3700  11\n",
            "2648  0.435  0.335  0.110  0.3800  0.1695  0.0860  0.1100   9\n",
            "2649  0.465  0.355  0.090  0.4325  0.2005  0.0740  0.1275   9\n",
            "2650  0.305  0.225  0.070  0.1485  0.0585  0.0335  0.0450   7\n",
            "2651  0.535  0.425  0.135  0.7710  0.3765  0.1815  0.1795   8\n",
            "2652  0.560  0.440  0.140  0.8250  0.4020  0.1390  0.2450  10\n",
            "2653  0.655  0.520  0.175  1.4720  0.6275  0.2700  0.4500  13\n",
            "2654  0.535  0.440  0.165  0.8750  0.2790  0.1800  0.3000  10\n",
            "2655  0.600  0.465  0.155  1.2620  0.6245  0.2455  0.3300  10\n",
            "2656  0.680  0.550  0.210  1.7445  0.5975  0.3050  0.6250  17\n",
            "2657  0.720  0.565  0.200  2.1055  1.0170  0.3630  0.4940  12\n",
            "2658  0.570  0.450  0.140  0.7950  0.3385  0.1480  0.2450   9\n",
            "2659  0.660  0.495  0.210  1.5480  0.7240  0.3525  0.3925  10\n",
            "2660  0.610  0.500  0.240  1.6420  0.5320  0.3345  0.6900  18\n",
            "2661  0.700  0.550  0.200  1.5230  0.6930  0.3060  0.4405  13\n",
            "2662  0.405  0.300  0.085  0.3035  0.1500  0.0505  0.0880   7\n",
            "2663  0.595  0.435  0.150  0.9000  0.4175  0.1700  0.2650   8\n",
            "2664  0.595  0.470  0.175  0.9910  0.3820  0.2395  0.5000  12\n",
            "2665  0.625  0.485  0.175  1.3620  0.6765  0.2615  0.3705  10\n",
            "2666  0.645  0.490  0.190  1.3065  0.4790  0.3565  0.3450  18\n",
            "2667  0.580  0.420  0.140  0.7010  0.3285  0.1020  0.2255   9\n",
            "2668  0.185  0.135  0.045  0.0320  0.0110  0.0065  0.0100   4\n",
            "2669  0.510  0.410  0.145  0.7960  0.3865  0.1815  0.1955   8\n",
            "2670  0.405  0.310  0.090  0.3120  0.1380  0.0600  0.0870   8\n",
            "2671  0.400  0.305  0.100  0.3415  0.1760  0.0625  0.0865   7\n",
            "2672  0.280  0.205  0.100  0.1165  0.0545  0.0285  0.0300   5\n",
            "2673  0.540  0.395  0.135  0.6555  0.2705  0.1550  0.1920   9\n",
            "2674  0.240  0.175  0.045  0.0700  0.0315  0.0235  0.0200   5\n",
            "2675  0.155  0.105  0.050  0.0175  0.0050  0.0035  0.0050   4\n",
            "2676  0.635  0.500  0.180  1.2915  0.5940  0.2695  0.3700   9\n",
            "2677  0.570  0.435  0.125  0.8965  0.3830  0.1835  0.2750   9\n",
            "2678  0.410  0.325  0.120  0.3745  0.1580  0.0810  0.1250  12\n",
            "2679  0.575  0.420  0.135  0.8570  0.4610  0.1470  0.2125  10\n",
            "2680  0.460  0.365  0.115  0.4485  0.1650  0.0830  0.1700  14\n",
            "2681  0.650  0.495  0.170  1.2760  0.6215  0.2305  0.3990  11\n",
            "2682  0.560  0.440  0.165  0.8000  0.3350  0.1735  0.2500  12\n",
            "2683  0.465  0.350  0.135  0.6265  0.2590  0.1445  0.1750   8\n",
            "2684  0.465  0.370  0.115  0.4075  0.1515  0.0935  0.1455   9\n",
            "2685  0.610  0.485  0.150  1.2405  0.6025  0.2915  0.3085  12\n",
            "2686  0.310  0.225  0.070  0.1055  0.4350  0.0150  0.0400   5\n",
            "2687  0.455  0.355  0.130  0.5150  0.2000  0.1275  0.1750  11\n",
            "2688  0.405  0.300  0.090  0.2690  0.1030  0.0670  0.1100   6\n",
            "2689  0.665  0.510  0.175  1.3805  0.6750  0.2985  0.3250  10\n",
            "2690  0.525  0.440  0.125  0.7115  0.3205  0.1590  0.1915   7\n",
            "2691  0.605  0.490  0.140  0.9755  0.4190  0.2060  0.3150  10\n",
            "2692  0.580  0.475  0.165  1.0385  0.4140  0.2600  0.3050  13\n",
            "2693  0.680  0.560  0.195  1.6640  0.5800  0.3855  0.5450  11\n",
            "2694  0.395  0.295  0.115  0.3160  0.1205  0.0595  0.1105  12\n",
            "2695  0.340  0.260  0.085  0.1885  0.0815  0.0335  0.0600   6\n",
            "2696  0.475  0.375  0.110  0.4560  0.1820  0.0990  0.1600   9\n",
            "2697  0.585  0.455  0.225  1.0550  0.3815  0.2210  0.3650  15\n",
            "2698  0.500  0.360  0.120  0.4390  0.1875  0.1055  0.1305   8\n",
            "2699  0.395  0.295  0.100  0.2930  0.1400  0.0620  0.0820   7\n",
            "2700  0.510  0.380  0.115  0.5155  0.2150  0.1135  0.1660   8\n",
            "2701  0.425  0.325  0.095  0.3785  0.1705  0.0800  0.1000   7\n",
            "2702  0.475  0.365  0.120  0.5300  0.2505  0.0975  0.1625  10\n",
            "2703  0.465  0.360  0.105  0.4980  0.2140  0.1160  0.1400  15\n",
            "2704  0.575  0.430  0.130  0.7425  0.2895  0.2005  0.2200   8\n",
            "2705  0.595  0.470  0.165  1.0155  0.4910  0.1905  0.2890   9\n",
            "2706  0.640  0.505  0.155  1.1955  0.5565  0.2110  0.3460  11\n",
            "2707  0.295  0.220  0.070  0.1260  0.0515  0.0275  0.0350   6\n",
            "2708  0.150  0.100  0.025  0.0150  0.0045  0.0040  0.0050   2\n",
            "2709  0.585  0.455  0.145  0.9530  0.3945  0.2685  0.2580  10\n",
            "2710  0.485  0.360  0.120  0.5155  0.2465  0.1025  0.1470   8\n",
            "2711  0.580  0.460  0.155  1.0335  0.4690  0.2225  0.2950  10\n",
            "2712  0.530  0.415  0.110  0.5745  0.2525  0.1235  0.1890   9\n",
            "2713  0.615  0.475  0.190  1.4335  0.7315  0.3050  0.3285   9\n",
            "2714  0.415  0.320  0.100  0.3005  0.1215  0.0575  0.1040  11\n",
            "2715  0.625  0.480  0.185  1.2065  0.5870  0.2900  0.2860   8\n",
            "2716  0.645  0.500  0.155  1.2205  0.6145  0.2360  0.3185  10\n",
            "2717  0.460  0.360  0.115  0.4755  0.2105  0.1050  0.1600   8\n",
            "2718  0.400  0.315  0.090  0.3245  0.1510  0.0730  0.0880   8\n",
            "2719  0.500  0.400  0.145  0.6025  0.2160  0.1380  0.2100  11\n",
            "2720  0.420  0.325  0.125  0.3915  0.1575  0.1025  0.1150   9\n",
            "2721  0.465  0.355  0.110  0.4740  0.2300  0.1005  0.1200   7\n",
            "2722  0.720  0.545  0.195  1.7475  0.8215  0.3830  0.4705  11\n",
            "2723  0.570  0.420  0.130  0.7745  0.3535  0.1505  0.2365   9\n",
            "2724  0.620  0.525  0.155  1.0850  0.4540  0.1965  0.3500  10\n",
            "2725  0.595  0.480  0.200  0.9750  0.3580  0.2035  0.3400  15\n",
            "2726  0.695  0.530  0.200  2.0475  0.7500  0.4195  0.6095  14\n",
            "2727  0.610  0.475  0.150  1.1135  0.5195  0.2575  0.3005  11\n",
            "2728  0.595  0.455  0.150  1.0440  0.5180  0.2205  0.2700   9\n",
            "2729  0.340  0.250  0.075  0.1765  0.0785  0.0405  0.0500   7\n",
            "2730  0.615  0.470  0.165  1.1280  0.4465  0.2195  0.3400  10\n",
            "2731  0.530  0.405  0.130  0.6355  0.2635  0.1565  0.1850   9\n",
            "2732  0.480  0.385  0.135  0.5360  0.1895  0.1420  0.1730  14\n",
            "2733  0.535  0.450  0.135  0.7280  0.2845  0.1845  0.2650   9\n",
            "2734  0.600  0.470  0.160  1.1940  0.5625  0.3045  0.2635  10\n",
            "2735  0.575  0.430  0.155  0.7955  0.3485  0.1925  0.2200   9\n",
            "2736  0.660  0.515  0.180  1.5230  0.5400  0.3365  0.5550  16\n",
            "2737  0.560  0.440  0.170  0.9445  0.3545  0.2175  0.3000  12\n",
            "2738  0.545  0.410  0.140  0.7370  0.3490  0.1500  0.2120   9\n",
            "2739  0.555  0.460  0.145  0.9005  0.3845  0.1580  0.2765  11\n",
            "2740  0.625  0.485  0.190  1.1745  0.4385  0.2305  0.4200  17\n",
            "2741  0.530  0.415  0.120  0.7060  0.3355  0.1635  0.1345   9\n",
            "2742  0.665  0.525  0.160  1.3630  0.6290  0.2790  0.3400   8\n",
            "2743  0.525  0.380  0.140  0.6065  0.1940  0.1475  0.2100  14\n",
            "2744  0.475  0.360  0.145  0.6325  0.2825  0.1370  0.1900   8\n",
            "2745  0.555  0.450  0.175  0.8740  0.3275  0.2020  0.3050  10\n",
            "2746  0.360  0.265  0.075  0.1785  0.0785  0.0350  0.0540   6\n",
            "2747  0.595  0.495  0.185  1.2850  0.4160  0.2240  0.4850  13\n",
            "2748  0.610  0.475  0.170  1.0385  0.4435  0.2410  0.3200  14\n",
            "2749  0.315  0.240  0.070  0.1370  0.0545  0.0315  0.0400   8\n",
            "2750  0.595  0.455  0.195  1.3305  0.4595  0.3235  0.3450  19\n",
            "2751  0.675  0.565  0.195  1.8375  0.7645  0.3615  0.5530  12\n",
            "2752  0.500  0.370  0.115  0.5745  0.3060  0.1120  0.1410   7\n",
            "2753  0.530  0.415  0.160  0.7830  0.2935  0.1580  0.2450  15\n",
            "2754  0.570  0.480  0.180  0.9395  0.3990  0.2000  0.2950  14\n",
            "2755  0.525  0.400  0.140  0.7205  0.3685  0.1450  0.1735   8\n",
            "2756  0.680  0.505  0.170  1.3435  0.6570  0.2970  0.3550  12\n",
            "2757  0.590  0.440  0.135  0.9660  0.4390  0.2145  0.2605  10\n",
            "2758  0.610  0.475  0.150  0.9665  0.4145  0.2000  0.3450  10\n",
            "2759  0.360  0.270  0.100  0.2170  0.0885  0.0495  0.0715   6\n",
            "2760  0.280  0.120  0.075  0.1170  0.0455  0.0290  0.0345   4\n",
            "2761  0.520  0.410  0.160  0.7120  0.2845  0.1530  0.2250  10\n",
            "2762  0.620  0.465  0.190  1.3415  0.5705  0.3175  0.3550  11\n",
            "2763  0.660  0.485  0.155  1.2275  0.6100  0.2740  0.3000   8\n",
            "2764  0.435  0.330  0.110  0.3800  0.1515  0.0945  0.1100   7\n",
            "2765  0.505  0.385  0.115  0.4825  0.2100  0.1035  0.1535  10\n",
            "2766  0.815  0.650  0.250  2.2550  0.8905  0.4200  0.7975  14\n",
            "2767  0.525  0.410  0.150  0.7080  0.2740  0.1510  0.2500  12\n",
            "2768  0.165  0.125  0.040  0.0245  0.0095  0.0045  0.0080   4\n",
            "2769  0.600  0.450  0.150  0.8665  0.3695  0.1955  0.2550  12\n",
            "2770  0.440  0.355  0.165  0.4350  0.1590  0.1050  0.1400  16\n",
            "2771  0.630  0.470  0.150  1.1355  0.5390  0.2325  0.3115  12\n",
            "2772  0.540  0.420  0.140  0.7400  0.3595  0.1590  0.1985   8\n",
            "2773  0.505  0.410  0.150  0.6440  0.2850  0.1450  0.2100  11\n",
            "2774  0.555  0.430  0.155  0.7395  0.3135  0.1435  0.2800  10\n",
            "2775  0.595  0.465  0.150  0.9190  0.4335  0.1765  0.2620   9\n",
            "2776  0.580  0.465  0.145  0.8870  0.4405  0.1655  0.2650  11\n",
            "2777  0.660  0.535  0.190  1.5905  0.6425  0.2970  0.5175   9\n",
            "2778  0.575  0.470  0.150  1.1415  0.4515  0.2040  0.4000  13\n",
            "2779  0.460  0.340  0.135  0.4950  0.1655  0.1170  0.1850  10\n",
            "2780  0.470  0.355  0.180  0.4410  0.1525  0.1165  0.1350   8\n",
            "2781  0.670  0.525  0.170  1.4005  0.7150  0.3025  0.3870   9\n",
            "2782  0.315  0.230  0.070  0.1640  0.0625  0.0400  0.0450   6\n",
            "2783  0.215  0.155  0.060  0.0525  0.0210  0.0165  0.0150   5\n",
            "2784  0.455  0.355  0.135  0.4745  0.1865  0.0935  0.1680  13\n",
            "2785  0.685  0.520  0.150  1.3430  0.4635  0.2920  0.4000  13\n",
            "2786  0.595  0.480  0.140  0.9125  0.4095  0.1825  0.2890   9\n",
            "2787  0.290  0.230  0.075  0.1165  0.0430  0.0255  0.0400   7\n",
            "2788  0.245  0.195  0.060  0.0950  0.0445  0.0245  0.0260   4\n",
            "2789  0.580  0.490  0.195  1.3165  0.5305  0.2540  0.4100  18\n",
            "2790  0.375  0.280  0.080  0.2345  0.1125  0.0455  0.0670   6\n",
            "2791  0.600  0.505  0.190  1.1290  0.4385  0.2560  0.3600  13\n",
            "2792  0.550  0.420  0.160  1.3405  0.6325  0.3110  0.3440  10\n",
            "2793  0.635  0.510  0.170  1.3555  0.6190  0.3050  0.3900   9\n",
            "2794  0.560  0.440  0.155  0.6405  0.3360  0.1765  0.2450   8\n",
            "2795  0.620  0.470  0.150  1.3090  0.5870  0.4405  0.3250   9\n",
            "2796  0.630  0.475  0.145  1.0605  0.5165  0.2195  0.2800  10\n",
            "2797  0.585  0.465  0.160  0.9555  0.4595  0.2360  0.2650   7\n",
            "2798  0.495  0.380  0.145  0.5000  0.2050  0.1480  0.1505   8\n",
            "2799  0.375  0.290  0.115  0.2705  0.0930  0.0660  0.0885  10\n",
            "2800  0.660  0.530  0.170  1.4310  0.6220  0.3090  0.3980  10\n",
            "2801  0.530  0.425  0.110  0.7390  0.2370  0.1610  0.2950  13\n",
            "2802  0.610  0.470  0.165  1.1785  0.5660  0.2785  0.2940  11\n",
            "2803  0.625  0.490  0.155  1.3300  0.6675  0.2590  0.3300  10\n",
            "2804  0.525  0.390  0.105  0.5670  0.2875  0.1075  0.1600   8\n",
            "2805  0.465  0.350  0.125  0.4820  0.2300  0.1060  0.1095   6\n",
            "2806  0.375  0.290  0.100  0.2760  0.1175  0.0565  0.0850   9\n",
            "2807  0.550  0.425  0.140  0.9520  0.4895  0.1945  0.2185   7\n",
            "2808  0.625  0.495  0.175  1.2075  0.5310  0.2810  0.3525  11\n",
            "2809  0.615  0.475  0.170  1.1290  0.4795  0.3020  0.3000  10\n",
            "2810  0.585  0.465  0.165  0.9355  0.4035  0.2275  0.2590   9\n",
            "2811  0.290  0.210  0.060  0.1195  0.0560  0.0235  0.0300   6\n",
            "2812  0.255  0.180  0.065  0.0790  0.0340  0.0140  0.0250   5\n",
            "2813  0.510  0.400  0.130  0.5735  0.2190  0.1365  0.1950  13\n",
            "2814  0.330  0.260  0.080  0.1900  0.0765  0.0385  0.0650   7\n",
            "2815  0.545  0.410  0.120  0.7930  0.4340  0.1405  0.1900   9\n",
            "2816  0.660  0.530  0.180  1.5175  0.7765  0.3020  0.4010  10\n",
            "2817  0.305  0.230  0.075  0.1455  0.0595  0.0305  0.0500   6\n",
            "2818  0.370  0.275  0.100  0.2200  0.0940  0.0450  0.0650   7\n",
            "2819  0.390  0.295  0.100  0.2790  0.1155  0.0590  0.0800   7\n",
            "2820  0.520  0.395  0.135  0.6330  0.2985  0.1295  0.1750   9\n",
            "2821  0.635  0.505  0.190  1.3315  0.5805  0.2520  0.4350  17\n",
            "2822  0.415  0.345  0.135  0.3865  0.1280  0.0700  0.1480  13\n",
            "2823  0.485  0.370  0.115  0.4570  0.1885  0.0965  0.1500   9\n",
            "2824  0.475  0.365  0.115  0.4990  0.2320  0.0885  0.1560  10\n",
            "2825  0.505  0.380  0.145  0.6510  0.2935  0.1900  0.1700  12\n",
            "2826  0.360  0.285  0.105  0.2415  0.0915  0.0570  0.0750   7\n",
            "2827  0.670  0.510  0.175  1.5265  0.6510  0.4475  0.3450  10\n",
            "2828  0.600  0.495  0.175  1.3005  0.6195  0.2840  0.3285  11\n",
            "2829  0.595  0.465  0.150  0.9800  0.4115  0.1960  0.2255  10\n",
            "2830  0.280  0.200  0.065  0.0895  0.0360  0.0185  0.0300   7\n",
            "2831  0.665  0.535  0.195  1.6060  0.5755  0.3880  0.4800  14\n",
            "2832  0.530  0.435  0.160  0.8830  0.3160  0.1640  0.3350  15\n",
            "2833  0.305  0.220  0.070  0.1410  0.0620  0.0310  0.0370   5\n",
            "2834  0.715  0.525  0.185  1.5600  0.6655  0.3830  0.4050  11\n",
            "2835  0.580  0.435  0.150  0.8915  0.3630  0.1925  0.2515   6\n",
            "2836  0.265  0.195  0.055  0.0840  0.0365  0.0175  0.0250   7\n",
            "2837  0.615  0.480  0.165  1.1615  0.5130  0.3010  0.3050  10\n",
            "2838  0.600  0.460  0.155  0.9735  0.4270  0.2045  0.3000   8\n",
            "2839  0.565  0.450  0.140  1.0055  0.3785  0.2440  0.2650  12\n",
            "2840  0.695  0.535  0.175  1.8385  0.8035  0.3960  0.5030  10\n",
            "2841  0.245  0.180  0.065  0.0710  0.0300  0.0130  0.0215   4\n",
            "2842  0.495  0.385  0.135  0.6625  0.3005  0.1635  0.1850  11\n",
            "2843  0.390  0.310  0.085  0.3440  0.1810  0.0695  0.0790   7\n",
            "2844  0.645  0.500  0.225  1.6260  0.5870  0.4055  0.4100  15\n",
            "2845  0.350  0.275  0.110  0.2925  0.1225  0.0635  0.0905   8\n",
            "2846  0.495  0.400  0.120  0.6605  0.2605  0.1610  0.1900  15\n",
            "2847  0.375  0.300  0.100  0.2465  0.1040  0.0475  0.0830  11\n",
            "2848  0.495  0.400  0.140  0.7775  0.2015  0.1800  0.2500  15\n",
            "2849  0.630  0.510  0.230  1.5390  0.5635  0.2815  0.5700  17\n",
            "2850  0.410  0.315  0.095  0.2805  0.1140  0.0345  0.1100   7\n",
            "2851  0.525  0.395  0.130  0.7635  0.3375  0.1425  0.2250   8\n",
            "2852  0.305  0.225  0.090  0.1465  0.0630  0.0340  0.0415   6\n",
            "2853  0.370  0.275  0.080  0.2325  0.0930  0.0560  0.0720   6\n",
            "2854  0.660  0.505  0.190  1.4385  0.6775  0.2850  0.1780  11\n",
            "2855  0.640  0.515  0.165  1.3690  0.6320  0.3415  0.3580  10\n",
            "2856  0.630  0.490  0.155  1.2525  0.6300  0.2460  0.2890   9\n",
            "2857  0.570  0.465  0.160  0.8935  0.3145  0.2575  0.2630  10\n",
            "2858  0.395  0.300  0.090  0.2530  0.1155  0.0500  0.0750   6\n",
            "2859  0.450  0.335  0.110  0.4195  0.1810  0.0850  0.1345   7\n",
            "2860  0.575  0.450  0.170  0.9315  0.3580  0.2145  0.2600  13\n",
            "2861  0.560  0.450  0.145  0.8940  0.3885  0.2095  0.2640   9\n",
            "2862  0.635  0.480  0.145  1.1810  0.6650  0.2290  0.2250  10\n",
            "2863  0.630  0.505  0.170  1.0915  0.4615  0.2660  0.3000   9\n",
            "2864  0.360  0.275  0.110  0.2335  0.0950  0.0525  0.0850  10\n",
            "2865  0.630  0.480  0.150  1.2710  0.6605  0.2425  0.3100  11\n",
            "2866  0.600  0.465  0.150  1.1025  0.5455  0.2620  0.2500   8\n",
            "2867  0.690  0.525  0.190  1.4920  0.6425  0.3905  0.4200  12\n",
            "2868  0.635  0.505  0.155  1.2895  0.5940  0.3140  0.3450  11\n",
            "2869  0.510  0.395  0.155  0.5395  0.2465  0.1085  0.1670   8\n",
            "2870  0.650  0.510  0.160  1.3835  0.6385  0.2905  0.3665   9\n",
            "2871  0.255  0.190  0.060  0.0860  0.0400  0.0185  0.0250   5\n",
            "2872  0.355  0.265  0.085  0.2435  0.1220  0.0525  0.0600   6\n",
            "2873  0.515  0.425  0.135  0.7120  0.2665  0.1605  0.2500  11\n",
            "2874  0.190  0.145  0.040  0.0380  0.0165  0.0065  0.0150   4\n",
            "2875  0.575  0.450  0.165  0.9655  0.4980  0.1900  0.2300   8\n",
            "2876  0.270  0.200  0.080  0.1205  0.0465  0.0280  0.0400   6\n",
            "2877  0.520  0.405  0.140  0.6765  0.2865  0.1460  0.2050  15\n",
            "2878  0.640  0.565  0.230  1.5210  0.6440  0.3720  0.4060  15\n",
            "2879  0.605  0.480  0.170  1.1835  0.5820  0.2365  0.3170  10\n",
            "2880  0.485  0.375  0.145  0.5885  0.2385  0.1155  0.1900  13\n",
            "2881  0.300  0.230  0.080  0.1275  0.0435  0.0265  0.0400   8\n",
            "2882  0.635  0.500  0.165  1.4890  0.7150  0.3445  0.3615  13\n",
            "2883  0.590  0.460  0.140  1.0040  0.4960  0.2165  0.2600   9\n",
            "2884  0.525  0.400  0.130  0.6220  0.2655  0.1470  0.1840   9\n",
            "2885  0.420  0.345  0.105  0.4300  0.1750  0.0960  0.1300   7\n",
            "2886  0.575  0.450  0.125  0.7800  0.3275  0.1880  0.2350   9\n",
            "2887  0.610  0.475  0.155  0.9830  0.4565  0.2280  0.2660  10\n",
            "2888  0.315  0.245  0.085  0.1435  0.0530  0.0475  0.0500   8\n",
            "2889  0.720  0.525  0.180  1.4450  0.6310  0.3215  0.4350   7\n",
            "2890  0.575  0.460  0.160  1.1030  0.5380  0.2210  0.2490   9\n",
            "2891  0.630  0.465  0.150  1.0315  0.4265  0.2400  0.3250  11\n",
            "2892  0.475  0.365  0.105  0.4175  0.1645  0.0990  0.1270   7\n",
            "2893  0.515  0.400  0.140  0.6335  0.2880  0.1450  0.1680   9\n",
            "2894  0.710  0.560  0.180  1.6520  0.7350  0.3810  0.4525  11\n",
            "2895  0.495  0.385  0.135  0.7090  0.2110  0.1375  0.2620  12\n",
            "2896  0.475  0.370  0.110  0.4895  0.2185  0.1070  0.1460   8\n",
            "2897  0.620  0.480  0.230  1.0935  0.4030  0.2450  0.3550  14\n",
            "2898  0.455  0.355  0.125  0.5325  0.2250  0.1260  0.1465   7\n",
            "2899  0.565  0.430  0.150  0.8215  0.3320  0.1685  0.2900  11\n",
            "2900  0.605  0.475  0.145  0.8840  0.3835  0.1905  0.2700   8\n",
            "2901  0.500  0.385  0.115  0.6785  0.2945  0.1380  0.1950  12\n",
            "2902  0.675  0.510  0.195  1.3820  0.6045  0.3175  0.3965  10\n",
            "2903  0.495  0.380  0.120  0.5730  0.2655  0.1285  0.1440   7\n",
            "2904  0.520  0.400  0.110  0.5970  0.2935  0.1155  0.1600   8\n",
            "2905  0.585  0.455  0.130  0.8755  0.4110  0.2065  0.2250   8\n",
            "2906  0.575  0.440  0.160  0.9615  0.4830  0.1660  0.2750  13\n",
            "2907  0.625  0.480  0.175  1.0650  0.4865  0.2590  0.2850  10\n",
            "2908  0.180  0.135  0.080  0.0330  0.0145  0.0070  0.0100   5\n",
            "2909  0.640  0.505  0.175  1.3185  0.6185  0.3020  0.3315   9\n",
            "2910  0.605  0.465  0.155  1.1000  0.5470  0.2665  0.2585  10\n",
            "2911  0.605  0.470  0.145  0.8025  0.3790  0.2265  0.2200   9\n",
            "2912  0.520  0.400  0.120  0.5800  0.2340  0.1315  0.1850   8\n",
            "2913  0.630  0.480  0.165  1.2615  0.5505  0.2770  0.3885  10\n",
            "2914  0.480  0.355  0.115  0.5785  0.2500  0.1060  0.1840   8\n",
            "2915  0.270  0.195  0.070  0.1020  0.0450  0.0135  0.0340   8\n",
            "2916  0.600  0.495  0.165  1.2415  0.4850  0.2775  0.3400  15\n",
            "2917  0.570  0.455  0.175  1.0200  0.4805  0.2145  0.2900   9\n",
            "2918  0.565  0.450  0.145  0.8495  0.4215  0.1685  0.2250   8\n",
            "2919  0.590  0.475  0.145  0.9745  0.4675  0.2070  0.2590  10\n",
            "2920  0.475  0.385  0.110  0.5735  0.3110  0.1025  0.1360   7\n",
            "2921  0.310  0.235  0.090  0.1270  0.0480  0.0310  0.0400   6\n",
            "2922  0.245  0.180  0.065  0.0635  0.0245  0.0135  0.0200   4\n",
            "2923  0.360  0.295  0.130  0.2765  0.0895  0.0570  0.1005  10\n",
            "2924  0.690  0.530  0.190  1.5955  0.6780  0.3310  0.4800  10\n",
            "2925  0.330  0.255  0.085  0.1655  0.0630  0.0390  0.0600   8\n",
            "2926  0.500  0.400  0.165  0.8250  0.2540  0.2050  0.2850  13\n",
            "2927  0.225  0.165  0.055  0.0590  0.0270  0.0125  0.0150   4\n",
            "2928  0.470  0.370  0.105  0.4665  0.2025  0.1015  0.1550  10\n",
            "2929  0.220  0.160  0.050  0.0490  0.0215  0.0100  0.0150   4\n",
            "2930  0.530  0.410  0.140  0.7545  0.3495  0.1715  0.2105   8\n",
            "2931  0.400  0.315  0.085  0.2675  0.1160  0.0585  0.0765   6\n",
            "2932  0.420  0.325  0.110  0.3250  0.1245  0.0755  0.1025   7\n",
            "2933  0.665  0.500  0.175  1.4355  0.6430  0.3450  0.3700   9\n",
            "2934  0.415  0.320  0.110  0.3735  0.1750  0.0755  0.1090   7\n",
            "2935  0.500  0.390  0.130  0.6355  0.2505  0.1635  0.1950  15\n",
            "2936  0.545  0.400  0.130  0.6860  0.3285  0.1455  0.1800   9\n",
            "2937  0.595  0.490  0.185  1.1850  0.4820  0.2015  0.3610  10\n",
            "2938  0.320  0.245  0.075  0.1555  0.0585  0.0380  0.0490  11\n",
            "2939  0.570  0.440  0.150  0.7550  0.3425  0.1600  0.2240   8\n",
            "2940  0.500  0.390  0.135  0.6595  0.3145  0.1535  0.1565   6\n",
            "2941  0.605  0.470  0.160  1.0835  0.5405  0.2215  0.2750  12\n",
            "2942  0.760  0.605  0.215  2.1730  0.8010  0.4915  0.6460  13\n",
            "2943  0.310  0.225  0.050  0.1445  0.0675  0.0385  0.0450   6\n",
            "2944  0.695  0.560  0.185  1.7400  0.8850  0.3715  0.4375  10\n",
            "2945  0.540  0.475  0.155  1.2170  0.5305  0.3075  0.3400  16\n",
            "2946  0.490  0.380  0.145  0.6725  0.2490  0.1810  0.2100  10\n",
            "2947  0.375  0.245  0.100  0.3940  0.1660  0.0910  0.1125   6\n",
            "2948  0.520  0.425  0.170  0.6805  0.2800  0.1740  0.1950  10\n",
            "2949  0.415  0.305  0.120  0.3360  0.1650  0.0760  0.0805   7\n",
            "2950  0.410  0.300  0.115  0.2595  0.0970  0.0515  0.0800  10\n",
            "2951  0.515  0.395  0.135  0.5160  0.2015  0.1320  0.1620   9\n",
            "2952  0.585  0.475  0.165  1.0530  0.4580  0.2170  0.3000  11\n",
            "2953  0.430  0.325  0.100  0.3645  0.1575  0.0825  0.1050   7\n",
            "2954  0.610  0.490  0.170  1.1775  0.5655  0.2385  0.2950  15\n",
            "2955  0.570  0.455  0.150  0.9600  0.3870  0.2385  0.2750  11\n",
            "2956  0.520  0.395  0.125  0.8115  0.4035  0.1660  0.2000   7\n",
            "2957  0.600  0.475  0.175  1.3445  0.5490  0.2875  0.3600  11\n",
            "2958  0.600  0.475  0.150  1.1200  0.5650  0.2465  0.2700  10\n",
            "2959  0.505  0.400  0.135  0.7230  0.3770  0.1490  0.1780   7\n",
            "2960  0.680  0.580  0.200  1.7870  0.5850  0.4530  0.6000  19\n",
            "2961  0.520  0.410  0.120  0.5950  0.2385  0.1110  0.1900   8\n",
            "2962  0.405  0.325  0.110  0.3575  0.1450  0.0725  0.1100  12\n",
            "2963  0.565  0.455  0.150  0.8205  0.3650  0.1590  0.2600  18\n",
            "2964  0.550  0.440  0.160  0.9910  0.3480  0.1680  0.3750  20\n",
            "2965  0.520  0.400  0.120  0.6515  0.2610  0.2015  0.1650  15\n",
            "2966  0.625  0.515  0.165  1.2170  0.6670  0.2065  0.3115  10\n",
            "2967  0.570  0.460  0.155  1.0005  0.4540  0.2050  0.2650  11\n",
            "2968  0.500  0.385  0.105  0.4980  0.1795  0.1095  0.1700  17\n",
            "2969  0.575  0.455  0.155  0.8725  0.3490  0.2095  0.2850   8\n",
            "2970  0.575  0.460  0.190  0.9940  0.3920  0.2425  0.3400  13\n",
            "2971  0.575  0.465  0.175  1.0990  0.4735  0.2020  0.3500   9\n",
            "2972  0.525  0.435  0.155  1.0650  0.4860  0.2330  0.2850   8\n",
            "2973  0.635  0.500  0.150  1.3760  0.6495  0.3610  0.3100  10\n",
            "2974  0.680  0.550  0.190  1.8070  0.8225  0.3655  0.5150  11\n",
            "2975  0.465  0.355  0.105  0.4795  0.2270  0.1240  0.1250   8\n",
            "2976  0.505  0.390  0.150  0.6850  0.3620  0.1310  0.1560   8\n",
            "2977  0.640  0.510  0.165  1.4860  0.7595  0.3320  0.3210   8\n",
            "2978  0.575  0.450  0.150  0.8580  0.4490  0.1660  0.2150  10\n",
            "2979  0.455  0.435  0.110  0.4265  0.1950  0.0900  0.1205   8\n",
            "2980  0.345  0.275  0.095  0.1995  0.0755  0.0535  0.0700   6\n",
            "2981  0.520  0.405  0.115  0.7760  0.3200  0.1845  0.2200   8\n",
            "2982  0.330  0.265  0.085  0.1960  0.0775  0.0305  0.0445   6\n",
            "2983  0.430  0.345  0.115  0.4295  0.2120  0.1080  0.1090   8\n",
            "2984  0.270  0.195  0.065  0.1065  0.0475  0.0225  0.0285   5\n",
            "2985  0.690  0.515  0.180  1.8445  0.9815  0.4655  0.3410  13\n",
            "2986  0.640  0.475  0.175  1.1545  0.4865  0.3410  0.2880   9\n",
            "2987  0.505  0.405  0.180  0.6060  0.2390  0.1235  0.1800  11\n",
            "2988  0.280  0.205  0.055  0.1135  0.0450  0.0275  0.0335   7\n",
            "2989  0.280  0.200  0.075  0.1225  0.0545  0.0115  0.0350   5\n",
            "2990  0.460  0.360  0.125  0.5470  0.2165  0.1105  0.1900   8\n",
            "2991  0.325  0.245  0.075  0.1495  0.0605  0.0330  0.0450   5\n",
            "2992  0.395  0.300  0.105  0.3375  0.1435  0.0755  0.0980  12\n",
            "2993  0.750  0.550  0.180  1.8930  0.9420  0.3970  0.4450  11\n",
            "2994  0.690  0.550  0.200  1.5690  0.6870  0.3675  0.4600  12\n",
            "2995  0.590  0.470  0.150  0.9955  0.4810  0.2320  0.2400   8\n",
            "2996  0.395  0.295  0.095  0.2245  0.0780  0.0540  0.0800  10\n",
            "2997  0.490  0.390  0.135  0.5900  0.2150  0.1250  0.1845  12\n",
            "2998  0.480  0.375  0.115  0.6765  0.3205  0.1065  0.1700   6\n",
            "2999  0.625  0.490  0.200  1.3825  0.5895  0.2850  0.3810  11\n",
            "3000  0.600  0.470  0.150  0.9280  0.4225  0.1830  0.2750   8\n",
            "3001  0.620  0.480  0.160  1.0765  0.4120  0.2530  0.3000  13\n",
            "3002  0.655  0.515  0.145  1.2500  0.5265  0.2830  0.3150  15\n",
            "3003  0.610  0.470  0.145  1.1530  0.4030  0.2960  0.3200  14\n",
            "3004  0.345  0.270  0.095  0.1970  0.0665  0.0500  0.0700   9\n",
            "3005  0.620  0.490  0.155  1.1000  0.5050  0.2475  0.3100   9\n",
            "3006  0.370  0.270  0.090  0.1855  0.0700  0.0425  0.0650   7\n",
            "3007  0.510  0.400  0.120  0.7005  0.3470  0.1105  0.1950  10\n",
            "3008  0.550  0.415  0.180  1.1655  0.5020  0.3010  0.3110   9\n",
            "3009  0.625  0.465  0.140  1.1950  0.4825  0.2050  0.4000  13\n",
            "3010  0.500  0.380  0.135  0.5940  0.2945  0.1040  0.1565   9\n",
            "3011  0.385  0.290  0.090  0.2320  0.0855  0.0495  0.0800   7\n",
            "3012  0.445  0.350  0.130  0.4195  0.1695  0.0945  0.1195   7\n",
            "3013  0.715  0.550  0.190  2.0045  1.0465  0.4070  0.5075  12\n",
            "3014  0.425  0.320  0.085  0.2620  0.1235  0.0670  0.0725   8\n",
            "3015  0.605  0.485  0.165  1.0105  0.4350  0.2090  0.3000  19\n",
            "3016  0.575  0.435  0.130  0.8050  0.3155  0.2155  0.2450  10\n",
            "3017  0.615  0.470  0.150  1.0875  0.4975  0.2830  0.2685   9\n",
            "3018  0.560  0.450  0.185  1.0700  0.3805  0.1750  0.4100  19\n",
            "3019  0.325  0.260  0.090  0.1915  0.0850  0.0360  0.0620   7\n",
            "3020  0.610  0.470  0.160  1.0745  0.4925  0.2360  0.2900   8\n",
            "3021  0.720  0.575  0.180  1.6705  0.7320  0.3605  0.5010  12\n",
            "3022  0.420  0.310  0.100  0.2865  0.1150  0.0735  0.0850   8\n",
            "3023  0.675  0.535  0.220  1.6040  0.6175  0.4255  0.4530  14\n",
            "3024  0.510  0.390  0.125  0.5970  0.2930  0.1265  0.1555   8\n",
            "3025  0.575  0.450  0.185  0.9250  0.3420  0.1970  0.3500  12\n",
            "3026  0.365  0.270  0.090  0.2155  0.1005  0.0490  0.0655   6\n",
            "3027  0.670  0.515  0.165  1.1735  0.5260  0.2850  0.3160  11\n",
            "3028  0.610  0.470  0.165  1.0520  0.4980  0.2420  0.2670   9\n",
            "3029  0.400  0.305  0.130  0.2935  0.0960  0.0675  0.1050   9\n",
            "3030  0.430  0.330  0.095  0.3200  0.1180  0.0650  0.1230   7\n",
            "3031  0.660  0.545  0.185  1.3200  0.5305  0.2635  0.4550  16\n",
            "3032  0.435  0.335  0.095  0.2980  0.1090  0.0580  0.1150   7\n",
            "3033  0.530  0.420  0.165  0.8945  0.3190  0.2390  0.2450  11\n",
            "3034  0.635  0.500  0.180  1.2565  0.5390  0.2920  0.3500  10\n",
            "3035  0.255  0.185  0.060  0.0925  0.0390  0.0210  0.0250   6\n",
            "3036  0.485  0.370  0.130  0.5260  0.2485  0.1050  0.1555   6\n",
            "3037  0.460  0.350  0.105  0.3705  0.1575  0.0770  0.1140   9\n",
            "3038  0.465  0.375  0.110  0.5000  0.2100  0.1130  0.1505   8\n",
            "3039  0.555  0.430  0.125  0.7005  0.3395  0.1355  0.2095   8\n",
            "3040  0.515  0.405  0.130  0.5730  0.2130  0.1340  0.1950   9\n",
            "3041  0.470  0.375  0.105  0.4410  0.1670  0.0865  0.1450  10\n",
            "3042  0.470  0.375  0.130  0.5230  0.2140  0.1320  0.1450   8\n",
            "3043  0.245  0.175  0.055  0.0785  0.0400  0.0180  0.0200   5\n",
            "3044  0.390  0.300  0.105  0.2590  0.0955  0.0380  0.0850   8\n",
            "3045  0.425  0.315  0.080  0.3030  0.1310  0.0585  0.0950   7\n",
            "3046  0.440  0.350  0.110  0.3805  0.1575  0.0895  0.1150   6\n",
            "3047  0.405  0.305  0.100  0.2710  0.0965  0.0610  0.0910   7\n",
            "3048  0.360  0.275  0.095  0.2170  0.0840  0.0435  0.0900   7\n",
            "3049  0.520  0.410  0.125  0.6985  0.2945  0.1625  0.2150  10\n",
            "3050  0.480  0.350  0.105  0.6350  0.3520  0.1270  0.1350   6\n",
            "3051  0.490  0.365  0.125  0.5585  0.2520  0.1260  0.1615  10\n",
            "3052  0.560  0.460  0.180  0.9700  0.3420  0.1960  0.3550  12\n",
            "3053  0.650  0.495  0.155  1.3370  0.6150  0.3195  0.3350   9\n",
            "3054  0.470  0.375  0.120  0.4870  0.1960  0.0990  0.1350   8\n",
            "3055  0.525  0.400  0.155  0.7070  0.2820  0.1605  0.2250   9\n",
            "3056  0.635  0.515  0.190  1.3715  0.5065  0.3050  0.4500  10\n",
            "3057  0.370  0.280  0.105  0.2240  0.0815  0.0575  0.0750   8\n",
            "3058  0.585  0.450  0.150  0.9380  0.4670  0.2030  0.2250   7\n",
            "3059  0.435  0.335  0.105  0.3535  0.1560  0.0500  0.1135   7\n",
            "3060  0.580  0.460  0.120  0.9935  0.4625  0.2385  0.2800  11\n",
            "3061  0.455  0.335  0.105  0.4220  0.2290  0.0865  0.1000   6\n",
            "3062  0.665  0.525  0.175  1.4430  0.6635  0.3845  0.3530  11\n",
            "3063  0.490  0.375  0.115  0.4615  0.2040  0.0945  0.1430   8\n",
            "3064  0.620  0.500  0.175  1.1460  0.4770  0.2300  0.3900  13\n",
            "3065  0.400  0.325  0.120  0.3185  0.1340  0.0565  0.0950   8\n",
            "3066  0.410  0.325  0.105  0.3610  0.1605  0.0665  0.1030   8\n",
            "3067  0.620  0.500  0.175  1.1860  0.4985  0.3015  0.3500  12\n",
            "3068  0.625  0.490  0.165  1.1270  0.4770  0.2365  0.3185   9\n",
            "3069  0.720  0.580  0.190  2.0885  0.9955  0.4780  0.5305  13\n",
            "3070  0.635  0.505  0.165  1.2510  0.5770  0.2270  0.3825  11\n",
            "3071  0.630  0.480  0.175  1.3675  0.5015  0.3035  0.5150  17\n",
            "3072  0.415  0.310  0.095  0.3110  0.1125  0.0625  0.1150   8\n",
            "3073  0.380  0.305  0.105  0.2810  0.1045  0.0615  0.0900  12\n",
            "3074  0.590  0.455  0.155  0.8855  0.3880  0.1880  0.2750  10\n",
            "3075  0.710  0.560  0.220  2.0150  0.9215  0.4540  0.5660  11\n",
            "3076  0.705  0.550  0.200  1.7095  0.6330  0.4115  0.4900  13\n",
            "3077  0.450  0.350  0.135  0.5600  0.2310  0.1370  0.1450  13\n",
            "3078  0.330  0.245  0.085  0.1710  0.0655  0.0365  0.0550  11\n",
            "3079  0.605  0.455  0.145  0.9775  0.4680  0.1775  0.2750   9\n",
            "3080  0.290  0.225  0.075  0.1400  0.0515  0.0235  0.0400   5\n",
            "3081  0.600  0.445  0.175  1.0570  0.3830  0.2160  0.3550  16\n",
            "3082  0.575  0.445  0.135  0.8830  0.3810  0.2035  0.2600  11\n",
            "3083  0.370  0.280  0.105  0.2340  0.0905  0.0585  0.0750   9\n",
            "3084  0.590  0.445  0.140  0.9310  0.3560  0.2340  0.2800  12\n",
            "3085  0.665  0.515  0.165  1.3855  0.6210  0.3020  0.3445   8\n",
            "3086  0.435  0.325  0.120  0.3460  0.1590  0.0840  0.0950   7\n",
            "3087  0.505  0.405  0.130  0.5990  0.2245  0.1175  0.2250  11\n",
            "3088  0.570  0.465  0.155  0.8720  0.3245  0.2390  0.2850  14\n",
            "3089  0.350  0.265  0.090  0.2255  0.0995  0.0485  0.0700   7\n",
            "3090  0.520  0.425  0.145  0.7000  0.2070  0.1905  0.2400  13\n",
            "3091  0.580  0.440  0.175  1.2255  0.5405  0.2705  0.3265  10\n",
            "3092  0.510  0.390  0.135  0.6335  0.2310  0.1790  0.2000   9\n",
            "3093  0.565  0.455  0.155  0.9355  0.4210  0.1830  0.2600  11\n",
            "3094  0.545  0.450  0.150  0.7805  0.3795  0.1625  0.2160   8\n",
            "3095  0.650  0.485  0.140  1.1750  0.4750  0.2435  0.2150   8\n",
            "3096  0.490  0.385  0.150  0.7865  0.2410  0.1400  0.2400  23\n",
            "3097  0.645  0.510  0.195  1.2260  0.5885  0.2215  0.3745  10\n",
            "3098  0.565  0.460  0.155  0.8715  0.3755  0.2150  0.2500  10\n",
            "3099  0.745  0.570  0.215  2.2500  1.1565  0.4460  0.5580   9\n",
            "3100  0.660  0.505  0.200  1.6305  0.4865  0.2970  0.6100  18\n",
            "3101  0.500  0.390  0.145  0.6510  0.2730  0.1320  0.2200  11\n",
            "3102  0.565  0.425  0.160  0.9425  0.3495  0.2185  0.2750  17\n",
            "3103  0.575  0.465  0.140  0.9580  0.4420  0.1815  0.2705   9\n",
            "3104  0.215  0.170  0.055  0.0605  0.0205  0.0140  0.0200   6\n",
            "3105  0.585  0.420  0.155  0.9845  0.4420  0.2155  0.2875  13\n",
            "3106  0.470  0.365  0.120  0.5430  0.2295  0.1495  0.1500   9\n",
            "3107  0.485  0.365  0.155  1.0290  0.4235  0.2285  0.3130   8\n",
            "3108  0.425  0.325  0.110  0.4050  0.1695  0.0920  0.1065   8\n",
            "3109  0.490  0.370  0.140  0.5850  0.2430  0.1150  0.1950  10\n",
            "3110  0.245  0.190  0.060  0.0860  0.0420  0.0140  0.0250   4\n",
            "3111  0.560  0.450  0.175  1.0110  0.3835  0.2065  0.3700  15\n",
            "3112  0.130  0.100  0.030  0.0130  0.0045  0.0030  0.0040   3\n",
            "3113  0.585  0.460  0.185  0.9220  0.3635  0.2130  0.2850  10\n",
            "3114  0.270  0.195  0.070  0.1060  0.0465  0.0180  0.0360   7\n",
            "3115  0.615  0.490  0.155  0.9885  0.4145  0.1950  0.3450  13\n",
            "3116  0.340  0.255  0.075  0.1800  0.0745  0.0400  0.0525   6\n",
            "3117  0.505  0.440  0.140  0.8275  0.3415  0.1855  0.2390   8\n",
            "3118  0.500  0.375  0.140  0.6040  0.2420  0.1415  0.1790  15\n",
            "3119  0.645  0.525  0.190  1.8085  0.7035  0.3885  0.3950  18\n",
            "3120  0.385  0.310  0.100  0.2845  0.1065  0.0750  0.1000  11\n",
            "3121  0.330  0.255  0.080  0.2050  0.0895  0.0395  0.0550   7\n",
            "3122  0.295  0.215  0.075  0.1290  0.0500  0.0295  0.0400   7\n",
            "3123  0.530  0.415  0.130  0.8425  0.2750  0.1945  0.2650  20\n",
            "3124  0.575  0.450  0.145  0.8720  0.4675  0.1800  0.2170   9\n",
            "3125  0.470  0.355  0.120  0.3685  0.1260  0.0835  0.1365   6\n",
            "3126  0.525  0.405  0.125  0.6570  0.2985  0.1505  0.1680  10\n",
            "3127  0.285  0.210  0.055  0.1010  0.0415  0.0170  0.0335   5\n",
            "3128  0.610  0.460  0.145  1.1185  0.4780  0.2945  0.2985  10\n",
            "3129  0.600  0.475  0.205  1.1760  0.5255  0.2875  0.3080   9\n",
            "3130  0.465  0.355  0.105  0.4420  0.2085  0.0975  0.1185   7\n",
            "3131  0.540  0.415  0.110  0.6190  0.2755  0.1500  0.1765  10\n",
            "3132  0.600  0.495  0.185  1.1145  0.5055  0.2635  0.3670  11\n",
            "3133  0.440  0.350  0.140  0.4510  0.1710  0.0705  0.1840  16\n",
            "3134  0.455  0.350  0.105  0.4160  0.1625  0.0970  0.1450  11\n",
            "3135  0.615  0.500  0.175  1.3770  0.5585  0.3300  0.2920  12\n",
            "3136  0.610  0.495  0.160  1.0890  0.4690  0.1980  0.3840  11\n",
            "3137  0.630  0.485  0.145  1.0620  0.5065  0.1785  0.3365  12\n",
            "3138  0.605  0.495  0.170  1.0915  0.4365  0.2715  0.3350  13\n",
            "3139  0.440  0.325  0.115  0.3900  0.1630  0.0870  0.1130   7\n",
            "3140  0.700  0.575  0.200  1.7365  0.7755  0.3965  0.4610  11\n",
            "3141  0.540  0.415  0.130  0.8245  0.2720  0.2260  0.2400  13\n",
            "3142  0.580  0.470  0.165  0.9975  0.3935  0.2420  0.3300  10\n",
            "3143  0.295  0.225  0.090  0.1385  0.0480  0.0460  0.0500   9\n",
            "3144  0.620  0.475  0.160  1.3245  0.6865  0.2330  0.3275   9\n",
            "3145  0.605  0.500  0.185  1.1185  0.4690  0.2585  0.3350   9\n",
            "3146  0.575  0.455  0.180  0.8525  0.3015  0.1825  0.3000  13\n",
            "3147  0.475  0.355  0.135  0.4775  0.2145  0.0900  0.1435   8\n",
            "3148  0.515  0.390  0.120  0.6125  0.3020  0.1365  0.1415   8\n",
            "3149  0.655  0.530  0.190  1.4280  0.4930  0.3180  0.5650  18\n",
            "3150  0.565  0.440  0.155  0.8680  0.3480  0.2170  0.2600  11\n",
            "3151  0.590  0.440  0.150  0.9555  0.3660  0.2425  0.2950  11\n",
            "3152  0.515  0.415  0.140  0.6935  0.3115  0.1520  0.2000  10\n",
            "3153  0.590  0.465  0.150  0.9970  0.3920  0.2460  0.3400  12\n",
            "3154  0.510  0.385  0.145  0.7665  0.3985  0.1400  0.1805   8\n",
            "3155  0.570  0.450  0.170  1.0980  0.4140  0.1870  0.4050  20\n",
            "3156  0.730  0.575  0.210  2.0690  0.9285  0.4090  0.6430  11\n",
            "3157  0.605  0.470  0.155  0.9740  0.3930  0.2240  0.3345   9\n",
            "3158  0.655  0.505  0.190  1.3485  0.5935  0.2745  0.4250  12\n",
            "3159  0.290  0.225  0.080  0.1295  0.0535  0.0260  0.0450  10\n",
            "3160  0.420  0.315  0.110  0.4025  0.1855  0.0830  0.1015   8\n",
            "3161  0.415  0.325  0.110  0.3160  0.1385  0.0795  0.0925   8\n",
            "3162  0.630  0.505  0.225  1.5250  0.5600  0.3335  0.4500  15\n",
            "3163  0.500  0.375  0.140  0.5590  0.2375  0.1350  0.1690   9\n",
            "3164  0.475  0.385  0.145  0.6175  0.2350  0.1080  0.2150  14\n",
            "3165  0.365  0.270  0.075  0.2215  0.0950  0.0445  0.0700   6\n",
            "3166  0.650  0.505  0.180  1.4690  0.7115  0.3335  0.3800   9\n",
            "3167  0.580  0.460  0.140  0.9265  0.4135  0.1845  0.2700  10\n",
            "3168  0.640  0.505  0.165  1.4435  0.6145  0.3035  0.3900  18\n",
            "3169  0.670  0.525  0.195  1.4405  0.6595  0.2675  0.4250   9\n",
            "3170  0.320  0.240  0.085  0.1700  0.0655  0.0470  0.0490   7\n",
            "3171  0.630  0.505  0.195  1.3060  0.5160  0.3305  0.3750   9\n",
            "3172  0.710  0.540  0.205  1.5805  0.8020  0.2870  0.4350  10\n",
            "3173  0.560  0.455  0.145  0.9740  0.5470  0.1615  0.2350   9\n",
            "3174  0.500  0.385  0.150  0.6265  0.2605  0.1665  0.1600  10\n",
            "3175  0.710  0.565  0.200  1.6010  0.7060  0.3210  0.4500  11\n",
            "3176  0.570  0.420  0.160  0.8875  0.4315  0.1915  0.2230   8\n",
            "3177  0.380  0.275  0.095  0.2425  0.1060  0.0485  0.2100   6\n",
            "3178  0.345  0.270  0.090  0.1950  0.0780  0.0455  0.0590   9\n",
            "3179  0.525  0.425  0.140  0.8735  0.4205  0.1820  0.2225  10\n",
            "3180  0.450  0.355  0.115  0.4790  0.2125  0.1045  0.1500   8\n",
            "3181  0.220  0.165  0.055  0.0545  0.0215  0.0120  0.0200   5\n",
            "3182  0.520  0.385  0.115  0.6690  0.2385  0.1720  0.2050  12\n",
            "3183  0.470  0.370  0.120  0.4705  0.1845  0.1055  0.1550  12\n",
            "3184  0.610  0.460  0.170  1.2780  0.4100  0.2570  0.3700  17\n",
            "3185  0.470  0.375  0.125  0.5615  0.2520  0.1370  0.1800  10\n",
            "3186  0.595  0.475  0.170  1.2470  0.4800  0.2250  0.4250  20\n",
            "3187  0.520  0.395  0.125  0.5815  0.2565  0.1265  0.1700  10\n",
            "3188  0.560  0.430  0.130  0.7280  0.3355  0.1435  0.2175   8\n",
            "3189  0.650  0.475  0.165  1.3875  0.5800  0.3485  0.3095   9\n",
            "3190  0.560  0.440  0.160  0.8645  0.3305  0.2075  0.2600  10\n",
            "3191  0.330  0.250  0.075  0.1405  0.0560  0.0350  0.0500   5\n",
            "3192  0.550  0.400  0.135  0.7170  0.3315  0.1495  0.2210   9\n",
            "3193  0.710  0.545  0.175  1.9070  0.8725  0.4565  0.4750  11\n",
            "3194  0.580  0.440  0.150  1.0465  0.5180  0.2185  0.2795  10\n",
            "3195  0.475  0.370  0.125  0.6550  0.2660  0.1725  0.1850  10\n",
            "3196  0.575  0.450  0.160  0.9775  0.3135  0.2310  0.3300  12\n",
            "3197  0.710  0.530  0.195  1.8745  0.6755  0.4065  0.6855  12\n",
            "3198  0.635  0.525  0.180  1.3695  0.6340  0.3180  0.3630  11\n",
            "3199  0.610  0.495  0.185  1.1085  0.3705  0.3135  0.3300  12\n",
            "3200  0.590  0.470  0.155  1.1735  0.6245  0.2330  0.2595   9\n",
            "3201  0.665  0.540  0.195  1.7640  0.8505  0.3615  0.4700  11\n",
            "3202  0.720  0.590  0.205  1.7495  0.7755  0.4225  0.4800  11\n",
            "3203  0.455  0.370  0.125  0.4330  0.2010  0.1265  0.1450   9\n",
            "3204  0.690  0.540  0.185  1.6195  0.5330  0.3530  0.5550  24\n",
            "3205  0.445  0.330  0.120  0.3470  0.1200  0.0840  0.1050  11\n",
            "3206  0.530  0.400  0.125  0.7575  0.3980  0.1510  0.1750   8\n",
            "3207  0.570  0.445  0.155  1.0170  0.5265  0.2025  0.2650  10\n",
            "3208  0.320  0.235  0.090  0.1830  0.0980  0.0335  0.0420   7\n",
            "3209  0.210  0.150  0.055  0.0465  0.0170  0.0120  0.0150   5\n",
            "3210  0.460  0.350  0.120  0.4885  0.1930  0.1050  0.1550  11\n",
            "3211  0.600  0.465  0.160  1.1330  0.4660  0.2885  0.2980  11\n",
            "3212  0.460  0.350  0.115  0.4155  0.1800  0.0980  0.1175   7\n",
            "3213  0.575  0.455  0.135  0.9070  0.4245  0.1970  0.2600   9\n",
            "3214  0.345  0.285  0.100  0.2225  0.0865  0.0580  0.0750   8\n",
            "3215  0.410  0.310  0.090  0.3335  0.1635  0.0610  0.0910   6\n",
            "3216  0.715  0.535  0.190  1.6755  0.8890  0.3130  0.4200  10\n",
            "3217  0.600  0.465  0.165  0.8875  0.3090  0.2460  0.2620  12\n",
            "3218  0.695  0.545  0.185  1.5715  0.6645  0.3835  0.4505  13\n",
            "3219  0.580  0.470  0.150  0.9070  0.4440  0.1855  0.2445  11\n",
            "3220  0.635  0.485  0.165  1.2945  0.6680  0.2605  0.2715   9\n",
            "3221  0.360  0.275  0.085  0.1975  0.0745  0.0415  0.0700   9\n",
            "3222  0.635  0.495  0.175  1.2355  0.5205  0.3085  0.3470  10\n",
            "3223  0.605  0.490  0.145  1.3000  0.5170  0.3285  0.3100  14\n",
            "3224  0.700  0.530  0.190  1.3185  0.5480  0.2330  0.4200  18\n",
            "3225  0.490  0.385  0.125  0.5395  0.2175  0.1280  0.1650  11\n",
            "3226  0.455  0.355  0.105  0.3720  0.1380  0.0765  0.1350   9\n",
            "3227  0.600  0.475  0.150  1.0075  0.4425  0.2210  0.2800  15\n",
            "3228  0.515  0.395  0.125  0.6635  0.3200  0.1400  0.1700   8\n",
            "3229  0.625  0.515  0.160  1.2640  0.5715  0.3260  0.3210   9\n",
            "3230  0.300  0.230  0.095  0.1385  0.0560  0.0365  0.0370   6\n",
            "3231  0.545  0.420  0.125  0.9745  0.3530  0.1740  0.3050  13\n",
            "3232  0.590  0.455  0.165  1.1610  0.3800  0.2455  0.2800  12\n",
            "3233  0.695  0.570  0.230  1.8850  0.8665  0.4350  0.5000  19\n",
            "3234  0.605  0.480  0.150  1.0790  0.4505  0.2835  0.2930  10\n",
            "3235  0.535  0.420  0.130  0.6990  0.3125  0.1565  0.2035   8\n",
            "3236  0.400  0.300  0.125  0.4170  0.1910  0.0900  0.1175   9\n",
            "3237  0.495  0.355  0.120  0.4965  0.2140  0.1045  0.1495   8\n",
            "3238  0.370  0.285  0.095  0.2260  0.1135  0.0515  0.0675   8\n",
            "3239  0.420  0.320  0.100  0.3400  0.1745  0.0500  0.0945   8\n",
            "3240  0.625  0.485  0.200  1.3800  0.5845  0.3020  0.4010   9\n",
            "3241  0.755  0.580  0.205  2.0065  0.8295  0.4015  0.5950  10\n",
            "3242  0.600  0.480  0.170  1.0560  0.4575  0.2435  0.3135  10\n",
            "3243  0.250  0.190  0.065  0.0835  0.0390  0.0150  0.0250   5\n",
            "3244  0.570  0.435  0.140  0.8585  0.3905  0.1960  0.2295   8\n",
            "3245  0.610  0.425  0.155  1.0485  0.5070  0.1955  0.2740  11\n",
            "3246  0.415  0.325  0.140  0.4170  0.1535  0.1015  0.1440  10\n",
            "3247  0.550  0.450  0.130  0.9200  0.3780  0.2385  0.2900  11\n",
            "3248  0.615  0.475  0.165  1.0230  0.4905  0.1955  0.3035  12\n",
            "3249  0.720  0.560  0.175  1.7265  0.6370  0.3415  0.5250  17\n",
            "3250  0.670  0.500  0.200  1.2690  0.5760  0.2985  0.3510  11\n",
            "3251  0.585  0.465  0.140  0.9080  0.3810  0.1615  0.3150  13\n",
            "3252  0.660  0.525  0.200  1.4890  0.6065  0.3795  0.4210  10\n",
            "3253  0.630  0.530  0.180  1.2795  0.6180  0.2560  0.3150   9\n",
            "3254  0.570  0.420  0.140  0.8745  0.4160  0.1650  0.2500   8\n",
            "3255  0.480  0.395  0.150  0.6815  0.2145  0.1405  0.2495  18\n",
            "3256  0.630  0.485  0.155  1.2780  0.6370  0.2750  0.3100   8\n",
            "3257  0.280  0.205  0.080  0.1270  0.0520  0.0390  0.0420   9\n",
            "3258  0.260  0.205  0.070  0.0970  0.0415  0.0190  0.0305   4\n",
            "3259  0.300  0.220  0.065  0.1235  0.0590  0.0260  0.0315   5\n",
            "3260  0.605  0.485  0.165  1.0735  0.4370  0.2050  0.3300  14\n",
            "3261  0.630  0.490  0.150  1.1955  0.5845  0.2570  0.3000   9\n",
            "3262  0.415  0.310  0.090  0.2815  0.1245  0.0615  0.0850   6\n",
            "3263  0.380  0.320  0.115  0.6475  0.3230  0.1325  0.1640   7\n",
            "3264  0.480  0.365  0.130  0.5305  0.2405  0.1270  0.1390   8\n",
            "3265  0.450  0.340  0.095  0.3245  0.1385  0.0640  0.1050   8\n",
            "3266  0.595  0.450  0.165  1.0810  0.4900  0.2525  0.2790  12\n",
            "3267  0.485  0.365  0.105  0.5205  0.1950  0.1230  0.1820   8\n",
            "3268  0.335  0.260  0.100  0.1920  0.0785  0.0585  0.0700   8\n",
            "3269  0.375  0.275  0.090  0.2380  0.1075  0.0545  0.0700   6\n",
            "3270  0.580  0.460  0.180  1.0515  0.4095  0.2595  0.2760   8\n",
            "3271  0.470  0.345  0.140  0.4615  0.2290  0.1105  0.1160   9\n",
            "3272  0.515  0.400  0.115  0.5780  0.1910  0.1445  0.1700   9\n",
            "3273  0.225  0.170  0.050  0.0515  0.0190  0.0120  0.0170   4\n",
            "3274  0.375  0.285  0.090  0.2545  0.1190  0.0595  0.0675   6\n",
            "3275  0.485  0.395  0.140  0.6295  0.2285  0.1270  0.2250  14\n",
            "3276  0.510  0.395  0.120  0.6175  0.2620  0.1220  0.1930  12\n",
            "3277  0.645  0.525  0.190  1.4635  0.6615  0.3435  0.4350  19\n",
            "3278  0.465  0.355  0.120  0.4975  0.2375  0.0990  0.1400   8\n",
            "3279  0.530  0.440  0.135  0.7835  0.3130  0.1715  0.2185   9\n",
            "3280  0.605  0.475  0.145  1.0185  0.4695  0.2250  0.2700  15\n",
            "3281  0.660  0.515  0.155  1.4415  0.7055  0.3555  0.3350  10\n",
            "3282  0.455  0.375  0.125  0.4840  0.2155  0.1020  0.1650   7\n",
            "3283  0.340  0.250  0.090  0.1790  0.0775  0.0330  0.0550   6\n",
            "3284  0.725  0.565  0.210  2.1425  1.0300  0.4870  0.5030  14\n",
            "3285  0.500  0.375  0.145  0.5795  0.2390  0.1375  0.1850   9\n",
            "3286  0.460  0.355  0.130  0.5170  0.2205  0.1140  0.1650   9\n",
            "3287  0.630  0.505  0.155  1.1050  0.4920  0.2260  0.3250  11\n",
            "3288  0.650  0.515  0.125  1.1805  0.5235  0.2830  0.3275   9\n",
            "3289  0.575  0.420  0.190  1.7640  0.9140  0.3770  0.4095  10\n",
            "3290  0.430  0.340  0.125  0.3840  0.1375  0.0610  0.1460  14\n",
            "3291  0.415  0.325  0.115  0.3285  0.1405  0.0510  0.1060  12\n",
            "3292  0.440  0.345  0.170  0.4085  0.1500  0.0825  0.1515  12\n",
            "3293  0.660  0.500  0.165  1.3195  0.6670  0.2690  0.3410   9\n",
            "3294  0.600  0.455  0.170  1.1915  0.6960  0.2395  0.2400   8\n",
            "3295  0.610  0.480  0.165  1.2440  0.6345  0.2570  0.3050  12\n",
            "3296  0.675  0.570  0.225  1.5870  0.7390  0.2995  0.4350  10\n",
            "3297  0.270  0.195  0.060  0.0730  0.0285  0.0235  0.0300   5\n",
            "3298  0.575  0.475  0.160  0.8950  0.3605  0.2210  0.2710   9\n",
            "3299  0.410  0.320  0.095  0.2905  0.1410  0.0630  0.0730   5\n",
            "3300  0.535  0.415  0.135  0.7800  0.3165  0.1690  0.2365   8\n",
            "3301  0.465  0.370  0.120  0.4365  0.1880  0.0815  0.1470   9\n",
            "3302  0.450  0.360  0.130  0.4780  0.1910  0.1270  0.1370   7\n",
            "3303  0.660  0.525  0.160  1.2770  0.4975  0.3190  0.3940  13\n",
            "3304  0.555  0.435  0.145  0.6975  0.2620  0.1575  0.2400  11\n",
            "3305  0.585  0.475  0.160  1.0505  0.4800  0.2340  0.2850  10\n",
            "3306  0.595  0.480  0.150  1.1100  0.4980  0.2280  0.3300  10\n",
            "3307  0.595  0.475  0.155  0.9840  0.4865  0.1840  0.2755  10\n",
            "3308  0.680  0.520  0.195  1.4535  0.5920  0.3910  0.4125  10\n",
            "3309  0.620  0.510  0.175  1.6150  0.5105  0.1920  0.6750  12\n",
            "3310  0.295  0.220  0.070  0.1365  0.0575  0.0295  0.0350   6\n",
            "3311  0.445  0.320  0.120  0.3780  0.1520  0.0825  0.1200   8\n",
            "3312  0.695  0.550  0.215  1.9565  0.7125  0.5410  0.5900  14\n",
            "3313  0.550  0.425  0.150  0.6390  0.2690  0.1345  0.2170   9\n",
            "3314  0.525  0.430  0.165  0.7170  0.2890  0.1745  0.1950  10\n",
            "3315  0.605  0.475  0.180  0.9365  0.3940  0.2190  0.2950  15\n",
            "3316  0.700  0.525  0.190  1.6015  0.7070  0.3650  0.4300  10\n",
            "3317  0.530  0.420  0.130  0.8365  0.3745  0.1670  0.2490  11\n",
            "3318  0.395  0.315  0.105  0.3515  0.1185  0.0910  0.1195  16\n",
            "3319  0.450  0.355  0.120  0.4120  0.1145  0.0665  0.1600  19\n"
          ]
        }
      ]
    },
    {
      "cell_type": "code",
      "source": [
        "from google.colab import files"
      ],
      "metadata": {
        "id": "V36Q_YgQFn_x"
      },
      "execution_count": null,
      "outputs": []
    },
    {
      "cell_type": "code",
      "source": [
        "uploaded = files.upload()"
      ],
      "metadata": {
        "colab": {
          "base_uri": "https://localhost:8080/",
          "height": 37
        },
        "id": "A6-GU_RNFqop",
        "outputId": "bbb2209f-3cc0-4f35-df9f-64289a7d376e"
      },
      "execution_count": null,
      "outputs": [
        {
          "output_type": "display_data",
          "data": {
            "text/plain": [
              "<IPython.core.display.HTML object>"
            ],
            "text/html": [
              "\n",
              "     <input type=\"file\" id=\"files-f18d3213-2091-4498-aec5-189a527db5bb\" name=\"files[]\" multiple disabled\n",
              "        style=\"border:none\" />\n",
              "     <output id=\"result-f18d3213-2091-4498-aec5-189a527db5bb\">\n",
              "      Upload widget is only available when the cell has been executed in the\n",
              "      current browser session. Please rerun this cell to enable.\n",
              "      </output>\n",
              "      <script>// Copyright 2017 Google LLC\n",
              "//\n",
              "// Licensed under the Apache License, Version 2.0 (the \"License\");\n",
              "// you may not use this file except in compliance with the License.\n",
              "// You may obtain a copy of the License at\n",
              "//\n",
              "//      http://www.apache.org/licenses/LICENSE-2.0\n",
              "//\n",
              "// Unless required by applicable law or agreed to in writing, software\n",
              "// distributed under the License is distributed on an \"AS IS\" BASIS,\n",
              "// WITHOUT WARRANTIES OR CONDITIONS OF ANY KIND, either express or implied.\n",
              "// See the License for the specific language governing permissions and\n",
              "// limitations under the License.\n",
              "\n",
              "/**\n",
              " * @fileoverview Helpers for google.colab Python module.\n",
              " */\n",
              "(function(scope) {\n",
              "function span(text, styleAttributes = {}) {\n",
              "  const element = document.createElement('span');\n",
              "  element.textContent = text;\n",
              "  for (const key of Object.keys(styleAttributes)) {\n",
              "    element.style[key] = styleAttributes[key];\n",
              "  }\n",
              "  return element;\n",
              "}\n",
              "\n",
              "// Max number of bytes which will be uploaded at a time.\n",
              "const MAX_PAYLOAD_SIZE = 100 * 1024;\n",
              "\n",
              "function _uploadFiles(inputId, outputId) {\n",
              "  const steps = uploadFilesStep(inputId, outputId);\n",
              "  const outputElement = document.getElementById(outputId);\n",
              "  // Cache steps on the outputElement to make it available for the next call\n",
              "  // to uploadFilesContinue from Python.\n",
              "  outputElement.steps = steps;\n",
              "\n",
              "  return _uploadFilesContinue(outputId);\n",
              "}\n",
              "\n",
              "// This is roughly an async generator (not supported in the browser yet),\n",
              "// where there are multiple asynchronous steps and the Python side is going\n",
              "// to poll for completion of each step.\n",
              "// This uses a Promise to block the python side on completion of each step,\n",
              "// then passes the result of the previous step as the input to the next step.\n",
              "function _uploadFilesContinue(outputId) {\n",
              "  const outputElement = document.getElementById(outputId);\n",
              "  const steps = outputElement.steps;\n",
              "\n",
              "  const next = steps.next(outputElement.lastPromiseValue);\n",
              "  return Promise.resolve(next.value.promise).then((value) => {\n",
              "    // Cache the last promise value to make it available to the next\n",
              "    // step of the generator.\n",
              "    outputElement.lastPromiseValue = value;\n",
              "    return next.value.response;\n",
              "  });\n",
              "}\n",
              "\n",
              "/**\n",
              " * Generator function which is called between each async step of the upload\n",
              " * process.\n",
              " * @param {string} inputId Element ID of the input file picker element.\n",
              " * @param {string} outputId Element ID of the output display.\n",
              " * @return {!Iterable<!Object>} Iterable of next steps.\n",
              " */\n",
              "function* uploadFilesStep(inputId, outputId) {\n",
              "  const inputElement = document.getElementById(inputId);\n",
              "  inputElement.disabled = false;\n",
              "\n",
              "  const outputElement = document.getElementById(outputId);\n",
              "  outputElement.innerHTML = '';\n",
              "\n",
              "  const pickedPromise = new Promise((resolve) => {\n",
              "    inputElement.addEventListener('change', (e) => {\n",
              "      resolve(e.target.files);\n",
              "    });\n",
              "  });\n",
              "\n",
              "  const cancel = document.createElement('button');\n",
              "  inputElement.parentElement.appendChild(cancel);\n",
              "  cancel.textContent = 'Cancel upload';\n",
              "  const cancelPromise = new Promise((resolve) => {\n",
              "    cancel.onclick = () => {\n",
              "      resolve(null);\n",
              "    };\n",
              "  });\n",
              "\n",
              "  // Wait for the user to pick the files.\n",
              "  const files = yield {\n",
              "    promise: Promise.race([pickedPromise, cancelPromise]),\n",
              "    response: {\n",
              "      action: 'starting',\n",
              "    }\n",
              "  };\n",
              "\n",
              "  cancel.remove();\n",
              "\n",
              "  // Disable the input element since further picks are not allowed.\n",
              "  inputElement.disabled = true;\n",
              "\n",
              "  if (!files) {\n",
              "    return {\n",
              "      response: {\n",
              "        action: 'complete',\n",
              "      }\n",
              "    };\n",
              "  }\n",
              "\n",
              "  for (const file of files) {\n",
              "    const li = document.createElement('li');\n",
              "    li.append(span(file.name, {fontWeight: 'bold'}));\n",
              "    li.append(span(\n",
              "        `(${file.type || 'n/a'}) - ${file.size} bytes, ` +\n",
              "        `last modified: ${\n",
              "            file.lastModifiedDate ? file.lastModifiedDate.toLocaleDateString() :\n",
              "                                    'n/a'} - `));\n",
              "    const percent = span('0% done');\n",
              "    li.appendChild(percent);\n",
              "\n",
              "    outputElement.appendChild(li);\n",
              "\n",
              "    const fileDataPromise = new Promise((resolve) => {\n",
              "      const reader = new FileReader();\n",
              "      reader.onload = (e) => {\n",
              "        resolve(e.target.result);\n",
              "      };\n",
              "      reader.readAsArrayBuffer(file);\n",
              "    });\n",
              "    // Wait for the data to be ready.\n",
              "    let fileData = yield {\n",
              "      promise: fileDataPromise,\n",
              "      response: {\n",
              "        action: 'continue',\n",
              "      }\n",
              "    };\n",
              "\n",
              "    // Use a chunked sending to avoid message size limits. See b/62115660.\n",
              "    let position = 0;\n",
              "    do {\n",
              "      const length = Math.min(fileData.byteLength - position, MAX_PAYLOAD_SIZE);\n",
              "      const chunk = new Uint8Array(fileData, position, length);\n",
              "      position += length;\n",
              "\n",
              "      const base64 = btoa(String.fromCharCode.apply(null, chunk));\n",
              "      yield {\n",
              "        response: {\n",
              "          action: 'append',\n",
              "          file: file.name,\n",
              "          data: base64,\n",
              "        },\n",
              "      };\n",
              "\n",
              "      let percentDone = fileData.byteLength === 0 ?\n",
              "          100 :\n",
              "          Math.round((position / fileData.byteLength) * 100);\n",
              "      percent.textContent = `${percentDone}% done`;\n",
              "\n",
              "    } while (position < fileData.byteLength);\n",
              "  }\n",
              "\n",
              "  // All done.\n",
              "  yield {\n",
              "    response: {\n",
              "      action: 'complete',\n",
              "    }\n",
              "  };\n",
              "}\n",
              "\n",
              "scope.google = scope.google || {};\n",
              "scope.google.colab = scope.google.colab || {};\n",
              "scope.google.colab._files = {\n",
              "  _uploadFiles,\n",
              "  _uploadFilesContinue,\n",
              "};\n",
              "})(self);\n",
              "</script> "
            ]
          },
          "metadata": {}
        }
      ]
    },
    {
      "cell_type": "markdown",
      "source": [
        "## 6. Plotting Data (Basic)"
      ],
      "metadata": {
        "id": "R7RwMNFmz8xb"
      }
    },
    {
      "cell_type": "code",
      "source": [
        "import matplotlib.pyplot as plt\n",
        "\n",
        "plt.scatter(df['c1'], df['c2'], s=1)"
      ],
      "metadata": {
        "colab": {
          "base_uri": "https://localhost:8080/",
          "height": 283
        },
        "id": "yQxkSSH5tQKe",
        "outputId": "c73ae8ff-b280-4cf0-b59f-2a47d27d7570"
      },
      "execution_count": null,
      "outputs": [
        {
          "output_type": "execute_result",
          "data": {
            "text/plain": [
              "<matplotlib.collections.PathCollection at 0x7f7e73162910>"
            ]
          },
          "metadata": {},
          "execution_count": 44
        },
        {
          "output_type": "display_data",
          "data": {
            "text/plain": [
              "<Figure size 432x288 with 1 Axes>"
            ],
            "image/png": "[encoded data removed]"
          },
          "metadata": {
            "needs_background": "light"
          }
        }
      ]
    },
    {
      "cell_type": "markdown",
      "source": [
        "3D Plot\n",
        "\n",
        "https://matplotlib.org/stable/gallery/mplot3d/index.html"
      ],
      "metadata": {
        "id": "BRCFSKd4z0Mp"
      }
    },
    {
      "cell_type": "code",
      "source": [
        "fig = plt.figure()\n",
        "ax = fig.add_subplot(projection='3d')\n",
        "\n",
        "ax.scatter3D(df['c1'], df['c2'], df['c3'], s=1, c='orange')\n"
      ],
      "metadata": {
        "colab": {
          "base_uri": "https://localhost:8080/",
          "height": 266
        },
        "id": "3ONdkl9luQLY",
        "outputId": "cfeedefe-dbea-450f-9e42-021727a553a3"
      },
      "execution_count": null,
      "outputs": [
        {
          "output_type": "execute_result",
          "data": {
            "text/plain": [
              "<mpl_toolkits.mplot3d.art3d.Path3DCollection at 0x7f7e73162650>"
            ]
          },
          "metadata": {},
          "execution_count": 45
        },
        {
          "output_type": "display_data",
          "data": {
            "text/plain": [
              "<Figure size 432x288 with 1 Axes>"
            ],
            "image/png": "[encoded data removed]"
          },
          "metadata": {
            "needs_background": "light"
          }
        }
      ]
    },
    {
      "cell_type": "markdown",
      "source": [
        "## 7. Object-Oriented Programming (OOP)"
      ],
      "metadata": {
        "id": "y7UvyAPmxHkV"
      }
    },
    {
      "cell_type": "markdown",
      "metadata": {
        "id": "AXA4jrEOL9hM"
      },
      "source": [
        "###Functions/Methods"
      ]
    },
    {
      "cell_type": "markdown",
      "metadata": {
        "id": "WaRms-QfL9hN"
      },
      "source": [
        "Python functions are defined using the `def` keyword. For example:"
      ]
    },
    {
      "cell_type": "code",
      "execution_count": null,
      "metadata": {
        "id": "kiMDUr58L9hN",
        "colab": {
          "base_uri": "https://localhost:8080/"
        },
        "outputId": "3420ddd3-f0a9-4f3b-f5f8-8d6a94e28a93"
      },
      "outputs": [
        {
          "output_type": "stream",
          "name": "stdout",
          "text": [
            "negative\n",
            "zero\n",
            "positive\n"
          ]
        }
      ],
      "source": [
        "def sign(x):\n",
        "    if x > 0:\n",
        "        return 'positive'\n",
        "    elif x < 0:\n",
        "        return 'negative'\n",
        "    else:\n",
        "        return 'zero'\n",
        "\n",
        "for x in [-1, 0, 1]:\n",
        "    print(sign(x))"
      ]
    },
    {
      "cell_type": "markdown",
      "metadata": {
        "id": "U-QJFt8TL9hR"
      },
      "source": [
        "We will often define functions to take optional keyword arguments, like this:"
      ]
    },
    {
      "cell_type": "code",
      "execution_count": null,
      "metadata": {
        "id": "PfsZ3DazL9hR",
        "colab": {
          "base_uri": "https://localhost:8080/"
        },
        "outputId": "361a2d90-2340-4c74-d5c7-2310b19826fa"
      },
      "outputs": [
        {
          "output_type": "stream",
          "name": "stdout",
          "text": [
            "Hello, Alexa!\n",
            "HELLO, SIRI\n"
          ]
        }
      ],
      "source": [
        "def hello(name, loud=False):\n",
        "    if loud:\n",
        "        print('HELLO, {}'.format(name.upper()))\n",
        "    else:\n",
        "        print('Hello, {}!'.format(name))\n",
        "\n",
        "hello('Alexa')\n",
        "hello('Siri', loud=True)"
      ]
    },
    {
      "cell_type": "markdown",
      "metadata": {
        "id": "ObA9PRtQL9hT"
      },
      "source": [
        "###Classes"
      ]
    },
    {
      "cell_type": "markdown",
      "metadata": {
        "id": "hAzL_lTkL9hU"
      },
      "source": [
        "The syntax for defining classes in Python is straightforward:"
      ]
    },
    {
      "cell_type": "code",
      "execution_count": null,
      "metadata": {
        "id": "RWdbaGigL9hU",
        "colab": {
          "base_uri": "https://localhost:8080/"
        },
        "outputId": "ef50686b-8952-4d06-d946-43b2c7a9c683"
      },
      "outputs": [
        {
          "output_type": "stream",
          "name": "stdout",
          "text": [
            "Hello, Alexa!\n",
            "HELLO, ALEXA\n"
          ]
        }
      ],
      "source": [
        "class Bot:\n",
        "\n",
        "    # Constructor\n",
        "    def __init__(self, name):\n",
        "        self.name = name  # Create an instance variable\n",
        "\n",
        "    # Instance method\n",
        "    def greet(self, loud=False):\n",
        "        if loud:\n",
        "          print('HELLO, {}'.format(self.name.upper()))\n",
        "        else:\n",
        "          print('Hello, {}!'.format(self.name))\n",
        "\n",
        "b = Bot('Alexa')  # Construct an instance of the Bot class\n",
        "b.greet()            # Call an instance method; prints \"Hello, Fred\"\n",
        "b.greet(loud=True)   # Call an instance method; prints \"HELLO, FRED!\""
      ]
    }
  ]
}