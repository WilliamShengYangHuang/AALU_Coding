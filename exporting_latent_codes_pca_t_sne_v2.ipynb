{
  "nbformat": 4,
  "nbformat_minor": 0,
  "metadata": {
    "colab": {
      "provenance": [],
      "machine_shape": "hm",
      "gpuClass": "premium",
      "toc_visible": true,
      "authorship_tag": "ABX9TyNLJvQcRsPRdbsHQwdjwjpE",
      "include_colab_link": true
    },
    "kernelspec": {
      "name": "python3",
      "display_name": "Python 3"
    },
    "language_info": {
      "name": "python"
    },
    "accelerator": "GPU",
    "gpuClass": "premium"
  },
  "cells": [
    {
      "cell_type": "markdown",
      "metadata": {
        "id": "view-in-github",
        "colab_type": "text"
      },
      "source": [
        "<a href=\"https://colab.research.google.com/github/WilliamShengYangHuang/AALU_Coding/blob/main/exporting_latent_codes_pca_t_sne_v2.ipynb\" target=\"_parent\"><img src=\"https://colab.research.google.com/assets/colab-badge.svg\" alt=\"Open In Colab\"/></a>"
      ]
    },
    {
      "cell_type": "code",
      "source": [
        "#@title\n",
        "\"\"\"import json\n",
        "from keras.utils.data_utils import get_file\n",
        "from keras import backend as K\n",
        "\n",
        "CLASS_INDEX = None\n",
        "CLASS_INDEX_PATH = 'https://s3.amazonaws.com/deep-learning-models/image-models/imagenet_class_index.json'\n",
        "\n",
        "\n",
        "def preprocess_input(x, dim_ordering='default'):\n",
        "    if dim_ordering == 'default':\n",
        "        dim_ordering = K.set_image_data_format('channels_first')\n",
        "    assert dim_ordering in {'tf', 'th'}\n",
        "\n",
        "    if dim_ordering == 'th':\n",
        "        x[:, 0, :, :] -= 103.939\n",
        "        x[:, 1, :, :] -= 116.779\n",
        "        x[:, 2, :, :] -= 123.68\n",
        "        # 'RGB'->'BGR'\n",
        "        x = x[:, ::-1, :, :]\n",
        "    else:\n",
        "        x[:, :, :, 0] -= 103.939\n",
        "        x[:, :, :, 1] -= 116.779\n",
        "        x[:, :, :, 2] -= 123.68\n",
        "        # 'RGB'->'BGR'\n",
        "        x = x[:, :, :, ::-1]\n",
        "    return x\n",
        "\n",
        "\n",
        "def decode_predictions(preds, top=5):\n",
        "    global CLASS_INDEX\n",
        "    if len(preds.shape) != 2 or preds.shape[1] != 1000:\n",
        "        raise ValueError('`decode_predictions` expects '\n",
        "                         'a batch of predictions '\n",
        "                         '(i.e. a 2D array of shape (samples, 1000)). '\n",
        "                         'Found array with shape: ' + str(preds.shape))\n",
        "    if CLASS_INDEX is None:\n",
        "        fpath = get_file('imagenet_class_index.json',\n",
        "                         CLASS_INDEX_PATH,\n",
        "                         cache_subdir='models')\n",
        "        CLASS_INDEX = json.load(open(fpath))\n",
        "    results = []\n",
        "    for pred in preds:\n",
        "        top_indices = pred.argsort()[-top:][::-1]\n",
        "        result = [tuple(CLASS_INDEX[str(i)]) + (pred[i],) for i in top_indices]\n",
        "        results.append(result)\n",
        "    return results\"\"\""
      ],
      "metadata": {
        "colab": {
          "base_uri": "https://localhost:8080/",
          "height": 122
        },
        "id": "uC4LCkD94OrW",
        "outputId": "853b5232-602c-400e-838f-87935a4e1b9b",
        "cellView": "form"
      },
      "execution_count": 1,
      "outputs": [
        {
          "output_type": "execute_result",
          "data": {
            "text/plain": [
              "\"import json\\nfrom keras.utils.data_utils import get_file\\nfrom keras import backend as K\\n\\nCLASS_INDEX = None\\nCLASS_INDEX_PATH = 'https://s3.amazonaws.com/deep-learning-models/image-models/imagenet_class_index.json'\\n\\n\\ndef preprocess_input(x, dim_ordering='default'):\\n    if dim_ordering == 'default':\\n        dim_ordering = K.set_image_data_format('channels_first')\\n    assert dim_ordering in {'tf', 'th'}\\n\\n    if dim_ordering == 'th':\\n        x[:, 0, :, :] -= 103.939\\n        x[:, 1, :, :] -= 116.779\\n        x[:, 2, :, :] -= 123.68\\n        # 'RGB'->'BGR'\\n        x = x[:, ::-1, :, :]\\n    else:\\n        x[:, :, :, 0] -= 103.939\\n        x[:, :, :, 1] -= 116.779\\n        x[:, :, :, 2] -= 123.68\\n        # 'RGB'->'BGR'\\n        x = x[:, :, :, ::-1]\\n    return x\\n\\n\\ndef decode_predictions(preds, top=5):\\n    global CLASS_INDEX\\n    if len(preds.shape) != 2 or preds.shape[1] != 1000:\\n        raise ValueError('`decode_predictions` expects '\\n                         'a batch of predictions '\\n                         '(i.e. a 2D array of shape (samples, 1000)). '\\n                         'Found array with shape: ' + str(preds.shape))\\n    if CLASS_INDEX is None:\\n        fpath = get_file('imagenet_class_index.json',\\n                         CLASS_INDEX_PATH,\\n                         cache_subdir='models')\\n        CLASS_INDEX = json.load(open(fpath))\\n    results = []\\n    for pred in preds:\\n        top_indices = pred.argsort()[-top:][::-1]\\n        result = [tuple(CLASS_INDEX[str(i)]) + (pred[i],) for i in top_indices]\\n        results.append(result)\\n    return results\""
            ],
            "application/vnd.google.colaboratory.intrinsic+json": {
              "type": "string"
            }
          },
          "metadata": {},
          "execution_count": 1
        }
      ]
    },
    {
      "cell_type": "markdown",
      "source": [
        "## Import Packages"
      ],
      "metadata": {
        "id": "Np_XEw4n-7sN"
      }
    },
    {
      "cell_type": "code",
      "execution_count": 2,
      "metadata": {
        "id": "octUJuBF32ts"
      },
      "outputs": [],
      "source": [
        "import skimage\n",
        "import cv2\n",
        "import os\n",
        "import numpy as np\n",
        "from sklearn import manifold, datasets\n",
        "import pickle as pkl\n",
        "\n",
        "import keras\n",
        "from keras.preprocessing import image\n",
        "from keras.models import Model\n",
        "from keras.applications.vgg19 import VGG19\n",
        "from skimage.transform import resize\n",
        "#import imagenet_utils as imu\n",
        "from keras.applications import imagenet_utils as imu\n",
        "\n",
        "import tensorflow as tf\n",
        "from tensorflow.keras.applications import VGG19\n",
        "from tensorflow.keras.preprocessing import image\n",
        "from tensorflow.keras.applications.vgg19 import preprocess_input\n",
        "from tensorflow.keras.models import Model\n",
        "\n",
        "import matplotlib.pyplot as plt"
      ]
    },
    {
      "cell_type": "code",
      "source": [
        "import cv2 as cv\n",
        "from glob import glob\n",
        "from google.colab import drive\n",
        "drive.mount('/content/drive')"
      ],
      "metadata": {
        "colab": {
          "base_uri": "https://localhost:8080/"
        },
        "id": "w8g8xM4j0D-Z",
        "outputId": "ab59744a-7bbe-40c2-aff5-50aaf00d111a"
      },
      "execution_count": 3,
      "outputs": [
        {
          "output_type": "stream",
          "name": "stdout",
          "text": [
            "Mounted at /content/drive\n"
          ]
        }
      ]
    },
    {
      "cell_type": "markdown",
      "source": [
        "## Load Data"
      ],
      "metadata": {
        "id": "duc_kW7I_E_-"
      }
    },
    {
      "cell_type": "code",
      "source": [
        "PATH = '/content/drive/My Drive/aa_images/28-nov/' #@param{type:'string'}\n",
        "\n",
        "#images = [cv.imread(file, cv.COLOR_BGR2RGB) for file in glob(PATH + '/*.jpg')]\n",
        "#print(len(images))"
      ],
      "metadata": {
        "id": "tADxbOQUpM0E"
      },
      "execution_count": 4,
      "outputs": []
    },
    {
      "cell_type": "code",
      "source": [
        "#@title\n",
        "\"\"\"rootfolder = PATH\n",
        "file_list = os.listdir(rootfolder)\n",
        "print(file_list)\"\"\""
      ],
      "metadata": {
        "id": "CEOmXlu6gO5b",
        "cellView": "form",
        "colab": {
          "base_uri": "https://localhost:8080/",
          "height": 35
        },
        "outputId": "3bb5a5f2-f6fc-4f9a-e826-07f048c8cb08"
      },
      "execution_count": 5,
      "outputs": [
        {
          "output_type": "execute_result",
          "data": {
            "text/plain": [
              "'rootfolder = PATH\\nfile_list = os.listdir(rootfolder)\\nprint(file_list)'"
            ],
            "application/vnd.google.colaboratory.intrinsic+json": {
              "type": "string"
            }
          },
          "metadata": {},
          "execution_count": 5
        }
      ]
    },
    {
      "cell_type": "code",
      "source": [
        "#@title\n",
        "\"\"\"file_list_sorted = file_list.sort()\n",
        "print(file_list_sorted)\"\"\""
      ],
      "metadata": {
        "id": "mw5JSh2966fo",
        "cellView": "form",
        "colab": {
          "base_uri": "https://localhost:8080/",
          "height": 35
        },
        "outputId": "7bfe9030-1d31-4033-e7b0-c2fe1e34a538"
      },
      "execution_count": 6,
      "outputs": [
        {
          "output_type": "execute_result",
          "data": {
            "text/plain": [
              "'file_list_sorted = file_list.sort()\\nprint(file_list_sorted)'"
            ],
            "application/vnd.google.colaboratory.intrinsic+json": {
              "type": "string"
            }
          },
          "metadata": {},
          "execution_count": 6
        }
      ]
    },
    {
      "cell_type": "code",
      "source": [
        "#@title\n",
        "\"\"\"\n",
        "#rootfolder = 'D:\\\\COMPUTER_VISION\\\\AAPR\\\\10000_imgs_aa_barrel_vault'\n",
        "file_list = []\n",
        "for i in range(len(os.listdir(rootfolder))):\n",
        "  file_list.append(plt.imread(PATH + str(i+10000) + '.jpg'))\n",
        "\n",
        "print(file_list)\"\"\""
      ],
      "metadata": {
        "id": "FfAku3iHzMhk",
        "cellView": "form",
        "colab": {
          "base_uri": "https://localhost:8080/",
          "height": 53
        },
        "outputId": "3c16747a-e7b0-43c5-f1ff-d24dc8312475"
      },
      "execution_count": 7,
      "outputs": [
        {
          "output_type": "execute_result",
          "data": {
            "text/plain": [
              "\"\\n#rootfolder = 'D:\\\\COMPUTER_VISION\\\\AAPR\\\\10000_imgs_aa_barrel_vault'\\nfile_list = []\\nfor i in range(len(os.listdir(rootfolder))):\\n  file_list.append(plt.imread(PATH + str(i+10000) + '.jpg'))\\n\\nprint(file_list)\""
            ],
            "application/vnd.google.colaboratory.intrinsic+json": {
              "type": "string"
            }
          },
          "metadata": {},
          "execution_count": 7
        }
      ]
    },
    {
      "cell_type": "code",
      "source": [
        "#np.array(file_list)"
      ],
      "metadata": {
        "id": "4UI0LB4diwfX"
      },
      "execution_count": 8,
      "outputs": []
    },
    {
      "cell_type": "markdown",
      "source": [
        "### Preview"
      ],
      "metadata": {
        "id": "DxXHXm5jcA_X"
      }
    },
    {
      "cell_type": "code",
      "source": [
        "# Initialize the image stack with the first image\n",
        "img = cv.imread(PATH + '0.jpg') # Mind the naming pattern\n",
        "#print(img)\n",
        "plt.imshow(img)"
      ],
      "metadata": {
        "colab": {
          "base_uri": "https://localhost:8080/",
          "height": 452
        },
        "id": "FMmmzLmfzKoY",
        "outputId": "0e1d91b7-bfd5-4732-f819-d8f98579593d"
      },
      "execution_count": 10,
      "outputs": [
        {
          "output_type": "execute_result",
          "data": {
            "text/plain": [
              "<matplotlib.image.AxesImage at 0x7bfc46ef0f70>"
            ]
          },
          "metadata": {},
          "execution_count": 10
        },
        {
          "output_type": "display_data",
          "data": {
            "text/plain": [
              "<Figure size 640x480 with 1 Axes>"
            ],
            "image/png": "[encoded data removed]"
          },
          "metadata": {}
        }
      ]
    },
    {
      "cell_type": "markdown",
      "source": [
        "## PCA (principal component analysis)"
      ],
      "metadata": {
        "id": "iEx-IIG4AZBU"
      }
    },
    {
      "cell_type": "code",
      "source": [
        "import numpy as np\n",
        "import matplotlib.pyplot as plt\n",
        "import sklearn.decomposition as dp\n",
        "import imageio\n",
        "from skimage import io,transform,color\n",
        "from skimage import img_as_ubyte\n",
        "#from sklearn.datasets.base import load_iris\n",
        "from PIL import Image\n",
        "import cv2 as cv\n"
      ],
      "metadata": {
        "id": "C0RWXAZUspqm"
      },
      "execution_count": 9,
      "outputs": []
    },
    {
      "cell_type": "code",
      "source": [
        "num_imgs = 64"
      ],
      "metadata": {
        "id": "Bd7ZLf0-ZO2-"
      },
      "execution_count": 11,
      "outputs": []
    },
    {
      "cell_type": "code",
      "source": [
        "\n",
        "img_gray = color.rgb2gray(img) # Convert rgb image to greyscale\n",
        "\n",
        "3#img_gray = img\n",
        "\n",
        "# Set the new size for the image\n",
        "new_size = (256, 256)\n",
        "\n",
        "# Resize the image\n",
        "img_gray = cv2.resize(img_gray, new_size, interpolation=cv2.INTER_AREA)\n",
        "\n",
        "im_stack = np.asarray(img_gray)\n",
        "\n",
        "print(str(im_stack) + '__1')\n",
        "\n",
        "\n",
        "# Concatenate additional images to the stack\n",
        "for i in range(0, num_imgs):\n",
        "    img = cv.imread(PATH + str(i) + '.jpg')\n",
        "    img_gray = color.rgb2gray(img)\n",
        "\n",
        "    # Set the new size for the image\n",
        "    new_size = (256, 256)\n",
        "\n",
        "    # Resize the image\n",
        "    img_gray = cv2.resize(img_gray, new_size, interpolation=cv2.INTER_AREA)\n",
        "\n",
        "    im_array = np.asarray(img_gray)\n",
        "    im_stack = np.append(im_stack, im_array)\n",
        "    print(str(im_stack) + '__' + str(i))\n",
        "    print(len(im_stack))"
      ],
      "metadata": {
        "colab": {
          "base_uri": "https://localhost:8080/"
        },
        "id": "fVTI899_q7ad",
        "outputId": "6917be4d-fe90-4b4a-de7a-33e95d9a3276"
      },
      "execution_count": 12,
      "outputs": [
        {
          "output_type": "stream",
          "name": "stdout",
          "text": [
            "[[0.55490549 0.54314078 0.53137608 ... 0.38013137 0.36836667 0.35660196]\n",
            " [0.52353294 0.51176824 0.5039251  ... 0.38797451 0.38013137 0.37228824]\n",
            " [0.49216039 0.48823882 0.48431725 ... 0.40366078 0.39581765 0.38797451]\n",
            " ...\n",
            " [0.14306549 0.14698706 0.1548302  ... 0.24669294 0.25061451 0.26237922]\n",
            " [0.14698706 0.14306549 0.14306549 ... 0.19963412 0.21532039 0.24277137]\n",
            " [0.1548302  0.14306549 0.12737922 ... 0.18394784 0.21139882 0.25453608]]__1\n",
            "[0.55490549 0.54314078 0.53137608 ... 0.18394784 0.21139882 0.25453608]__0\n",
            "131072\n",
            "[0.55490549 0.54314078 0.53137608 ... 0.19688902 0.21257529 0.23218314]__1\n",
            "196608\n",
            "[0.55490549 0.54314078 0.53137608 ... 0.31033176 0.37307686 0.46327294]__2\n",
            "262144\n",
            "[0.55490549 0.54314078 0.53137608 ... 0.64702118 0.62349176 0.69015843]__3\n",
            "327680\n",
            "[0.55490549 0.54314078 0.53137608 ... 0.12040706 0.10920784 0.09352157]__4\n",
            "393216\n",
            "[0.55490549 0.54314078 0.53137608 ... 0.24394784 0.25571255 0.29492824]__5\n",
            "458752\n",
            "[0.55490549 0.54314078 0.53137608 ... 0.13414392 0.12630078 0.11845765]__6\n",
            "524288\n",
            "[0.55490549 0.54314078 0.53137608 ... 0.08349098 0.08741255 0.08741255]__7\n",
            "589824\n",
            "[0.55490549 0.54314078 0.53137608 ... 0.14645922 0.14253765 0.13077294]__8\n",
            "655360\n",
            "[0.55490549 0.54314078 0.53137608 ... 0.55312588 0.59234157 0.62763569]__9\n",
            "720896\n",
            "[0.55490549 0.54314078 0.53137608 ... 0.13243961 0.13243961 0.1206749 ]__10\n",
            "786432\n",
            "[0.55490549 0.54314078 0.53137608 ... 0.52718667 0.52718667 0.52718667]__11\n",
            "851968\n",
            "[0.55490549 0.54314078 0.53137608 ... 0.19331765 0.19752196 0.23114941]__12\n",
            "917504\n",
            "[0.55490549 0.54314078 0.53137608 ... 0.41738275 0.42914745 0.44483373]__13\n",
            "983040\n",
            "[0.55490549 0.54314078 0.53137608 ... 0.22559098 0.26874314 0.30403725]__14\n",
            "1048576\n",
            "[0.55490549 0.54314078 0.53137608 ... 0.12685137 0.14645922 0.15038078]__15\n",
            "1114112\n",
            "[0.55490549 0.54314078 0.53137608 ... 0.62861176 0.6364549  0.6364549 ]__16\n",
            "1179648\n",
            "[0.55490549 0.54314078 0.53137608 ... 0.39374824 0.37414039 0.44472863]__17\n",
            "1245184\n",
            "[0.55490549 0.54314078 0.53137608 ... 0.17759373 0.24033882 0.22465255]__18\n",
            "1310720\n",
            "[0.55490549 0.54314078 0.53137608 ... 0.1181749  0.12209647 0.12601804]__19\n",
            "1376256\n",
            "[0.55490549 0.54314078 0.53137608 ... 0.1400149  0.18763922 0.19548235]__20\n",
            "1441792\n",
            "[0.55490549 0.54314078 0.53137608 ... 0.24516902 0.23230314 0.26759725]__21\n",
            "1507328\n",
            "[0.55490549 0.54314078 0.53137608 ... 0.15768824 0.1932651  0.15404941]__22\n",
            "1572864\n",
            "[0.55490549 0.54314078 0.53137608 ... 0.14450196 0.15766549 0.15374392]__23\n",
            "1638400\n",
            "[0.55490549 0.54314078 0.53137608 ... 0.24562941 0.26523725 0.2848451 ]__24\n",
            "1703936\n",
            "[0.55490549 0.54314078 0.53137608 ... 0.08424196 0.07639882 0.06463412]__25\n",
            "1769472\n",
            "[0.55490549 0.54314078 0.53137608 ... 0.12209647 0.1181749  0.10248863]__26\n",
            "1835008\n",
            "[0.55490549 0.54314078 0.53137608 ... 0.12545255 0.11760941 0.10192314]__27\n",
            "1900544\n",
            "[0.55490549 0.54314078 0.53137608 ... 0.20983725 0.21292549 0.19331765]__28\n",
            "1966080\n",
            "[0.55490549 0.54314078 0.53137608 ... 0.13861608 0.13469451 0.13077294]__29\n",
            "2031616\n",
            "[0.55490549 0.54314078 0.53137608 ... 0.11953608 0.11561451 0.09992824]__30\n",
            "2097152\n",
            "[0.55490549 0.54314078 0.53137608 ... 0.13382353 0.23186275 0.21617647]__31\n",
            "2162688\n",
            "[0.55490549 0.54314078 0.53137608 ... 0.49813647 0.49813647 0.50205804]__32\n",
            "2228224\n",
            "[0.55490549 0.54314078 0.53137608 ... 0.16466824 0.16074667 0.16466824]__33\n",
            "2293760\n",
            "[0.55490549 0.54314078 0.53137608 ... 0.16214549 0.16998863 0.14253765]__34\n",
            "2359296\n",
            "[0.55490549 0.54314078 0.53137608 ... 0.24426039 0.2560251  0.19328   ]__35\n",
            "2424832\n",
            "[0.55490549 0.54314078 0.53137608 ... 0.41765059 0.41765059 0.41765059]__36\n",
            "2490368\n",
            "[0.55490549 0.54314078 0.53137608 ... 0.33582549 0.33582549 0.36327647]__37\n",
            "2555904\n",
            "[0.55490549 0.54314078 0.53137608 ... 0.51312941 0.59156078 0.57587451]__38\n",
            "2621440\n",
            "[0.55490549 0.54314078 0.53137608 ... 0.14645922 0.13469451 0.11508667]__39\n",
            "2686976\n",
            "[0.55490549 0.54314078 0.53137608 ... 0.29547882 0.30332196 0.33861608]__40\n",
            "2752512\n",
            "[0.55490549 0.54314078 0.53137608 ... 0.09777843 0.16836667 0.24679804]__41\n",
            "2818048\n",
            "[0.55490549 0.54314078 0.53137608 ... 0.48518824 0.4773451  0.47342353]__42\n",
            "2883584\n",
            "[0.55490549 0.54314078 0.53137608 ... 0.12685137 0.11508667 0.09155725]__43\n",
            "2949120\n",
            "[0.55490549 0.54314078 0.53137608 ... 0.12175333 0.14920431 0.20802784]__44\n",
            "3014656\n",
            "[0.55490549 0.54314078 0.53137608 ... 0.20920431 0.21704745 0.21312588]__45\n",
            "3080192\n",
            "[0.55490549 0.54314078 0.53137608 ... 0.15736784 0.17305412 0.18874039]__46\n",
            "3145728\n",
            "[0.55490549 0.54314078 0.53137608 ... 0.21139882 0.22316353 0.23100667]__47\n",
            "3211264\n",
            "[0.55490549 0.54314078 0.53137608 ... 0.14253765 0.13469451 0.12685137]__48\n",
            "3276800\n",
            "[0.55490549 0.54314078 0.53137608 ... 0.43218314 0.49100667 0.51453608]__49\n",
            "3342336\n",
            "[0.55490549 0.54314078 0.53137608 ... 0.14170431 0.14170431 0.13386118]__50\n",
            "3407872\n",
            "[0.55490549 0.54314078 0.53137608 ... 0.11169294 0.1038498  0.09600667]__51\n",
            "3473408\n",
            "[0.55490549 0.54314078 0.53137608 ... 0.67892157 0.64754902 0.67892157]__52\n",
            "3538944\n",
            "[0.55490549 0.54314078 0.53137608 ... 0.05210353 0.09525569 0.20113804]__53\n",
            "3604480\n",
            "[0.55490549 0.54314078 0.53137608 ... 0.69155725 0.7739102  0.68371412]__54\n",
            "3670016\n",
            "[0.55490549 0.54314078 0.53137608 ... 0.2920851  0.3548302  0.39796745]__55\n",
            "3735552\n",
            "[0.55490549 0.54314078 0.53137608 ... 0.29948275 0.29163961 0.28771804]__56\n",
            "3801088\n",
            "[0.55490549 0.54314078 0.53137608 ... 0.12209647 0.12209647 0.12209647]__57\n",
            "3866624\n",
            "[0.55490549 0.54314078 0.53137608 ... 0.38647059 0.61       0.61784314]__58\n",
            "3932160\n",
            "[0.55490549 0.54314078 0.53137608 ... 0.19668078 0.17597176 0.1838149 ]__59\n",
            "3997696\n",
            "[0.55490549 0.54314078 0.53137608 ... 0.16127451 0.14558824 0.13382353]__60\n",
            "4063232\n",
            "[0.55490549 0.54314078 0.53137608 ... 0.13414392 0.13022235 0.13022235]__61\n",
            "4128768\n",
            "[0.55490549 0.54314078 0.53137608 ... 0.10332196 0.10724353 0.09940039]__62\n",
            "4194304\n",
            "[0.55490549 0.54314078 0.53137608 ... 0.12372549 0.11588235 0.10803922]__63\n",
            "4259840\n"
          ]
        }
      ]
    },
    {
      "cell_type": "code",
      "source": [
        "# PCA algorithm\n",
        "def PCA(matrix):\n",
        "    #matrix = matrix.reshape(-1, 1)\n",
        "    matrix = np.split(matrix, num_imgs)\n",
        "    #print(matrix)\n",
        "    num_comp = 3 #@param{type:'slider', min:0, max:100, step:1}\n",
        "\n",
        "    pca = dp.PCA(n_components = num_comp) # load the PCA algorithm, set the principal component after dimensionality reduction to n_components\n",
        "    pca_features = pca.fit_transform(matrix) # dimensionality reduction on raw data\n",
        "    print(pca_features[0])\n",
        "    print(pca_features[1])\n",
        "\n",
        "    for i in range(num_imgs):\n",
        "        print(pca_features[i])\n",
        "\n",
        "    return pca_features\n",
        "\n",
        "#print(img_gray)\n",
        "low_matrix = PCA(im_stack)"
      ],
      "metadata": {
        "id": "z2fV0hFr1CVO",
        "colab": {
          "base_uri": "https://localhost:8080/"
        },
        "outputId": "95cc2bd8-0577-47d5-ca4f-92bdc9252699"
      },
      "execution_count": 14,
      "outputs": [
        {
          "output_type": "stream",
          "name": "stdout",
          "text": [
            "[-17.27907369  24.34268018  16.05542108]\n",
            "[-15.9537409   26.24940845  14.91646481]\n",
            "[-17.27907369  24.34268018  16.05542108]\n",
            "[-15.9537409   26.24940845  14.91646481]\n",
            "[-17.63455513  14.25268886 -16.4040946 ]\n",
            "[-23.46212858  -3.13052579  -5.33069515]\n",
            "[44.12039954 19.0530228  -1.68611122]\n",
            "[33.88801861 24.07081244 17.38385036]\n",
            "[28.77901791 29.45702899 -7.92623948]\n",
            "[48.26973217 21.60888458 -2.79515262]\n",
            "[16.20224713 11.41690129 -2.29363372]\n",
            "[17.55061067 27.2581971  -1.69961961]\n",
            "[37.51263826 14.4690785  -5.03868968]\n",
            "[ 30.52717395  25.05035628 -20.69877218]\n",
            "[-27.78319025  12.22458409  -3.12237214]\n",
            "[11.2041483  21.85347734 -8.54283336]\n",
            "[18.97824926  7.13294726 40.80023509]\n",
            "[36.38193795  8.52254579 32.39757531]\n",
            "[25.09697172 13.20033908 -5.30977467]\n",
            "[-20.12557364   6.61680345 -12.79267967]\n",
            "[13.64246237 22.19236004 -4.93042708]\n",
            "[ 31.85356063 -13.41228162  18.20543821]\n",
            "[ 43.63745809 -19.63567307 -11.22927402]\n",
            "[ 19.1199268  -27.65504245   5.88483511]\n",
            "[ 26.61813727 -22.84484756   0.48493318]\n",
            "[19.36514372 -6.6555355  22.02087752]\n",
            "[ 31.97666166 -16.73021135 -20.42065931]\n",
            "[25.2896668   1.94565788  8.16265635]\n",
            "[ 18.7906165  -39.3593439  -31.96710585]\n",
            "[ 32.75688631  -2.15289679 -10.78028017]\n",
            "[ 22.76897955 -24.95759631  -7.81659943]\n",
            "[ 27.06591386 -12.963315     6.48808668]\n",
            "[ 21.36283414 -31.33613077   2.77789443]\n",
            "[ -2.3906208  -45.65461647   3.98212365]\n",
            "[-20.30551024 -31.95252664  -1.10621607]\n",
            "[ -8.58101535 -24.91102101  26.16678701]\n",
            "[ -2.06729503 -34.04629188  -6.68894431]\n",
            "[  8.00624964 -36.01989869 -13.30270199]\n",
            "[-22.56586562 -27.81978989  22.21605108]\n",
            "[ 15.05680105 -20.31310215   6.8628838 ]\n",
            "[ 1.51310394 -0.13092617 31.75138732]\n",
            "[-28.81108909  14.88601399  31.34960994]\n",
            "[-27.6065286  -38.57362562   0.11629598]\n",
            "[-33.43615786 -33.64921974  11.62696746]\n",
            "[ 10.53083626 -40.89440529  -8.06605727]\n",
            "[-23.31684288  25.45290211  23.50547716]\n",
            "[-36.55720574 -22.7392654   -6.7666075 ]\n",
            "[-42.65232383  15.88039847   3.04570891]\n",
            "[ -1.08509432 -37.42771492 -22.49577387]\n",
            "[-10.74209944  -0.3324204   13.62341389]\n",
            "[-34.2328968  -14.88014363 -14.52225657]\n",
            "[-31.7502199   -7.48364313   3.5285737 ]\n",
            "[-25.27187974 -16.75262896  -6.20418961]\n",
            "[-35.38937095   7.40053207 -30.61246441]\n",
            "[-37.09044373   9.05706692  -5.65528806]\n",
            "[-29.08060568   6.16059014  -0.57329048]\n",
            "[-20.49909166  48.33155537 -19.10036428]\n",
            "[-20.35092166  24.55543866  -3.55962101]\n",
            "[-23.25451334  -2.59645333   2.24220267]\n",
            "[-1.13353757 29.53089962 -7.70102951]\n",
            "[  5.47757364  51.88608704 -12.39206338]\n",
            "[-2.35881245 15.77745793  6.08205858]\n",
            "[-24.28540116  28.53455888   4.9953257 ]\n",
            "[-31.41526387   8.68778824   4.84035096]\n",
            "[-32.18528839  10.92547988 -13.04060443]\n",
            "[  7.31020021  29.0265497  -28.94099922]\n"
          ]
        }
      ]
    },
    {
      "cell_type": "markdown",
      "source": [
        "//"
      ],
      "metadata": {
        "id": "d7nP3b9L1bln"
      }
    },
    {
      "cell_type": "markdown",
      "source": [
        "## T-SNE (t-distributed stochastic neighbor embedding)"
      ],
      "metadata": {
        "id": "y0Ffns8Drxhc"
      }
    },
    {
      "cell_type": "code",
      "source": [
        "import pickle as pkl\n",
        "import numpy as np\n",
        "import os\n",
        "from sklearn import manifold, datasets\n",
        "import time\n",
        "\n",
        "_n_dim = 3\n",
        "_perplexity = 10\n",
        "_learning_rate = 100\n",
        "_scale = 1\n",
        "\n",
        "tsne = manifold.TSNE(n_components=_n_dim, init='pca', random_state=0, perplexity=int(_perplexity), learning_rate=int(_learning_rate))\n",
        "X_tsne = tsne.fit_transform(low_matrix) # Fit X into an embedded space and return that transformed output.\n",
        "X_tsne  = X_tsne *_scale\n",
        "output = X_tsne.tolist()\n",
        "time=time.time()\n",
        "\n",
        "for i in range(num_imgs):\n",
        "    print(output[i])\n"
      ],
      "metadata": {
        "id": "BixHjUaQrwwe",
        "colab": {
          "base_uri": "https://localhost:8080/"
        },
        "outputId": "38abd542-7449-435f-81bc-e51f07ca724b"
      },
      "execution_count": 15,
      "outputs": [
        {
          "output_type": "stream",
          "name": "stdout",
          "text": [
            "[75.66194915771484, 61.18111038208008, 13.345926284790039]\n",
            "[-68.97451782226562, 51.25861358642578, -24.13628387451172]\n",
            "[-4.414309978485107, 28.942468643188477, 12.357531547546387]\n",
            "[-4.478407859802246, 19.7156925201416, 83.22650909423828]\n",
            "[75.67334747314453, -38.168155670166016, -85.90904235839844]\n",
            "[94.7166976928711, -14.259395599365234, -51.09855270385742]\n",
            "[-57.79821014404297, -125.2348403930664, 20.0946102142334]\n",
            "[63.656089782714844, -47.88179397583008, -54.864036560058594]\n",
            "[15.694412231445312, 4.718654632568359, -91.7126693725586]\n",
            "[45.20643615722656, 17.68457794189453, -57.22407913208008]\n",
            "[38.47075271606445, -40.79528045654297, -85.2117691040039]\n",
            "[67.19189453125, 6.299628734588623, -107.13593292236328]\n",
            "[-19.228506088256836, 68.14938354492188, 43.15756607055664]\n",
            "[31.016752243041992, 41.17452621459961, -88.6017074584961]\n",
            "[-109.9577407836914, -53.74652862548828, -37.92327880859375]\n",
            "[-83.49361419677734, -64.70580291748047, -60.64019012451172]\n",
            "[-16.856136322021484, -42.38267135620117, -170.38514709472656]\n",
            "[6.330062389373779, 32.139400482177734, 44.3630485534668]\n",
            "[54.64270782470703, 51.78639602661133, -65.15849304199219]\n",
            "[-51.48234176635742, -77.03019714355469, -22.625150680541992]\n",
            "[0.8994386792182922, -14.270061492919922, -30.01279640197754]\n",
            "[23.25389862060547, -88.40032196044922, -2.3949978351593018]\n",
            "[7.055588245391846, -53.6773796081543, -16.885040283203125]\n",
            "[-77.54754638671875, -55.43716049194336, -6.759919166564941]\n",
            "[-22.1800479888916, -5.750476360321045, -54.51775360107422]\n",
            "[-56.89577865600586, -31.898818969726562, -34.124046325683594]\n",
            "[35.064266204833984, 95.9836196899414, -10.367457389831543]\n",
            "[-7.819148063659668, -37.767398834228516, -71.69542694091797]\n",
            "[1.9569143056869507, -83.81185150146484, -36.482147216796875]\n",
            "[-31.203744888305664, -48.55893325805664, -8.262116432189941]\n",
            "[25.354602813720703, -57.95273971557617, 16.302703857421875]\n",
            "[31.01954460144043, -122.83755493164062, 69.91251373291016]\n",
            "[0.6503068208694458, -54.85050964355469, 84.9496841430664]\n",
            "[28.10934066772461, 9.727226257324219, -160.7918701171875]\n",
            "[16.61446189880371, -90.721923828125, 58.55189895629883]\n",
            "[47.1894645690918, 123.9100341796875, 18.691089630126953]\n",
            "[46.53571319580078, -46.14093780517578, 102.02249145507812]\n",
            "[-12.015267372131348, -79.38834381103516, 10.244930267333984]\n",
            "[-113.52970123291016, -32.179603576660156, -7.272552967071533]\n",
            "[-115.0635757446289, 53.82912063598633, 6.943788051605225]\n",
            "[-15.091795921325684, -70.14864349365234, 111.66673278808594]\n",
            "[18.366424560546875, -57.978572845458984, 124.51728820800781]\n",
            "[18.109634399414062, -121.27662658691406, 29.987232208251953]\n",
            "[-81.94239807128906, 41.90974426269531, 10.572299003601074]\n",
            "[-76.1903076171875, 119.5234375, 45.10531234741211]\n",
            "[-24.572195053100586, 105.72866821289062, 70.77704620361328]\n",
            "[58.5858154296875, 128.2624053955078, -18.211164474487305]\n",
            "[57.06227111816406, 26.277847290039062, 62.92974090576172]\n",
            "[-44.689579010009766, 2.541339874267578, 105.88438415527344]\n",
            "[6.924458026885986, 27.0052547454834, 121.25337219238281]\n",
            "[-10.01213550567627, -13.63072395324707, 108.63134765625]\n",
            "[-25.767820358276367, -7.801919937133789, 42.27278518676758]\n",
            "[66.96077728271484, -112.03670501708984, -49.98908233642578]\n",
            "[-9.055577278137207, 61.540130615234375, 80.16665649414062]\n",
            "[-25.935062408447266, 90.22502136230469, -50.3650016784668]\n",
            "[-20.712337493896484, 64.094482421875, -6.194122314453125]\n",
            "[25.930889129638672, 37.81520462036133, 90.08502960205078]\n",
            "[11.319440841674805, 57.51873779296875, -57.8637809753418]\n",
            "[2.9068758487701416, 95.53970336914062, -76.22553253173828]\n",
            "[56.94792556762695, 21.498483657836914, 13.129688262939453]\n",
            "[-50.958126068115234, 79.95855712890625, -2.0532612800598145]\n",
            "[-44.890220642089844, 68.87625885009766, 75.32979583740234]\n",
            "[-36.01625061035156, 30.51579475402832, 44.82356262207031]\n",
            "[-1.006469964981079, 61.496726989746094, -105.07444763183594]\n"
          ]
        }
      ]
    },
    {
      "cell_type": "markdown",
      "source": [
        "## Save CSV"
      ],
      "metadata": {
        "id": "BaNoBVkWh3fD"
      }
    },
    {
      "cell_type": "code",
      "source": [
        "# Convert the list to an array\n",
        "my_array = np.array(output)\n",
        "\n",
        "# Save the array as a CSV file\n",
        "f_name = 'latent_space_mix' #@param{type:'string'}\n",
        "np.savetxt(f_name + '.csv', my_array, delimiter=',')"
      ],
      "metadata": {
        "id": "1qGIdcHmw7qD"
      },
      "execution_count": null,
      "outputs": []
    },
    {
      "cell_type": "markdown",
      "source": [
        "## Save Model"
      ],
      "metadata": {
        "id": "YbqHz0aVBef-"
      }
    },
    {
      "cell_type": "code",
      "source": [
        "\"\"\"\n",
        "from pathlib import Path\n",
        "features = np.stack(low_matrix, axis=0)\n",
        "\n",
        "# rootfolder2 = Path + '_features'\n",
        "rootfolder2 = '/content/drive/My Drive/'\n",
        "fileName = os.path.join(rootfolder2,'pca_pool')\n",
        "fileObject = open(fileName, 'wb')\n",
        "pkl.dump(features, fileObject)\n",
        "fileObject.close()\n",
        "\"\"\""
      ],
      "metadata": {
        "id": "tEhHzCY5BOsa"
      },
      "execution_count": null,
      "outputs": []
    }
  ]
}