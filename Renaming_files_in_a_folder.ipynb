{
  "nbformat": 4,
  "nbformat_minor": 0,
  "metadata": {
    "colab": {
      "provenance": [],
      "machine_shape": "hm",
      "include_colab_link": true
    },
    "kernelspec": {
      "name": "python3",
      "display_name": "Python 3"
    },
    "language_info": {
      "name": "python"
    },
    "accelerator": "GPU"
  },
  "cells": [
    {
      "cell_type": "markdown",
      "metadata": {
        "id": "view-in-github",
        "colab_type": "text"
      },
      "source": [
        "<a href=\"https://colab.research.google.com/github/WilliamShengYangHuang/AALU_Coding/blob/main/Renaming_files_in_a_folder.ipynb\" target=\"_parent\"><img src=\"https://colab.research.google.com/assets/colab-badge.svg\" alt=\"Open In Colab\"/></a>"
      ]
    },
    {
      "cell_type": "code",
      "source": [
        "import os\n",
        "os.getcwd()\n",
        "from google.colab import drive"
      ],
      "metadata": {
        "id": "YN9lS1tArisi"
      },
      "execution_count": null,
      "outputs": []
    },
    {
      "cell_type": "code",
      "source": [
        "drive.mount(\"/content/drive\")"
      ],
      "metadata": {
        "colab": {
          "base_uri": "https://localhost:8080/"
        },
        "id": "PIpt984n4xXB",
        "outputId": "518d1204-0f23-4053-fe69-4e206559788f"
      },
      "execution_count": null,
      "outputs": [
        {
          "output_type": "stream",
          "name": "stdout",
          "text": [
            "Mounted at /content/drive\n"
          ]
        }
      ]
    },
    {
      "cell_type": "markdown",
      "source": [
        "/content/drive/My Drive/phd_thesis_data/deep_city/paired_datasets/w-s/train/"
      ],
      "metadata": {
        "id": "rgriOIt8h_X-"
      }
    },
    {
      "cell_type": "code",
      "source": [
        "PATH = \"/content/drive/My Drive/phd_thesis_data/deep_city/pix2pix/compiled/combined/thumbnails/w-m/ebird_raw\" #@param{type:'string'}\n",
        "FORMAT = \".jpg\" #@param{type:'string'}\n",
        "#os.listdir(PATH)\n",
        "print(len(os.listdir(PATH)))"
      ],
      "metadata": {
        "colab": {
          "base_uri": "https://localhost:8080/"
        },
        "id": "ws3hXvZ-SOTS",
        "outputId": "8785be9f-875c-4322-a55d-72896b814a2a"
      },
      "execution_count": null,
      "outputs": [
        {
          "output_type": "stream",
          "name": "stdout",
          "text": [
            "120\n"
          ]
        }
      ]
    },
    {
      "cell_type": "code",
      "source": [
        "for i in range(1, 121, 1):\n",
        "    os.rename(PATH + 'a (' + str(i) + ').jpg', PATH + str(i+119) + FORMAT)"
      ],
      "metadata": {
        "id": "MHv4oxNsK8Vj"
      },
      "execution_count": null,
      "outputs": []
    },
    {
      "cell_type": "code",
      "source": [
        "# @title\n",
        "\"\"\"for i, filename in enumerate(os.listdir(PATH)):\n",
        "    #os.rename(PATH + filename, PATH + 'gen_' + str(i) + FORMAT)\n",
        "    #os.rename(PATH + filename, PATH + str(i) + FORMAT)\n",
        "    os.rename(PATH + filename, PATH + str(i+0) + FORMAT)\n",
        "    print(i)\"\"\""
      ],
      "metadata": {
        "id": "njDxG-jxrDRF",
        "colab": {
          "base_uri": "https://localhost:8080/",
          "height": 53
        },
        "outputId": "d775ff2d-3566-4543-dafc-878ed786e635",
        "cellView": "form"
      },
      "execution_count": null,
      "outputs": [
        {
          "output_type": "execute_result",
          "data": {
            "text/plain": [
              "\"for i, filename in enumerate(os.listdir(PATH)):\\n    #os.rename(PATH + filename, PATH + 'gen_' + str(i) + FORMAT)\\n    #os.rename(PATH + filename, PATH + str(i) + FORMAT)\\n    os.rename(PATH + filename, PATH + str(i+0) + FORMAT)\\n    print(i)\""
            ],
            "application/vnd.google.colaboratory.intrinsic+json": {
              "type": "string"
            }
          },
          "metadata": {},
          "execution_count": 6
        }
      ]
    },
    {
      "cell_type": "code",
      "source": [
        "os.listdir(PATH)\n",
        "#print(len(os.listdir(PATH)))"
      ],
      "metadata": {
        "id": "yWXSp6o9-DPl",
        "colab": {
          "base_uri": "https://localhost:8080/"
        },
        "outputId": "68b21aaa-e80c-4332-84e3-51bc94d34485"
      },
      "execution_count": null,
      "outputs": [
        {
          "output_type": "execute_result",
          "data": {
            "text/plain": [
              "['152.jpg',\n",
              " '153.jpg',\n",
              " '154.jpg',\n",
              " '155.jpg',\n",
              " '156.jpg',\n",
              " '157.jpg',\n",
              " '158.jpg',\n",
              " '120.jpg',\n",
              " '121.jpg',\n",
              " '122.jpg',\n",
              " '123.jpg',\n",
              " '124.jpg',\n",
              " '125.jpg',\n",
              " '126.jpg',\n",
              " '127.jpg',\n",
              " '128.jpg',\n",
              " '129.jpg',\n",
              " '130.jpg',\n",
              " '131.jpg',\n",
              " '132.jpg',\n",
              " '133.jpg',\n",
              " '134.jpg',\n",
              " '135.jpg',\n",
              " '136.jpg',\n",
              " '137.jpg',\n",
              " '138.jpg',\n",
              " '139.jpg',\n",
              " '140.jpg',\n",
              " '141.jpg',\n",
              " '142.jpg',\n",
              " '143.jpg',\n",
              " '144.jpg',\n",
              " '145.jpg',\n",
              " '146.jpg',\n",
              " '147.jpg',\n",
              " '148.jpg',\n",
              " '149.jpg',\n",
              " '150.jpg',\n",
              " '151.jpg',\n",
              " '159.jpg',\n",
              " '160.jpg',\n",
              " '161.jpg',\n",
              " '162.jpg',\n",
              " '163.jpg',\n",
              " '164.jpg',\n",
              " '165.jpg',\n",
              " '166.jpg',\n",
              " '167.jpg',\n",
              " '168.jpg',\n",
              " '169.jpg',\n",
              " '170.jpg',\n",
              " '171.jpg',\n",
              " '172.jpg',\n",
              " '173.jpg',\n",
              " '174.jpg',\n",
              " '175.jpg',\n",
              " '176.jpg',\n",
              " '177.jpg',\n",
              " '178.jpg',\n",
              " '179.jpg',\n",
              " '180.jpg',\n",
              " '181.jpg',\n",
              " '182.jpg',\n",
              " '183.jpg',\n",
              " '184.jpg',\n",
              " '185.jpg',\n",
              " '186.jpg',\n",
              " '187.jpg',\n",
              " '188.jpg',\n",
              " '189.jpg',\n",
              " '190.jpg',\n",
              " '191.jpg',\n",
              " '192.jpg',\n",
              " '193.jpg',\n",
              " '194.jpg',\n",
              " '195.jpg',\n",
              " '196.jpg',\n",
              " '197.jpg',\n",
              " '198.jpg',\n",
              " '199.jpg',\n",
              " '200.jpg',\n",
              " '201.jpg',\n",
              " '202.jpg',\n",
              " '203.jpg',\n",
              " '204.jpg',\n",
              " '205.jpg',\n",
              " '206.jpg',\n",
              " '207.jpg',\n",
              " '208.jpg',\n",
              " '209.jpg',\n",
              " '210.jpg',\n",
              " '211.jpg',\n",
              " '212.jpg',\n",
              " '213.jpg',\n",
              " '214.jpg',\n",
              " '215.jpg',\n",
              " '216.jpg',\n",
              " '217.jpg',\n",
              " '218.jpg',\n",
              " '219.jpg',\n",
              " '220.jpg',\n",
              " '221.jpg',\n",
              " '222.jpg',\n",
              " '223.jpg',\n",
              " '224.jpg',\n",
              " '225.jpg',\n",
              " '226.jpg',\n",
              " '227.jpg',\n",
              " '228.jpg',\n",
              " '229.jpg',\n",
              " '230.jpg',\n",
              " '231.jpg',\n",
              " '232.jpg',\n",
              " '233.jpg',\n",
              " '234.jpg',\n",
              " '235.jpg',\n",
              " '236.jpg',\n",
              " '237.jpg',\n",
              " '238.jpg',\n",
              " '239.jpg']"
            ]
          },
          "metadata": {},
          "execution_count": 7
        }
      ]
    }
  ]
}