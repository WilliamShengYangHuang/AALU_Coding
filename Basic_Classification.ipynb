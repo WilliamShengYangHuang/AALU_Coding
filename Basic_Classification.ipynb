{
  "nbformat": 4,
  "nbformat_minor": 0,
  "metadata": {
    "colab": {
      "name": "Basic_Classification.ipynb",
      "provenance": [],
      "collapsed_sections": [],
      "authorship_tag": "ABX9TyPeek1llAOkLsggQ4OQAlDt",
      "include_colab_link": true
    },
    "kernelspec": {
      "name": "python3",
      "display_name": "Python 3"
    },
    "language_info": {
      "name": "python"
    }
  },
  "cells": [
    {
      "cell_type": "markdown",
      "metadata": {
        "id": "view-in-github",
        "colab_type": "text"
      },
      "source": [
        "<a href=\"https://colab.research.google.com/github/WilliamShengYangHuang/AALU_Coding/blob/main/Basic_Classification.ipynb\" target=\"_parent\"><img src=\"https://colab.research.google.com/assets/colab-badge.svg\" alt=\"Open In Colab\"/></a>"
      ]
    },
    {
      "cell_type": "markdown",
      "source": [
        "# **Basic Classification**"
      ],
      "metadata": {
        "id": "z-kH6oxw4hCn"
      }
    },
    {
      "cell_type": "code",
      "source": [
        "import numpy as np\n",
        "import pandas as pd\n",
        "\n",
        "from sklearn.datasets import load_breast_cancer \n",
        "from sklearn.model_selection import train_test_split\n",
        "from sklearn.naive_bayes import GaussianNB\n",
        "from sklearn.metrics import accuracy_score"
      ],
      "metadata": {
        "id": "LogQMIrnVm2u"
      },
      "execution_count": 84,
      "outputs": []
    },
    {
      "cell_type": "code",
      "source": [
        "# Load dataset\n",
        "data = load_breast_cancer()\n",
        "data"
      ],
      "metadata": {
        "id": "Z_MpW6a0Vqt2"
      },
      "execution_count": null,
      "outputs": []
    },
    {
      "cell_type": "code",
      "source": [
        "# Convert the dataset to pandas dataframe\n",
        "df = pd.DataFrame(np.c_[data['data'], data['target']],\n",
        "                  columns= np.append(data['feature_names'], ['target']))\n",
        "df"
      ],
      "metadata": {
        "id": "ZommmL8O3sON"
      },
      "execution_count": null,
      "outputs": []
    },
    {
      "cell_type": "code",
      "execution_count": null,
      "metadata": {
        "id": "vWiDltFPVFQb"
      },
      "outputs": [],
      "source": [
        "# Organise data\n",
        "label_names = data['target_names']\n",
        "labels = data['target']\n",
        "feature_names = data['feature_names']\n",
        "features = data['data']\n",
        "\n",
        "# Observe data\n",
        "print(label_names)\n",
        "print('Class label = ', labels[0])\n",
        "print(feature_names)\n",
        "print(features[0])"
      ]
    },
    {
      "cell_type": "code",
      "source": [
        "# Split data\n",
        "train, test, train_labels, test_labels = train_test_split(features,\n",
        "                                                          labels,\n",
        "                                                          test_size=0.33,\n",
        "                                                          random_state=42)"
      ],
      "metadata": {
        "id": "JaUAHao5VeLa"
      },
      "execution_count": 88,
      "outputs": []
    },
    {
      "cell_type": "code",
      "source": [
        "# Initialize our classifier\n",
        "gnb = GaussianNB()\n",
        "\n",
        "# Train our classifier\n",
        "model = gnb.fit(train, train_labels)\n",
        "\n",
        "# Make predictions\n",
        "preds = gnb.predict(test)\n",
        "print(preds)\n",
        "print(int(len(preds))) \n",
        "\n",
        "# Evaluate accuracy\n",
        "print(accuracy_score(test_labels, preds))"
      ],
      "metadata": {
        "id": "mUIcuUEdVjKF"
      },
      "execution_count": null,
      "outputs": []
    },
    {
      "cell_type": "code",
      "source": [
        "check = 1 #@param{type:\"slider\", min:0, max:187, step:1}\n",
        "preds[check]\n",
        "\n",
        "if preds[check] == 1:\n",
        "  print(\"This shit won't kill you.\")\n",
        "else:\n",
        "  print(\"It's not the end of the world.\")"
      ],
      "metadata": {
        "id": "AcMzPSnhWayq"
      },
      "execution_count": null,
      "outputs": []
    },
    {
      "cell_type": "code",
      "source": [
        "print(df.loc[check]) # To access the selected row"
      ],
      "metadata": {
        "id": "9lG20jULDCHX"
      },
      "execution_count": null,
      "outputs": []
    }
  ]
}