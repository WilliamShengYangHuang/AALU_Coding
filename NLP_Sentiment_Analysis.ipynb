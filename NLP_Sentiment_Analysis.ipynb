{
  "cells": [
    {
      "cell_type": "markdown",
      "metadata": {
        "id": "view-in-github",
        "colab_type": "text"
      },
      "source": [
        "<a href=\"https://colab.research.google.com/github/WilliamShengYangHuang/AALU_Coding/blob/main/NLP_Sentiment_Analysis.ipynb\" target=\"_parent\"><img src=\"https://colab.research.google.com/assets/colab-badge.svg\" alt=\"Open In Colab\"/></a>"
      ]
    },
    {
      "cell_type": "markdown",
      "metadata": {
        "id": "8VI_aDJ4TnU9"
      },
      "source": [
        "#NLP Sentiment Analysis\n"
      ]
    },
    {
      "cell_type": "markdown",
      "metadata": {
        "id": "9SrjEB5kTnU_"
      },
      "source": [
        "## Method 1: Textblob\n",
        "\n",
        "https://textblob.readthedocs.io/en/dev/\n",
        "\n",
        "TextBlob is a Python (2 and 3) library for processing textual data. It provides a simple API for diving into common natural language processing (NLP) tasks such as part-of-speech tagging, noun phrase extraction, sentiment analysis, classification, translation, and more."
      ]
    },
    {
      "cell_type": "code",
      "source": [
        "!pip install textblob\n",
        "!pip install nltk"
      ],
      "metadata": {
        "id": "i0lVxBIKTz7F",
        "outputId": "ff0da879-5e42-4521-e97d-8a6a2068412a",
        "colab": {
          "base_uri": "https://localhost:8080/"
        }
      },
      "execution_count": null,
      "outputs": [
        {
          "output_type": "stream",
          "name": "stdout",
          "text": [
            "Requirement already satisfied: textblob in /usr/local/lib/python3.10/dist-packages (0.17.1)\n",
            "Requirement already satisfied: nltk>=3.1 in /usr/local/lib/python3.10/dist-packages (from textblob) (3.8.1)\n",
            "Requirement already satisfied: click in /usr/local/lib/python3.10/dist-packages (from nltk>=3.1->textblob) (8.1.7)\n",
            "Requirement already satisfied: joblib in /usr/local/lib/python3.10/dist-packages (from nltk>=3.1->textblob) (1.3.2)\n",
            "Requirement already satisfied: regex>=2021.8.3 in /usr/local/lib/python3.10/dist-packages (from nltk>=3.1->textblob) (2023.6.3)\n",
            "Requirement already satisfied: tqdm in /usr/local/lib/python3.10/dist-packages (from nltk>=3.1->textblob) (4.66.1)\n",
            "Requirement already satisfied: nltk in /usr/local/lib/python3.10/dist-packages (3.8.1)\n",
            "Requirement already satisfied: click in /usr/local/lib/python3.10/dist-packages (from nltk) (8.1.7)\n",
            "Requirement already satisfied: joblib in /usr/local/lib/python3.10/dist-packages (from nltk) (1.3.2)\n",
            "Requirement already satisfied: regex>=2021.8.3 in /usr/local/lib/python3.10/dist-packages (from nltk) (2023.6.3)\n",
            "Requirement already satisfied: tqdm in /usr/local/lib/python3.10/dist-packages (from nltk) (4.66.1)\n"
          ]
        }
      ]
    },
    {
      "cell_type": "code",
      "execution_count": null,
      "metadata": {
        "ExecuteTime": {
          "end_time": "2020-10-30T12:28:01.937210Z",
          "start_time": "2020-10-30T12:28:01.930918Z"
        },
        "id": "z-jFtuoYTnU_",
        "outputId": "ad2790f7-ddf3-4287-c1e2-09220679d769",
        "colab": {
          "base_uri": "https://localhost:8080/"
        }
      },
      "outputs": [
        {
          "output_type": "stream",
          "name": "stdout",
          "text": [
            "\n",
            "Isaura, city of the thousand wells, is said to rise over a deep, subterranean lake. 0.0 0.4\n",
            "On all sides, wherever the inhabitants dig long vertical holes in the ground, \n",
            "they succeed in drawing up water, as far as the city extends, and no father. 0.025 0.7\n",
            "Its green border repeats the dark outline of the buried lake; \n",
            "an invisible landscape conditions the visible one; \n",
            "everything that moves in the sunlight is driven by the lapping wave enclosed \n",
            "beneath the rock’s calcareous sky. -0.175 0.35\n",
            "[…] The city’s gods, according to some people, \n",
            "live in the depths, in the black lake that feeds the underground streams. -0.015151515151515152 0.4666666666666667\n",
            "According to others, the gods live in the buckets that rise, \n",
            "suspended from a cable, as they appear over the edge of the wells, \n",
            "in the revolving pulleys, in the windlasses of the norias, in the pump handles, \n",
            "in the blades of the windmills that draw the water up from the drillings, \n",
            "in the trestles that support the twisting probes, \n",
            "in the reservoirs perched on stilts over the roofs, \n",
            "in the slender arches of the aqueducts, \n",
            "in all the columns of water, the vertical pipes, \n",
            "the plungers, the drains, \n",
            "all the way up to the weathercocks that surmount the airy scaffoldings of Isaura, \n",
            "a city that moves entirely upward. 0.06818181818181818 0.5625\n"
          ]
        },
        {
          "output_type": "stream",
          "name": "stderr",
          "text": [
            "[nltk_data] Downloading package punkt to /root/nltk_data...\n",
            "[nltk_data]   Package punkt is already up-to-date!\n"
          ]
        }
      ],
      "source": [
        "from textblob import TextBlob\n",
        "import nltk\n",
        "nltk.download('punkt')\n",
        "\n",
        "# 'Isaura' in 'Invisible Cities' by Italo Carlvino\n",
        "text = '''\n",
        "Isaura, city of the thousand wells, is said to rise over a deep, subterranean lake.\n",
        "On all sides, wherever the inhabitants dig long vertical holes in the ground,\n",
        "they succeed in drawing up water, as far as the city extends, and no father.\n",
        "Its green border repeats the dark outline of the buried lake;\n",
        "an invisible landscape conditions the visible one;\n",
        "everything that moves in the sunlight is driven by the lapping wave enclosed\n",
        "beneath the rock’s calcareous sky. […] The city’s gods, according to some people,\n",
        "live in the depths, in the black lake that feeds the underground streams.\n",
        "According to others, the gods live in the buckets that rise,\n",
        "suspended from a cable, as they appear over the edge of the wells,\n",
        "in the revolving pulleys, in the windlasses of the norias, in the pump handles,\n",
        "in the blades of the windmills that draw the water up from the drillings,\n",
        "in the trestles that support the twisting probes,\n",
        "in the reservoirs perched on stilts over the roofs,\n",
        "in the slender arches of the aqueducts,\n",
        "in all the columns of water, the vertical pipes,\n",
        "the plungers, the drains,\n",
        "all the way up to the weathercocks that surmount the airy scaffoldings of Isaura,\n",
        "a city that moves entirely upward.\n",
        "'''\n",
        "\n",
        "blob = TextBlob(text)\n",
        "\n",
        "for sentence in blob.sentences:\n",
        "    print(sentence, sentence.sentiment.polarity, sentence.sentiment.subjectivity)"
      ]
    },
    {
      "cell_type": "markdown",
      "source": [
        "### Custom Sentiment Analysis (Train a Classifier)"
      ],
      "metadata": {
        "id": "yolsiL-raiSZ"
      }
    },
    {
      "cell_type": "code",
      "execution_count": null,
      "metadata": {
        "ExecuteTime": {
          "end_time": "2020-10-30T12:28:30.425501Z",
          "start_time": "2020-10-30T12:28:30.408508Z"
        },
        "id": "z5Ay5xjHTnVB",
        "outputId": "5dc9f3d8-88b2-4cfb-a1ca-51d7f925fa6e",
        "colab": {
          "base_uri": "https://localhost:8080/"
        }
      },
      "outputs": [
        {
          "output_type": "stream",
          "name": "stdout",
          "text": [
            "The design effectively balances practicality and aesthetic appeal ： pos\n",
            "This building is beautiful ： pos\n",
            "The materials used in this construction seem cheap and low-quality ： neg\n",
            "This structure is not only unattractive but also seems unsafe ： neg\n"
          ]
        }
      ],
      "source": [
        "from textblob.classifiers import NaiveBayesClassifier\n",
        "\n",
        "# training data\n",
        "train=[\n",
        "        ('The innovative design of this building is truly breathtaking','pos'),\n",
        "        (\"This skyscraper's skyline silhouette is stunningly iconic\",'pos'),\n",
        "        ('The ingenious layout maximises both functionality and beauty','pos'),\n",
        "        (\"This historic renovation wonderfully preserves the building's character while adding modern touches\",'pos'),\n",
        "        (\"This public space architecture fosters community and connectivity\",'pos'),\n",
        "\n",
        "        (\"This building's design is utterly unappealing and uninspiring\",'neg'),\n",
        "        ('The lack of natural light in this structure makes it feel gloomy','neg'),\n",
        "        ('These rooms are too cramped and poorly laid out','neg'),\n",
        "        ('The facade of this building is bland and lacks character','neg'),\n",
        "        ('This skyscraper is an eyesore in the city skyline','neg')\n",
        "]\n",
        "\n",
        "# test data\n",
        "test=[\n",
        "        ('The design effectively balances practicality and aesthetic appeal','pos'),\n",
        "        ('This building is beautiful','pos'),\n",
        "\n",
        "        ('The materials used in this construction seem cheap and low-quality','neg'),\n",
        "        ('This structure is not only unattractive but also seems unsafe','neg')\n",
        "]\n",
        "\n",
        "# create and train classifier (Naive Bayes model)\n",
        "cl=NaiveBayesClassifier(train)\n",
        "\n",
        "# classifying test sentence\n",
        "for sentence in test:\n",
        "    print(sentence[0],'：',cl.classify(sentence[0]))"
      ]
    },
    {
      "cell_type": "markdown",
      "metadata": {
        "id": "mW0gsEh1TnVB"
      },
      "source": [
        "## Method 2: SnowNLP\n",
        "\n",
        "https://pypi.org/project/snownlp/\n",
        "\n",
        "https://github.com/isnowfy/snownlp\n",
        "\n",
        " SnowNLP is a library written in Python, designed to conveniently process Chinese text content. Inspired by TextBlob, it was developed in response to the fact that most natural language processing libraries are primarily focused on English. As a result, SnowNLP was created to facilitate the handling of Chinese text. Unlike TextBlob, it does not use NLTK; instead, all algorithms are self-implemented. Additionally, SnowNLP comes with some pre-trained dictionaries for immediate use.\n"
      ]
    },
    {
      "cell_type": "code",
      "execution_count": null,
      "metadata": {
        "ExecuteTime": {
          "end_time": "2020-10-29T09:15:48.119323Z",
          "start_time": "2020-10-29T09:15:40.315627Z"
        },
        "id": "a6wUk2R8TnVC",
        "outputId": "fd018267-2f80-4108-c8c6-32095b76b07f",
        "colab": {
          "base_uri": "https://localhost:8080/"
        }
      },
      "outputs": [
        {
          "output_type": "stream",
          "name": "stdout",
          "text": [
            "Requirement already satisfied: snownlp in /usr/local/lib/python3.10/dist-packages (0.12.3)\n"
          ]
        }
      ],
      "source": [
        "!pip install snownlp"
      ]
    },
    {
      "cell_type": "code",
      "execution_count": null,
      "metadata": {
        "ExecuteTime": {
          "end_time": "2020-10-30T12:29:18.650391Z",
          "start_time": "2020-10-30T12:29:16.249043Z"
        },
        "id": "IO20B4fPTnVC",
        "outputId": "d5a51a16-af9f-4121-ec58-3879e5f32e7d",
        "colab": {
          "base_uri": "https://localhost:8080/"
        }
      },
      "outputs": [
        {
          "output_type": "execute_result",
          "data": {
            "text/plain": [
              "0.13949471482418563"
            ]
          },
          "metadata": {},
          "execution_count": 23
        }
      ],
      "source": [
        "from snownlp import SnowNLP\n",
        "\n",
        "s = SnowNLP(u'what a beautiful day')\n",
        "\n",
        "# Retrieving the sentiment score of the text\n",
        "s.sentiments"
      ]
    }
  ],
  "metadata": {
    "kernelspec": {
      "display_name": "Python 3",
      "language": "python",
      "name": "python3"
    },
    "language_info": {
      "codemirror_mode": {
        "name": "ipython",
        "version": 3
      },
      "file_extension": ".py",
      "mimetype": "text/x-python",
      "name": "python",
      "nbconvert_exporter": "python",
      "pygments_lexer": "ipython3",
      "version": "3.7.6"
    },
    "latex_envs": {
      "LaTeX_envs_menu_present": true,
      "autoclose": false,
      "autocomplete": true,
      "bibliofile": "biblio.bib",
      "cite_by": "apalike",
      "current_citInitial": 1,
      "eqLabelWithNumbers": true,
      "eqNumInitial": 1,
      "hotkeys": {
        "equation": "Ctrl-E",
        "itemize": "Ctrl-I"
      },
      "labels_anchors": false,
      "latex_user_defs": false,
      "report_style_numbering": false,
      "user_envs_cfg": false
    },
    "toc": {
      "base_numbering": 1,
      "nav_menu": {},
      "number_sections": false,
      "sideBar": true,
      "skip_h1_title": false,
      "title_cell": "Table of Contents",
      "title_sidebar": "Contents",
      "toc_cell": false,
      "toc_position": {},
      "toc_section_display": true,
      "toc_window_display": false
    },
    "colab": {
      "provenance": [],
      "toc_visible": true,
      "include_colab_link": true
    }
  },
  "nbformat": 4,
  "nbformat_minor": 0
}